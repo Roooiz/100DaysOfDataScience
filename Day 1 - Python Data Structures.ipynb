{
 "cells": [
  {
   "cell_type": "markdown",
   "id": "114ab4d44c57bee7",
   "metadata": {
    "collapsed": false,
    "jupyter": {
     "outputs_hidden": false
    }
   },
   "source": [
    "# Списки list()\n",
    "Элементы списка упорядочены, изменяемы и допускают повторяющиеся значения.\n",
    "Списки записываются в квадратных скобках."
   ]
  },
  {
   "cell_type": "code",
   "execution_count": 19,
   "id": "def80636795b674c",
   "metadata": {
    "ExecuteTime": {
     "end_time": "2024-01-08T11:06:53.907482600Z",
     "start_time": "2024-01-08T11:06:53.894629400Z"
    },
    "collapsed": false,
    "jupyter": {
     "outputs_hidden": false
    }
   },
   "outputs": [
    {
     "name": "stdout",
     "output_type": "stream",
     "text": [
      "['apple', 'microsoft', 'amazon']\n",
      "3\n",
      "<class 'list'>\n"
     ]
    }
   ],
   "source": [
    "# Создадим список, создается он так:\n",
    "# название списка = [элементы, списка]\n",
    "organizations = [\"apple\", \"microsoft\", \"amazon\"]\n",
    "print(organizations)\n",
    "print(len(organizations))\n",
    "print(type(organizations))"
   ]
  },
  {
   "cell_type": "markdown",
   "id": "f4bfdec1a404a964",
   "metadata": {
    "collapsed": false,
    "jupyter": {
     "outputs_hidden": false
    }
   },
   "source": [
    "# Доступ к элементам списка"
   ]
  },
  {
   "cell_type": "code",
   "execution_count": 21,
   "id": "b332d9ae374bea2c",
   "metadata": {
    "ExecuteTime": {
     "end_time": "2024-01-08T11:12:52.929897100Z",
     "start_time": "2024-01-08T11:12:52.900598400Z"
    },
    "collapsed": false,
    "jupyter": {
     "outputs_hidden": false
    }
   },
   "outputs": [
    {
     "name": "stdout",
     "output_type": "stream",
     "text": [
      "amazon\n",
      "['microsoft']\n",
      "['microsoft', 'amazon']\n",
      "'apple' есть в списке организаций!\n"
     ]
    }
   ],
   "source": [
    "print(organizations[-1])    # Последний элемент\n",
    "print(organizations[1:2])\n",
    "print(organizations[1:])    # Все элементы со второго\n",
    "\n",
    "if \"apple\" in organizations:\n",
    "  print(\"'apple' есть в списке организаций!\")"
   ]
  },
  {
   "cell_type": "markdown",
   "id": "7544624cc32deb5",
   "metadata": {
    "collapsed": false,
    "jupyter": {
     "outputs_hidden": false
    }
   },
   "source": [
    "# Добавление элементов в список\n",
    "append() insert() extend()"
   ]
  },
  {
   "cell_type": "code",
   "execution_count": 23,
   "id": "18c17722110403af",
   "metadata": {
    "ExecuteTime": {
     "end_time": "2024-01-08T11:15:04.694658700Z",
     "start_time": "2024-01-08T11:15:04.674495Z"
    },
    "collapsed": false,
    "jupyter": {
     "outputs_hidden": false
    }
   },
   "outputs": [
    {
     "name": "stdout",
     "output_type": "stream",
     "text": [
      "['apple', 'microsoft', 'xiaomi', 'amazon']\n"
     ]
    }
   ],
   "source": [
    "# Добавим xiaomi в список организаций и сделаем ее третьим элементом списка\n",
    "# синтаксис: список.insert(позиция в списке, элемент)\n",
    "organizations.insert(2, \"xiaomi\")\n",
    "print(organizations)"
   ]
  },
  {
   "cell_type": "code",
   "execution_count": 24,
   "id": "e919ba94da7850c7",
   "metadata": {
    "ExecuteTime": {
     "end_time": "2024-01-08T11:16:52.451385600Z",
     "start_time": "2024-01-08T11:16:52.423276200Z"
    },
    "collapsed": false,
    "jupyter": {
     "outputs_hidden": false
    }
   },
   "outputs": [
    {
     "name": "stdout",
     "output_type": "stream",
     "text": [
      "['apple', 'microsoft', 'xiaomi', 'amazon', 'ibm']\n"
     ]
    }
   ],
   "source": [
    "# Метод append() добавляет новый элемент в конец списка\n",
    "# синтаксис: список.append(элемент)\n",
    "organizations.append(\"ibm\")\n",
    "print(organizations)"
   ]
  },
  {
   "cell_type": "code",
   "execution_count": 25,
   "id": "9f2336000ecd414f",
   "metadata": {
    "ExecuteTime": {
     "end_time": "2024-01-08T11:19:18.114006600Z",
     "start_time": "2024-01-08T11:19:18.093186Z"
    },
    "collapsed": false,
    "jupyter": {
     "outputs_hidden": false
    }
   },
   "outputs": [
    {
     "name": "stdout",
     "output_type": "stream",
     "text": [
      "['apple', 'microsoft', 'amazon', 'xiaomi', 'ibm', 'yandex']\n"
     ]
    }
   ],
   "source": [
    "# Метод extend() объединяет списки. Выполняет их слияние.\n",
    "# синтаксис: список.extend(новый список)\n",
    "organizations = [\"apple\", \"microsoft\", \"amazon\"]\n",
    "organizations2 = [\"xiaomi\", \"ibm\", \"yandex\"]\n",
    "organizations.extend(organizations2)\n",
    "print(organizations)"
   ]
  },
  {
   "cell_type": "markdown",
   "id": "dd4f3961e9fd5450",
   "metadata": {
    "collapsed": false,
    "jupyter": {
     "outputs_hidden": false
    }
   },
   "source": [
    "# Удаление элементов списка\n",
    "remove(), pop(), del, clear()"
   ]
  },
  {
   "cell_type": "code",
   "execution_count": 26,
   "id": "7cf647996f225853",
   "metadata": {
    "ExecuteTime": {
     "end_time": "2024-01-08T11:23:11.098572800Z",
     "start_time": "2024-01-08T11:23:11.065818400Z"
    },
    "collapsed": false,
    "jupyter": {
     "outputs_hidden": false
    }
   },
   "outputs": [
    {
     "name": "stdout",
     "output_type": "stream",
     "text": [
      "['apple', 'microsoft', 'amazon']\n"
     ]
    }
   ],
   "source": [
    "# remove(): удаляет указанный элемент.\n",
    "# Удалим первый попавшийся элемент, совпадающий с тем, который хотим удалить\n",
    "\n",
    "organizations = [\"apple\", \"microsoft\", \"amazon\", \"bimbimbambam\"]\n",
    "organizations.remove(\"bimbimbambam\")\n",
    "print(organizations)"
   ]
  },
  {
   "cell_type": "code",
   "execution_count": 27,
   "id": "89c036c8ce6ea5b0",
   "metadata": {
    "ExecuteTime": {
     "end_time": "2024-01-08T11:24:16.857346800Z",
     "start_time": "2024-01-08T11:24:16.811954400Z"
    },
    "collapsed": false,
    "jupyter": {
     "outputs_hidden": false
    }
   },
   "outputs": [
    {
     "name": "stdout",
     "output_type": "stream",
     "text": [
      "['apple', 'amazon', 'bimbimbambam']\n"
     ]
    }
   ],
   "source": [
    "# pop(): удаляет указанный индекс.\n",
    "# Удалим элемент по его индексу\n",
    "\n",
    "organizations = [\"apple\", \"microsoft\", \"amazon\", \"bimbimbambam\"]\n",
    "organizations.pop(1)    # Удаляем второй элемент\n",
    "print(organizations)"
   ]
  },
  {
   "cell_type": "code",
   "execution_count": 29,
   "id": "3144fe8ebafa4b40",
   "metadata": {
    "ExecuteTime": {
     "end_time": "2024-01-08T11:28:41.089368300Z",
     "start_time": "2024-01-08T11:28:41.058130700Z"
    },
    "collapsed": false,
    "jupyter": {
     "outputs_hidden": false
    }
   },
   "outputs": [
    {
     "name": "stdout",
     "output_type": "stream",
     "text": [
      "['microsoft', 'amazon', 'bimbimbambam']\n"
     ]
    }
   ],
   "source": [
    "# del: это ключевое слово также удаляет указанный индекс: (также может полностью удалить список)\n",
    "organizations = [\"apple\", \"microsoft\", \"amazon\", \"bimbimbambam\"]\n",
    "del organizations[0]\n",
    "print(organizations)"
   ]
  },
  {
   "cell_type": "code",
   "execution_count": 31,
   "id": "b34a96dd0fd69472",
   "metadata": {
    "ExecuteTime": {
     "end_time": "2024-01-08T11:29:39.619597600Z",
     "start_time": "2024-01-08T11:29:39.589987100Z"
    },
    "collapsed": false,
    "jupyter": {
     "outputs_hidden": false
    }
   },
   "outputs": [
    {
     "name": "stdout",
     "output_type": "stream",
     "text": [
      "[]\n"
     ]
    }
   ],
   "source": [
    "# clear(): этот метод очищает список (список все еще остается, но в нем нет содержимого)\n",
    "organizations = [\"apple\", \"microsoft\", \"amazon\", \"bimbimbambam\"]\n",
    "organizations.clear()\n",
    "print(organizations)"
   ]
  },
  {
   "cell_type": "markdown",
   "id": "be0d0fdcc89de58d",
   "metadata": {
    "collapsed": false,
    "jupyter": {
     "outputs_hidden": false
    }
   },
   "source": [
    "# Сортировка списков"
   ]
  },
  {
   "cell_type": "code",
   "execution_count": 33,
   "id": "f6e7928d59b4bff0",
   "metadata": {
    "ExecuteTime": {
     "end_time": "2024-01-08T11:35:31.079881300Z",
     "start_time": "2024-01-08T11:35:31.044793200Z"
    },
    "collapsed": false,
    "jupyter": {
     "outputs_hidden": false
    }
   },
   "outputs": [
    {
     "name": "stdout",
     "output_type": "stream",
     "text": [
      "[1, 2, 3, 5, 12, 56]\n"
     ]
    }
   ],
   "source": [
    "# Отсортируем список по возрастанию\n",
    "numbers = [1, 3, 5, 12, 2, 56]\n",
    "numbers.sort()\n",
    "print(numbers)"
   ]
  },
  {
   "cell_type": "code",
   "execution_count": 34,
   "id": "1ef7487c5f0cbde9",
   "metadata": {
    "ExecuteTime": {
     "end_time": "2024-01-08T11:36:09.962078900Z",
     "start_time": "2024-01-08T11:36:09.942445600Z"
    },
    "collapsed": false,
    "jupyter": {
     "outputs_hidden": false
    }
   },
   "outputs": [
    {
     "name": "stdout",
     "output_type": "stream",
     "text": [
      "[56, 12, 5, 3, 2, 1]\n"
     ]
    }
   ],
   "source": [
    "# Отсортируем список по убыванию\n",
    "numbers = [1, 3, 5, 12, 2, 56]\n",
    "numbers.sort(reverse=True)\n",
    "print(numbers)"
   ]
  },
  {
   "cell_type": "code",
   "execution_count": 35,
   "id": "5607554fb47d84c6",
   "metadata": {
    "ExecuteTime": {
     "end_time": "2024-01-08T11:36:36.111537600Z",
     "start_time": "2024-01-08T11:36:36.091031800Z"
    },
    "collapsed": false,
    "jupyter": {
     "outputs_hidden": false
    }
   },
   "outputs": [
    {
     "name": "stdout",
     "output_type": "stream",
     "text": [
      "[56, 2, 12, 5, 3, 1]\n"
     ]
    }
   ],
   "source": [
    "# Развернем список (поставим элементы в обратном порядке)\n",
    "numbers = [1, 3, 5, 12, 2, 56]\n",
    "numbers.reverse()\n",
    "print(numbers)"
   ]
  },
  {
   "cell_type": "markdown",
   "id": "4d09c1c90ac1e49a",
   "metadata": {
    "collapsed": false,
    "jupyter": {
     "outputs_hidden": false
    }
   },
   "source": [
    "# Объединение списков"
   ]
  },
  {
   "cell_type": "code",
   "execution_count": 36,
   "id": "39d6fc3f8e3431ef",
   "metadata": {
    "ExecuteTime": {
     "end_time": "2024-01-08T11:37:20.382360400Z",
     "start_time": "2024-01-08T11:37:20.372357700Z"
    },
    "collapsed": false,
    "jupyter": {
     "outputs_hidden": false
    }
   },
   "outputs": [
    {
     "name": "stdout",
     "output_type": "stream",
     "text": [
      "['a', 'b', 'c', 1, 2, 3]\n"
     ]
    }
   ],
   "source": [
    "list1 = [\"a\", \"b\", \"c\"]\n",
    "list2 = [1, 2, 3]\n",
    "\n",
    "list3 = list1 + list2\n",
    "print(list3)"
   ]
  },
  {
   "cell_type": "code",
   "execution_count": 37,
   "id": "ba9f0cb0efd735d8",
   "metadata": {
    "ExecuteTime": {
     "end_time": "2024-01-08T11:37:40.577036400Z",
     "start_time": "2024-01-08T11:37:40.559828200Z"
    },
    "collapsed": false,
    "jupyter": {
     "outputs_hidden": false
    }
   },
   "outputs": [
    {
     "name": "stdout",
     "output_type": "stream",
     "text": [
      "['a', 'b', 'c', 1, 2, 3]\n"
     ]
    }
   ],
   "source": [
    "list1 = [\"a\", \"b\" , \"c\"]\n",
    "list2 = [1, 2, 3]\n",
    "\n",
    "for x in list2:\n",
    "  list1.append(x)\n",
    "\n",
    "print(list1)"
   ]
  },
  {
   "cell_type": "code",
   "execution_count": 38,
   "id": "3cbc247316928fd0",
   "metadata": {
    "ExecuteTime": {
     "end_time": "2024-01-08T11:37:49.029848100Z",
     "start_time": "2024-01-08T11:37:48.996091400Z"
    },
    "collapsed": false,
    "jupyter": {
     "outputs_hidden": false
    }
   },
   "outputs": [
    {
     "name": "stdout",
     "output_type": "stream",
     "text": [
      "['a', 'b', 'c', 1, 2, 3]\n"
     ]
    }
   ],
   "source": [
    "list1 = [\"a\", \"b\" , \"c\"]\n",
    "list2 = [1, 2, 3]\n",
    "\n",
    "list1.extend(list2)\n",
    "print(list1)"
   ]
  },
  {
   "cell_type": "markdown",
   "id": "faa3f4b5dc2d971b",
   "metadata": {
    "collapsed": false,
    "jupyter": {
     "outputs_hidden": false
    }
   },
   "source": [
    "---"
   ]
  },
  {
   "cell_type": "markdown",
   "id": "58470818b4aa71a3",
   "metadata": {
    "collapsed": false,
    "jupyter": {
     "outputs_hidden": false
    }
   },
   "source": [
    "# Кортежи tuple()\n",
    "Элементы кортежа упорядочены, неизменяемы и допускают повторяющиеся значения.\n",
    "\n",
    "Кортежи записываются в круглых скобках."
   ]
  },
  {
   "cell_type": "code",
   "execution_count": 1,
   "id": "initial_id",
   "metadata": {
    "ExecuteTime": {
     "end_time": "2024-01-08T10:12:55.080349700Z",
     "start_time": "2024-01-08T10:12:55.036432600Z"
    },
    "collapsed": true,
    "jupyter": {
     "outputs_hidden": true
    }
   },
   "outputs": [
    {
     "name": "stdout",
     "output_type": "stream",
     "text": [
      "('capibara', 'cat', 'dog', 'monkey', 'capibara')\n",
      "5\n",
      "<class 'tuple'>\n"
     ]
    }
   ],
   "source": [
    "# Создадим сам кортеж, создается он так:\n",
    "# название кортежа = (элементы, кортежа)\n",
    "animals = (\"capibara\", \"cat\", \"dog\", \"monkey\", \"capibara\")\n",
    "print(animals)          # выведем сам кортеж\n",
    "print(len(animals))     # его длину\n",
    "print(type(animals))    # и его тип, чтобы быть уверенными, что это кортеж =)"
   ]
  },
  {
   "cell_type": "markdown",
   "id": "ce770375f79fb066",
   "metadata": {
    "collapsed": false,
    "jupyter": {
     "outputs_hidden": false
    }
   },
   "source": [
    "Также, можно использовать конструктор tuple(). Штука, которая сама создаст кортеж по заданным данным"
   ]
  },
  {
   "cell_type": "code",
   "execution_count": 5,
   "id": "75475f479a053f35",
   "metadata": {
    "ExecuteTime": {
     "end_time": "2024-01-08T10:15:32.967970500Z",
     "start_time": "2024-01-08T10:15:32.955316300Z"
    },
    "collapsed": false,
    "jupyter": {
     "outputs_hidden": false
    }
   },
   "outputs": [
    {
     "name": "stdout",
     "output_type": "stream",
     "text": [
      "('capibara', 'cat', 'dog', 'monkey', 'capibara')\n"
     ]
    }
   ],
   "source": [
    "# название кортежа = tuple((элементы, кортежа))\n",
    "animals = tuple((\"capibara\", \"cat\", \"dog\", \"monkey\", \"capibara\"))\n",
    "print(animals)      # выведем кортеж"
   ]
  },
  {
   "cell_type": "markdown",
   "id": "d488a451732027ab",
   "metadata": {
    "collapsed": false,
    "jupyter": {
     "outputs_hidden": false
    }
   },
   "source": [
    "# Доступ к элементам кортежа"
   ]
  },
  {
   "cell_type": "code",
   "execution_count": 7,
   "id": "1dcfbf2969f59901",
   "metadata": {
    "ExecuteTime": {
     "end_time": "2024-01-08T10:24:40.451752600Z",
     "start_time": "2024-01-08T10:24:40.442171100Z"
    },
    "collapsed": false,
    "jupyter": {
     "outputs_hidden": false
    }
   },
   "outputs": [
    {
     "name": "stdout",
     "output_type": "stream",
     "text": [
      "apple\n",
      "yandex\n",
      "('amazon', 'ibm', 'xiaomi')\n",
      "('apple', 'microsoft', 'amazon', 'ibm')\n",
      "('amazon', 'ibm', 'xiaomi', 'google', 'yandex')\n"
     ]
    }
   ],
   "source": [
    "# Запомним, что в python нумерация идёт с нуля, а не с единицы. То есть первый элемент будет под номером 0!\n",
    "organizations = (\"apple\", \"microsoft\", \"amazon\", \"ibm\", \"xiaomi\", \"google\", \"yandex\")\n",
    "# Будем выводить результаты\n",
    "print(organizations[0])         # Первый элемент\n",
    "print(organizations[-1])        # Последний элемент\n",
    "print(organizations[2:5])       # 3, 4, 5 элемент\n",
    "print(organizations[:4])        # Все элементы с первого по пятый\n",
    "print(organizations[2:])        # Все элементы с третьего"
   ]
  },
  {
   "cell_type": "markdown",
   "id": "5ba5b947101331d0",
   "metadata": {
    "collapsed": false,
    "jupyter": {
     "outputs_hidden": false
    }
   },
   "source": [
    "# Обновление кортежа (oh shit)\n",
    "Как только кортеж создан, вы не можете изменить его значения. Кортежи неизменяемы, мы же это помним.\n",
    "\n",
    "Но есть <strike>костыль</strike> обходной путь. Мы можем преобразовать кортеж в список, изменить список и преобразовать список обратно в кортеж."
   ]
  },
  {
   "cell_type": "code",
   "execution_count": 10,
   "id": "8aeb8e38ac62b4e0",
   "metadata": {
    "ExecuteTime": {
     "end_time": "2024-01-08T10:41:31.509104800Z",
     "start_time": "2024-01-08T10:41:31.499437500Z"
    },
    "collapsed": false,
    "jupyter": {
     "outputs_hidden": false
    }
   },
   "outputs": [
    {
     "name": "stdout",
     "output_type": "stream",
     "text": [
      "('apple', 'google', 'amazon', 'bimbimbambam')\n"
     ]
    }
   ],
   "source": [
    "# Добавление элемента\n",
    "# Крафтим кортеж\n",
    "organizations = (\"apple\", \"google\", \"amazon\")\n",
    "# Преобразуем его в список\n",
    "organizations_list = list(organizations)\n",
    "# Изменяем список (добавляем элемент)\n",
    "organizations_list.append(\"bimbimbambam\")\n",
    "# Преобразуем список в кортеж\n",
    "organizations = tuple(organizations_list)\n",
    "\n",
    "print(organizations)"
   ]
  },
  {
   "cell_type": "code",
   "execution_count": 11,
   "id": "5b7dccc297552ca2",
   "metadata": {
    "ExecuteTime": {
     "end_time": "2024-01-08T10:43:33.749526600Z",
     "start_time": "2024-01-08T10:43:33.716469900Z"
    },
    "collapsed": false,
    "jupyter": {
     "outputs_hidden": false
    }
   },
   "outputs": [
    {
     "name": "stdout",
     "output_type": "stream",
     "text": [
      "('apple', 'google', 'amazon')\n"
     ]
    }
   ],
   "source": [
    "# Удаление элемента\n",
    "# Крафтим кортеж\n",
    "organizations = (\"apple\", \"google\", \"amazon\", \"bimbimbambam\")\n",
    "# Преобразуем его в список\n",
    "organizations_list = list(organizations)\n",
    "# Изменяем список (удаляем элемент)\n",
    "organizations_list.remove(\"bimbimbambam\")\n",
    "# Преобразуем список в кортеж\n",
    "organizations = tuple(organizations_list)\n",
    "\n",
    "print(organizations)"
   ]
  },
  {
   "cell_type": "markdown",
   "id": "cec6a02d176fc04b",
   "metadata": {
    "collapsed": false,
    "jupyter": {
     "outputs_hidden": false
    }
   },
   "source": [
    "# Распаковка кортежа\n",
    "Когда мы создаем кортеж, мы обычно присваиваем ему значения. Это называется \"упаковкой\" кортежа. Но в Python нам также разрешено извлекать значения обратно в переменные. Это называется \"распаковкой\"."
   ]
  },
  {
   "cell_type": "code",
   "execution_count": 14,
   "id": "6a15ad1c8643a7f5",
   "metadata": {
    "ExecuteTime": {
     "end_time": "2024-01-08T10:53:08.860028200Z",
     "start_time": "2024-01-08T10:53:08.852344500Z"
    },
    "collapsed": false,
    "jupyter": {
     "outputs_hidden": false
    }
   },
   "outputs": [
    {
     "name": "stdout",
     "output_type": "stream",
     "text": [
      "apple\n",
      "banana\n",
      "cherry\n"
     ]
    }
   ],
   "source": [
    "# Упакуем данные\n",
    "organizations = (\"apple\", \"google\", \"amazon\")\n",
    "# Распакуем данные\n",
    "first, second, third = organizations\n",
    "\n",
    "print(first)\n",
    "print(second)\n",
    "print(third)"
   ]
  },
  {
   "cell_type": "code",
   "execution_count": 15,
   "id": "a9e02f08517febd7",
   "metadata": {
    "ExecuteTime": {
     "end_time": "2024-01-08T10:55:17.080251500Z",
     "start_time": "2024-01-08T10:55:17.055776Z"
    },
    "collapsed": false,
    "jupyter": {
     "outputs_hidden": false
    }
   },
   "outputs": [
    {
     "name": "stdout",
     "output_type": "stream",
     "text": [
      "apple\n",
      "google\n",
      "['amazon', 'bimbimbambam']\n"
     ]
    }
   ],
   "source": [
    "# Упакуем данные\n",
    "organizations = (\"apple\", \"google\", \"amazon\", \"bimbimbambam\")\n",
    "# Распакуем данные\n",
    "first, second, *third = organizations\n",
    "\n",
    "print(first)\n",
    "print(second)\n",
    "print(third)"
   ]
  },
  {
   "cell_type": "markdown",
   "id": "bd25c277837b6c72",
   "metadata": {
    "collapsed": false,
    "jupyter": {
     "outputs_hidden": false
    }
   },
   "source": [
    "# Циклы с кортежами\n",
    "Выведем элементы кортежа с помощью циклов for и while "
   ]
  },
  {
   "cell_type": "code",
   "execution_count": 16,
   "id": "52efc3396065027f",
   "metadata": {
    "ExecuteTime": {
     "end_time": "2024-01-08T10:58:12.681304700Z",
     "start_time": "2024-01-08T10:58:12.658276200Z"
    },
    "collapsed": false,
    "jupyter": {
     "outputs_hidden": false
    }
   },
   "outputs": [
    {
     "name": "stdout",
     "output_type": "stream",
     "text": [
      "apple\n",
      "google\n",
      "amazon\n"
     ]
    }
   ],
   "source": [
    "organizations = (\"apple\", \"google\", \"amazon\")\n",
    "for i in range(len(organizations)):\n",
    "  print(organizations[i])"
   ]
  },
  {
   "cell_type": "code",
   "execution_count": 17,
   "id": "8e7f37bd580faebc",
   "metadata": {
    "ExecuteTime": {
     "end_time": "2024-01-08T10:58:36.568303100Z",
     "start_time": "2024-01-08T10:58:36.545474700Z"
    },
    "collapsed": false,
    "jupyter": {
     "outputs_hidden": false
    }
   },
   "outputs": [
    {
     "name": "stdout",
     "output_type": "stream",
     "text": [
      "apple\n",
      "google\n",
      "amazon\n"
     ]
    }
   ],
   "source": [
    "organizations = (\"apple\", \"google\", \"amazon\")\n",
    "i = 0\n",
    "while i < len(organizations):\n",
    "  print(organizations[i])\n",
    "  i += 1"
   ]
  },
  {
   "cell_type": "markdown",
   "id": "79be4303ff83b37f",
   "metadata": {
    "collapsed": false,
    "jupyter": {
     "outputs_hidden": false
    }
   },
   "source": [
    "---"
   ]
  },
  {
   "cell_type": "markdown",
   "id": "dbda24639db56962",
   "metadata": {
    "collapsed": false,
    "jupyter": {
     "outputs_hidden": false
    }
   },
   "source": [
    "# Множества set()\n",
    "Set - это коллекция, которая является неупорядоченной, неизменяемой*, и дубликаты недопустимы (все элементы уникальны). Наборы используются для хранения нескольких элементов в одной переменной.\n",
    "Примечание: Элементы набора неизменяемы, но вы можете удалять элементы и добавлять новые элементы.\n",
    "Коллекции записываются в фигурных скобках."
   ]
  },
  {
   "cell_type": "code",
   "execution_count": 1,
   "id": "2cc47ccbc912ba3f",
   "metadata": {
    "ExecuteTime": {
     "end_time": "2024-01-08T14:47:55.908106400Z",
     "start_time": "2024-01-08T14:47:55.898542600Z"
    },
    "collapsed": false,
    "jupyter": {
     "outputs_hidden": false
    }
   },
   "outputs": [
    {
     "name": "stdout",
     "output_type": "stream",
     "text": [
      "{'google', 'amazon', 'apple'}\n",
      "3\n",
      "<class 'set'>\n"
     ]
    }
   ],
   "source": [
    "organizations = {\"apple\", \"google\", \"amazon\"}\n",
    "\n",
    "print(organizations)\n",
    "print(len(organizations))\n",
    "print(type(organizations))"
   ]
  },
  {
   "cell_type": "code",
   "execution_count": 2,
   "id": "49f969131dcb595e",
   "metadata": {
    "ExecuteTime": {
     "end_time": "2024-01-08T14:49:26.854878400Z",
     "start_time": "2024-01-08T14:49:26.783452800Z"
    },
    "collapsed": false,
    "jupyter": {
     "outputs_hidden": false
    }
   },
   "outputs": [
    {
     "name": "stdout",
     "output_type": "stream",
     "text": [
      "{True, 2, 'apple', 'google', 'amazon'}\n"
     ]
    }
   ],
   "source": [
    "# Значения True и 1 считаются одним и тем же значением в множествах и рассматриваются как дубликаты:\n",
    "organizations = {\"apple\", \"google\", \"amazon\", True, 1, 2}\n",
    "print(organizations)"
   ]
  },
  {
   "cell_type": "code",
   "execution_count": 3,
   "id": "2f102ff93f2bb776",
   "metadata": {
    "ExecuteTime": {
     "end_time": "2024-01-08T14:50:53.656091700Z",
     "start_time": "2024-01-08T14:50:53.606969100Z"
    },
    "collapsed": false,
    "jupyter": {
     "outputs_hidden": false
    }
   },
   "outputs": [
    {
     "name": "stdout",
     "output_type": "stream",
     "text": [
      "{'google', 'amazon', 'apple'}\n"
     ]
    }
   ],
   "source": [
    "organizations = set((\"apple\", \"google\", \"amazon\"))\n",
    "print(organizations)"
   ]
  },
  {
   "cell_type": "markdown",
   "id": "4fd36c62ea03623d",
   "metadata": {
    "collapsed": false,
    "jupyter": {
     "outputs_hidden": false
    }
   },
   "source": [
    "# Доступ к элементам множества\n",
    "Вы не можете получить доступ к элементам в множестве, обратившись к индексу или ключу.\n",
    "Но вы можете перебирать элементы множества с помощью цикла for или спрашивать, присутствует ли указанное значение в множестве, используя ключевое слово in."
   ]
  },
  {
   "cell_type": "code",
   "execution_count": 4,
   "id": "ba2911f2350856d7",
   "metadata": {
    "ExecuteTime": {
     "end_time": "2024-01-08T14:52:56.646189Z",
     "start_time": "2024-01-08T14:52:56.587415300Z"
    },
    "collapsed": false,
    "jupyter": {
     "outputs_hidden": false
    }
   },
   "outputs": [
    {
     "name": "stdout",
     "output_type": "stream",
     "text": [
      "True\n"
     ]
    }
   ],
   "source": [
    "organizations = {\"apple\", \"google\", \"amazon\", \"bimbimbambam\"}\n",
    "print(\"bimbimbambam\" in organizations)"
   ]
  },
  {
   "cell_type": "markdown",
   "id": "31d98c4e6de8abe3",
   "metadata": {
    "collapsed": false,
    "jupyter": {
     "outputs_hidden": false
    }
   },
   "source": [
    "# Добавление элементов в множество\n",
    "Как только множество создано, вы не можете изменять его элементы, но вы можете добавлять новые элементы.\n",
    "\n",
    "Чтобы добавить елемент в множество сипользуем метод add().\n",
    "Чтобы добавить элементы из другого множества, используем метод update()."
   ]
  },
  {
   "cell_type": "code",
   "execution_count": 5,
   "id": "a86df2763097fab0",
   "metadata": {
    "ExecuteTime": {
     "end_time": "2024-01-08T14:55:52.364329400Z",
     "start_time": "2024-01-08T14:55:52.308582200Z"
    },
    "collapsed": false,
    "jupyter": {
     "outputs_hidden": false
    }
   },
   "outputs": [
    {
     "name": "stdout",
     "output_type": "stream",
     "text": [
      "{'bimbimbambam', 'google', 'amazon', 'apple'}\n"
     ]
    }
   ],
   "source": [
    "organizations = {\"apple\", \"google\", \"amazon\"}\n",
    "organizations.add(\"bimbimbambam\")\n",
    "print(organizations)"
   ]
  },
  {
   "cell_type": "code",
   "execution_count": 6,
   "id": "a461b794fd98a007",
   "metadata": {
    "ExecuteTime": {
     "end_time": "2024-01-08T14:56:56.666678200Z",
     "start_time": "2024-01-08T14:56:56.606388300Z"
    },
    "collapsed": false,
    "jupyter": {
     "outputs_hidden": false
    }
   },
   "outputs": [
    {
     "name": "stdout",
     "output_type": "stream",
     "text": [
      "{'yandex', 'ibm', 'apple', 'xiaomi', 'google', 'amazon'}\n"
     ]
    }
   ],
   "source": [
    "organizations = {\"apple\", \"google\", \"amazon\"}\n",
    "organizations2 = {\"yandex\", \"ibm\", \"xiaomi\"}\n",
    "organizations.update(organizations2)\n",
    "print(organizations)"
   ]
  },
  {
   "cell_type": "markdown",
   "id": "e1cc7a5545310685",
   "metadata": {
    "collapsed": false,
    "jupyter": {
     "outputs_hidden": false
    }
   },
   "source": [
    "# Удаление элементов из множества\n",
    "remove(), discard(), pop(), clear()"
   ]
  },
  {
   "cell_type": "code",
   "execution_count": 7,
   "id": "e7bdb1778b7e600e",
   "metadata": {
    "ExecuteTime": {
     "end_time": "2024-01-08T14:59:52.974591900Z",
     "start_time": "2024-01-08T14:59:52.912408200Z"
    },
    "collapsed": false,
    "jupyter": {
     "outputs_hidden": false
    }
   },
   "outputs": [
    {
     "name": "stdout",
     "output_type": "stream",
     "text": [
      "{'amazon', 'apple'}\n"
     ]
    }
   ],
   "source": [
    "organizations = {\"apple\", \"google\", \"amazon\"}\n",
    "organizations.remove(\"google\")\n",
    "print(organizations)"
   ]
  },
  {
   "cell_type": "code",
   "execution_count": 8,
   "id": "d3dfe395fc1451f9",
   "metadata": {
    "ExecuteTime": {
     "end_time": "2024-01-08T15:02:13.340722300Z",
     "start_time": "2024-01-08T15:02:13.302779800Z"
    },
    "collapsed": false,
    "jupyter": {
     "outputs_hidden": false
    }
   },
   "outputs": [
    {
     "name": "stdout",
     "output_type": "stream",
     "text": [
      "{'google', 'apple'}\n"
     ]
    }
   ],
   "source": [
    "organizations = {\"apple\", \"google\", \"amazon\"}\n",
    "organizations.discard(\"amazon\")\n",
    "print(organizations)"
   ]
  },
  {
   "cell_type": "code",
   "execution_count": 10,
   "id": "42c3b49cca19ba4f",
   "metadata": {
    "ExecuteTime": {
     "end_time": "2024-01-08T15:02:57.203279600Z",
     "start_time": "2024-01-08T15:02:57.188549600Z"
    },
    "collapsed": false,
    "jupyter": {
     "outputs_hidden": false
    }
   },
   "outputs": [
    {
     "name": "stdout",
     "output_type": "stream",
     "text": [
      "google\n",
      "{'amazon', 'apple'}\n"
     ]
    }
   ],
   "source": [
    "# Метод pop() удаляет случайный элемент множества\n",
    "organizations = {\"apple\", \"google\", \"amazon\"}\n",
    "x = organizations.pop()\n",
    "print(x)\n",
    "print(organizations)"
   ]
  },
  {
   "cell_type": "code",
   "execution_count": 11,
   "id": "75c6e833d720e1be",
   "metadata": {
    "ExecuteTime": {
     "end_time": "2024-01-08T15:03:18.396769600Z",
     "start_time": "2024-01-08T15:03:18.352017700Z"
    },
    "collapsed": false,
    "jupyter": {
     "outputs_hidden": false
    }
   },
   "outputs": [
    {
     "name": "stdout",
     "output_type": "stream",
     "text": [
      "set()\n"
     ]
    }
   ],
   "source": [
    "organizations = {\"apple\", \"google\", \"amazon\"}\n",
    "organizations.clear()\n",
    "print(organizations)"
   ]
  },
  {
   "cell_type": "markdown",
   "id": "54141a9e9c23922b",
   "metadata": {
    "collapsed": false,
    "jupyter": {
     "outputs_hidden": false
    }
   },
   "source": [
    "# Объединение множеств\n",
    "Метод union() возвращает новый набор со всеми элементами из обоих наборов\n",
    "Метод update() вставляет элементы из set2 в set1\n",
    "Метод intersection_update() сохранит только элементы, которые присутствуют в обоих наборах\n",
    "Метод symmetric_difference_update() сохранит только те элементы, которые отсутствуют в обоих наборах."
   ]
  },
  {
   "cell_type": "code",
   "execution_count": 12,
   "id": "3ed39c3b7159cc83",
   "metadata": {
    "ExecuteTime": {
     "end_time": "2024-01-08T16:06:38.881551Z",
     "start_time": "2024-01-08T16:06:38.838870100Z"
    },
    "collapsed": false,
    "jupyter": {
     "outputs_hidden": false
    }
   },
   "outputs": [
    {
     "name": "stdout",
     "output_type": "stream",
     "text": [
      "{'c', 'a', 1, 2, 3, 'b'}\n"
     ]
    }
   ],
   "source": [
    "set1 = {\"a\", \"b\" , \"c\"}\n",
    "set2 = {1, 2, 3}\n",
    "set3 = set1.union(set2)\n",
    "print(set3)"
   ]
  },
  {
   "cell_type": "code",
   "execution_count": 13,
   "id": "c758ee574f09f37b",
   "metadata": {
    "ExecuteTime": {
     "end_time": "2024-01-08T16:07:10.468628Z",
     "start_time": "2024-01-08T16:07:10.392157200Z"
    },
    "collapsed": false,
    "jupyter": {
     "outputs_hidden": false
    }
   },
   "outputs": [
    {
     "name": "stdout",
     "output_type": "stream",
     "text": [
      "{'google', 'apple'}\n"
     ]
    }
   ],
   "source": [
    "x = {\"apple\", \"google\", \"amazon\"}\n",
    "y = {\"google\", \"microsoft\", \"apple\"}\n",
    "x.intersection_update(y)\n",
    "print(x)"
   ]
  },
  {
   "cell_type": "code",
   "execution_count": 14,
   "id": "7b3a9894baab5f61",
   "metadata": {
    "ExecuteTime": {
     "end_time": "2024-01-08T16:07:30.128769400Z",
     "start_time": "2024-01-08T16:07:30.067760600Z"
    },
    "collapsed": false,
    "jupyter": {
     "outputs_hidden": false
    }
   },
   "outputs": [
    {
     "name": "stdout",
     "output_type": "stream",
     "text": [
      "{'microsoft', 'amazon'}\n"
     ]
    }
   ],
   "source": [
    "x = {\"apple\", \"google\", \"amazon\"}\n",
    "y = {\"google\", \"microsoft\", \"apple\"}\n",
    "x.symmetric_difference_update(y)\n",
    "print(x)"
   ]
  },
  {
   "cell_type": "code",
   "execution_count": 15,
   "id": "30b0c7d239b5c5ae",
   "metadata": {
    "ExecuteTime": {
     "end_time": "2024-01-08T16:08:29.613892800Z",
     "start_time": "2024-01-08T16:08:29.569856100Z"
    },
    "collapsed": false,
    "jupyter": {
     "outputs_hidden": false
    }
   },
   "outputs": [
    {
     "name": "stdout",
     "output_type": "stream",
     "text": [
      "{'c', 'a', 1, 2, 3, 'b'}\n"
     ]
    }
   ],
   "source": [
    "set1 = {\"a\", \"b\" , \"c\"}\n",
    "set2 = {1, 2, 3}\n",
    "set1.update(set2)\n",
    "print(set1)"
   ]
  },
  {
   "cell_type": "markdown",
   "id": "b5db88405d285a7e",
   "metadata": {
    "collapsed": false,
    "jupyter": {
     "outputs_hidden": false
    }
   },
   "source": [
    "# Словари dictionary\n",
    "Словари используются для хранения значений данных в парах ключ:значение. Словарь - это коллекция, которая упорядочена, изменяема и не допускает дублирования.\n",
    "Словари записываются в фигурных скобках.\n",
    "По сути это аналог JSON"
   ]
  },
  {
   "cell_type": "code",
   "execution_count": 16,
   "id": "29f4bd006915ada2",
   "metadata": {
    "ExecuteTime": {
     "end_time": "2024-01-08T16:11:46.431378Z",
     "start_time": "2024-01-08T16:11:46.377210Z"
    },
    "collapsed": false,
    "jupyter": {
     "outputs_hidden": false
    }
   },
   "outputs": [
    {
     "name": "stdout",
     "output_type": "stream",
     "text": [
      "{'brand': 'Audi', 'model': 'RS6', 'year': 2019, 'colors': ['red', 'white', 'blue']}\n",
      "4\n",
      "<class 'dict'>\n"
     ]
    }
   ],
   "source": [
    "cars = {\n",
    "  \"brand\": \"Audi\",\n",
    "  \"model\": \"RS6\",\n",
    "  \"year\": 2019,\n",
    " \"colors\": [\"red\", \"white\", \"blue\"]\n",
    "}\n",
    "print(cars)\n",
    "print(len(cars))\n",
    "print(type(cars))"
   ]
  },
  {
   "cell_type": "markdown",
   "id": "cca597abfba50576",
   "metadata": {
    "collapsed": false,
    "jupyter": {
     "outputs_hidden": false
    }
   },
   "source": [
    "# Доступ к элементам словаря\n",
    "Мы можем получить доступ к элементам словаря, обратившись к его ключам, заключенным в квадратные скобки:"
   ]
  },
  {
   "cell_type": "code",
   "execution_count": 18,
   "id": "7f9c3a78e6c54f2d",
   "metadata": {
    "ExecuteTime": {
     "end_time": "2024-01-08T16:15:50.187379500Z",
     "start_time": "2024-01-08T16:15:50.161108700Z"
    },
    "collapsed": false,
    "jupyter": {
     "outputs_hidden": false
    }
   },
   "outputs": [
    {
     "name": "stdout",
     "output_type": "stream",
     "text": [
      "RS6\n",
      "RS6\n",
      "dict_keys(['brand', 'model', 'year'])\n",
      "dict_values(['Audi', 'RS6', 2019])\n",
      "dict_items([('brand', 'Audi'), ('model', 'RS6'), ('year', 2019)])\n"
     ]
    }
   ],
   "source": [
    "cars = {\n",
    "  \"brand\": \"Audi\",\n",
    "  \"model\": \"RS6\",\n",
    "  \"year\": 2019\n",
    "}\n",
    "print(cars[\"model\"])      #| Одно и то же\n",
    "print(cars.get(\"model\"))  #| Одно и то же\n",
    "print(cars.keys())    # Выводим все ключи из словаря\n",
    "print(cars.values())  # Выводим все значения из словаря\n",
    "print(cars.items())   # Выводим все пары ключ:значение"
   ]
  },
  {
   "cell_type": "markdown",
   "id": "de6eaf635fb31743",
   "metadata": {
    "collapsed": false,
    "jupyter": {
     "outputs_hidden": false
    }
   },
   "source": [
    "# Изменение элементов словаря\n",
    "Мы можем изменить значение определенного элемента, обратившись к его ключу"
   ]
  },
  {
   "cell_type": "code",
   "execution_count": 20,
   "id": "20faf7faf0419b6",
   "metadata": {
    "ExecuteTime": {
     "end_time": "2024-01-08T16:17:25.836838900Z",
     "start_time": "2024-01-08T16:17:25.811060300Z"
    },
    "collapsed": false,
    "jupyter": {
     "outputs_hidden": false
    }
   },
   "outputs": [
    {
     "name": "stdout",
     "output_type": "stream",
     "text": [
      "{'brand': 'Audi', 'model': 'RS6', 'year': 2020}\n"
     ]
    }
   ],
   "source": [
    "cars = {\n",
    "  \"brand\": \"Audi\",\n",
    "  \"model\": \"RS6\",\n",
    "  \"year\": 2019\n",
    "}\n",
    "cars[\"year\"] = 2020\n",
    "print(cars)"
   ]
  },
  {
   "cell_type": "markdown",
   "id": "60fee050663747b5",
   "metadata": {
    "collapsed": false,
    "jupyter": {
     "outputs_hidden": false
    }
   },
   "source": [
    "# Добавление элементов в словарь\n",
    "Добавление элемента в словарь осуществляется с помощью ввода нового ключа и присвоения ему значения"
   ]
  },
  {
   "cell_type": "code",
   "execution_count": 21,
   "id": "427f8ec12d1b3833",
   "metadata": {
    "ExecuteTime": {
     "end_time": "2024-01-08T16:18:53.193344700Z",
     "start_time": "2024-01-08T16:18:53.139877400Z"
    },
    "collapsed": false,
    "jupyter": {
     "outputs_hidden": false
    }
   },
   "outputs": [
    {
     "name": "stdout",
     "output_type": "stream",
     "text": [
      "{'brand': 'Audi', 'model': 'RS6', 'year': 2019, 'color': 'black'}\n"
     ]
    }
   ],
   "source": [
    "cars = {\n",
    "  \"brand\": \"Audi\",\n",
    "  \"model\": \"RS6\",\n",
    "  \"year\": 2019\n",
    "}\n",
    "cars[\"color\"] = \"black\"\n",
    "print(cars)"
   ]
  },
  {
   "cell_type": "code",
   "execution_count": 22,
   "id": "1a77f4a07aed4a95",
   "metadata": {
    "ExecuteTime": {
     "end_time": "2024-01-08T16:19:39.790420100Z",
     "start_time": "2024-01-08T16:19:39.719973800Z"
    },
    "collapsed": false,
    "jupyter": {
     "outputs_hidden": false
    }
   },
   "outputs": [
    {
     "name": "stdout",
     "output_type": "stream",
     "text": [
      "{'brand': 'Audi', 'model': 'RS6', 'year': 2019, 'color': 'black'}\n"
     ]
    }
   ],
   "source": [
    "# Выполним то же самое, только другим способом\n",
    "cars = {\n",
    "  \"brand\": \"Audi\",\n",
    "  \"model\": \"RS6\",\n",
    "  \"year\": 2019\n",
    "}\n",
    "cars.update({\"color\": \"black\"})\n",
    "print(cars)"
   ]
  },
  {
   "cell_type": "markdown",
   "id": "ddd673d3052d72a9",
   "metadata": {
    "collapsed": false,
    "jupyter": {
     "outputs_hidden": false
    }
   },
   "source": [
    "# Удаление элементов из словаря\n",
    "Метод pop() удаляет элемент с указанным именем ключа\n",
    "Метод popitem() удаляет последний вставленный элемент\n",
    "Ключевое слово del удаляет элемент с указанным именем ключа\n",
    "Ключевое слово del также может полностью удалить словарь\n",
    "Метод clear() очищает словарь"
   ]
  },
  {
   "cell_type": "code",
   "execution_count": 23,
   "id": "50cefb51ed8916f1",
   "metadata": {
    "ExecuteTime": {
     "end_time": "2024-01-08T16:21:24.891566200Z",
     "start_time": "2024-01-08T16:21:24.817044800Z"
    },
    "collapsed": false,
    "jupyter": {
     "outputs_hidden": false
    }
   },
   "outputs": [
    {
     "name": "stdout",
     "output_type": "stream",
     "text": [
      "{'brand': 'Audi', 'year': 2019}\n"
     ]
    }
   ],
   "source": [
    "cars = {\n",
    "  \"brand\": \"Audi\",\n",
    "  \"model\": \"RS6\",\n",
    "  \"year\": 2019\n",
    "}\n",
    "cars.pop(\"model\")\n",
    "print(cars)"
   ]
  },
  {
   "cell_type": "code",
   "execution_count": 24,
   "id": "761b957b1eec491f",
   "metadata": {
    "ExecuteTime": {
     "end_time": "2024-01-08T16:21:44.428752900Z",
     "start_time": "2024-01-08T16:21:44.378225300Z"
    },
    "collapsed": false,
    "jupyter": {
     "outputs_hidden": false
    }
   },
   "outputs": [
    {
     "name": "stdout",
     "output_type": "stream",
     "text": [
      "{'brand': 'Audi', 'model': 'RS6'}\n"
     ]
    }
   ],
   "source": [
    "cars = {\n",
    "  \"brand\": \"Audi\",\n",
    "  \"model\": \"RS6\",\n",
    "  \"year\": 2019\n",
    "}\n",
    "cars.popitem()\n",
    "print(cars)"
   ]
  },
  {
   "cell_type": "code",
   "execution_count": 25,
   "id": "a2081a23e3dec464",
   "metadata": {
    "ExecuteTime": {
     "end_time": "2024-01-08T16:22:07.087888100Z",
     "start_time": "2024-01-08T16:22:07.018625100Z"
    },
    "collapsed": false,
    "jupyter": {
     "outputs_hidden": false
    }
   },
   "outputs": [
    {
     "name": "stdout",
     "output_type": "stream",
     "text": [
      "{'brand': 'Audi', 'year': 2019}\n"
     ]
    }
   ],
   "source": [
    "cars = {\n",
    "  \"brand\": \"Audi\",\n",
    "  \"model\": \"RS6\",\n",
    "  \"year\": 2019\n",
    "}\n",
    "del cars[\"model\"]\n",
    "print(cars)"
   ]
  },
  {
   "cell_type": "code",
   "execution_count": 26,
   "id": "ecc32201788ae3fa",
   "metadata": {
    "ExecuteTime": {
     "end_time": "2024-01-08T16:22:22.504413Z",
     "start_time": "2024-01-08T16:22:22.434055700Z"
    },
    "collapsed": false,
    "jupyter": {
     "outputs_hidden": false
    }
   },
   "outputs": [
    {
     "name": "stdout",
     "output_type": "stream",
     "text": [
      "{}\n"
     ]
    }
   ],
   "source": [
    "cars = {\n",
    "  \"brand\": \"Audi\",\n",
    "  \"model\": \"RS6\",\n",
    "  \"year\": 2019\n",
    "}\n",
    "cars.clear()\n",
    "print(cars)"
   ]
  },
  {
   "cell_type": "code",
   "execution_count": null,
   "id": "a33860fc756a2fce",
   "metadata": {
    "ExecuteTime": {
     "end_time": "2024-01-08T16:43:15.925980600Z",
     "start_time": "2024-01-08T16:43:15.921667800Z"
    },
    "collapsed": false,
    "jupyter": {
     "outputs_hidden": false
    }
   },
   "outputs": [],
   "source": []
  }
 ],
 "metadata": {
  "kernelspec": {
   "display_name": "Python 3 (ipykernel)",
   "language": "python",
   "name": "python3"
  },
  "language_info": {
   "codemirror_mode": {
    "name": "ipython",
    "version": 3
   },
   "file_extension": ".py",
   "mimetype": "text/x-python",
   "name": "python",
   "nbconvert_exporter": "python",
   "pygments_lexer": "ipython3",
   "version": "3.11.6"
  }
 },
 "nbformat": 4,
 "nbformat_minor": 5
}
