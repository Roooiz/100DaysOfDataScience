{
 "cells": [
  {
   "cell_type": "markdown",
   "source": [
    "# PySpark – это фреймворк для обработки больших объемов данных с использованием языка Python. Он основан на Apache Spark, который является одной из наиболее широко используемых платформ для работы с данными в масштабе веба.\n",
    "\n",
    "PySpark – это модуль Python для анализа больших объемов данных с использованием технологии Apache Spark.\n",
    "\n",
    "Apache Spark – это распределенная система обработки данных, которая позволяет работать с данными объемом в гигабайты и терабайты. Она обладает высокой скоростью обработки данных и эффективностью.\n",
    "\n",
    "PySpark использует язык программирования Python для написания программ, которые работают с данными в Apache Spark. В PySpark можно использовать широкий набор библиотек Python, что делает его очень гибким и удобным для использования.\n",
    "\n",
    "С помощью PySpark можно решать различные задачи, связанные с анализом данных: от простых подсчетов до сложных машинного обучения. Он очень популярен среди специалистов в области анализа данных, так как позволяет справляться с огромным объемом данных.\n",
    "\n",
    "Для работы с PySpark необходимо установить Apache Spark и Python, а затем установить PySpark. После этого можно начинать использовать PySpark для анализа данных."
   ],
   "metadata": {
    "collapsed": false
   },
   "id": "d675a9e557b58183"
  },
  {
   "cell_type": "markdown",
   "source": [
    "# Установка PySpark\n",
    "Шаг 1: Проверим корректность установленного Java Runtime Environment (JRE), так как PySpark требует версию Java 8 или выше. Для проверки выполним команду:\n",
    "\n",
    "**java -version**\n",
    "\n",
    "Шаг 2: Установим Apache Spark. Для этого необходимо скачать архив с официального сайта (https://spark.apache.org/downloads.htm) и распаковать его. Рекомендуется выбирать версию с Hadoop, чтобы полноценно использовать PySpark.\n",
    "\n",
    "Шаг 3: Установим PySpark. Самым простым способом является установка через пакетный менеджер pip с помощью команды:\n",
    "\n",
    "**pip install pyspark**\n",
    "\n",
    "Шаг 4: Настроим переменные окружения. Установим переменную окружения PYSPARK_PYTHON на путь к Python, который мы собираемся использовать для запуска PySpark. Кроме того, добавим $SPARK_HOME/bin в переменную окружения PATH.\n",
    "\n",
    "Шаг 5: Проверим установку. Для этого запустим интерпретатор PySpark следующей командой:\n",
    "\n",
    "**pyspark**\n",
    "\n",
    "\n",
    "Основной объект в PySpark – это Resilient Distributed Dataset (RDD), который является неизменяемым распределенным набором данных, способным к параллельной обработке.\n",
    "\n",
    "PySpark использует Hadoop Distributed File System (HDFS) для хранения данных и выполнения параллельных задач на кластере. Кроме того, PySpark интегрирован с библиотеками Python, такими как NumPy, Pandas и Matplotlib."
   ],
   "metadata": {
    "collapsed": false
   },
   "id": "79048ec10484f941"
  },
  {
   "cell_type": "code",
   "execution_count": 1,
   "id": "initial_id",
   "metadata": {
    "collapsed": true,
    "ExecuteTime": {
     "end_time": "2024-01-16T13:58:56.521402300Z",
     "start_time": "2024-01-16T13:58:55.891241100Z"
    }
   },
   "outputs": [],
   "source": []
  },
  {
   "cell_type": "markdown",
   "source": [
    "Теперь, когда у нас запущен и работает PySpark, мы выполним комплексный проект сегментации клиентов. \n",
    "\n",
    "Сегментация клиентов — это маркетинговый метод, который компании используют для выявления и группировки пользователей, обладающих схожими характеристиками. Например, если вы посещаете Starbucks только летом, чтобы купить холодные напитки, вас можно отнести к категории «сезонных покупателей» и соблазнить специальными акциями, разработанными для летнего сезона.\n",
    "\n",
    "Специалисты по данным обычно создают алгоритмы машинного обучения без учителя, например кластеризацию K-Means или иерархическую кластеризации, для сегментации клиентов. Эти модели отлично подходят для выявления схожих закономерностей между группами пользователей, которые часто остаются незамеченными для человеческого глаза.\n",
    "\n",
    "В этом руководстве мы будем использовать кластеризацию K-Means для сегментации клиентов в наборе данных электронной коммерции.\n",
    "\n",
    "Выпоним такие шаги:\n",
    "1. Чтение CSV-файлов с помощью PySpark\n",
    "2. Исследовательский анализ данных с помощью PySpark\n",
    "3. Группировка и сортировка данных\n",
    "4. Выполнение арифметических операций\n",
    "5. Агрегирование наборов данных\n",
    "6. Предварительная обработка данных с помощью PySpark\n",
    "7. Работа со значениями даты и времени\n",
    "8. Преобразование типов\n",
    "9. Объединение двух фреймов данных\n",
    "10. Функция rank()\n",
    "11. Машинное обучение PySpark\n",
    "12. Создание вектора признаков\n",
    "13. Стандартизация данных\n",
    "14. Построение модели кластеризации K-Means\n",
    "15. Интерпретация модели"
   ],
   "metadata": {
    "collapsed": false
   },
   "id": "60c24096e42a9c6d"
  },
  {
   "cell_type": "markdown",
   "source": [
    "---"
   ],
   "metadata": {
    "collapsed": false
   },
   "id": "ccd4caa51d3b6f0"
  },
  {
   "cell_type": "markdown",
   "source": [
    "# Создадим сеанс SparkSession\n",
    "SparkSession — это точка входа во все функции Spark, которая требуется, если мы хотим создать фрейм данных в PySpark. Запустим следующие строки кода, чтобы инициализировать SparkSession:"
   ],
   "metadata": {
    "collapsed": false
   },
   "id": "dc10ac121e4858cb"
  },
  {
   "cell_type": "code",
   "execution_count": 2,
   "outputs": [],
   "source": [
    "from pyspark.sql import SparkSession\n",
    "\n",
    "spark = SparkSession.builder.appName(\"Pyspark test\").config(\"spark.memory.offHeap.enabled\", \"true\").config(\n",
    "    \"spark.memory.offHeap.size\", \"10g\").getOrCreate()"
   ],
   "metadata": {
    "collapsed": false,
    "ExecuteTime": {
     "end_time": "2024-01-16T14:22:37.074229100Z",
     "start_time": "2024-01-16T14:22:25.216721600Z"
    }
   },
   "id": "482232fb34ec93b7"
  },
  {
   "cell_type": "markdown",
   "source": [
    "# Создание DataFrame\n",
    "Теперь мы можем прочитать набор данных:"
   ],
   "metadata": {
    "collapsed": false
   },
   "id": "e97c8f96de4be30d"
  },
  {
   "cell_type": "code",
   "execution_count": 3,
   "outputs": [],
   "source": [
    "df = spark.read.csv('Datasets/online_retail.csv', header=True,\n",
    "                    escape=\"\\\"\")  # Параметр header - есть ли наименования стоблцов (у нас есть)"
   ],
   "metadata": {
    "collapsed": false,
    "ExecuteTime": {
     "end_time": "2024-01-16T14:23:33.569810600Z",
     "start_time": "2024-01-16T14:23:27.645833700Z"
    }
   },
   "id": "b0dcf499040ed920"
  },
  {
   "cell_type": "markdown",
   "source": [
    "Чтобы отобразить первые строки датафрейма, нам достаточно использовать комадну show()"
   ],
   "metadata": {
    "collapsed": false
   },
   "id": "4bd05a0572b91a9b"
  },
  {
   "cell_type": "code",
   "execution_count": 4,
   "outputs": [
    {
     "name": "stdout",
     "output_type": "stream",
     "text": [
      "+---------+---------+-----------------------------------+--------+------------+---------+----------+--------------+\n",
      "|InvoiceNo|StockCode|Description                        |Quantity|InvoiceDate |UnitPrice|CustomerID|Country       |\n",
      "+---------+---------+-----------------------------------+--------+------------+---------+----------+--------------+\n",
      "|536365   |85123A   |WHITE HANGING HEART T-LIGHT HOLDER |6       |12/1/10 8:26|2.55     |17850     |United Kingdom|\n",
      "|536365   |71053    |WHITE METAL LANTERN                |6       |12/1/10 8:26|3.39     |17850     |United Kingdom|\n",
      "|536365   |84406B   |CREAM CUPID HEARTS COAT HANGER     |8       |12/1/10 8:26|2.75     |17850     |United Kingdom|\n",
      "|536365   |84029G   |KNITTED UNION FLAG HOT WATER BOTTLE|6       |12/1/10 8:26|3.39     |17850     |United Kingdom|\n",
      "|536365   |84029E   |RED WOOLLY HOTTIE WHITE HEART.     |6       |12/1/10 8:26|3.39     |17850     |United Kingdom|\n",
      "+---------+---------+-----------------------------------+--------+------------+---------+----------+--------------+\n"
     ]
    }
   ],
   "source": [
    "df.show(5, 0)"
   ],
   "metadata": {
    "collapsed": false,
    "ExecuteTime": {
     "end_time": "2024-01-16T14:25:19.688340400Z",
     "start_time": "2024-01-16T14:25:19.370057Z"
    }
   },
   "id": "3af52ab5b67bfe79"
  },
  {
   "cell_type": "markdown",
   "source": [
    "Датафрейм состоит из 8 столбцов:\n",
    "\n",
    "1. InvoiceNo: уникальный идентификатор каждого счета клиента.\n",
    "2. StockCode: уникальный идентификатор каждого товара на складе.\n",
    "3. Description: товар, приобретенный покупателем.\n",
    "4. Quantity: количество каждого товара, приобретенного покупателем в одном счете.\n",
    "5. InvoiceDate: дата покупки.\n",
    "6. UnitPrice: цена одной единицы каждого товара.\n",
    "7. CustomerID: уникальный идентификатор, присваиваемый каждому пользователю.\n",
    "8. Country: страна, в которой была совершена покупка."
   ],
   "metadata": {
    "collapsed": false
   },
   "id": "bdde378e09ce2fc0"
  },
  {
   "cell_type": "markdown",
   "source": [
    "# Исследовательский анализ данных\n",
    "Теперь, когда мы увидели переменные, присутствующие в этом наборе данных, проведем некоторый исследовательский анализ данных, чтобы лучше понять данные:\n",
    "\n",
    "Начнем с подсчета количества строк в кадре данных:"
   ],
   "metadata": {
    "collapsed": false
   },
   "id": "6bbc2d2d885408a4"
  },
  {
   "cell_type": "code",
   "execution_count": 5,
   "outputs": [
    {
     "data": {
      "text/plain": "541909"
     },
     "execution_count": 5,
     "metadata": {},
     "output_type": "execute_result"
    }
   ],
   "source": [
    "df.count()"
   ],
   "metadata": {
    "collapsed": false,
    "ExecuteTime": {
     "end_time": "2024-01-16T14:27:48.514036800Z",
     "start_time": "2024-01-16T14:27:47.565856200Z"
    }
   },
   "id": "83a019de0487ba2c"
  },
  {
   "cell_type": "markdown",
   "source": [
    "Сколько уникальных клиентов присутствует в кадре данных:"
   ],
   "metadata": {
    "collapsed": false
   },
   "id": "11f37fdedaff1eae"
  },
  {
   "cell_type": "code",
   "execution_count": 6,
   "outputs": [
    {
     "data": {
      "text/plain": "4373"
     },
     "execution_count": 6,
     "metadata": {},
     "output_type": "execute_result"
    }
   ],
   "source": [
    "df.select('CustomerID').distinct().count()"
   ],
   "metadata": {
    "collapsed": false,
    "ExecuteTime": {
     "end_time": "2024-01-16T14:28:12.661649500Z",
     "start_time": "2024-01-16T14:28:10.896327400Z"
    }
   },
   "id": "3ece144b8ea8fc77"
  },
  {
   "cell_type": "markdown",
   "source": [
    "Из какой страны совершается большинство покупок:"
   ],
   "metadata": {
    "collapsed": false
   },
   "id": "dcd4eeca63fb7e1f"
  },
  {
   "cell_type": "code",
   "execution_count": 7,
   "outputs": [
    {
     "name": "stdout",
     "output_type": "stream",
     "text": [
      "+------------------+-------------+\n",
      "|           Country|country_count|\n",
      "+------------------+-------------+\n",
      "|            Sweden|            8|\n",
      "|         Singapore|            1|\n",
      "|           Germany|           95|\n",
      "|               RSA|            1|\n",
      "|            France|           87|\n",
      "|            Greece|            4|\n",
      "|European Community|            1|\n",
      "|           Belgium|           25|\n",
      "|           Finland|           12|\n",
      "|             Malta|            2|\n",
      "|       Unspecified|            4|\n",
      "|             Italy|           15|\n",
      "|              EIRE|            3|\n",
      "|         Lithuania|            1|\n",
      "|            Norway|           10|\n",
      "|             Spain|           31|\n",
      "|           Denmark|            9|\n",
      "|         Hong Kong|            0|\n",
      "|            Israel|            4|\n",
      "|           Iceland|            1|\n",
      "+------------------+-------------+\n"
     ]
    }
   ],
   "source": [
    "from pyspark.sql.functions import *\n",
    "from pyspark.sql.types import *\n",
    "\n",
    "df.groupBy('Country').agg(countDistinct('CustomerID').alias('country_count')).show()"
   ],
   "metadata": {
    "collapsed": false,
    "ExecuteTime": {
     "end_time": "2024-01-16T14:28:51.360652400Z",
     "start_time": "2024-01-16T14:28:49.528251100Z"
    }
   },
   "id": "8708fd6b2165c42b"
  },
  {
   "cell_type": "markdown",
   "source": [
    "Данные в таблице выше представлены не в порядке убывания. Чтобы отсортировать эту таблицу, мы можем использовать orderBy():"
   ],
   "metadata": {
    "collapsed": false
   },
   "id": "65bdfcab19b40e71"
  },
  {
   "cell_type": "code",
   "execution_count": 8,
   "outputs": [
    {
     "name": "stdout",
     "output_type": "stream",
     "text": [
      "+---------------+-------------+\n",
      "|        Country|country_count|\n",
      "+---------------+-------------+\n",
      "| United Kingdom|         3950|\n",
      "|        Germany|           95|\n",
      "|         France|           87|\n",
      "|          Spain|           31|\n",
      "|        Belgium|           25|\n",
      "|    Switzerland|           21|\n",
      "|       Portugal|           19|\n",
      "|          Italy|           15|\n",
      "|        Finland|           12|\n",
      "|        Austria|           11|\n",
      "|         Norway|           10|\n",
      "|        Denmark|            9|\n",
      "|Channel Islands|            9|\n",
      "|      Australia|            9|\n",
      "|    Netherlands|            9|\n",
      "|         Sweden|            8|\n",
      "|         Cyprus|            8|\n",
      "|          Japan|            8|\n",
      "|         Poland|            6|\n",
      "|         Greece|            4|\n",
      "+---------------+-------------+\n"
     ]
    }
   ],
   "source": [
    "df.groupBy('Country').agg(countDistinct('CustomerID').alias('country_count')).orderBy(desc('country_count')).show()"
   ],
   "metadata": {
    "collapsed": false,
    "ExecuteTime": {
     "end_time": "2024-01-16T14:29:55.138694300Z",
     "start_time": "2024-01-16T14:29:53.688360600Z"
    }
   },
   "id": "3fbcfa6f17bf7caa"
  },
  {
   "cell_type": "markdown",
   "source": [
    "Когда клиент совершил последнюю покупку на платформе:\n",
    "\n",
    "Чтобы узнать, когда на платформе была совершена последняя покупка, нам нужно преобразовать столбец \"InvoiceDate\" в формат временной метки и использовать функцию max()"
   ],
   "metadata": {
    "collapsed": false
   },
   "id": "bba32e46f846c9c5"
  },
  {
   "cell_type": "code",
   "execution_count": 9,
   "outputs": [
    {
     "name": "stdout",
     "output_type": "stream",
     "text": [
      "+-------------------+\n",
      "|          max(date)|\n",
      "+-------------------+\n",
      "|2012-12-10 16:21:00|\n",
      "+-------------------+\n"
     ]
    }
   ],
   "source": [
    "spark.sql(\"set spark.sql.legacy.timeParserPolicy=LEGACY\")\n",
    "df = df.withColumn('date', to_timestamp(\"InvoiceDate\", 'yy/MM/dd HH:mm'))\n",
    "df.select(max(\"date\")).show()"
   ],
   "metadata": {
    "collapsed": false,
    "ExecuteTime": {
     "end_time": "2024-01-16T14:30:57.513803500Z",
     "start_time": "2024-01-16T14:30:56.323664300Z"
    }
   },
   "id": "c83aa958cf033947"
  },
  {
   "cell_type": "markdown",
   "source": [
    "Когда клиент совершил самую раннюю покупку на платформе:"
   ],
   "metadata": {
    "collapsed": false
   },
   "id": "d8dec54569ebe10d"
  },
  {
   "cell_type": "code",
   "execution_count": 12,
   "outputs": [
    {
     "name": "stdout",
     "output_type": "stream",
     "text": [
      "+-------------------+\n",
      "|          min(date)|\n",
      "+-------------------+\n",
      "|0001-04-11 10:00:00|\n",
      "+-------------------+\n"
     ]
    }
   ],
   "source": [
    "df = df.withColumn('date', to_timestamp(\"InvoiceDate\", 'yy/MM/dd HH:mm'))\n",
    "df.select(min(\"date\")).show()"
   ],
   "metadata": {
    "collapsed": false,
    "ExecuteTime": {
     "end_time": "2024-01-16T14:32:34.177811300Z",
     "start_time": "2024-01-16T14:32:33.454941Z"
    }
   },
   "id": "591a1f72b6f19391"
  },
  {
   "cell_type": "markdown",
   "source": [
    "# Предварительная обработка данных"
   ],
   "metadata": {
    "collapsed": false
   },
   "id": "1f8fbe2e39a135e0"
  },
  {
   "cell_type": "code",
   "execution_count": 13,
   "outputs": [
    {
     "name": "stdout",
     "output_type": "stream",
     "text": [
      "+---------+---------+-----------------------------------+--------+------------+---------+----------+--------------+-------------------+\n",
      "|InvoiceNo|StockCode|Description                        |Quantity|InvoiceDate |UnitPrice|CustomerID|Country       |date               |\n",
      "+---------+---------+-----------------------------------+--------+------------+---------+----------+--------------+-------------------+\n",
      "|536365   |85123A   |WHITE HANGING HEART T-LIGHT HOLDER |6       |12/1/10 8:26|2.55     |17850     |United Kingdom|2012-01-10 08:26:00|\n",
      "|536365   |71053    |WHITE METAL LANTERN                |6       |12/1/10 8:26|3.39     |17850     |United Kingdom|2012-01-10 08:26:00|\n",
      "|536365   |84406B   |CREAM CUPID HEARTS COAT HANGER     |8       |12/1/10 8:26|2.75     |17850     |United Kingdom|2012-01-10 08:26:00|\n",
      "|536365   |84029G   |KNITTED UNION FLAG HOT WATER BOTTLE|6       |12/1/10 8:26|3.39     |17850     |United Kingdom|2012-01-10 08:26:00|\n",
      "|536365   |84029E   |RED WOOLLY HOTTIE WHITE HEART.     |6       |12/1/10 8:26|3.39     |17850     |United Kingdom|2012-01-10 08:26:00|\n",
      "+---------+---------+-----------------------------------+--------+------------+---------+----------+--------------+-------------------+\n"
     ]
    }
   ],
   "source": [
    "df.show(5, 0)"
   ],
   "metadata": {
    "collapsed": false,
    "ExecuteTime": {
     "end_time": "2024-01-16T14:35:17.882225400Z",
     "start_time": "2024-01-16T14:35:17.745490700Z"
    }
   },
   "id": "1422b8ed9f51cca2"
  },
  {
   "cell_type": "markdown",
   "source": [
    "Из приведенного выше набора данных нам нужно создать несколько сегментов клиентов на основе покупательского поведения каждого пользователя. \n",
    "\n",
    "Переменные в этом наборе данных имеют формат, который нелегко использовать в модели сегментации клиентов. Эти характеристики по отдельности мало что говорят нам о покупательском поведении клиентов.\n",
    "\n",
    "В связи с этим мы будем использовать существующие переменные для получения трех новых информативных характеристик — давности, частоты и денежной стоимости (RFM).\n",
    "\n",
    "RFM обычно используется в маркетинге для оценки ценности клиента на основе его:\n",
    "\n",
    "1. Давность: как давно каждый клиент совершил покупку?\n",
    "2. Частота: как часто они что-то покупали?\n",
    "3. Денежная стоимость: сколько денег они в среднем тратят при совершении покупок?"
   ],
   "metadata": {
    "collapsed": false
   },
   "id": "4bd7f00496c7526d"
  },
  {
   "cell_type": "markdown",
   "source": [
    "Для начала посчитаем значение давности — самой последней даты и времени совершения покупки на платформе. Этого можно достичь в два этапа:\n",
    "\n",
    "Присвоим каждому клиенту оценку давности.\n",
    "Мы вычтем каждую дату в кадре данных из самой ранней даты. Это скажет нам, как недавно клиент был замечен в кадре данных. Значение 0 указывает на самую низкую давность, поскольку оно будет присвоено человеку, которого видели совершающим покупку в самую раннюю дату."
   ],
   "metadata": {
    "collapsed": false
   },
   "id": "af101a68bccb2d33"
  },
  {
   "cell_type": "code",
   "execution_count": 14,
   "outputs": [],
   "source": [
    "df = df.withColumn(\"from_date\", lit(\"12/1/10 08:26\"))\n",
    "df = df.withColumn('from_date', to_timestamp(\"from_date\", 'yy/MM/dd HH:mm'))\n",
    "\n",
    "df2 = df.withColumn('from_date', to_timestamp(col('from_date'))).withColumn('recency', col(\"date\").cast(\"long\") - col(\n",
    "    'from_date').cast(\"long\"))"
   ],
   "metadata": {
    "collapsed": false,
    "ExecuteTime": {
     "end_time": "2024-01-16T14:37:51.188787700Z",
     "start_time": "2024-01-16T14:37:51.110650400Z"
    }
   },
   "id": "9cc11e042022a855"
  },
  {
   "cell_type": "markdown",
   "source": [
    "Выберем самую последнюю покупку.\n",
    "Один клиент может совершить несколько покупок в разное время. Нам нужно выбрать только последний раз, когда он покупал товар, поскольку это указывает на то, когда была совершена последняя покупка: "
   ],
   "metadata": {
    "collapsed": false
   },
   "id": "6dff8957dca0e071"
  },
  {
   "cell_type": "code",
   "execution_count": 15,
   "outputs": [],
   "source": [
    "df2 = df2.join(df2.groupBy('CustomerID').agg(max('recency').alias('recency')), on='recency', how='leftsemi')"
   ],
   "metadata": {
    "collapsed": false,
    "ExecuteTime": {
     "end_time": "2024-01-16T14:38:37.240866Z",
     "start_time": "2024-01-16T14:38:37.160133500Z"
    }
   },
   "id": "aa54d6b9cb4f3e29"
  },
  {
   "cell_type": "markdown",
   "source": [
    "Посмотрим на заголовок нового фрейма данных. Теперь к нему добавлен столбец под названием \"recency\":"
   ],
   "metadata": {
    "collapsed": false
   },
   "id": "a601c6c1de1976ab"
  },
  {
   "cell_type": "code",
   "execution_count": 16,
   "outputs": [
    {
     "name": "stdout",
     "output_type": "stream",
     "text": [
      "+-------+---------+---------+----------------------------------+--------+------------+---------+----------+--------------+-------------------+-------------------+\n",
      "|recency|InvoiceNo|StockCode|Description                       |Quantity|InvoiceDate |UnitPrice|CustomerID|Country       |date               |from_date          |\n",
      "+-------+---------+---------+----------------------------------+--------+------------+---------+----------+--------------+-------------------+-------------------+\n",
      "|540    |536369   |21756    |BATH BUILDING BLOCK WORD          |3       |12/1/10 8:35|5.95     |13047     |United Kingdom|2012-01-10 08:35:00|2012-01-10 08:26:00|\n",
      "|2040   |536371   |22086    |PAPER CHAIN KIT 50'S CHRISTMAS    |80      |12/1/10 9:00|2.55     |13748     |United Kingdom|2012-01-10 09:00:00|2012-01-10 08:26:00|\n",
      "|3960   |536375   |85123A   |WHITE HANGING HEART T-LIGHT HOLDER|6       |12/1/10 9:32|2.55     |17850     |United Kingdom|2012-01-10 09:32:00|2012-01-10 08:26:00|\n",
      "|3960   |536375   |71053    |WHITE METAL LANTERN               |6       |12/1/10 9:32|3.39     |17850     |United Kingdom|2012-01-10 09:32:00|2012-01-10 08:26:00|\n",
      "|3960   |536375   |84406B   |CREAM CUPID HEARTS COAT HANGER    |8       |12/1/10 9:32|2.75     |17850     |United Kingdom|2012-01-10 09:32:00|2012-01-10 08:26:00|\n",
      "+-------+---------+---------+----------------------------------+--------+------------+---------+----------+--------------+-------------------+-------------------+\n"
     ]
    }
   ],
   "source": [
    "df2.show(5, 0)"
   ],
   "metadata": {
    "collapsed": false,
    "ExecuteTime": {
     "end_time": "2024-01-16T14:39:19.917805100Z",
     "start_time": "2024-01-16T14:39:17.990755300Z"
    }
   },
   "id": "6cc49c018d5684af"
  },
  {
   "cell_type": "markdown",
   "source": [
    "Более простой способ просмотреть все данные, присутствующие в датафрейме PySpark, — использовать функцию printSchema(). Это эквивалент функции info() в Pandas:"
   ],
   "metadata": {
    "collapsed": false
   },
   "id": "16aa1891534ab0d7"
  },
  {
   "cell_type": "code",
   "execution_count": 17,
   "outputs": [
    {
     "name": "stdout",
     "output_type": "stream",
     "text": [
      "root\n",
      " |-- recency: long (nullable = true)\n",
      " |-- InvoiceNo: string (nullable = true)\n",
      " |-- StockCode: string (nullable = true)\n",
      " |-- Description: string (nullable = true)\n",
      " |-- Quantity: string (nullable = true)\n",
      " |-- InvoiceDate: string (nullable = true)\n",
      " |-- UnitPrice: string (nullable = true)\n",
      " |-- CustomerID: string (nullable = true)\n",
      " |-- Country: string (nullable = true)\n",
      " |-- date: timestamp (nullable = true)\n",
      " |-- from_date: timestamp (nullable = true)\n"
     ]
    }
   ],
   "source": [
    "df2.printSchema()"
   ],
   "metadata": {
    "collapsed": false,
    "ExecuteTime": {
     "end_time": "2024-01-16T14:40:02.222289900Z",
     "start_time": "2024-01-16T14:40:02.170299Z"
    }
   },
   "id": "57161255fb6ff2e6"
  },
  {
   "cell_type": "markdown",
   "source": [
    "Теперь посчитаем значение частоты — как часто клиент что-то покупал на платформе. Для этого нам просто нужно сгруппировать по каждому идентификатору клиента и посчитать количество купленных им товаров:"
   ],
   "metadata": {
    "collapsed": false
   },
   "id": "c09e51146078e95"
  },
  {
   "cell_type": "code",
   "execution_count": 18,
   "outputs": [],
   "source": [
    "df_freq = df2.groupBy('CustomerID').agg(count('InvoiceDate').alias('frequency'))"
   ],
   "metadata": {
    "collapsed": false,
    "ExecuteTime": {
     "end_time": "2024-01-16T14:40:45.682533800Z",
     "start_time": "2024-01-16T14:40:45.611404600Z"
    }
   },
   "id": "cdda1893eb0ebbb0"
  },
  {
   "cell_type": "code",
   "execution_count": 19,
   "outputs": [
    {
     "name": "stdout",
     "output_type": "stream",
     "text": [
      "+----------+---------+\n",
      "|CustomerID|frequency|\n",
      "+----------+---------+\n",
      "|16250     |14       |\n",
      "|15574     |121      |\n",
      "|15271     |24       |\n",
      "|15555     |37       |\n",
      "|17757     |49       |\n",
      "+----------+---------+\n"
     ]
    }
   ],
   "source": [
    "df_freq.show(5, 0)"
   ],
   "metadata": {
    "collapsed": false,
    "ExecuteTime": {
     "end_time": "2024-01-16T14:40:55.495948100Z",
     "start_time": "2024-01-16T14:40:52.668291100Z"
    }
   },
   "id": "46eb1e915ae821b5"
  },
  {
   "cell_type": "markdown",
   "source": [
    "К каждому клиенту в датафрейме добавляется значение частоты. Этот новый датафрейм имеет только два столбца, и нам нужно соединить его с предыдущим:"
   ],
   "metadata": {
    "collapsed": false
   },
   "id": "5fdbb855624bf6ef"
  },
  {
   "cell_type": "code",
   "execution_count": 20,
   "outputs": [],
   "source": [
    "df3 = df2.join(df_freq, on='CustomerID', how='inner')"
   ],
   "metadata": {
    "collapsed": false,
    "ExecuteTime": {
     "end_time": "2024-01-16T14:41:37.053425700Z",
     "start_time": "2024-01-16T14:41:36.971827800Z"
    }
   },
   "id": "a2a6122fea3a3772"
  },
  {
   "cell_type": "code",
   "execution_count": 21,
   "outputs": [
    {
     "name": "stdout",
     "output_type": "stream",
     "text": [
      "root\n",
      " |-- CustomerID: string (nullable = true)\n",
      " |-- recency: long (nullable = true)\n",
      " |-- InvoiceNo: string (nullable = true)\n",
      " |-- StockCode: string (nullable = true)\n",
      " |-- Description: string (nullable = true)\n",
      " |-- Quantity: string (nullable = true)\n",
      " |-- InvoiceDate: string (nullable = true)\n",
      " |-- UnitPrice: string (nullable = true)\n",
      " |-- Country: string (nullable = true)\n",
      " |-- date: timestamp (nullable = true)\n",
      " |-- from_date: timestamp (nullable = true)\n",
      " |-- frequency: long (nullable = false)\n"
     ]
    }
   ],
   "source": [
    "df3.printSchema()"
   ],
   "metadata": {
    "collapsed": false,
    "ExecuteTime": {
     "end_time": "2024-01-16T14:41:42.830070700Z",
     "start_time": "2024-01-16T14:41:42.789786Z"
    }
   },
   "id": "acda442f806178ab"
  },
  {
   "cell_type": "markdown",
   "source": [
    "Наконец, рассчитаем денежную стоимость — общую сумму, потраченную каждым клиентом. Есть два шага для достижения этой цели:\n",
    "\n",
    "1. Найдем общую сумму, потраченную на каждую покупку.\n",
    "Каждый идентификатор клиента имеет переменные \"Quantity\" и \"UnitPrice\" для одной покупки. Чтобы получить общую сумму, потраченную каждым покупателем за одну покупку, нам нужно умножить \"Quantity\" на \"UnitPrice\":"
   ],
   "metadata": {
    "collapsed": false
   },
   "id": "a1b0da312dd56288"
  },
  {
   "cell_type": "code",
   "execution_count": 22,
   "outputs": [],
   "source": [
    "m_val = df3.withColumn('TotalAmount', col(\"Quantity\") * col(\"UnitPrice\"))"
   ],
   "metadata": {
    "collapsed": false,
    "ExecuteTime": {
     "end_time": "2024-01-16T14:46:38.099730600Z",
     "start_time": "2024-01-16T14:46:38.046375700Z"
    }
   },
   "id": "f765114823a4b4d4"
  },
  {
   "cell_type": "markdown",
   "source": [
    "2. Найдём общую сумму, потраченную каждым покупателем.\n",
    "Чтобы найти общую сумму, потраченную каждым клиентом в целом, нам просто нужно сгруппировать по столбцу CustomerID и просуммировать общую потраченную сумму:"
   ],
   "metadata": {
    "collapsed": false
   },
   "id": "441df25c8a82f76b"
  },
  {
   "cell_type": "code",
   "execution_count": 23,
   "outputs": [],
   "source": [
    "m_val = m_val.groupBy('CustomerID').agg(sum('TotalAmount').alias('monetary_value'))"
   ],
   "metadata": {
    "collapsed": false,
    "ExecuteTime": {
     "end_time": "2024-01-16T14:47:15.305128600Z",
     "start_time": "2024-01-16T14:47:15.247976400Z"
    }
   },
   "id": "6dbbb83cb89f084a"
  },
  {
   "cell_type": "markdown",
   "source": [
    "Объединим оба датафрейма"
   ],
   "metadata": {
    "collapsed": false
   },
   "id": "3b691ac193db4853"
  },
  {
   "cell_type": "code",
   "execution_count": 24,
   "outputs": [],
   "source": [
    "finaldf = m_val.join(df3, on='CustomerID', how='inner')"
   ],
   "metadata": {
    "collapsed": false,
    "ExecuteTime": {
     "end_time": "2024-01-16T14:47:34.844141700Z",
     "start_time": "2024-01-16T14:47:34.780179Z"
    }
   },
   "id": "34d770c2accaef27"
  },
  {
   "cell_type": "markdown",
   "source": [
    "Теперь, когда мы создали все необходимые столбцы для построения модели, запустим следующие строки кода, чтобы выбрать только необходимые столбцы и удалить повторяющиеся строки из фрейма данных:"
   ],
   "metadata": {
    "collapsed": false
   },
   "id": "a1140c9f281c2cc6"
  },
  {
   "cell_type": "code",
   "execution_count": 25,
   "outputs": [],
   "source": [
    "finaldf = finaldf.select(['recency', 'frequency', 'monetary_value', 'CustomerID']).distinct()"
   ],
   "metadata": {
    "collapsed": false,
    "ExecuteTime": {
     "end_time": "2024-01-16T14:48:16.785594600Z",
     "start_time": "2024-01-16T14:48:16.720551200Z"
    }
   },
   "id": "25f9c5c19e93655c"
  },
  {
   "cell_type": "code",
   "execution_count": 26,
   "outputs": [
    {
     "name": "stdout",
     "output_type": "stream",
     "text": [
      "+--------+---------+-----------------+----------+\n",
      "|recency |frequency|monetary_value   |CustomerID|\n",
      "+--------+---------+-----------------+----------+\n",
      "|5580    |14       |226.14           |16250     |\n",
      "|2704800 |121      |375.65           |15574     |\n",
      "|21100860|24       |111.75           |15271     |\n",
      "|21112020|37       |620.3499999999998|15555     |\n",
      "|23703000|49       |385.25           |17757     |\n",
      "+--------+---------+-----------------+----------+\n"
     ]
    }
   ],
   "source": [
    "finaldf.show(5, 0)"
   ],
   "metadata": {
    "collapsed": false,
    "ExecuteTime": {
     "end_time": "2024-01-16T14:48:39.449992100Z",
     "start_time": "2024-01-16T14:48:33.062518100Z"
    }
   },
   "id": "4b0cfaec5f444b7b"
  },
  {
   "cell_type": "markdown",
   "source": [
    "# Стандартизация | Нормализация\n",
    "Прежде чем строить модель сегментации клиентов, стандартизируем фрейм данных, чтобы гарантировать, что все переменные имеют одинаковый масштаб:"
   ],
   "metadata": {
    "collapsed": false
   },
   "id": "bd2fc6c054b2f11c"
  },
  {
   "cell_type": "code",
   "execution_count": 27,
   "outputs": [],
   "source": [
    "from pyspark.ml.feature import VectorAssembler\n",
    "from pyspark.ml.feature import StandardScaler\n",
    "\n",
    "assemble = VectorAssembler(inputCols=['recency', 'frequency', 'monetary_value'], outputCol='features')\n",
    "\n",
    "assembled_data = assemble.transform(finaldf)\n",
    "\n",
    "scale = StandardScaler(inputCol='features', outputCol='standardized')\n",
    "data_scale = scale.fit(assembled_data)\n",
    "data_scale_output = data_scale.transform(assembled_data)"
   ],
   "metadata": {
    "collapsed": false,
    "ExecuteTime": {
     "end_time": "2024-01-16T14:50:19.504364900Z",
     "start_time": "2024-01-16T14:50:12.824041800Z"
    }
   },
   "id": "d6bd60e7f84b1667"
  },
  {
   "cell_type": "code",
   "execution_count": 28,
   "outputs": [
    {
     "name": "stdout",
     "output_type": "stream",
     "text": [
      "+-------------------------------------------------------------+\n",
      "|standardized                                                 |\n",
      "+-------------------------------------------------------------+\n",
      "|[1.827806780736465E-7,0.4589020319425581,0.07645669520731259]|\n",
      "|[8.859949427483853E-5,3.9662247046463945,0.12700520719300865]|\n",
      "+-------------------------------------------------------------+\n"
     ]
    }
   ],
   "source": [
    "data_scale_output.select('standardized').show(2, truncate=False)"
   ],
   "metadata": {
    "collapsed": false,
    "ExecuteTime": {
     "end_time": "2024-01-16T14:50:39.757711700Z",
     "start_time": "2024-01-16T14:50:33.892155200Z"
    }
   },
   "id": "c3195504bdedace"
  },
  {
   "cell_type": "markdown",
   "source": [
    "# Построение модели машинного обучения\n",
    "Теперь, когда мы завершили весь анализ и подготовку данных, давайте построим модель кластеризации K-Means. \n",
    "\n",
    "Алгоритм будет создан с использованием API машинного обучения PySpark .\n",
    "\n",
    "При построении модели кластеризации K-Means нам сначала нужно определить количество кластеров или групп, которые мы хотим, чтобы алгоритм возвращал. Если мы, например, выберем три кластера, то у нас будет три клиентских сегмента.\n",
    "\n",
    "Самый популярный метод, используемый для принятия решения о том, сколько кластеров использовать в K-Means, называется «методом локтя».\n",
    "\n",
    "Это делается простым запуском алгоритма K-Means для широкого спектра кластеров и визуализацией результатов модели для каждого кластера. На графике будет точка перегиба, похожая на колено, и мы просто выбираем количество кластеров в этой точке.\n",
    "\n",
    "Построим алгоритм кластеризации K-Means от 2 до 10 кластеров:"
   ],
   "metadata": {
    "collapsed": false
   },
   "id": "4f3044a58263e1a"
  },
  {
   "cell_type": "code",
   "execution_count": 29,
   "outputs": [],
   "source": [
    "from pyspark.ml.clustering import KMeans\n",
    "from pyspark.ml.evaluation import ClusteringEvaluator\n",
    "import numpy as np\n",
    "\n",
    "cost = np.zeros(10)\n",
    "\n",
    "evaluator = ClusteringEvaluator(predictionCol='prediction', featuresCol='standardized', metricName='silhouette',\n",
    "                                distanceMeasure='squaredEuclidean')\n",
    "\n",
    "for i in range(2, 10):\n",
    "    KMeans_algo = KMeans(featuresCol='standardized', k=i)\n",
    "    KMeans_fit = KMeans_algo.fit(data_scale_output)\n",
    "    output = KMeans_fit.transform(data_scale_output)\n",
    "    cost[i] = KMeans_fit.summary.trainingCost"
   ],
   "metadata": {
    "collapsed": false,
    "ExecuteTime": {
     "end_time": "2024-01-16T14:54:35.306456700Z",
     "start_time": "2024-01-16T14:52:17.844855800Z"
    }
   },
   "id": "389615ac2541f6ab"
  },
  {
   "cell_type": "markdown",
   "source": [
    "Мы успешно построили и оценили модель кластеризации K-Means с количеством кластеров от 2 до 10. Результаты были помещены в массив и теперь могут быть отображены в виде графика:"
   ],
   "metadata": {
    "collapsed": false
   },
   "id": "c3bf07e2acf5d35"
  },
  {
   "cell_type": "code",
   "execution_count": 30,
   "outputs": [
    {
     "data": {
      "text/plain": "<Figure size 640x480 with 1 Axes>",
      "image/png": "[encoded data removed]"
     },
     "metadata": {},
     "output_type": "display_data"
    }
   ],
   "source": [
    "import pandas as pd\n",
    "import pylab as pl\n",
    "\n",
    "df_cost = pd.DataFrame(cost[2:])\n",
    "df_cost.columns = [\"cost\"]\n",
    "new_col = range(2, 10)\n",
    "df_cost.insert(0, 'cluster', new_col)\n",
    "pl.plot(df_cost.cluster, df_cost.cost)\n",
    "pl.xlabel('Количество кластеров')\n",
    "pl.ylabel('Счёт')\n",
    "pl.title('Кривая (метод локтя)')\n",
    "pl.show()"
   ],
   "metadata": {
    "collapsed": false,
    "ExecuteTime": {
     "end_time": "2024-01-16T14:55:11.324073200Z",
     "start_time": "2024-01-16T14:55:08.332321500Z"
    }
   },
   "id": "28ee3207b88762f"
  },
  {
   "cell_type": "markdown",
   "source": [
    "На графике выше мы видим, что на 4-х кластерах есть точка перегиба, похожая на локоть. В связи с этим приступим к построению алгоритма K-Means с четырьмя кластерами:"
   ],
   "metadata": {
    "collapsed": false
   },
   "id": "1a9631ebb535c777"
  },
  {
   "cell_type": "code",
   "execution_count": 31,
   "outputs": [],
   "source": [
    "KMeans_algo = KMeans(featuresCol='standardized', k=4)\n",
    "KMeans_fit = KMeans_algo.fit(data_scale_output)"
   ],
   "metadata": {
    "collapsed": false,
    "ExecuteTime": {
     "end_time": "2024-01-16T14:56:16.414982500Z",
     "start_time": "2024-01-16T14:55:59.000056500Z"
    }
   },
   "id": "53e3081bbed65e0d"
  },
  {
   "cell_type": "markdown",
   "source": [
    "Используем созданную нами модель для назначения кластеров каждому клиенту в наборе данных:"
   ],
   "metadata": {
    "collapsed": false
   },
   "id": "d44a496dec1d7a00"
  },
  {
   "cell_type": "code",
   "execution_count": 32,
   "outputs": [
    {
     "name": "stdout",
     "output_type": "stream",
     "text": [
      "+--------+---------+-----------------+----------+-----------------------------------+-------------------------------------------------------------+----------+\n",
      "|recency |frequency|monetary_value   |CustomerID|features                           |standardized                                                 |prediction|\n",
      "+--------+---------+-----------------+----------+-----------------------------------+-------------------------------------------------------------+----------+\n",
      "|5580    |14       |226.14           |16250     |[5580.0,14.0,226.14]               |[1.827806780736465E-7,0.4589020319425581,0.07645669520731259]|1         |\n",
      "|2704800 |121      |375.65           |15574     |[2704800.0,121.0,375.65]           |[8.859949427483853E-5,3.9662247046463945,0.12700520719300865]|3         |\n",
      "|21100860|24       |111.75           |15271     |[2.110086E7,24.0,111.75]           |[6.91188082210947E-4,0.7866891976158138,0.03778206283460327] |1         |\n",
      "|21112020|37       |620.3499999999998|15555     |[2.111202E7,37.0,620.3499999999998]|[6.915536435670943E-4,1.2128125129910463,0.2097369367288244] |1         |\n",
      "|23703000|49       |385.25           |17757     |[2.3703E7,49.0,385.25]             |[7.764248050859575E-4,1.6061571117989533,0.1302509146043034] |1         |\n",
      "+--------+---------+-----------------+----------+-----------------------------------+-------------------------------------------------------------+----------+\n"
     ]
    }
   ],
   "source": [
    "preds = KMeans_fit.transform(data_scale_output)\n",
    "preds.show(5, 0)"
   ],
   "metadata": {
    "collapsed": false,
    "ExecuteTime": {
     "end_time": "2024-01-16T14:56:34.550365300Z",
     "start_time": "2024-01-16T14:56:28.723101600Z"
    }
   },
   "id": "a33c0c8b405c3112"
  },
  {
   "cell_type": "markdown",
   "source": [
    "# Кластерный анализ\n",
    "Последним шагом является анализ только что построенных клиентских сегментов."
   ],
   "metadata": {
    "collapsed": false
   },
   "id": "d4bcb8d7ec53d247"
  },
  {
   "cell_type": "code",
   "execution_count": null,
   "outputs": [],
   "source": [
    "import matplotlib.pyplot as plt\n",
    "import seaborn as sns\n",
    "\n",
    "df_viz = preds.select('recency', 'frequency', 'monetary_value', 'prediction')\n",
    "df_viz = df_viz.toPandas()\n",
    "avg_df = df_viz.groupby(['prediction'], as_index=False).mean()\n",
    "\n",
    "list1 = ['recency', 'frequency', 'monetary_value']\n",
    "\n",
    "for i in list1:\n",
    "    sns.barplot(x='prediction', y=str(i), data=avg_df)\n",
    "    plt.show()"
   ],
   "metadata": {
    "collapsed": false
   },
   "id": "5443c51af53e9090"
  },
  {
   "cell_type": "markdown",
   "source": [
    "- Кластер 0: клиенты в этом сегменте демонстрируют низкую новизну, частоту и денежную ценность. Они редко делают покупки на платформе и являются малопотенциальными клиентами, которые, скорее всего, перестанут вести дела с компанией электронной коммерции.\n",
    "\n",
    "- Кластер 1. Пользователи в этом кластере демонстрируют высокую активность в последнее время, но не тратят много денег на платформе. Они также не часто посещают сайт. Это указывает на то, что это могут быть новые клиенты, которые только начали вести дела с компанией.\n",
    "\n",
    "- Кластер 2. Клиенты в этом сегменте демонстрируют среднюю новизну и частоту посещений и тратят на платформе много денег. Это указывает на то, что они склонны покупать дорогостоящие товары или совершать оптовые закупки.\n",
    "\n",
    "- Кластер 3. Последний сегмент включает пользователей, которые часто появляются на платформе и часто совершают покупки. Однако они не тратят много денег на платформе, а это может означать, что они склонны выбирать более дешевые товары при каждой покупке."
   ],
   "metadata": {
    "collapsed": false
   },
   "id": "a6cc3f43cc0fbd6d"
  },
  {
   "cell_type": "code",
   "execution_count": null,
   "outputs": [],
   "source": [],
   "metadata": {
    "collapsed": false
   },
   "id": "1a88eff7bb35fa1e"
  }
 ],
 "metadata": {
  "kernelspec": {
   "display_name": "Python 3",
   "language": "python",
   "name": "python3"
  },
  "language_info": {
   "codemirror_mode": {
    "name": "ipython",
    "version": 2
   },
   "file_extension": ".py",
   "mimetype": "text/x-python",
   "name": "python",
   "nbconvert_exporter": "python",
   "pygments_lexer": "ipython2",
   "version": "2.7.6"
  }
 },
 "nbformat": 4,
 "nbformat_minor": 5
}
