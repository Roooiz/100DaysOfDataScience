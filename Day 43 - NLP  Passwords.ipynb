{
 "metadata": {
  "kernelspec": {
   "language": "python",
   "display_name": "Python 3",
   "name": "python3"
  },
  "language_info": {
   "name": "python",
   "version": "3.10.12",
   "mimetype": "text/x-python",
   "codemirror_mode": {
    "name": "ipython",
    "version": 3
   },
   "pygments_lexer": "ipython3",
   "nbconvert_exporter": "python",
   "file_extension": ".py"
  },
  "kaggle": {
   "accelerator": "gpu",
   "dataSources": [
    {
     "sourceId": 7320850,
     "sourceType": "datasetVersion",
     "datasetId": 4248465
    }
   ],
   "dockerImageVersionId": 30627,
   "isInternetEnabled": true,
   "language": "python",
   "sourceType": "notebook",
   "isGpuEnabled": true
  }
 },
 "nbformat_minor": 4,
 "nbformat": 4,
 "cells": [
  {
   "cell_type": "code",
   "source": [
    "import pandas as pd\n",
    "import numpy as np\n",
    "import seaborn as sns\n",
    "import matplotlib.pyplot as plt\n",
    "\n",
    "from sklearn.feature_extraction.text import TfidfVectorizer\n",
    "from sklearn.model_selection import train_test_split\n",
    "from sklearn.ensemble import RandomForestClassifier\n",
    "\n",
    "import warnings\n",
    "\n",
    "warnings.filterwarnings(\"ignore\")"
   ],
   "metadata": {
    "_uuid": "8f2839f25d086af736a60e9eeb907d3b93b6e0e5",
    "_cell_guid": "b1076dfc-b9ad-4769-8c92-a6c4dae69d19",
    "execution": {
     "iopub.status.busy": "2024-01-02T03:22:30.079873Z",
     "iopub.execute_input": "2024-01-02T03:22:30.080170Z",
     "iopub.status.idle": "2024-01-02T03:22:31.868223Z",
     "shell.execute_reply.started": "2024-01-02T03:22:30.080144Z",
     "shell.execute_reply": "2024-01-02T03:22:31.867198Z"
    },
    "trusted": true,
    "ExecuteTime": {
     "end_time": "2024-02-20T17:12:29.060583100Z",
     "start_time": "2024-02-20T17:12:27.368732100Z"
    }
   },
   "execution_count": 1,
   "outputs": []
  },
  {
   "cell_type": "code",
   "source": [
    "data = pd.read_csv(\"Datasets/Passwords.csv\", on_bad_lines='skip')\n",
    "data.head()"
   ],
   "metadata": {
    "execution": {
     "iopub.status.busy": "2024-01-02T03:22:31.870314Z",
     "iopub.execute_input": "2024-01-02T03:22:31.871160Z",
     "iopub.status.idle": "2024-01-02T03:22:32.525101Z",
     "shell.execute_reply.started": "2024-01-02T03:22:31.871117Z",
     "shell.execute_reply": "2024-01-02T03:22:32.524129Z"
    },
    "trusted": true,
    "ExecuteTime": {
     "end_time": "2024-02-20T17:12:29.615356800Z",
     "start_time": "2024-02-20T17:12:29.061626700Z"
    }
   },
   "execution_count": 2,
   "outputs": [
    {
     "data": {
      "text/plain": "      password  strength\n0     kzde5577         1\n1     kino3434         1\n2    visi7k1yr         1\n3     megzy123         1\n4  lamborghin1         1",
      "text/html": "<div>\n<style scoped>\n    .dataframe tbody tr th:only-of-type {\n        vertical-align: middle;\n    }\n\n    .dataframe tbody tr th {\n        vertical-align: top;\n    }\n\n    .dataframe thead th {\n        text-align: right;\n    }\n</style>\n<table border=\"1\" class=\"dataframe\">\n  <thead>\n    <tr style=\"text-align: right;\">\n      <th></th>\n      <th>password</th>\n      <th>strength</th>\n    </tr>\n  </thead>\n  <tbody>\n    <tr>\n      <th>0</th>\n      <td>kzde5577</td>\n      <td>1</td>\n    </tr>\n    <tr>\n      <th>1</th>\n      <td>kino3434</td>\n      <td>1</td>\n    </tr>\n    <tr>\n      <th>2</th>\n      <td>visi7k1yr</td>\n      <td>1</td>\n    </tr>\n    <tr>\n      <th>3</th>\n      <td>megzy123</td>\n      <td>1</td>\n    </tr>\n    <tr>\n      <th>4</th>\n      <td>lamborghin1</td>\n      <td>1</td>\n    </tr>\n  </tbody>\n</table>\n</div>"
     },
     "execution_count": 2,
     "metadata": {},
     "output_type": "execute_result"
    }
   ]
  },
  {
   "cell_type": "code",
   "source": [
    "data.shape"
   ],
   "metadata": {
    "execution": {
     "iopub.status.busy": "2024-01-02T03:22:32.526569Z",
     "iopub.execute_input": "2024-01-02T03:22:32.526953Z",
     "iopub.status.idle": "2024-01-02T03:22:32.534564Z",
     "shell.execute_reply.started": "2024-01-02T03:22:32.526920Z",
     "shell.execute_reply": "2024-01-02T03:22:32.533443Z"
    },
    "trusted": true,
    "ExecuteTime": {
     "end_time": "2024-02-20T17:12:29.638369400Z",
     "start_time": "2024-02-20T17:12:29.615356800Z"
    }
   },
   "execution_count": 3,
   "outputs": [
    {
     "data": {
      "text/plain": "(669640, 2)"
     },
     "execution_count": 3,
     "metadata": {},
     "output_type": "execute_result"
    }
   ]
  },
  {
   "cell_type": "code",
   "source": [
    "data.isnull().sum()"
   ],
   "metadata": {
    "execution": {
     "iopub.status.busy": "2024-01-02T03:22:32.537283Z",
     "iopub.execute_input": "2024-01-02T03:22:32.537731Z",
     "iopub.status.idle": "2024-01-02T03:22:32.619180Z",
     "shell.execute_reply.started": "2024-01-02T03:22:32.537695Z",
     "shell.execute_reply": "2024-01-02T03:22:32.618190Z"
    },
    "trusted": true,
    "ExecuteTime": {
     "end_time": "2024-02-20T17:12:29.757909800Z",
     "start_time": "2024-02-20T17:12:29.625370800Z"
    }
   },
   "execution_count": 4,
   "outputs": [
    {
     "data": {
      "text/plain": "password    1\nstrength    0\ndtype: int64"
     },
     "execution_count": 4,
     "metadata": {},
     "output_type": "execute_result"
    }
   ]
  },
  {
   "cell_type": "code",
   "source": [
    "data.dropna(inplace=True)\n",
    "data.isnull().sum()"
   ],
   "metadata": {
    "execution": {
     "iopub.status.busy": "2024-01-02T03:22:32.620355Z",
     "iopub.execute_input": "2024-01-02T03:22:32.620700Z",
     "iopub.status.idle": "2024-01-02T03:22:32.782971Z",
     "shell.execute_reply.started": "2024-01-02T03:22:32.620675Z",
     "shell.execute_reply": "2024-01-02T03:22:32.781930Z"
    },
    "trusted": true,
    "ExecuteTime": {
     "end_time": "2024-02-20T17:12:29.920024800Z",
     "start_time": "2024-02-20T17:12:29.677875Z"
    }
   },
   "execution_count": 5,
   "outputs": [
    {
     "data": {
      "text/plain": "password    0\nstrength    0\ndtype: int64"
     },
     "execution_count": 5,
     "metadata": {},
     "output_type": "execute_result"
    }
   ]
  },
  {
   "cell_type": "code",
   "source": [
    "sns.countplot(x='strength', data=data, palette='pastel')\n",
    "plt.xlabel('Сложность')\n",
    "plt.ylabel('Количество')\n",
    "plt.title('Распределение паролей по сложности')\n",
    "plt.show()"
   ],
   "metadata": {
    "execution": {
     "iopub.status.busy": "2024-01-02T03:22:32.784172Z",
     "iopub.execute_input": "2024-01-02T03:22:32.784465Z",
     "iopub.status.idle": "2024-01-02T03:22:33.112045Z",
     "shell.execute_reply.started": "2024-01-02T03:22:32.784440Z",
     "shell.execute_reply": "2024-01-02T03:22:33.111043Z"
    },
    "trusted": true,
    "ExecuteTime": {
     "end_time": "2024-02-20T17:13:00.385628100Z",
     "start_time": "2024-02-20T17:12:58.666780600Z"
    }
   },
   "execution_count": 6,
   "outputs": [
    {
     "data": {
      "text/plain": "<Figure size 640x480 with 1 Axes>",
      "image/png": "[encoded data removed]"
     },
     "metadata": {},
     "output_type": "display_data"
    }
   ]
  },
  {
   "cell_type": "code",
   "source": [
    "x = np.array(data[\"password\"])\n",
    "y = np.array(data[\"strength\"])"
   ],
   "metadata": {
    "execution": {
     "iopub.status.busy": "2024-01-02T03:22:33.113486Z",
     "iopub.execute_input": "2024-01-02T03:22:33.115156Z",
     "iopub.status.idle": "2024-01-02T03:22:33.132368Z",
     "shell.execute_reply.started": "2024-01-02T03:22:33.115124Z",
     "shell.execute_reply": "2024-01-02T03:22:33.131314Z"
    },
    "trusted": true,
    "ExecuteTime": {
     "end_time": "2024-02-20T17:13:23.717892900Z",
     "start_time": "2024-02-20T17:13:23.667375200Z"
    }
   },
   "execution_count": 7,
   "outputs": []
  },
  {
   "cell_type": "markdown",
   "source": [
    "### Определим функции для разделения входных данных на список отдельных символов"
   ],
   "metadata": {}
  },
  {
   "cell_type": "code",
   "source": [
    "def word(password):\n",
    "    character = []\n",
    "    for i in password:\n",
    "        character.append(i)\n",
    "    return character"
   ],
   "metadata": {
    "execution": {
     "iopub.status.busy": "2024-01-02T03:22:33.133590Z",
     "iopub.execute_input": "2024-01-02T03:22:33.133940Z",
     "iopub.status.idle": "2024-01-02T03:22:33.144528Z",
     "shell.execute_reply.started": "2024-01-02T03:22:33.133912Z",
     "shell.execute_reply": "2024-01-02T03:22:33.143541Z"
    },
    "trusted": true,
    "ExecuteTime": {
     "end_time": "2024-02-20T17:13:45.397694900Z",
     "start_time": "2024-02-20T17:13:45.386370600Z"
    }
   },
   "execution_count": 8,
   "outputs": []
  },
  {
   "cell_type": "markdown",
   "source": [
    "#### Используем TF-IDF векторизатор для преобразования строковых данных в числовые"
   ],
   "metadata": {}
  },
  {
   "cell_type": "code",
   "source": [
    "tdif = TfidfVectorizer(tokenizer=word)\n",
    "X = tdif.fit_transform(x)"
   ],
   "metadata": {
    "execution": {
     "iopub.status.busy": "2024-01-02T03:22:33.145851Z",
     "iopub.execute_input": "2024-01-02T03:22:33.146793Z",
     "iopub.status.idle": "2024-01-02T03:22:39.705338Z",
     "shell.execute_reply.started": "2024-01-02T03:22:33.146740Z",
     "shell.execute_reply": "2024-01-02T03:22:39.704514Z"
    },
    "trusted": true,
    "ExecuteTime": {
     "end_time": "2024-02-20T17:14:11.277670600Z",
     "start_time": "2024-02-20T17:14:07.425289800Z"
    }
   },
   "execution_count": 9,
   "outputs": []
  },
  {
   "cell_type": "code",
   "source": [
    "X_train, X_test, y_train, y_test = train_test_split(X, y, test_size=0.2, random_state=42)\n",
    "X_train.shape"
   ],
   "metadata": {
    "execution": {
     "iopub.status.busy": "2024-01-02T03:22:39.708069Z",
     "iopub.execute_input": "2024-01-02T03:22:39.708402Z",
     "iopub.status.idle": "2024-01-02T03:22:39.830428Z",
     "shell.execute_reply.started": "2024-01-02T03:22:39.708362Z",
     "shell.execute_reply": "2024-01-02T03:22:39.829393Z"
    },
    "trusted": true,
    "ExecuteTime": {
     "end_time": "2024-02-20T17:14:39.680211200Z",
     "start_time": "2024-02-20T17:14:39.532535200Z"
    }
   },
   "execution_count": 10,
   "outputs": [
    {
     "data": {
      "text/plain": "(535711, 153)"
     },
     "execution_count": 10,
     "metadata": {},
     "output_type": "execute_result"
    }
   ]
  },
  {
   "cell_type": "markdown",
   "source": [
    "# Используем случайный лес"
   ],
   "metadata": {}
  },
  {
   "cell_type": "code",
   "source": [
    "model = RandomForestClassifier(verbose=10, n_jobs=20)\n",
    "model.fit(X_train, y_train)"
   ],
   "metadata": {
    "execution": {
     "iopub.status.busy": "2024-01-02T03:22:39.831459Z",
     "iopub.execute_input": "2024-01-02T03:22:39.831742Z",
     "iopub.status.idle": "2024-01-02T03:45:08.706267Z",
     "shell.execute_reply.started": "2024-01-02T03:22:39.831708Z",
     "shell.execute_reply": "2024-01-02T03:45:08.705105Z"
    },
    "trusted": true,
    "ExecuteTime": {
     "end_time": "2024-02-20T17:22:54.332298100Z",
     "start_time": "2024-02-20T17:18:19.258918200Z"
    }
   },
   "execution_count": 13,
   "outputs": [
    {
     "name": "stderr",
     "output_type": "stream",
     "text": [
      "[Parallel(n_jobs=20)]: Using backend ThreadingBackend with 20 concurrent workers.\n"
     ]
    },
    {
     "name": "stdout",
     "output_type": "stream",
     "text": [
      "building tree 1 of 100building tree 2 of 100\n",
      "\n",
      "building tree 3 of 100\n",
      "building tree 4 of 100\n",
      "building tree 5 of 100\n",
      "building tree 6 of 100\n",
      "building tree 7 of 100\n",
      "building tree 8 of 100\n",
      "building tree 9 of 100\n",
      "building tree 10 of 100\n",
      "building tree 11 of 100\n",
      "building tree 12 of 100\n",
      "building tree 13 of 100\n",
      "building tree 14 of 100\n",
      "building tree 15 of 100\n",
      "building tree 16 of 100\n",
      "building tree 17 of 100\n",
      "building tree 18 of 100\n",
      "building tree 19 of 100\n",
      "building tree 20 of 100\n",
      "building tree 21 of 100\n"
     ]
    },
    {
     "name": "stderr",
     "output_type": "stream",
     "text": [
      "[Parallel(n_jobs=20)]: Done   1 tasks      | elapsed:   45.3s\n"
     ]
    },
    {
     "name": "stdout",
     "output_type": "stream",
     "text": [
      "building tree 22 of 100\n",
      "building tree 23 of 100\n",
      "building tree 24 of 100\n",
      "building tree 25 of 100\n",
      "building tree 26 of 100\n",
      "building tree 27 of 100\n",
      "building tree 28 of 100\n",
      "building tree 29 of 100\n",
      "building tree 30 of 100\n"
     ]
    },
    {
     "name": "stderr",
     "output_type": "stream",
     "text": [
      "[Parallel(n_jobs=20)]: Done  10 tasks      | elapsed:  1.0min\n"
     ]
    },
    {
     "name": "stdout",
     "output_type": "stream",
     "text": [
      "building tree 31 of 100\n",
      "building tree 32 of 100\n",
      "building tree 33 of 100\n",
      "building tree 34 of 100\n",
      "building tree 35 of 100\n",
      "building tree 36 of 100\n",
      "building tree 37 of 100\n",
      "building tree 38 of 100\n",
      "building tree 39 of 100\n",
      "building tree 40 of 100\n"
     ]
    },
    {
     "name": "stderr",
     "output_type": "stream",
     "text": [
      "[Parallel(n_jobs=20)]: Done  21 tasks      | elapsed:  1.5min\n"
     ]
    },
    {
     "name": "stdout",
     "output_type": "stream",
     "text": [
      "building tree 41 of 100\n",
      "building tree 42 of 100\n",
      "building tree 43 of 100\n",
      "building tree 44 of 100\n",
      "building tree 45 of 100\n",
      "building tree 46 of 100\n",
      "building tree 47 of 100\n",
      "building tree 48 of 100\n",
      "building tree 49 of 100\n",
      "building tree 50 of 100\n",
      "building tree 51 of 100\n",
      "building tree 52 of 100\n"
     ]
    },
    {
     "name": "stderr",
     "output_type": "stream",
     "text": [
      "[Parallel(n_jobs=20)]: Done  32 tasks      | elapsed:  2.1min\n"
     ]
    },
    {
     "name": "stdout",
     "output_type": "stream",
     "text": [
      "building tree 53 of 100\n",
      "building tree 54 of 100\n",
      "building tree 55 of 100\n",
      "building tree 56 of 100\n",
      "building tree 57 of 100\n",
      "building tree 58 of 100\n",
      "building tree 59 of 100\n",
      "building tree 60 of 100\n",
      "building tree 61 of 100\n",
      "building tree 62 of 100\n",
      "building tree 63 of 100\n",
      "building tree 64 of 100\n",
      "building tree 65 of 100\n",
      "building tree 66 of 100\n"
     ]
    },
    {
     "name": "stderr",
     "output_type": "stream",
     "text": [
      "[Parallel(n_jobs=20)]: Done  45 tasks      | elapsed:  2.3min\n"
     ]
    },
    {
     "name": "stdout",
     "output_type": "stream",
     "text": [
      "building tree 67 of 100\n",
      "building tree 68 of 100\n",
      "building tree 69 of 100\n",
      "building tree 70 of 100\n",
      "building tree 71 of 100\n",
      "building tree 72 of 100\n",
      "building tree 73 of 100\n",
      "building tree 74 of 100\n",
      "building tree 75 of 100\n",
      "building tree 76 of 100\n",
      "building tree 77 of 100\n",
      "building tree 78 of 100\n"
     ]
    },
    {
     "name": "stderr",
     "output_type": "stream",
     "text": [
      "[Parallel(n_jobs=20)]: Done  58 tasks      | elapsed:  3.0min\n"
     ]
    },
    {
     "name": "stdout",
     "output_type": "stream",
     "text": [
      "building tree 79 of 100\n",
      "building tree 80 of 100\n",
      "building tree 81 of 100\n",
      "building tree 82 of 100\n",
      "building tree 83 of 100\n",
      "building tree 84 of 100\n",
      "building tree 85 of 100\n",
      "building tree 86 of 100\n",
      "building tree 87 of 100\n",
      "building tree 88 of 100\n",
      "building tree 89 of 100\n",
      "building tree 90 of 100\n",
      "building tree 91 of 100\n",
      "building tree 92 of 100\n"
     ]
    },
    {
     "name": "stderr",
     "output_type": "stream",
     "text": [
      "[Parallel(n_jobs=20)]: Done  72 out of 100 | elapsed:  3.7min remaining:  1.5min\n"
     ]
    },
    {
     "name": "stdout",
     "output_type": "stream",
     "text": [
      "building tree 93 of 100\n",
      "building tree 94 of 100\n",
      "building tree 95 of 100\n",
      "building tree 96 of 100\n",
      "building tree 97 of 100\n",
      "building tree 98 of 100\n",
      "building tree 99 of 100\n",
      "building tree 100 of 100\n"
     ]
    },
    {
     "name": "stderr",
     "output_type": "stream",
     "text": [
      "[Parallel(n_jobs=20)]: Done  83 out of 100 | elapsed:  4.1min remaining:   50.9s\n",
      "[Parallel(n_jobs=20)]: Done  94 out of 100 | elapsed:  4.5min remaining:   17.0s\n",
      "[Parallel(n_jobs=20)]: Done 100 out of 100 | elapsed:  4.6min finished\n"
     ]
    },
    {
     "data": {
      "text/plain": "RandomForestClassifier(n_jobs=20, verbose=10)",
      "text/html": "<style>#sk-container-id-1 {\n  /* Definition of color scheme common for light and dark mode */\n  --sklearn-color-text: black;\n  --sklearn-color-line: gray;\n  /* Definition of color scheme for unfitted estimators */\n  --sklearn-color-unfitted-level-0: #fff5e6;\n  --sklearn-color-unfitted-level-1: #f6e4d2;\n  --sklearn-color-unfitted-level-2: #ffe0b3;\n  --sklearn-color-unfitted-level-3: chocolate;\n  /* Definition of color scheme for fitted estimators */\n  --sklearn-color-fitted-level-0: #f0f8ff;\n  --sklearn-color-fitted-level-1: #d4ebff;\n  --sklearn-color-fitted-level-2: #b3dbfd;\n  --sklearn-color-fitted-level-3: cornflowerblue;\n\n  /* Specific color for light theme */\n  --sklearn-color-text-on-default-background: var(--sg-text-color, var(--theme-code-foreground, var(--jp-content-font-color1, black)));\n  --sklearn-color-background: var(--sg-background-color, var(--theme-background, var(--jp-layout-color0, white)));\n  --sklearn-color-border-box: var(--sg-text-color, var(--theme-code-foreground, var(--jp-content-font-color1, black)));\n  --sklearn-color-icon: #696969;\n\n  @media (prefers-color-scheme: dark) {\n    /* Redefinition of color scheme for dark theme */\n    --sklearn-color-text-on-default-background: var(--sg-text-color, var(--theme-code-foreground, var(--jp-content-font-color1, white)));\n    --sklearn-color-background: var(--sg-background-color, var(--theme-background, var(--jp-layout-color0, #111)));\n    --sklearn-color-border-box: var(--sg-text-color, var(--theme-code-foreground, var(--jp-content-font-color1, white)));\n    --sklearn-color-icon: #878787;\n  }\n}\n\n#sk-container-id-1 {\n  color: var(--sklearn-color-text);\n}\n\n#sk-container-id-1 pre {\n  padding: 0;\n}\n\n#sk-container-id-1 input.sk-hidden--visually {\n  border: 0;\n  clip: rect(1px 1px 1px 1px);\n  clip: rect(1px, 1px, 1px, 1px);\n  height: 1px;\n  margin: -1px;\n  overflow: hidden;\n  padding: 0;\n  position: absolute;\n  width: 1px;\n}\n\n#sk-container-id-1 div.sk-dashed-wrapped {\n  border: 1px dashed var(--sklearn-color-line);\n  margin: 0 0.4em 0.5em 0.4em;\n  box-sizing: border-box;\n  padding-bottom: 0.4em;\n  background-color: var(--sklearn-color-background);\n}\n\n#sk-container-id-1 div.sk-container {\n  /* jupyter's `normalize.less` sets `[hidden] { display: none; }`\n     but bootstrap.min.css set `[hidden] { display: none !important; }`\n     so we also need the `!important` here to be able to override the\n     default hidden behavior on the sphinx rendered scikit-learn.org.\n     See: https://github.com/scikit-learn/scikit-learn/issues/21755 */\n  display: inline-block !important;\n  position: relative;\n}\n\n#sk-container-id-1 div.sk-text-repr-fallback {\n  display: none;\n}\n\ndiv.sk-parallel-item,\ndiv.sk-serial,\ndiv.sk-item {\n  /* draw centered vertical line to link estimators */\n  background-image: linear-gradient(var(--sklearn-color-text-on-default-background), var(--sklearn-color-text-on-default-background));\n  background-size: 2px 100%;\n  background-repeat: no-repeat;\n  background-position: center center;\n}\n\n/* Parallel-specific style estimator block */\n\n#sk-container-id-1 div.sk-parallel-item::after {\n  content: \"\";\n  width: 100%;\n  border-bottom: 2px solid var(--sklearn-color-text-on-default-background);\n  flex-grow: 1;\n}\n\n#sk-container-id-1 div.sk-parallel {\n  display: flex;\n  align-items: stretch;\n  justify-content: center;\n  background-color: var(--sklearn-color-background);\n  position: relative;\n}\n\n#sk-container-id-1 div.sk-parallel-item {\n  display: flex;\n  flex-direction: column;\n}\n\n#sk-container-id-1 div.sk-parallel-item:first-child::after {\n  align-self: flex-end;\n  width: 50%;\n}\n\n#sk-container-id-1 div.sk-parallel-item:last-child::after {\n  align-self: flex-start;\n  width: 50%;\n}\n\n#sk-container-id-1 div.sk-parallel-item:only-child::after {\n  width: 0;\n}\n\n/* Serial-specific style estimator block */\n\n#sk-container-id-1 div.sk-serial {\n  display: flex;\n  flex-direction: column;\n  align-items: center;\n  background-color: var(--sklearn-color-background);\n  padding-right: 1em;\n  padding-left: 1em;\n}\n\n\n/* Toggleable style: style used for estimator/Pipeline/ColumnTransformer box that is\nclickable and can be expanded/collapsed.\n- Pipeline and ColumnTransformer use this feature and define the default style\n- Estimators will overwrite some part of the style using the `sk-estimator` class\n*/\n\n/* Pipeline and ColumnTransformer style (default) */\n\n#sk-container-id-1 div.sk-toggleable {\n  /* Default theme specific background. It is overwritten whether we have a\n  specific estimator or a Pipeline/ColumnTransformer */\n  background-color: var(--sklearn-color-background);\n}\n\n/* Toggleable label */\n#sk-container-id-1 label.sk-toggleable__label {\n  cursor: pointer;\n  display: block;\n  width: 100%;\n  margin-bottom: 0;\n  padding: 0.5em;\n  box-sizing: border-box;\n  text-align: center;\n}\n\n#sk-container-id-1 label.sk-toggleable__label-arrow:before {\n  /* Arrow on the left of the label */\n  content: \"▸\";\n  float: left;\n  margin-right: 0.25em;\n  color: var(--sklearn-color-icon);\n}\n\n#sk-container-id-1 label.sk-toggleable__label-arrow:hover:before {\n  color: var(--sklearn-color-text);\n}\n\n/* Toggleable content - dropdown */\n\n#sk-container-id-1 div.sk-toggleable__content {\n  max-height: 0;\n  max-width: 0;\n  overflow: hidden;\n  text-align: left;\n  /* unfitted */\n  background-color: var(--sklearn-color-unfitted-level-0);\n}\n\n#sk-container-id-1 div.sk-toggleable__content.fitted {\n  /* fitted */\n  background-color: var(--sklearn-color-fitted-level-0);\n}\n\n#sk-container-id-1 div.sk-toggleable__content pre {\n  margin: 0.2em;\n  border-radius: 0.25em;\n  color: var(--sklearn-color-text);\n  /* unfitted */\n  background-color: var(--sklearn-color-unfitted-level-0);\n}\n\n#sk-container-id-1 div.sk-toggleable__content.fitted pre {\n  /* unfitted */\n  background-color: var(--sklearn-color-fitted-level-0);\n}\n\n#sk-container-id-1 input.sk-toggleable__control:checked~div.sk-toggleable__content {\n  /* Expand drop-down */\n  max-height: 200px;\n  max-width: 100%;\n  overflow: auto;\n}\n\n#sk-container-id-1 input.sk-toggleable__control:checked~label.sk-toggleable__label-arrow:before {\n  content: \"▾\";\n}\n\n/* Pipeline/ColumnTransformer-specific style */\n\n#sk-container-id-1 div.sk-label input.sk-toggleable__control:checked~label.sk-toggleable__label {\n  color: var(--sklearn-color-text);\n  background-color: var(--sklearn-color-unfitted-level-2);\n}\n\n#sk-container-id-1 div.sk-label.fitted input.sk-toggleable__control:checked~label.sk-toggleable__label {\n  background-color: var(--sklearn-color-fitted-level-2);\n}\n\n/* Estimator-specific style */\n\n/* Colorize estimator box */\n#sk-container-id-1 div.sk-estimator input.sk-toggleable__control:checked~label.sk-toggleable__label {\n  /* unfitted */\n  background-color: var(--sklearn-color-unfitted-level-2);\n}\n\n#sk-container-id-1 div.sk-estimator.fitted input.sk-toggleable__control:checked~label.sk-toggleable__label {\n  /* fitted */\n  background-color: var(--sklearn-color-fitted-level-2);\n}\n\n#sk-container-id-1 div.sk-label label.sk-toggleable__label,\n#sk-container-id-1 div.sk-label label {\n  /* The background is the default theme color */\n  color: var(--sklearn-color-text-on-default-background);\n}\n\n/* On hover, darken the color of the background */\n#sk-container-id-1 div.sk-label:hover label.sk-toggleable__label {\n  color: var(--sklearn-color-text);\n  background-color: var(--sklearn-color-unfitted-level-2);\n}\n\n/* Label box, darken color on hover, fitted */\n#sk-container-id-1 div.sk-label.fitted:hover label.sk-toggleable__label.fitted {\n  color: var(--sklearn-color-text);\n  background-color: var(--sklearn-color-fitted-level-2);\n}\n\n/* Estimator label */\n\n#sk-container-id-1 div.sk-label label {\n  font-family: monospace;\n  font-weight: bold;\n  display: inline-block;\n  line-height: 1.2em;\n}\n\n#sk-container-id-1 div.sk-label-container {\n  text-align: center;\n}\n\n/* Estimator-specific */\n#sk-container-id-1 div.sk-estimator {\n  font-family: monospace;\n  border: 1px dotted var(--sklearn-color-border-box);\n  border-radius: 0.25em;\n  box-sizing: border-box;\n  margin-bottom: 0.5em;\n  /* unfitted */\n  background-color: var(--sklearn-color-unfitted-level-0);\n}\n\n#sk-container-id-1 div.sk-estimator.fitted {\n  /* fitted */\n  background-color: var(--sklearn-color-fitted-level-0);\n}\n\n/* on hover */\n#sk-container-id-1 div.sk-estimator:hover {\n  /* unfitted */\n  background-color: var(--sklearn-color-unfitted-level-2);\n}\n\n#sk-container-id-1 div.sk-estimator.fitted:hover {\n  /* fitted */\n  background-color: var(--sklearn-color-fitted-level-2);\n}\n\n/* Specification for estimator info (e.g. \"i\" and \"?\") */\n\n/* Common style for \"i\" and \"?\" */\n\n.sk-estimator-doc-link,\na:link.sk-estimator-doc-link,\na:visited.sk-estimator-doc-link {\n  float: right;\n  font-size: smaller;\n  line-height: 1em;\n  font-family: monospace;\n  background-color: var(--sklearn-color-background);\n  border-radius: 1em;\n  height: 1em;\n  width: 1em;\n  text-decoration: none !important;\n  margin-left: 1ex;\n  /* unfitted */\n  border: var(--sklearn-color-unfitted-level-1) 1pt solid;\n  color: var(--sklearn-color-unfitted-level-1);\n}\n\n.sk-estimator-doc-link.fitted,\na:link.sk-estimator-doc-link.fitted,\na:visited.sk-estimator-doc-link.fitted {\n  /* fitted */\n  border: var(--sklearn-color-fitted-level-1) 1pt solid;\n  color: var(--sklearn-color-fitted-level-1);\n}\n\n/* On hover */\ndiv.sk-estimator:hover .sk-estimator-doc-link:hover,\n.sk-estimator-doc-link:hover,\ndiv.sk-label-container:hover .sk-estimator-doc-link:hover,\n.sk-estimator-doc-link:hover {\n  /* unfitted */\n  background-color: var(--sklearn-color-unfitted-level-3);\n  color: var(--sklearn-color-background);\n  text-decoration: none;\n}\n\ndiv.sk-estimator.fitted:hover .sk-estimator-doc-link.fitted:hover,\n.sk-estimator-doc-link.fitted:hover,\ndiv.sk-label-container:hover .sk-estimator-doc-link.fitted:hover,\n.sk-estimator-doc-link.fitted:hover {\n  /* fitted */\n  background-color: var(--sklearn-color-fitted-level-3);\n  color: var(--sklearn-color-background);\n  text-decoration: none;\n}\n\n/* Span, style for the box shown on hovering the info icon */\n.sk-estimator-doc-link span {\n  display: none;\n  z-index: 9999;\n  position: relative;\n  font-weight: normal;\n  right: .2ex;\n  padding: .5ex;\n  margin: .5ex;\n  width: min-content;\n  min-width: 20ex;\n  max-width: 50ex;\n  color: var(--sklearn-color-text);\n  box-shadow: 2pt 2pt 4pt #999;\n  /* unfitted */\n  background: var(--sklearn-color-unfitted-level-0);\n  border: .5pt solid var(--sklearn-color-unfitted-level-3);\n}\n\n.sk-estimator-doc-link.fitted span {\n  /* fitted */\n  background: var(--sklearn-color-fitted-level-0);\n  border: var(--sklearn-color-fitted-level-3);\n}\n\n.sk-estimator-doc-link:hover span {\n  display: block;\n}\n\n/* \"?\"-specific style due to the `<a>` HTML tag */\n\n#sk-container-id-1 a.estimator_doc_link {\n  float: right;\n  font-size: 1rem;\n  line-height: 1em;\n  font-family: monospace;\n  background-color: var(--sklearn-color-background);\n  border-radius: 1rem;\n  height: 1rem;\n  width: 1rem;\n  text-decoration: none;\n  /* unfitted */\n  color: var(--sklearn-color-unfitted-level-1);\n  border: var(--sklearn-color-unfitted-level-1) 1pt solid;\n}\n\n#sk-container-id-1 a.estimator_doc_link.fitted {\n  /* fitted */\n  border: var(--sklearn-color-fitted-level-1) 1pt solid;\n  color: var(--sklearn-color-fitted-level-1);\n}\n\n/* On hover */\n#sk-container-id-1 a.estimator_doc_link:hover {\n  /* unfitted */\n  background-color: var(--sklearn-color-unfitted-level-3);\n  color: var(--sklearn-color-background);\n  text-decoration: none;\n}\n\n#sk-container-id-1 a.estimator_doc_link.fitted:hover {\n  /* fitted */\n  background-color: var(--sklearn-color-fitted-level-3);\n}\n</style><div id=\"sk-container-id-1\" class=\"sk-top-container\"><div class=\"sk-text-repr-fallback\"><pre>RandomForestClassifier(n_jobs=20, verbose=10)</pre><b>In a Jupyter environment, please rerun this cell to show the HTML representation or trust the notebook. <br />On GitHub, the HTML representation is unable to render, please try loading this page with nbviewer.org.</b></div><div class=\"sk-container\" hidden><div class=\"sk-item\"><div class=\"sk-estimator fitted sk-toggleable\"><input class=\"sk-toggleable__control sk-hidden--visually\" id=\"sk-estimator-id-1\" type=\"checkbox\" checked><label for=\"sk-estimator-id-1\" class=\"sk-toggleable__label fitted sk-toggleable__label-arrow fitted\">&nbsp;&nbsp;RandomForestClassifier<a class=\"sk-estimator-doc-link fitted\" rel=\"noreferrer\" target=\"_blank\" href=\"https://scikit-learn.org/1.4/modules/generated/sklearn.ensemble.RandomForestClassifier.html\">?<span>Documentation for RandomForestClassifier</span></a><span class=\"sk-estimator-doc-link fitted\">i<span>Fitted</span></span></label><div class=\"sk-toggleable__content fitted\"><pre>RandomForestClassifier(n_jobs=20, verbose=10)</pre></div> </div></div></div></div>"
     },
     "execution_count": 13,
     "metadata": {},
     "output_type": "execute_result"
    }
   ]
  },
  {
   "cell_type": "code",
   "source": [
    "model.score(X_test, y_test)"
   ],
   "metadata": {
    "execution": {
     "iopub.status.busy": "2024-01-02T03:45:08.707932Z",
     "iopub.execute_input": "2024-01-02T03:45:08.708893Z",
     "iopub.status.idle": "2024-01-02T03:45:14.080380Z",
     "shell.execute_reply.started": "2024-01-02T03:45:08.708852Z",
     "shell.execute_reply": "2024-01-02T03:45:14.079278Z"
    },
    "trusted": true,
    "ExecuteTime": {
     "end_time": "2024-02-20T17:22:55.219148700Z",
     "start_time": "2024-02-20T17:22:54.336301300Z"
    }
   },
   "execution_count": 14,
   "outputs": [
    {
     "name": "stderr",
     "output_type": "stream",
     "text": [
      "[Parallel(n_jobs=20)]: Using backend ThreadingBackend with 20 concurrent workers.\n",
      "[Parallel(n_jobs=20)]: Done   1 tasks      | elapsed:    0.0s\n",
      "[Parallel(n_jobs=20)]: Done  10 tasks      | elapsed:    0.1s\n",
      "[Parallel(n_jobs=20)]: Done  21 tasks      | elapsed:    0.2s\n",
      "[Parallel(n_jobs=20)]: Done  32 tasks      | elapsed:    0.3s\n",
      "[Parallel(n_jobs=20)]: Done  45 tasks      | elapsed:    0.4s\n",
      "[Parallel(n_jobs=20)]: Done  58 tasks      | elapsed:    0.5s\n",
      "[Parallel(n_jobs=20)]: Done  72 out of 100 | elapsed:    0.6s remaining:    0.2s\n",
      "[Parallel(n_jobs=20)]: Done  83 out of 100 | elapsed:    0.7s remaining:    0.1s\n",
      "[Parallel(n_jobs=20)]: Done  94 out of 100 | elapsed:    0.7s remaining:    0.0s\n",
      "[Parallel(n_jobs=20)]: Done 100 out of 100 | elapsed:    0.7s finished\n"
     ]
    },
    {
     "data": {
      "text/plain": "0.9561630129621886"
     },
     "execution_count": 14,
     "metadata": {},
     "output_type": "execute_result"
    }
   ]
  },
  {
   "cell_type": "code",
   "source": [
    "y_pred = model.predict(X_test)\n",
    "y_pred"
   ],
   "metadata": {
    "execution": {
     "iopub.status.busy": "2024-01-02T03:48:22.908995Z",
     "iopub.execute_input": "2024-01-02T03:48:22.909377Z",
     "iopub.status.idle": "2024-01-02T03:48:28.173558Z",
     "shell.execute_reply.started": "2024-01-02T03:48:22.909351Z",
     "shell.execute_reply": "2024-01-02T03:48:28.172469Z"
    },
    "trusted": true,
    "ExecuteTime": {
     "end_time": "2024-02-20T17:23:13.636093400Z",
     "start_time": "2024-02-20T17:23:12.716260900Z"
    }
   },
   "execution_count": 15,
   "outputs": [
    {
     "name": "stderr",
     "output_type": "stream",
     "text": [
      "[Parallel(n_jobs=20)]: Using backend ThreadingBackend with 20 concurrent workers.\n",
      "[Parallel(n_jobs=20)]: Done   1 tasks      | elapsed:    0.0s\n",
      "[Parallel(n_jobs=20)]: Done  10 tasks      | elapsed:    0.1s\n",
      "[Parallel(n_jobs=20)]: Done  21 tasks      | elapsed:    0.2s\n",
      "[Parallel(n_jobs=20)]: Done  32 tasks      | elapsed:    0.2s\n",
      "[Parallel(n_jobs=20)]: Done  45 tasks      | elapsed:    0.4s\n",
      "[Parallel(n_jobs=20)]: Done  58 tasks      | elapsed:    0.5s\n",
      "[Parallel(n_jobs=20)]: Done  72 out of 100 | elapsed:    0.6s remaining:    0.2s\n",
      "[Parallel(n_jobs=20)]: Done  83 out of 100 | elapsed:    0.7s remaining:    0.1s\n",
      "[Parallel(n_jobs=20)]: Done  94 out of 100 | elapsed:    0.7s remaining:    0.0s\n",
      "[Parallel(n_jobs=20)]: Done 100 out of 100 | elapsed:    0.8s finished\n"
     ]
    },
    {
     "data": {
      "text/plain": "array([1, 1, 2, ..., 1, 2, 1], dtype=int64)"
     },
     "execution_count": 15,
     "metadata": {},
     "output_type": "execute_result"
    }
   ]
  },
  {
   "cell_type": "markdown",
   "source": [
    "### Прогноз по нашему паролю"
   ],
   "metadata": {}
  },
  {
   "cell_type": "code",
   "source": [
    "usrpwd = \"P3rrYU%tk0$n0s#\"\n",
    "data = tdif.transform([usrpwd]).toarray()\n",
    "pwd_strength = model.predict(data)"
   ],
   "metadata": {
    "execution": {
     "iopub.status.busy": "2024-01-02T03:48:32.066837Z",
     "iopub.execute_input": "2024-01-02T03:48:32.067870Z",
     "iopub.status.idle": "2024-01-02T03:48:32.081010Z",
     "shell.execute_reply.started": "2024-01-02T03:48:32.067831Z",
     "shell.execute_reply": "2024-01-02T03:48:32.080124Z"
    },
    "trusted": true,
    "ExecuteTime": {
     "end_time": "2024-02-20T17:24:33.507623700Z",
     "start_time": "2024-02-20T17:24:33.450829900Z"
    }
   },
   "execution_count": 22,
   "outputs": [
    {
     "name": "stderr",
     "output_type": "stream",
     "text": [
      "[Parallel(n_jobs=20)]: Using backend ThreadingBackend with 20 concurrent workers.\n",
      "[Parallel(n_jobs=20)]: Done   1 tasks      | elapsed:    0.0s\n",
      "[Parallel(n_jobs=20)]: Done  10 tasks      | elapsed:    0.0s\n",
      "[Parallel(n_jobs=20)]: Done  21 tasks      | elapsed:    0.0s\n",
      "[Parallel(n_jobs=20)]: Done  32 tasks      | elapsed:    0.0s\n",
      "[Parallel(n_jobs=20)]: Done  45 tasks      | elapsed:    0.0s\n",
      "[Parallel(n_jobs=20)]: Done  58 tasks      | elapsed:    0.0s\n",
      "[Parallel(n_jobs=20)]: Done  72 out of 100 | elapsed:    0.0s remaining:    0.0s\n",
      "[Parallel(n_jobs=20)]: Done  83 out of 100 | elapsed:    0.0s remaining:    0.0s\n",
      "[Parallel(n_jobs=20)]: Done  94 out of 100 | elapsed:    0.0s remaining:    0.0s\n",
      "[Parallel(n_jobs=20)]: Done 100 out of 100 | elapsed:    0.0s finished\n"
     ]
    }
   ]
  },
  {
   "cell_type": "code",
   "source": [
    "pwd_strength[0]"
   ],
   "metadata": {
    "execution": {
     "iopub.status.busy": "2024-01-02T03:48:34.662177Z",
     "iopub.execute_input": "2024-01-02T03:48:34.662523Z",
     "iopub.status.idle": "2024-01-02T03:48:34.668961Z",
     "shell.execute_reply.started": "2024-01-02T03:48:34.662498Z",
     "shell.execute_reply": "2024-01-02T03:48:34.667925Z"
    },
    "trusted": true,
    "ExecuteTime": {
     "end_time": "2024-02-20T17:24:34.166372Z",
     "start_time": "2024-02-20T17:24:34.155967100Z"
    }
   },
   "execution_count": 23,
   "outputs": [
    {
     "data": {
      "text/plain": "2"
     },
     "execution_count": 23,
     "metadata": {},
     "output_type": "execute_result"
    }
   ]
  },
  {
   "cell_type": "markdown",
   "source": [
    "2 - Сложный пароль (средняя сложность)"
   ],
   "metadata": {}
  },
  {
   "cell_type": "code",
   "source": [
    "from sklearn.metrics import classification_report\n",
    "\n",
    "print(classification_report(y_test, y_pred))"
   ],
   "metadata": {
    "execution": {
     "iopub.status.busy": "2024-01-02T03:48:37.472283Z",
     "iopub.execute_input": "2024-01-02T03:48:37.473135Z",
     "iopub.status.idle": "2024-01-02T03:48:37.647451Z",
     "shell.execute_reply.started": "2024-01-02T03:48:37.473101Z",
     "shell.execute_reply": "2024-01-02T03:48:37.646417Z"
    },
    "trusted": true,
    "ExecuteTime": {
     "end_time": "2024-02-20T17:25:14.556203700Z",
     "start_time": "2024-02-20T17:25:14.339689400Z"
    }
   },
   "execution_count": 24,
   "outputs": [
    {
     "name": "stdout",
     "output_type": "stream",
     "text": [
      "              precision    recall  f1-score   support\n",
      "\n",
      "           0       0.96      0.83      0.89     17908\n",
      "           1       0.96      0.99      0.97     99519\n",
      "           2       0.96      0.91      0.93     16501\n",
      "\n",
      "    accuracy                           0.96    133928\n",
      "   macro avg       0.96      0.91      0.93    133928\n",
      "weighted avg       0.96      0.96      0.96    133928\n"
     ]
    }
   ]
  },
  {
   "cell_type": "code",
   "source": [
    "from sklearn.metrics import confusion_matrix, accuracy_score\n",
    "\n",
    "cm = confusion_matrix(y_test, y_pred)\n",
    "print(cm)\n",
    "print(accuracy_score(y_test, y_pred))"
   ],
   "metadata": {
    "execution": {
     "iopub.status.busy": "2024-01-02T03:49:04.141915Z",
     "iopub.execute_input": "2024-01-02T03:49:04.142551Z",
     "iopub.status.idle": "2024-01-02T03:49:04.170474Z",
     "shell.execute_reply.started": "2024-01-02T03:49:04.142511Z",
     "shell.execute_reply": "2024-01-02T03:49:04.169555Z"
    },
    "trusted": true,
    "ExecuteTime": {
     "end_time": "2024-02-20T17:25:43.691129100Z",
     "start_time": "2024-02-20T17:25:43.654992200Z"
    }
   },
   "execution_count": 25,
   "outputs": [
    {
     "name": "stdout",
     "output_type": "stream",
     "text": [
      "[[14814  3090     4]\n",
      " [  640 98278   601]\n",
      " [   20  1516 14965]]\n",
      "0.9561630129621886\n"
     ]
    }
   ]
  },
  {
   "cell_type": "code",
   "source": [
    "sns.heatmap(cm, annot=True, fmt=\"d\", cmap=\"coolwarm\", cbar=True,\n",
    "            xticklabels=['Легкий', 'Средний', 'Сложный'], yticklabels=['Легкий', 'Средний', 'Сложный'])\n",
    "plt.xlabel('Прогнозные значения')\n",
    "plt.ylabel('Фактические значения')\n",
    "plt.title('Матрица')\n",
    "plt.show()"
   ],
   "metadata": {
    "execution": {
     "iopub.status.busy": "2024-01-02T03:51:06.032754Z",
     "iopub.execute_input": "2024-01-02T03:51:06.033151Z",
     "iopub.status.idle": "2024-01-02T03:51:06.254302Z",
     "shell.execute_reply.started": "2024-01-02T03:51:06.033119Z",
     "shell.execute_reply": "2024-01-02T03:51:06.253375Z"
    },
    "trusted": true,
    "ExecuteTime": {
     "end_time": "2024-02-20T17:26:45.576177500Z",
     "start_time": "2024-02-20T17:26:45.371203800Z"
    }
   },
   "execution_count": 27,
   "outputs": [
    {
     "data": {
      "text/plain": "<Figure size 640x480 with 2 Axes>",
      "image/png": "[encoded data removed]"
     },
     "metadata": {},
     "output_type": "display_data"
    }
   ]
  },
  {
   "cell_type": "code",
   "execution_count": null,
   "outputs": [],
   "source": [],
   "metadata": {
    "collapsed": false
   }
  }
 ]
}
