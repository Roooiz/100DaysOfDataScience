{
 "metadata": {
  "kernelspec": {
   "language": "python",
   "display_name": "Python 3",
   "name": "python3"
  },
  "language_info": {
   "name": "python",
   "version": "3.10.12",
   "mimetype": "text/x-python",
   "codemirror_mode": {
    "name": "ipython",
    "version": 3
   },
   "pygments_lexer": "ipython3",
   "nbconvert_exporter": "python",
   "file_extension": ".py"
  },
  "kaggle": {
   "accelerator": "none",
   "dataSources": [
    {
     "sourceId": 7350967,
     "sourceType": "datasetVersion",
     "datasetId": 4268946
    }
   ],
   "dockerImageVersionId": 30626,
   "isInternetEnabled": true,
   "language": "python",
   "sourceType": "notebook",
   "isGpuEnabled": false
  }
 },
 "nbformat_minor": 4,
 "nbformat": 4,
 "cells": [
  {
   "cell_type": "code",
   "source": [
    "import pandas as pd\n",
    "import matplotlib.pyplot as plt\n",
    "import seaborn as sns\n",
    "import spacy\n",
    "\n",
    "from sklearn.model_selection import train_test_split\n",
    "from sklearn.linear_model import LogisticRegression\n",
    "from sklearn.neighbors import KNeighborsClassifier\n",
    "from sklearn.naive_bayes import MultinomialNB\n",
    "from sklearn.ensemble import RandomForestClassifier\n",
    "\n",
    "from sklearn.feature_extraction.text import TfidfVectorizer\n",
    "from sklearn.pipeline import Pipeline\n",
    "from sklearn.metrics import classification_report\n",
    "from sklearn.metrics import confusion_matrix\n",
    "\n",
    "import warnings\n",
    "\n",
    "warnings.filterwarnings('ignore')"
   ],
   "metadata": {
    "_uuid": "8f2839f25d086af736a60e9eeb907d3b93b6e0e5",
    "_cell_guid": "b1076dfc-b9ad-4769-8c92-a6c4dae69d19",
    "execution": {
     "iopub.status.busy": "2024-01-06T17:01:29.287831Z",
     "iopub.execute_input": "2024-01-06T17:01:29.288224Z",
     "iopub.status.idle": "2024-01-06T17:01:29.296300Z",
     "shell.execute_reply.started": "2024-01-06T17:01:29.288193Z",
     "shell.execute_reply": "2024-01-06T17:01:29.294632Z"
    },
    "trusted": true,
    "ExecuteTime": {
     "end_time": "2024-02-24T15:33:16.267577900Z",
     "start_time": "2024-02-24T15:33:10.844286700Z"
    }
   },
   "execution_count": 1,
   "outputs": []
  },
  {
   "cell_type": "code",
   "source": [
    "df = pd.read_csv(\"Datasets/Emotions/train.txt\", sep=\";\", names=[\"Description\", \"Emotion\"])\n",
    "df.head()"
   ],
   "metadata": {
    "execution": {
     "iopub.status.busy": "2024-01-06T17:01:29.307825Z",
     "iopub.execute_input": "2024-01-06T17:01:29.308282Z",
     "iopub.status.idle": "2024-01-06T17:01:29.345380Z",
     "shell.execute_reply.started": "2024-01-06T17:01:29.308229Z",
     "shell.execute_reply": "2024-01-06T17:01:29.344367Z"
    },
    "trusted": true,
    "ExecuteTime": {
     "end_time": "2024-02-24T16:18:27.263887400Z",
     "start_time": "2024-02-24T16:18:27.172986100Z"
    }
   },
   "execution_count": 3,
   "outputs": [
    {
     "data": {
      "text/plain": "                                         Description  Emotion\n0                            i didnt feel humiliated  sadness\n1  i can go from feeling so hopeless to so damned...  sadness\n2   im grabbing a minute to post i feel greedy wrong    anger\n3  i am ever feeling nostalgic about the fireplac...     love\n4                               i am feeling grouchy    anger",
      "text/html": "<div>\n<style scoped>\n    .dataframe tbody tr th:only-of-type {\n        vertical-align: middle;\n    }\n\n    .dataframe tbody tr th {\n        vertical-align: top;\n    }\n\n    .dataframe thead th {\n        text-align: right;\n    }\n</style>\n<table border=\"1\" class=\"dataframe\">\n  <thead>\n    <tr style=\"text-align: right;\">\n      <th></th>\n      <th>Description</th>\n      <th>Emotion</th>\n    </tr>\n  </thead>\n  <tbody>\n    <tr>\n      <th>0</th>\n      <td>i didnt feel humiliated</td>\n      <td>sadness</td>\n    </tr>\n    <tr>\n      <th>1</th>\n      <td>i can go from feeling so hopeless to so damned...</td>\n      <td>sadness</td>\n    </tr>\n    <tr>\n      <th>2</th>\n      <td>im grabbing a minute to post i feel greedy wrong</td>\n      <td>anger</td>\n    </tr>\n    <tr>\n      <th>3</th>\n      <td>i am ever feeling nostalgic about the fireplac...</td>\n      <td>love</td>\n    </tr>\n    <tr>\n      <th>4</th>\n      <td>i am feeling grouchy</td>\n      <td>anger</td>\n    </tr>\n  </tbody>\n</table>\n</div>"
     },
     "execution_count": 3,
     "metadata": {},
     "output_type": "execute_result"
    }
   ]
  },
  {
   "cell_type": "code",
   "source": [
    "df['Emotion'].value_counts()"
   ],
   "metadata": {
    "execution": {
     "iopub.status.busy": "2024-01-06T17:01:29.346979Z",
     "iopub.execute_input": "2024-01-06T17:01:29.347660Z",
     "iopub.status.idle": "2024-01-06T17:01:29.358751Z",
     "shell.execute_reply.started": "2024-01-06T17:01:29.347624Z",
     "shell.execute_reply": "2024-01-06T17:01:29.356807Z"
    },
    "trusted": true,
    "ExecuteTime": {
     "end_time": "2024-02-24T16:19:26.067677400Z",
     "start_time": "2024-02-24T16:19:26.053478400Z"
    }
   },
   "execution_count": 4,
   "outputs": [
    {
     "data": {
      "text/plain": "Emotion\njoy         5362\nsadness     4666\nanger       2159\nfear        1937\nlove        1304\nsurprise     572\nName: count, dtype: int64"
     },
     "execution_count": 4,
     "metadata": {},
     "output_type": "execute_result"
    }
   ]
  },
  {
   "cell_type": "markdown",
   "source": [
    "##  Переведем эмоции в числовые параметры"
   ],
   "metadata": {}
  },
  {
   "cell_type": "code",
   "source": [
    "df['Emotion_num'] = df['Emotion'].map({\n",
    "    'joy': 0,\n",
    "    'sadness': 1,\n",
    "    'anger': 2,\n",
    "    'fear': 3,\n",
    "    'love': 4,\n",
    "    'surprise': 5\n",
    "})\n",
    "df.head()"
   ],
   "metadata": {
    "execution": {
     "iopub.status.busy": "2024-01-06T17:01:29.361612Z",
     "iopub.execute_input": "2024-01-06T17:01:29.362402Z",
     "iopub.status.idle": "2024-01-06T17:01:29.383307Z",
     "shell.execute_reply.started": "2024-01-06T17:01:29.362361Z",
     "shell.execute_reply": "2024-01-06T17:01:29.381072Z"
    },
    "trusted": true,
    "ExecuteTime": {
     "end_time": "2024-02-24T16:20:10.825660400Z",
     "start_time": "2024-02-24T16:20:10.796400800Z"
    }
   },
   "execution_count": 5,
   "outputs": [
    {
     "data": {
      "text/plain": "                                         Description  Emotion  Emotion_num\n0                            i didnt feel humiliated  sadness            1\n1  i can go from feeling so hopeless to so damned...  sadness            1\n2   im grabbing a minute to post i feel greedy wrong    anger            2\n3  i am ever feeling nostalgic about the fireplac...     love            4\n4                               i am feeling grouchy    anger            2",
      "text/html": "<div>\n<style scoped>\n    .dataframe tbody tr th:only-of-type {\n        vertical-align: middle;\n    }\n\n    .dataframe tbody tr th {\n        vertical-align: top;\n    }\n\n    .dataframe thead th {\n        text-align: right;\n    }\n</style>\n<table border=\"1\" class=\"dataframe\">\n  <thead>\n    <tr style=\"text-align: right;\">\n      <th></th>\n      <th>Description</th>\n      <th>Emotion</th>\n      <th>Emotion_num</th>\n    </tr>\n  </thead>\n  <tbody>\n    <tr>\n      <th>0</th>\n      <td>i didnt feel humiliated</td>\n      <td>sadness</td>\n      <td>1</td>\n    </tr>\n    <tr>\n      <th>1</th>\n      <td>i can go from feeling so hopeless to so damned...</td>\n      <td>sadness</td>\n      <td>1</td>\n    </tr>\n    <tr>\n      <th>2</th>\n      <td>im grabbing a minute to post i feel greedy wrong</td>\n      <td>anger</td>\n      <td>2</td>\n    </tr>\n    <tr>\n      <th>3</th>\n      <td>i am ever feeling nostalgic about the fireplac...</td>\n      <td>love</td>\n      <td>4</td>\n    </tr>\n    <tr>\n      <th>4</th>\n      <td>i am feeling grouchy</td>\n      <td>anger</td>\n      <td>2</td>\n    </tr>\n  </tbody>\n</table>\n</div>"
     },
     "execution_count": 5,
     "metadata": {},
     "output_type": "execute_result"
    }
   ]
  },
  {
   "cell_type": "code",
   "source": [
    "plt.figure(figsize=(8, 6))\n",
    "sns.countplot(x='Emotion', data=df, order=df['Emotion'].value_counts().index, palette=\"husl\")\n",
    "plt.title('Распределение различных эмоций')\n",
    "plt.show()"
   ],
   "metadata": {
    "execution": {
     "iopub.status.busy": "2024-01-06T17:01:29.386910Z",
     "iopub.execute_input": "2024-01-06T17:01:29.387382Z",
     "iopub.status.idle": "2024-01-06T17:01:29.582339Z",
     "shell.execute_reply.started": "2024-01-06T17:01:29.387336Z",
     "shell.execute_reply": "2024-01-06T17:01:29.579815Z"
    },
    "trusted": true,
    "ExecuteTime": {
     "end_time": "2024-02-24T16:25:30.641292300Z",
     "start_time": "2024-02-24T16:25:30.312138900Z"
    }
   },
   "execution_count": 6,
   "outputs": [
    {
     "data": {
      "text/plain": "<Figure size 800x600 with 1 Axes>",
      "image/png": "[encoded data removed]"
     },
     "metadata": {},
     "output_type": "display_data"
    }
   ]
  },
  {
   "cell_type": "code",
   "source": [
    "plt.figure(figsize=(10, 6))\n",
    "sns.histplot(x='Emotion', data=df, kde=True, palette='Set2', element='bars', stat='count',\n",
    "             common_norm=False)\n",
    "plt.title('Распределение различных эмоций')\n",
    "plt.xticks(rotation=45, ha='right')\n",
    "plt.show()"
   ],
   "metadata": {
    "execution": {
     "iopub.status.busy": "2024-01-06T17:01:29.584466Z",
     "iopub.execute_input": "2024-01-06T17:01:29.584831Z",
     "iopub.status.idle": "2024-01-06T17:01:29.952777Z",
     "shell.execute_reply.started": "2024-01-06T17:01:29.584807Z",
     "shell.execute_reply": "2024-01-06T17:01:29.951353Z"
    },
    "trusted": true,
    "ExecuteTime": {
     "end_time": "2024-02-24T16:29:37.415738700Z",
     "start_time": "2024-02-24T16:29:37.082594700Z"
    }
   },
   "execution_count": 7,
   "outputs": [
    {
     "data": {
      "text/plain": "<Figure size 1000x600 with 1 Axes>",
      "image/png": "[encoded data removed]"
     },
     "metadata": {},
     "output_type": "display_data"
    }
   ]
  },
  {
   "cell_type": "code",
   "source": [
    "nlp = spacy.load(\"en_core_web_sm\")\n",
    "\n",
    "\n",
    "# Функция предобработки текста с использованием модели SpaCy\n",
    "def preprocess(text):\n",
    "    doc = nlp(text)\n",
    "    filtered_tokens = []\n",
    "    for token in doc:\n",
    "        if token.is_stop or token.is_punct:\n",
    "            continue\n",
    "        else:\n",
    "            filtered_tokens.append(token.lemma_)\n",
    "    return \" \".join(filtered_tokens)"
   ],
   "metadata": {
    "execution": {
     "iopub.status.busy": "2024-01-06T17:01:29.954818Z",
     "iopub.execute_input": "2024-01-06T17:01:29.955185Z",
     "iopub.status.idle": "2024-01-06T17:01:30.824697Z",
     "shell.execute_reply.started": "2024-01-06T17:01:29.955152Z",
     "shell.execute_reply": "2024-01-06T17:01:30.823391Z"
    },
    "trusted": true,
    "ExecuteTime": {
     "end_time": "2024-02-24T16:32:52.792933800Z",
     "start_time": "2024-02-24T16:32:51.747185600Z"
    }
   },
   "execution_count": 8,
   "outputs": []
  },
  {
   "cell_type": "code",
   "source": [
    "df['processed_text'] = df[\"Description\"].apply(preprocess)\n",
    "df"
   ],
   "metadata": {
    "execution": {
     "iopub.status.busy": "2024-01-06T17:01:30.826540Z",
     "iopub.execute_input": "2024-01-06T17:01:30.826906Z",
     "iopub.status.idle": "2024-01-06T17:03:21.121213Z",
     "shell.execute_reply.started": "2024-01-06T17:01:30.826877Z",
     "shell.execute_reply": "2024-01-06T17:03:21.119980Z"
    },
    "trusted": true,
    "ExecuteTime": {
     "end_time": "2024-02-24T16:34:49.960466200Z",
     "start_time": "2024-02-24T16:32:57.027577500Z"
    }
   },
   "execution_count": 9,
   "outputs": [
    {
     "data": {
      "text/plain": "                                             Description  Emotion  \\\n0                                i didnt feel humiliated  sadness   \n1      i can go from feeling so hopeless to so damned...  sadness   \n2       im grabbing a minute to post i feel greedy wrong    anger   \n3      i am ever feeling nostalgic about the fireplac...     love   \n4                                   i am feeling grouchy    anger   \n...                                                  ...      ...   \n15995  i just had a very brief time in the beanbag an...  sadness   \n15996  i am now turning and i feel pathetic that i am...  sadness   \n15997                     i feel strong and good overall      joy   \n15998  i feel like this was such a rude comment and i...    anger   \n15999  i know a lot but i feel so stupid because i ca...  sadness   \n\n       Emotion_num                                     processed_text  \n0                1                                 not feel humiliate  \n1                1            feel hopeless damned hopeful care awake  \n2                2               m grab minute post feel greedy wrong  \n3                4             feel nostalgic fireplace know property  \n4                2                                       feel grouchy  \n...            ...                                                ...  \n15995            1         brief time beanbag say anna feel like beat  \n15996            1  turn feel pathetic wait table sub teaching degree  \n15997            0                           feel strong good overall  \n15998            2                    feel like rude comment m glad t  \n15999            1                       know lot feel stupid portray  \n\n[16000 rows x 4 columns]",
      "text/html": "<div>\n<style scoped>\n    .dataframe tbody tr th:only-of-type {\n        vertical-align: middle;\n    }\n\n    .dataframe tbody tr th {\n        vertical-align: top;\n    }\n\n    .dataframe thead th {\n        text-align: right;\n    }\n</style>\n<table border=\"1\" class=\"dataframe\">\n  <thead>\n    <tr style=\"text-align: right;\">\n      <th></th>\n      <th>Description</th>\n      <th>Emotion</th>\n      <th>Emotion_num</th>\n      <th>processed_text</th>\n    </tr>\n  </thead>\n  <tbody>\n    <tr>\n      <th>0</th>\n      <td>i didnt feel humiliated</td>\n      <td>sadness</td>\n      <td>1</td>\n      <td>not feel humiliate</td>\n    </tr>\n    <tr>\n      <th>1</th>\n      <td>i can go from feeling so hopeless to so damned...</td>\n      <td>sadness</td>\n      <td>1</td>\n      <td>feel hopeless damned hopeful care awake</td>\n    </tr>\n    <tr>\n      <th>2</th>\n      <td>im grabbing a minute to post i feel greedy wrong</td>\n      <td>anger</td>\n      <td>2</td>\n      <td>m grab minute post feel greedy wrong</td>\n    </tr>\n    <tr>\n      <th>3</th>\n      <td>i am ever feeling nostalgic about the fireplac...</td>\n      <td>love</td>\n      <td>4</td>\n      <td>feel nostalgic fireplace know property</td>\n    </tr>\n    <tr>\n      <th>4</th>\n      <td>i am feeling grouchy</td>\n      <td>anger</td>\n      <td>2</td>\n      <td>feel grouchy</td>\n    </tr>\n    <tr>\n      <th>...</th>\n      <td>...</td>\n      <td>...</td>\n      <td>...</td>\n      <td>...</td>\n    </tr>\n    <tr>\n      <th>15995</th>\n      <td>i just had a very brief time in the beanbag an...</td>\n      <td>sadness</td>\n      <td>1</td>\n      <td>brief time beanbag say anna feel like beat</td>\n    </tr>\n    <tr>\n      <th>15996</th>\n      <td>i am now turning and i feel pathetic that i am...</td>\n      <td>sadness</td>\n      <td>1</td>\n      <td>turn feel pathetic wait table sub teaching degree</td>\n    </tr>\n    <tr>\n      <th>15997</th>\n      <td>i feel strong and good overall</td>\n      <td>joy</td>\n      <td>0</td>\n      <td>feel strong good overall</td>\n    </tr>\n    <tr>\n      <th>15998</th>\n      <td>i feel like this was such a rude comment and i...</td>\n      <td>anger</td>\n      <td>2</td>\n      <td>feel like rude comment m glad t</td>\n    </tr>\n    <tr>\n      <th>15999</th>\n      <td>i know a lot but i feel so stupid because i ca...</td>\n      <td>sadness</td>\n      <td>1</td>\n      <td>know lot feel stupid portray</td>\n    </tr>\n  </tbody>\n</table>\n<p>16000 rows × 4 columns</p>\n</div>"
     },
     "execution_count": 9,
     "metadata": {},
     "output_type": "execute_result"
    }
   ]
  },
  {
   "cell_type": "code",
   "source": [
    "X_train, X_test, y_train, y_test = train_test_split(df['Description'], df['Emotion_num'], test_size=0.2,\n",
    "                                                    random_state=42)"
   ],
   "metadata": {
    "execution": {
     "iopub.status.busy": "2024-01-06T17:03:21.122509Z",
     "iopub.execute_input": "2024-01-06T17:03:21.122840Z",
     "iopub.status.idle": "2024-01-06T17:03:21.132434Z",
     "shell.execute_reply.started": "2024-01-06T17:03:21.122813Z",
     "shell.execute_reply": "2024-01-06T17:03:21.131440Z"
    },
    "trusted": true,
    "ExecuteTime": {
     "end_time": "2024-02-24T16:44:30.372271800Z",
     "start_time": "2024-02-24T16:44:30.359002600Z"
    }
   },
   "execution_count": 10,
   "outputs": []
  },
  {
   "cell_type": "markdown",
   "source": [
    "# KNN"
   ],
   "metadata": {}
  },
  {
   "cell_type": "code",
   "source": [
    "knn = Pipeline([\n",
    "    ('tfidf', TfidfVectorizer()),\n",
    "    ('classifier', KNeighborsClassifier())\n",
    "])\n",
    "knn.fit(X_train, y_train)\n",
    "knn_y_pred = knn.predict(X_test)"
   ],
   "metadata": {
    "execution": {
     "iopub.status.busy": "2024-01-06T17:03:21.133679Z",
     "iopub.execute_input": "2024-01-06T17:03:21.134136Z",
     "iopub.status.idle": "2024-01-06T17:03:26.928200Z",
     "shell.execute_reply.started": "2024-01-06T17:03:21.134104Z",
     "shell.execute_reply": "2024-01-06T17:03:26.927210Z"
    },
    "trusted": true,
    "ExecuteTime": {
     "end_time": "2024-02-24T16:46:27.983368Z",
     "start_time": "2024-02-24T16:46:25.496329400Z"
    }
   },
   "execution_count": 11,
   "outputs": []
  },
  {
   "cell_type": "code",
   "source": [
    "print(\"Classification Report:\\n\", classification_report(y_test, knn_y_pred))"
   ],
   "metadata": {
    "execution": {
     "iopub.status.busy": "2024-01-06T17:03:26.930932Z",
     "iopub.execute_input": "2024-01-06T17:03:26.931946Z",
     "iopub.status.idle": "2024-01-06T17:03:26.948861Z",
     "shell.execute_reply.started": "2024-01-06T17:03:26.931913Z",
     "shell.execute_reply": "2024-01-06T17:03:26.947505Z"
    },
    "trusted": true,
    "ExecuteTime": {
     "end_time": "2024-02-24T16:46:45.668377400Z",
     "start_time": "2024-02-24T16:46:45.612321400Z"
    }
   },
   "execution_count": 12,
   "outputs": [
    {
     "name": "stdout",
     "output_type": "stream",
     "text": [
      "Classification Report:\n",
      "               precision    recall  f1-score   support\n",
      "\n",
      "           0       0.66      0.87      0.75      1021\n",
      "           1       0.73      0.82      0.77       946\n",
      "           2       0.76      0.61      0.68       427\n",
      "           3       0.77      0.52      0.62       397\n",
      "           4       0.77      0.36      0.49       296\n",
      "           5       0.64      0.30      0.41       113\n",
      "\n",
      "    accuracy                           0.71      3200\n",
      "   macro avg       0.72      0.58      0.62      3200\n",
      "weighted avg       0.72      0.71      0.69      3200\n"
     ]
    }
   ]
  },
  {
   "cell_type": "markdown",
   "source": [
    "# Логистическая регрессия"
   ],
   "metadata": {}
  },
  {
   "cell_type": "code",
   "source": [
    "lr = Pipeline([\n",
    "    ('tfidf', TfidfVectorizer()),\n",
    "    ('classifier', LogisticRegression())\n",
    "])\n",
    "lr.fit(X_train, y_train)\n",
    "lr_y_pred = lr.predict(X_test)"
   ],
   "metadata": {
    "execution": {
     "iopub.status.busy": "2024-01-06T17:03:26.950594Z",
     "iopub.execute_input": "2024-01-06T17:03:26.951588Z",
     "iopub.status.idle": "2024-01-06T17:03:29.511640Z",
     "shell.execute_reply.started": "2024-01-06T17:03:26.951556Z",
     "shell.execute_reply": "2024-01-06T17:03:29.510661Z"
    },
    "trusted": true,
    "ExecuteTime": {
     "end_time": "2024-02-24T16:47:49.059370Z",
     "start_time": "2024-02-24T16:47:46.842745300Z"
    }
   },
   "execution_count": 13,
   "outputs": []
  },
  {
   "cell_type": "code",
   "source": [
    "print(\"Classification Report:\\n\", classification_report(y_test, lr_y_pred))"
   ],
   "metadata": {
    "execution": {
     "iopub.status.busy": "2024-01-06T17:03:29.515871Z",
     "iopub.execute_input": "2024-01-06T17:03:29.516284Z",
     "iopub.status.idle": "2024-01-06T17:03:29.533446Z",
     "shell.execute_reply.started": "2024-01-06T17:03:29.516234Z",
     "shell.execute_reply": "2024-01-06T17:03:29.532741Z"
    },
    "trusted": true,
    "ExecuteTime": {
     "end_time": "2024-02-24T16:47:52.253010600Z",
     "start_time": "2024-02-24T16:47:52.229106800Z"
    }
   },
   "execution_count": 14,
   "outputs": [
    {
     "name": "stdout",
     "output_type": "stream",
     "text": [
      "Classification Report:\n",
      "               precision    recall  f1-score   support\n",
      "\n",
      "           0       0.79      0.97      0.87      1021\n",
      "           1       0.87      0.94      0.90       946\n",
      "           2       0.90      0.77      0.83       427\n",
      "           3       0.85      0.70      0.77       397\n",
      "           4       0.89      0.55      0.68       296\n",
      "           5       0.88      0.43      0.58       113\n",
      "\n",
      "    accuracy                           0.84      3200\n",
      "   macro avg       0.86      0.73      0.77      3200\n",
      "weighted avg       0.85      0.84      0.83      3200\n"
     ]
    }
   ]
  },
  {
   "cell_type": "markdown",
   "source": [
    "# Наивный Байес"
   ],
   "metadata": {}
  },
  {
   "cell_type": "code",
   "source": [
    "nb = Pipeline([\n",
    "    ('tfidf', TfidfVectorizer()),\n",
    "    ('classifier', MultinomialNB())\n",
    "])\n",
    "nb.fit(X_train, y_train)\n",
    "nb_y_pred = nb.predict(X_test)"
   ],
   "metadata": {
    "execution": {
     "iopub.status.busy": "2024-01-06T17:03:29.534621Z",
     "iopub.execute_input": "2024-01-06T17:03:29.535960Z",
     "iopub.status.idle": "2024-01-06T17:03:29.818426Z",
     "shell.execute_reply.started": "2024-01-06T17:03:29.535908Z",
     "shell.execute_reply": "2024-01-06T17:03:29.817198Z"
    },
    "trusted": true,
    "ExecuteTime": {
     "end_time": "2024-02-24T16:48:10.711837800Z",
     "start_time": "2024-02-24T16:48:10.401426300Z"
    }
   },
   "execution_count": 15,
   "outputs": []
  },
  {
   "cell_type": "code",
   "source": [
    "print(\"Classification Report:\\n\", classification_report(y_test, nb_y_pred))"
   ],
   "metadata": {
    "execution": {
     "iopub.status.busy": "2024-01-06T17:03:29.819609Z",
     "iopub.execute_input": "2024-01-06T17:03:29.819921Z",
     "iopub.status.idle": "2024-01-06T17:03:29.836642Z",
     "shell.execute_reply.started": "2024-01-06T17:03:29.819893Z",
     "shell.execute_reply": "2024-01-06T17:03:29.835450Z"
    },
    "trusted": true,
    "ExecuteTime": {
     "end_time": "2024-02-24T16:48:12.769891700Z",
     "start_time": "2024-02-24T16:48:12.741842600Z"
    }
   },
   "execution_count": 16,
   "outputs": [
    {
     "name": "stdout",
     "output_type": "stream",
     "text": [
      "Classification Report:\n",
      "               precision    recall  f1-score   support\n",
      "\n",
      "           0       0.55      0.99      0.71      1021\n",
      "           1       0.69      0.90      0.78       946\n",
      "           2       0.91      0.17      0.29       427\n",
      "           3       0.93      0.11      0.19       397\n",
      "           4       1.00      0.01      0.01       296\n",
      "           5       0.00      0.00      0.00       113\n",
      "\n",
      "    accuracy                           0.62      3200\n",
      "   macro avg       0.68      0.36      0.33      3200\n",
      "weighted avg       0.71      0.62      0.52      3200\n"
     ]
    }
   ]
  },
  {
   "cell_type": "markdown",
   "source": [
    "Наивный Байесовский классификатор справился отвратительно, полностью проигнорировал 5 класс"
   ],
   "metadata": {
    "collapsed": false
   }
  },
  {
   "cell_type": "markdown",
   "source": [
    "# Случайный лес"
   ],
   "metadata": {}
  },
  {
   "cell_type": "code",
   "source": [
    "rfc = Pipeline([\n",
    "    ('tfidf', TfidfVectorizer()),\n",
    "    ('classifier', RandomForestClassifier(random_state=42))\n",
    "])\n",
    "rfc.fit(X_train, y_train)\n",
    "rfc_y_pred = rfc.predict(X_test)"
   ],
   "metadata": {
    "execution": {
     "iopub.status.busy": "2024-01-06T17:03:29.837757Z",
     "iopub.execute_input": "2024-01-06T17:03:29.838926Z",
     "iopub.status.idle": "2024-01-06T17:03:46.906309Z",
     "shell.execute_reply.started": "2024-01-06T17:03:29.838883Z",
     "shell.execute_reply": "2024-01-06T17:03:46.905118Z"
    },
    "trusted": true,
    "ExecuteTime": {
     "end_time": "2024-02-24T16:49:39.012509500Z",
     "start_time": "2024-02-24T16:49:11.090941500Z"
    }
   },
   "execution_count": 17,
   "outputs": []
  },
  {
   "cell_type": "code",
   "source": [
    "print(\"Classification Report:\\n\", classification_report(y_test, rfc_y_pred))"
   ],
   "metadata": {
    "execution": {
     "iopub.status.busy": "2024-01-06T17:03:46.907728Z",
     "iopub.execute_input": "2024-01-06T17:03:46.908208Z",
     "iopub.status.idle": "2024-01-06T17:03:46.923148Z",
     "shell.execute_reply.started": "2024-01-06T17:03:46.908184Z",
     "shell.execute_reply": "2024-01-06T17:03:46.921780Z"
    },
    "trusted": true,
    "ExecuteTime": {
     "end_time": "2024-02-24T16:49:39.038787500Z",
     "start_time": "2024-02-24T16:49:39.015503300Z"
    }
   },
   "execution_count": 18,
   "outputs": [
    {
     "name": "stdout",
     "output_type": "stream",
     "text": [
      "Classification Report:\n",
      "               precision    recall  f1-score   support\n",
      "\n",
      "           0       0.79      0.94      0.86      1021\n",
      "           1       0.91      0.89      0.90       946\n",
      "           2       0.90      0.80      0.85       427\n",
      "           3       0.86      0.80      0.83       397\n",
      "           4       0.87      0.66      0.75       296\n",
      "           5       0.87      0.66      0.75       113\n",
      "\n",
      "    accuracy                           0.85      3200\n",
      "   macro avg       0.87      0.79      0.82      3200\n",
      "weighted avg       0.86      0.85      0.85      3200\n"
     ]
    }
   ]
  },
  {
   "cell_type": "markdown",
   "source": [
    "# Матрица и тепловая карта для случайного леса"
   ],
   "metadata": {}
  },
  {
   "cell_type": "code",
   "source": [
    "cm = confusion_matrix(y_test, rfc_y_pred)\n",
    "cm"
   ],
   "metadata": {
    "execution": {
     "iopub.status.busy": "2024-01-06T17:04:53.019778Z",
     "iopub.execute_input": "2024-01-06T17:04:53.020183Z",
     "iopub.status.idle": "2024-01-06T17:04:53.031166Z",
     "shell.execute_reply.started": "2024-01-06T17:04:53.020152Z",
     "shell.execute_reply": "2024-01-06T17:04:53.030009Z"
    },
    "trusted": true,
    "ExecuteTime": {
     "end_time": "2024-02-24T16:50:37.708547800Z",
     "start_time": "2024-02-24T16:50:37.697393400Z"
    }
   },
   "execution_count": 19,
   "outputs": [
    {
     "data": {
      "text/plain": "array([[960,  26,   4,   8,  21,   2],\n       [ 67, 844,  17,  11,   6,   1],\n       [ 43,  30, 342,  12,   0,   0],\n       [ 44,  13,  12, 319,   1,   8],\n       [ 88,   6,   6,   1, 195,   0],\n       [ 12,   4,   0,  22,   0,  75]], dtype=int64)"
     },
     "execution_count": 19,
     "metadata": {},
     "output_type": "execute_result"
    }
   ]
  },
  {
   "cell_type": "code",
   "source": [
    "plt.figure(figsize=(10, 7))\n",
    "sns.heatmap(cm, annot=True, fmt='d', cmap='coolwarm')\n",
    "plt.xlabel('Прогноз')\n",
    "plt.ylabel('Истина')\n",
    "plt.show()"
   ],
   "metadata": {
    "execution": {
     "iopub.status.busy": "2024-01-06T17:07:51.205923Z",
     "iopub.execute_input": "2024-01-06T17:07:51.206365Z",
     "iopub.status.idle": "2024-01-06T17:07:51.490559Z",
     "shell.execute_reply.started": "2024-01-06T17:07:51.206334Z",
     "shell.execute_reply": "2024-01-06T17:07:51.489159Z"
    },
    "trusted": true,
    "ExecuteTime": {
     "end_time": "2024-02-24T16:50:57.697057800Z",
     "start_time": "2024-02-24T16:50:57.393404Z"
    }
   },
   "execution_count": 20,
   "outputs": [
    {
     "data": {
      "text/plain": "<Figure size 1000x700 with 2 Axes>",
      "image/png": "[encoded data removed]"
     },
     "metadata": {},
     "output_type": "display_data"
    }
   ]
  },
  {
   "cell_type": "code",
   "execution_count": null,
   "outputs": [],
   "source": [],
   "metadata": {
    "collapsed": false
   }
  }
 ]
}
