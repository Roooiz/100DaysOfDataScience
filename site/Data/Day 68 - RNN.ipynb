{
 "cells": [
  {
   "cell_type": "markdown",
   "source": [
    "# Шифр Цезаря: простой исторический метод шифрования\n",
    "\n",
    "Шифр Цезаря – это один из самых простых исторических методов шифрования, который был использован еще в древности. Его название происходит от имени римского полководца Цезаря, который, по преданию, использовал этот метод для секретной переписки с своими генералами.\n",
    "\n",
    "## Как работает шифр?\n",
    "\n",
    "Шифр Цезаря основан на простом принципе сдвига символов в алфавите на определенное количество позиций. Каждая буква в сообщении заменяется другой буквой, находящейся на некотором фиксированном расстоянии в алфавите. Например, при сдвиге на 3 позиции, буква \"А\" станет \"Г\", \"Б\" станет \"Д\" и так далее.\n",
    "\n",
    "Математически шифр Цезаря можно описать следующим образом:\n",
    "\n",
    "- Пусть \\( n \\) – размер алфавита.\n",
    "- Пусть \\( x \\) – исходный символ.\n",
    "- Пусть \\( k \\) – сдвиг (ключ).\n",
    "- Тогда зашифрованный символ \\( y \\) вычисляется по формуле: \n",
    "  \\[ y = (x + k) \\mod n \\]"
   ],
   "metadata": {
    "collapsed": false
   },
   "id": "7fd4f6b1445a5da0"
  },
  {
   "cell_type": "code",
   "execution_count": 8,
   "id": "surface-packing",
   "metadata": {
    "execution": {
     "iopub.execute_input": "2021-03-18T11:25:34.462103Z",
     "iopub.status.busy": "2021-03-18T11:25:34.460813Z",
     "iopub.status.idle": "2021-03-18T11:25:35.908158Z",
     "shell.execute_reply": "2021-03-18T11:25:35.907295Z"
    },
    "papermill": {
     "duration": 1.463457,
     "end_time": "2021-03-18T11:25:35.908322",
     "exception": false,
     "start_time": "2021-03-18T11:25:34.444865",
     "status": "completed"
    },
    "tags": [],
    "ExecuteTime": {
     "end_time": "2024-03-18T19:18:12.932860100Z",
     "start_time": "2024-03-18T19:18:12.922188600Z"
    }
   },
   "outputs": [],
   "source": [
    "import math\n",
    "from random import shuffle\n",
    "import time\n",
    "import torch"
   ]
  },
  {
   "cell_type": "code",
   "execution_count": 21,
   "id": "physical-processing",
   "metadata": {
    "execution": {
     "iopub.execute_input": "2021-03-18T11:25:35.938857Z",
     "iopub.status.busy": "2021-03-18T11:25:35.938169Z",
     "iopub.status.idle": "2021-03-18T11:25:35.941502Z",
     "shell.execute_reply": "2021-03-18T11:25:35.940934Z"
    },
    "papermill": {
     "duration": 0.021053,
     "end_time": "2021-03-18T11:25:35.941665",
     "exception": false,
     "start_time": "2021-03-18T11:25:35.920612",
     "status": "completed"
    },
    "tags": [],
    "ExecuteTime": {
     "end_time": "2024-03-18T19:28:22.441835900Z",
     "start_time": "2024-03-18T19:28:22.380245300Z"
    }
   },
   "outputs": [],
   "source": [
    "# Размер пакета для обучения модели\n",
    "BATCH_SIZE = 10\n",
    "# Длина строк в предложениях\n",
    "STRING_SIZE = 60\n",
    "# Количество эпох, через которые модель будет обучаться\n",
    "NUM_EPOCHS = 20\n",
    "# Скорость обучения модели\n",
    "LEARNING_RATE = 0.05\n",
    "# Путь к файлу с данными для обучения модели\n",
    "FILE_NAME = \"Datasets/ДЮНА.txt\"\n",
    "# Устройство, на котором будет происходить обучение\n",
    "DEVICE = \"cpu\"\n",
    "# Смещение для шифра Цезаря\n",
    "CAESAR_OFFSET = 2"
   ]
  },
  {
   "cell_type": "markdown",
   "id": "animated-wayne",
   "metadata": {
    "papermill": {
     "duration": 0.012463,
     "end_time": "2021-03-18T11:25:35.966444",
     "exception": false,
     "start_time": "2021-03-18T11:25:35.953981",
     "status": "completed"
    },
    "tags": []
   },
   "source": [
    "Так как шифр Цезаря работает на основе алфавита, необходимо создать аналогичный алфавит из доступных символов в тексте.\n",
    "В качестве примера подготовки алфавита и набора данных для обучения модели мы возьмем текст книги Фрэнка Герберта - \"Дюна\", переведенной на русский язык."
   ]
  },
  {
   "cell_type": "code",
   "execution_count": 33,
   "id": "provincial-omega",
   "metadata": {
    "execution": {
     "iopub.execute_input": "2021-03-18T11:25:36.001070Z",
     "iopub.status.busy": "2021-03-18T11:25:36.000289Z",
     "iopub.status.idle": "2021-03-18T11:25:36.200226Z",
     "shell.execute_reply": "2021-03-18T11:25:36.201255Z"
    },
    "papermill": {
     "duration": 0.223214,
     "end_time": "2021-03-18T11:25:36.201519",
     "exception": false,
     "start_time": "2021-03-18T11:25:35.978305",
     "status": "completed"
    },
    "tags": [],
    "ExecuteTime": {
     "end_time": "2024-03-18T19:45:29.145006300Z",
     "start_time": "2024-03-18T19:45:29.017335900Z"
    }
   },
   "outputs": [
    {
     "name": "stdout",
     "output_type": "stream",
     "text": [
      "Алфавит:\n",
      " С   с а м о г н ч л д п р е и т ь в ж з , б ы \n",
      " у я к . Э й Б Г И М ш х Ш Ч О А П К ц Н щ - Д ю э З ъ ф : ? Е В Х Р Л \" Т ! Я У Ж x ; Ф Ю ( ) 1 0 3 2 9 V I 8 5 Ц X 6 7 % Щ * Ь / Ы 4 Й Ъ L a s t m o d i f e S u n A g G M T\n",
      " 111 символов\n"
     ]
    }
   ],
   "source": [
    "class Alphabet(object):\n",
    "\n",
    "    def __init__(self):\n",
    "        # Пустая строка, куда будут добавляться символы из файла\n",
    "        self.letters = \"\"\n",
    "\n",
    "    def __len__(self):\n",
    "        # Возвращает длину алфавита (количество символов)\n",
    "        return len(self.letters)\n",
    "\n",
    "    def __contains__(self, item):\n",
    "        # Проверяет, содержится ли указанный символ в алфавите\n",
    "        return item in self.letters\n",
    "\n",
    "    def __getitem__(self, item):\n",
    "        # Возвращает символ по индексу или находит индекс символа\n",
    "        if isinstance(item, int):\n",
    "            return self.letters[item % len(self.letters)]\n",
    "        elif isinstance(item, str):\n",
    "            return self.letters.find(item)\n",
    "\n",
    "    def __str__(self):\n",
    "        # Возвращает строковое представление алфавита\n",
    "        letters = \" \".join(self.letters)\n",
    "        return f\"Алфавит:\\n {letters}\\n {len(self)} символов\"\n",
    "\n",
    "    def load_from_file(self, file_path):\n",
    "        # Загружает алфавит из файла\n",
    "        with open(file_path, encoding=\"utf-8\") as file:\n",
    "            while True:\n",
    "                text = file.read(STRING_SIZE)\n",
    "                if not text:\n",
    "                    break\n",
    "                for ch in text:\n",
    "                    # Добавляет символы в алфавит, если они не были добавлены ранее\n",
    "                    if ch not in self.letters:\n",
    "                        self.letters += ch\n",
    "        return self\n",
    "\n",
    "\n",
    "# Создание объекта алфавита и загрузка символов из файла\n",
    "ALPHABET = Alphabet().load_from_file(FILE_NAME)\n",
    "# Вывод алфавита на экран\n",
    "print(ALPHABET)"
   ]
  },
  {
   "cell_type": "code",
   "execution_count": 23,
   "id": "fifty-regular",
   "metadata": {
    "execution": {
     "iopub.execute_input": "2021-03-18T11:25:36.265207Z",
     "iopub.status.busy": "2021-03-18T11:25:36.264131Z",
     "iopub.status.idle": "2021-03-18T11:25:36.267069Z",
     "shell.execute_reply": "2021-03-18T11:25:36.267646Z"
    },
    "papermill": {
     "duration": 0.02741,
     "end_time": "2021-03-18T11:25:36.267827",
     "exception": false,
     "start_time": "2021-03-18T11:25:36.240417",
     "status": "completed"
    },
    "tags": [],
    "ExecuteTime": {
     "end_time": "2024-03-18T19:28:57.473857100Z",
     "start_time": "2024-03-18T19:28:57.465756200Z"
    }
   },
   "outputs": [],
   "source": [
    "class SentenceDataset(torch.utils.data.Dataset):\n",
    "\n",
    "    def __init__(self, raw_data, alphabet):\n",
    "        # Конструктор класса\n",
    "        super().__init__()\n",
    "        # Длина датасета\n",
    "        self._len = len(raw_data)\n",
    "        # Кодирование символов входных данных с использованием алфавита\n",
    "        self.y = torch.tensor(\n",
    "            [[alphabet[ch] for ch in line] for line in raw_data]\n",
    "        ).to(DEVICE)\n",
    "        # Шифрование символов входных данных методом Цезаря\n",
    "        self.x = torch.tensor(\n",
    "            [[i + CAESAR_OFFSET for i in line] for line in self.y]\n",
    "        ).to(DEVICE)\n",
    "    \n",
    "    def __len__(self):\n",
    "        # Возвращает длину датасета\n",
    "        return self._len\n",
    "\n",
    "    def __getitem__(self, idx):\n",
    "        # Возвращает элемент датасета по индексу idx\n",
    "        return self.x[idx], self.y[idx]"
   ]
  },
  {
   "cell_type": "code",
   "execution_count": 26,
   "id": "driven-adobe",
   "metadata": {
    "execution": {
     "iopub.execute_input": "2021-03-18T11:25:36.300104Z",
     "iopub.status.busy": "2021-03-18T11:25:36.299042Z",
     "iopub.status.idle": "2021-03-18T11:25:36.304960Z",
     "shell.execute_reply": "2021-03-18T11:25:36.305639Z"
    },
    "papermill": {
     "duration": 0.023336,
     "end_time": "2021-03-18T11:25:36.305842",
     "exception": false,
     "start_time": "2021-03-18T11:25:36.282506",
     "status": "completed"
    },
    "tags": [],
    "ExecuteTime": {
     "end_time": "2024-03-18T19:32:56.375284300Z",
     "start_time": "2024-03-18T19:32:56.353873500Z"
    }
   },
   "outputs": [],
   "source": [
    "def get_text_array(file_path, step):\n",
    "    # Функция для чтения текста из файла и разделения его на массив строк определенной длины\n",
    "    text_array = []\n",
    "    with open(file_path, encoding=\"utf-8\") as file:\n",
    "        while True:\n",
    "            text = file.read(STRING_SIZE)\n",
    "            if not text:\n",
    "                break\n",
    "            text_array.append(text)\n",
    "    # Удаление последнего элемента массива (если его длина меньше STRING_SIZE)\n",
    "    del text_array[-1]\n",
    "    return text_array"
   ]
  },
  {
   "cell_type": "code",
   "execution_count": 27,
   "id": "optical-eating",
   "metadata": {
    "execution": {
     "iopub.execute_input": "2021-03-18T11:25:36.337162Z",
     "iopub.status.busy": "2021-03-18T11:25:36.336128Z",
     "iopub.status.idle": "2021-03-18T11:25:51.731772Z",
     "shell.execute_reply": "2021-03-18T11:25:51.731165Z"
    },
    "papermill": {
     "duration": 15.412692,
     "end_time": "2021-03-18T11:25:51.731932",
     "exception": false,
     "start_time": "2021-03-18T11:25:36.319240",
     "status": "completed"
    },
    "tags": [],
    "ExecuteTime": {
     "end_time": "2024-03-18T19:33:08.605288900Z",
     "start_time": "2024-03-18T19:32:57.109109700Z"
    }
   },
   "outputs": [],
   "source": [
    "# Получение массива текста из файла и его перемешивание\n",
    "raw_data = get_text_array(FILE_NAME, STRING_SIZE)\n",
    "shuffle(raw_data)\n",
    "\n",
    "# Выделение 10% данных для валидации\n",
    "_10_percent = math.ceil(len(raw_data) * 0.1)\n",
    "val_data = raw_data[:_10_percent]\n",
    "raw_data = raw_data[_10_percent:]\n",
    "\n",
    "# Выделение 20% данных для тестирования\n",
    "_20_percent = math.ceil(len(raw_data) * 0.2)\n",
    "test_data = raw_data[:_20_percent]\n",
    "train_data = raw_data[_20_percent:]\n",
    "\n",
    "# Кодирование данных для валидации\n",
    "Y_val = torch.tensor([[ALPHABET[ch] for ch in line] for line in val_data])\n",
    "X_val = torch.tensor([[i + CAESAR_OFFSET for i in line] for line in Y_val])\n",
    "\n",
    "# Создание DataLoader для обучающего и тестового наборов данных\n",
    "train_dl = torch.utils.data.DataLoader(\n",
    "    SentenceDataset(\n",
    "        train_data, ALPHABET\n",
    "    ),\n",
    "    batch_size=BATCH_SIZE,\n",
    "    shuffle=True,\n",
    "    drop_last=True\n",
    ")\n",
    "test_dl = torch.utils.data.DataLoader(\n",
    "    SentenceDataset(\n",
    "        test_data, ALPHABET\n",
    "    ),\n",
    "    batch_size=BATCH_SIZE,\n",
    "    shuffle=True,\n",
    "    drop_last=True\n",
    ")"
   ]
  },
  {
   "cell_type": "markdown",
   "id": "altered-guitar",
   "metadata": {
    "papermill": {
     "duration": 0.012726,
     "end_time": "2021-03-18T11:25:51.760359",
     "exception": false,
     "start_time": "2021-03-18T11:25:51.747633",
     "status": "completed"
    },
    "tags": []
   },
   "source": [
    "Наша рекуррентная нейронная сеть будет представлять собой довольно простую модель с слоем эмбеддинга, затем будет ячейка RNN и выходной линейный слой.\n",
    "К размеру входных значений в слое эмбеддинга и размеру выходных значений линейного слоя необходимо добавить число, на которое мы будем сдвигать алфавит для шифрования текста."
   ]
  },
  {
   "cell_type": "code",
   "execution_count": 28,
   "id": "initial-ebony",
   "metadata": {
    "execution": {
     "iopub.execute_input": "2021-03-18T11:25:51.794474Z",
     "iopub.status.busy": "2021-03-18T11:25:51.793530Z",
     "iopub.status.idle": "2021-03-18T11:25:51.796894Z",
     "shell.execute_reply": "2021-03-18T11:25:51.796274Z"
    },
    "papermill": {
     "duration": 0.023827,
     "end_time": "2021-03-18T11:25:51.797037",
     "exception": false,
     "start_time": "2021-03-18T11:25:51.773210",
     "status": "completed"
    },
    "tags": [],
    "ExecuteTime": {
     "end_time": "2024-03-18T19:33:32.952350Z",
     "start_time": "2024-03-18T19:33:32.942981500Z"
    }
   },
   "outputs": [],
   "source": [
    "class RNNModel(torch.nn.Module):\n",
    "    \n",
    "    def __init__(self):\n",
    "        # Конструктор класса\n",
    "        super().__init__()\n",
    "        # Создание слоя Embedding для преобразования символов в вектора\n",
    "        self.embed = torch.nn.Embedding(len(ALPHABET) + CAESAR_OFFSET, 32)\n",
    "        # Создание слоя RNN с 128 скрытыми узлами\n",
    "        self.rnn = torch.nn.RNN(32, 128, batch_first=True)\n",
    "        # Создание линейного слоя для преобразования скрытых состояний RNN в выходные символы\n",
    "        self.linear = torch.nn.Linear(128, len(ALPHABET) + CAESAR_OFFSET)\n",
    "\n",
    "    def forward(self, sentence, state=None):\n",
    "        # Прямой проход модели\n",
    "        embed = self.embed(sentence)\n",
    "        o, h = self.rnn(embed)\n",
    "        return self.linear(o)"
   ]
  },
  {
   "cell_type": "code",
   "execution_count": 29,
   "id": "juvenile-reducing",
   "metadata": {
    "execution": {
     "iopub.execute_input": "2021-03-18T11:25:51.834584Z",
     "iopub.status.busy": "2021-03-18T11:25:51.833782Z",
     "iopub.status.idle": "2021-03-18T11:25:51.855848Z",
     "shell.execute_reply": "2021-03-18T11:25:51.856477Z"
    },
    "papermill": {
     "duration": 0.044677,
     "end_time": "2021-03-18T11:25:51.856664",
     "exception": false,
     "start_time": "2021-03-18T11:25:51.811987",
     "status": "completed"
    },
    "tags": [],
    "ExecuteTime": {
     "end_time": "2024-03-18T19:33:38.114803200Z",
     "start_time": "2024-03-18T19:33:34.930577200Z"
    }
   },
   "outputs": [],
   "source": [
    "# Создание экземпляра модели RNN и перенос его на процессор\n",
    "model = RNNModel().to(DEVICE)\n",
    "# Определение функции потерь (CrossEntropyLoss) и перенос ее на устройство\n",
    "loss = torch.nn.CrossEntropyLoss().to(DEVICE)\n",
    "# Определение оптимизатора для обновления параметров модели с указанной скоростью обучения\n",
    "optimizer = torch.optim.SGD(model.parameters(), lr=LEARNING_RATE)"
   ]
  },
  {
   "cell_type": "code",
   "execution_count": 30,
   "id": "supported-wayne",
   "metadata": {
    "execution": {
     "iopub.execute_input": "2021-03-18T11:25:51.904315Z",
     "iopub.status.busy": "2021-03-18T11:25:51.898413Z",
     "iopub.status.idle": "2021-03-18T11:33:40.765018Z",
     "shell.execute_reply": "2021-03-18T11:33:40.764407Z"
    },
    "papermill": {
     "duration": 468.891649,
     "end_time": "2021-03-18T11:33:40.765174",
     "exception": false,
     "start_time": "2021-03-18T11:25:51.873525",
     "status": "completed"
    },
    "tags": [],
    "ExecuteTime": {
     "end_time": "2024-03-18T19:40:20.095598900Z",
     "start_time": "2024-03-18T19:33:54.995780800Z"
    }
   },
   "outputs": [
    {
     "name": "stdout",
     "output_type": "stream",
     "text": [
      "Epoch: 0, loss: 608.6864, accuracy: 0.9318 | test loss: 34.9112, test accuracy: 0.9821 | 17.67 sec.\n",
      "Epoch: 1, loss: 94.4461, accuracy: 0.9909 | test loss: 14.5184, test accuracy: 0.9964 | 20.86 sec.\n",
      "Epoch: 2, loss: 46.2364, accuracy: 0.9974 | test loss: 8.0755, test accuracy: 0.9986 | 20.90 sec.\n",
      "Epoch: 3, loss: 28.8953, accuracy: 0.9984 | test loss: 5.4432, test accuracy: 0.9988 | 18.19 sec.\n",
      "Epoch: 4, loss: 21.1267, accuracy: 0.9987 | test loss: 4.1436, test accuracy: 0.9990 | 20.64 sec.\n",
      "Epoch: 5, loss: 16.9907, accuracy: 0.9988 | test loss: 3.3846, test accuracy: 0.9991 | 19.26 sec.\n",
      "Epoch: 6, loss: 14.4262, accuracy: 0.9988 | test loss: 2.8801, test accuracy: 0.9991 | 18.62 sec.\n",
      "Epoch: 7, loss: 12.6375, accuracy: 0.9988 | test loss: 2.5161, test accuracy: 0.9991 | 18.95 sec.\n",
      "Epoch: 8, loss: 11.3044, accuracy: 0.9989 | test loss: 2.2346, test accuracy: 0.9992 | 19.18 sec.\n",
      "Epoch: 9, loss: 10.2400, accuracy: 0.9990 | test loss: 2.0060, test accuracy: 0.9993 | 18.16 sec.\n",
      "Epoch: 10, loss: 9.3813, accuracy: 0.9991 | test loss: 1.8233, test accuracy: 0.9994 | 19.34 sec.\n",
      "Epoch: 11, loss: 8.6383, accuracy: 0.9992 | test loss: 1.6661, test accuracy: 0.9994 | 19.19 sec.\n",
      "Epoch: 12, loss: 8.0245, accuracy: 0.9992 | test loss: 1.5313, test accuracy: 0.9995 | 19.64 sec.\n",
      "Epoch: 13, loss: 7.4811, accuracy: 0.9993 | test loss: 1.4149, test accuracy: 0.9996 | 19.91 sec.\n",
      "Epoch: 14, loss: 7.0090, accuracy: 0.9994 | test loss: 1.3137, test accuracy: 0.9997 | 18.60 sec.\n",
      "Epoch: 15, loss: 6.5894, accuracy: 0.9995 | test loss: 1.2253, test accuracy: 0.9997 | 18.26 sec.\n",
      "Epoch: 16, loss: 6.2175, accuracy: 0.9995 | test loss: 1.1460, test accuracy: 0.9997 | 18.58 sec.\n",
      "Epoch: 17, loss: 5.8837, accuracy: 0.9995 | test loss: 1.0784, test accuracy: 0.9998 | 18.91 sec.\n",
      "Epoch: 18, loss: 5.5886, accuracy: 0.9996 | test loss: 1.0174, test accuracy: 0.9998 | 19.92 sec.\n",
      "Epoch: 19, loss: 5.2660, accuracy: 0.9996 | test loss: 0.9636, test accuracy: 0.9998 | 20.30 sec.\n"
     ]
    }
   ],
   "source": [
    "# Цикл обучения модели на протяжении заданного количества эпох\n",
    "for epoch in range(NUM_EPOCHS):\n",
    "    # Инициализация переменных для хранения потерь, точности и количества итераций в текущей эпохе\n",
    "    train_loss, train_acc, iter_num = .0, .0, .0\n",
    "    start_epoch_time = time.time()\n",
    "    \n",
    "    # Переключение модели в режим обучения\n",
    "    model.train()\n",
    "    \n",
    "    # Цикл по обучающему DataLoader\n",
    "    for x_in, y_in in train_dl:\n",
    "        x_in = x_in\n",
    "        y_in = y_in.view(1, -1).squeeze()\n",
    "        optimizer.zero_grad()\n",
    "        # Прямой проход модели\n",
    "        out = model.forward(x_in).view(-1, len(ALPHABET) + CAESAR_OFFSET)\n",
    "        # Рассчет потерь\n",
    "        l = loss(out, y_in)\n",
    "        train_loss += l.item()\n",
    "        # Рассчет точности\n",
    "        batch_acc = (out.argmax(dim=1) == y_in)\n",
    "        train_acc += batch_acc.sum().item() / batch_acc.shape[0]\n",
    "        # Обратное распространение ошибки и обновление параметров модели\n",
    "        l.backward()\n",
    "        optimizer.step()\n",
    "        iter_num += 1\n",
    "    \n",
    "    # Вывод информации о текущей эпохе после завершения обучения\n",
    "    print(\n",
    "        f\"Epoch: {epoch}, loss: {train_loss:.4f}, accuracy: \"\n",
    "        f\"{train_acc / iter_num:.4f}\",\n",
    "        end=\" | \"\n",
    "    )\n",
    "    \n",
    "    # Инициализация переменных для хранения потерь, точности и количества итераций во время тестирования\n",
    "    test_loss, test_acc, iter_num = .0, .0, .0\n",
    "    \n",
    "    # Переключение модели в режим оценки\n",
    "    model.eval()\n",
    "    \n",
    "    # Цикл по тестовому DataLoader\n",
    "    for x_in, y_in in test_dl:\n",
    "        x_in = x_in\n",
    "        y_in = y_in.view(1, -1).squeeze()\n",
    "        # Прямой проход модели\n",
    "        out = model.forward(x_in).view(-1, len(ALPHABET) + CAESAR_OFFSET)\n",
    "        # Рассчет потерь\n",
    "        l = loss(out, y_in)\n",
    "        test_loss += l.item()\n",
    "        # Рассчет точности\n",
    "        batch_acc = (out.argmax(dim=1) == y_in)\n",
    "        test_acc += batch_acc.sum().item() / batch_acc.shape[0]\n",
    "        iter_num += 1\n",
    "    \n",
    "    # Вывод информации о тестировании после завершения эпохи\n",
    "    print(\n",
    "        f\"test loss: {test_loss:.4f}, test accuracy: {test_acc / iter_num:.4f} | \"\n",
    "        f\"{time.time() - start_epoch_time:.2f} sec.\"\n",
    "    )"
   ]
  },
  {
   "cell_type": "code",
   "execution_count": 31,
   "id": "scientific-harrison",
   "metadata": {
    "execution": {
     "iopub.execute_input": "2021-03-18T11:33:40.827468Z",
     "iopub.status.busy": "2021-03-18T11:33:40.826584Z",
     "iopub.status.idle": "2021-03-18T11:33:41.046009Z",
     "shell.execute_reply": "2021-03-18T11:33:41.044804Z"
    },
    "papermill": {
     "duration": 0.254075,
     "end_time": "2021-03-18T11:33:41.046205",
     "exception": false,
     "start_time": "2021-03-18T11:33:40.792130",
     "status": "completed"
    },
    "tags": [],
    "ExecuteTime": {
     "end_time": "2024-03-18T19:41:06.791936900Z",
     "start_time": "2024-03-18T19:41:06.586799100Z"
    }
   },
   "outputs": [
    {
     "name": "stdout",
     "output_type": "stream",
     "text": [
      "Точность на валидационных данных: 0.9997\n",
      "--------------------\n",
      "Предсказанное предложение:\n",
      "ое главное:\n",
      "это -- канли, а ты не хуже моего знаешь правила.\n",
      "--------------------\n",
      "Истинное предложение:\n",
      "ое главное:\n",
      "это -- канли, а ты не хуже моего знаешь правила.\n"
     ]
    }
   ],
   "source": [
    "# Выбор индекса для проверки результатов на валидационных данных\n",
    "idx = 128\n",
    "\n",
    "# Предсказание результатов на валидационных данных с помощью модели\n",
    "val_results = model(X_val.to(DEVICE)).argmax(dim=2)\n",
    "\n",
    "# Рассчет точности на валидационных данных\n",
    "val_acc = (val_results == Y_val.to(DEVICE)).flatten()\n",
    "val_acc = (val_acc.sum() / val_acc.shape[0]).item()\n",
    "\n",
    "# Получение предсказанного предложения и истинного предложения из индекса idx\n",
    "out_sentence = \"\".join([ALPHABET[i.item()] for i in val_results[idx]])\n",
    "true_sentence = \"\".join([ALPHABET[i.item()] for i in Y_val[idx]])\n",
    "\n",
    "# Вывод информации о точности на валидационных данных и сравнение предсказанного и истинного предложений\n",
    "print(f\"Точность на валидационных данных: {val_acc:.4f}\")\n",
    "print(\"-\" * 20)\n",
    "print(f\"Предсказанное предложение:\\n{out_sentence}\")\n",
    "print(\"-\" * 20)\n",
    "print(f\"Истинное предложение:\\n{true_sentence}\")"
   ]
  },
  {
   "cell_type": "markdown",
   "id": "detected-conducting",
   "metadata": {
    "papermill": {
     "duration": 0.025991,
     "end_time": "2021-03-18T11:33:41.098414",
     "exception": false,
     "start_time": "2021-03-18T11:33:41.072423",
     "status": "completed"
    },
    "tags": []
   },
   "source": [
    "Поскольку шифр Цезаря является довольно примитивным способом шифрования текста, наша модель быстро обучается и показывает отличную точность на тестовых данных."
   ]
  },
  {
   "cell_type": "code",
   "execution_count": 32,
   "id": "certified-supplement",
   "metadata": {
    "execution": {
     "iopub.execute_input": "2021-03-18T11:33:41.157545Z",
     "iopub.status.busy": "2021-03-18T11:33:41.156825Z",
     "iopub.status.idle": "2021-03-18T11:33:41.181934Z",
     "shell.execute_reply": "2021-03-18T11:33:41.181161Z"
    },
    "papermill": {
     "duration": 0.058485,
     "end_time": "2021-03-18T11:33:41.182145",
     "exception": false,
     "start_time": "2021-03-18T11:33:41.123660",
     "status": "completed"
    },
    "tags": [],
    "ExecuteTime": {
     "end_time": "2024-03-18T19:42:10.967927200Z",
     "start_time": "2024-03-18T19:42:10.917308Z"
    }
   },
   "outputs": [
    {
     "name": "stdout",
     "output_type": "stream",
     "text": [
      "Зашифрованное предложение: хкринмвжа аъвналтавнпжЭнаблольтыалнаьаменмн\n",
      "лнмвжаеиьгтл.вжатчназа,ьбльйаяБвналозуЭазьртвжачпк\n",
      ",таьаенльговжамквжазтДтГй\n",
      "--------------------\n",
      "Расшифрованное предложение: Мудрость Ч это не только знание, но и способность применять его в жизни. \n",
      "Это навык видеть глубже и понимать суть вещей.\n"
     ]
    }
   ],
   "source": [
    "# Задание произвольного текста для шифрования\n",
    "sentence = \"\"\"Мудрость – это не только знание, но и способность применять его в жизни. \n",
    "Это навык видеть глубже и понимать суть вещей.\"\"\"\n",
    "# Преобразование текста в индексы алфавита\n",
    "sentence_idx = [ALPHABET[i] for i in sentence]\n",
    "# Шифрование текста с использованием шифра Цезаря\n",
    "encrypted_sentence_idx = [i + CAESAR_OFFSET for i in sentence_idx]\n",
    "encrypted_sentence = \"\".join([ALPHABET[i] for i in encrypted_sentence_idx])\n",
    "# Преобразование зашифрованного текста обратно в токены алфавита\n",
    "result = model(torch.tensor([encrypted_sentence_idx]).to(DEVICE)).argmax(dim=2)\n",
    "deencrypted_sentence = \"\".join([ALPHABET[i.item()] for i in result.flatten()])\n",
    "# Вывод зашифрованного и расшифрованного текста\n",
    "print(f\"Зашифрованное предложение: {encrypted_sentence}\")\n",
    "print(\"-\" * 20)\n",
    "print(f\"Расшифрованное предложение: {deencrypted_sentence}\")"
   ]
  }
 ],
 "metadata": {
  "kernelspec": {
   "display_name": "Python 3",
   "language": "python",
   "name": "python3"
  },
  "language_info": {
   "codemirror_mode": {
    "name": "ipython",
    "version": 3
   },
   "file_extension": ".py",
   "mimetype": "text/x-python",
   "name": "python",
   "nbconvert_exporter": "python",
   "pygments_lexer": "ipython3",
   "version": "3.7.9"
  },
  "papermill": {
   "default_parameters": {},
   "duration": 495.568863,
   "end_time": "2021-03-18T11:33:41.970081",
   "environment_variables": {},
   "exception": null,
   "input_path": "__notebook__.ipynb",
   "output_path": "__notebook__.ipynb",
   "parameters": {},
   "start_time": "2021-03-18T11:25:26.401218",
   "version": "2.3.2"
  }
 },
 "nbformat": 4,
 "nbformat_minor": 5
}
