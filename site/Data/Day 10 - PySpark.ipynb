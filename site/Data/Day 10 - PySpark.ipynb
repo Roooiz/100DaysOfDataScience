{
 "cells": [
  {
   "cell_type": "markdown",
   "source": [
    "# Что такое Spark?\n",
    "Spark - одна из новейших технологий, используемых для быстрой и простой обработки больших данных\n",
    "Это проект с открытым исходным кодом\n",
    "Впервые он был выпущен в феврале 2013 года и приобрел огромную популярность благодаря простоте использования и скорости\n",
    "Spark в 100 раз быстрее, чем Hadoop MapReduce\n",
    "Spark ничего не хранит, если к данным не применено какое-либо действие"
   ],
   "metadata": {
    "collapsed": false
   },
   "id": "1a7202722e84b3e6"
  },
  {
   "cell_type": "markdown",
   "source": [
    "# Импортируем все необходимые библиотеки"
   ],
   "metadata": {
    "collapsed": false
   },
   "id": "e5c5d695bc54af35"
  },
  {
   "cell_type": "code",
   "execution_count": 94,
   "id": "initial_id",
   "metadata": {
    "collapsed": true,
    "ExecuteTime": {
     "end_time": "2024-01-17T16:57:40.103966200Z",
     "start_time": "2024-01-17T16:57:40.075201500Z"
    }
   },
   "outputs": [
    {
     "name": "stdout",
     "output_type": "stream",
     "text": [
      "Datasets\\auto-mpg.csv\n",
      "Datasets\\online_retail.csv\n"
     ]
    }
   ],
   "source": [
    "import os\n",
    "import warnings\n",
    "\n",
    "warnings.filterwarnings('ignore')\n",
    "from pyspark.sql import SparkSession\n",
    "from pyspark.sql.types import StructField, StructType, StringType, IntegerType, FloatType\n",
    "from pyspark.sql.functions import split, count, when, isnan, col, regexp_replace\n",
    "from pyspark.ml.regression import LinearRegression\n",
    "from pyspark.ml.feature import OneHotEncoder, StringIndexer\n",
    "from pyspark.ml.linalg import Vectors\n",
    "from pyspark.ml.feature import VectorAssembler\n",
    "\n",
    "for dirname, _, filenames in os.walk('Datasets'):\n",
    "    for filename in filenames:\n",
    "        print(os.path.join(dirname, filename))"
   ]
  },
  {
   "cell_type": "markdown",
   "source": [
    "# Создадим SparkSession"
   ],
   "metadata": {
    "collapsed": false
   },
   "id": "a6a8ae883e88f13"
  },
  {
   "cell_type": "code",
   "execution_count": 95,
   "outputs": [
    {
     "name": "stdout",
     "output_type": "stream",
     "text": [
      "Spark Version: 3.5.0\n"
     ]
    }
   ],
   "source": [
    "spark = SparkSession.builder.appName('First Session').getOrCreate()\n",
    "\n",
    "print('Spark Version: {}'.format(spark.version))"
   ],
   "metadata": {
    "collapsed": false,
    "ExecuteTime": {
     "end_time": "2024-01-17T16:57:41.128534900Z",
     "start_time": "2024-01-17T16:57:41.082592Z"
    }
   },
   "id": "1e38315081fada7d"
  },
  {
   "cell_type": "markdown",
   "source": [
    "# Загузим данные"
   ],
   "metadata": {
    "collapsed": false
   },
   "id": "a729dbf1550fee2d"
  },
  {
   "cell_type": "code",
   "execution_count": 96,
   "outputs": [
    {
     "name": "stdout",
     "output_type": "stream",
     "text": [
      "+----+---------+------------+----------+------+------------+----------+------+--------------------+\n",
      "| mpg|cylinders|displacement|horsepower|weight|acceleration|model year|origin|            car name|\n",
      "+----+---------+------------+----------+------+------------+----------+------+--------------------+\n",
      "|18.0|        8|       307.0|     130.0|  3504|        12.0|        70|     1|chevrolet chevell...|\n",
      "|15.0|        8|       350.0|     165.0|  3693|        11.5|        70|     1|   buick skylark 320|\n",
      "|18.0|        8|       318.0|     150.0|  3436|        11.0|        70|     1|  plymouth satellite|\n",
      "|16.0|        8|       304.0|     150.0|  3433|        12.0|        70|     1|       amc rebel sst|\n",
      "|17.0|        8|       302.0|     140.0|  3449|        10.5|        70|     1|         ford torino|\n",
      "+----+---------+------------+----------+------+------------+----------+------+--------------------+\n"
     ]
    }
   ],
   "source": [
    "schema = StructType([StructField('mpg', FloatType(), nullable=True),\n",
    "                     StructField('cylinders', IntegerType(), nullable=True),\n",
    "                     StructField('displacement', FloatType(), nullable=True),\n",
    "                     StructField('horsepower', StringType(), nullable=True),\n",
    "                     StructField('weight', IntegerType(), nullable=True),\n",
    "                     StructField('acceleration', FloatType(), nullable=True),\n",
    "                     StructField('model year', IntegerType(), nullable=True),\n",
    "                     StructField('origin', IntegerType(), nullable=True),\n",
    "                     StructField('car name', StringType(), nullable=True)])\n",
    "\n",
    "file_path = 'Datasets/auto-mpg.csv'\n",
    "\n",
    "df = spark.read.csv(file_path, header=True, inferSchema=True, nanValue='?')\n",
    "\n",
    "df.show(5)"
   ],
   "metadata": {
    "collapsed": false,
    "ExecuteTime": {
     "end_time": "2024-01-17T16:57:42.192057400Z",
     "start_time": "2024-01-17T16:57:41.913700300Z"
    }
   },
   "id": "a8085ee0c35a7ac1"
  },
  {
   "cell_type": "markdown",
   "source": [
    "# Просмотрим пропущенные значения"
   ],
   "metadata": {
    "collapsed": false
   },
   "id": "33f8e33b09aafb62"
  },
  {
   "cell_type": "code",
   "execution_count": 97,
   "outputs": [
    {
     "name": "stdout",
     "output_type": "stream",
     "text": [
      "+---+---------+------------+----------+------+------------+----------+------+--------+\n",
      "|mpg|cylinders|displacement|horsepower|weight|acceleration|model year|origin|car name|\n",
      "+---+---------+------------+----------+------+------------+----------+------+--------+\n",
      "|  0|        0|           0|         6|     0|           0|         0|     0|       0|\n",
      "+---+---------+------------+----------+------+------------+----------+------+--------+\n"
     ]
    }
   ],
   "source": [
    "def check_missing(dataframe):\n",
    "    return dataframe.select([count(when(isnan(c) | col(c).isNull(), c)).alias(c) for c in dataframe.columns]).show()\n",
    "\n",
    "\n",
    "'''\n",
    "1. dataframe.columns - свойство DataFrame, возвращающее список всех столбцов в DataFrame.\n",
    "2. isnan(c) - функция, которая проверяет, является ли значение столбца NaN.\n",
    "3. col(c).isNull() - функция, которая проверяет, является ли значение столбца нулевым (null).\n",
    "4. when(isnan(c) | col(c).isNull(), c) - функция when, используемая для создания условного выражения. В данном случае, если значение столбца c является NaN или нулевым (null), то возвращается само значение c.\n",
    "5. count(when(isnan(c) | col(c).isNull(), c)).alias(c) - функция count, используемая для подсчета количества пропущенных значений. Здесь мы подсчитываем количество значений, для которых условие в пункте 5 возвращает True, и назначаем данному столбцу имя c.\n",
    "6. [count(when(isnan(c) | col(c).isNull(), c)).alias(c) for c in dataframe.columns] - генератор списка, который создает список выражений подсчета пропущенных значений для каждого столбца в DataFrame.\n",
    "7. dataframe.select(...).show() - функция select, используемая для выбора указанных столбцов в DataFrame. В качестве аргумента передается список выражений подсчета пропущенных значений, созданный в пункте 6. Затем вызывается функция show(), которая выводит результат на консоль.\n",
    "'''\n",
    "\n",
    "check_missing(df)"
   ],
   "metadata": {
    "collapsed": false,
    "ExecuteTime": {
     "end_time": "2024-01-17T16:57:43.561418500Z",
     "start_time": "2024-01-17T16:57:43.249758400Z"
    }
   },
   "id": "b6cb0abd305cbd39"
  },
  {
   "cell_type": "markdown",
   "source": [
    "# Обработаем пропущенные значения"
   ],
   "metadata": {
    "collapsed": false
   },
   "id": "1b2c86d43bcf2a30"
  },
  {
   "cell_type": "code",
   "execution_count": 98,
   "outputs": [
    {
     "name": "stdout",
     "output_type": "stream",
     "text": [
      "+----+---------+------------+----------+------+------------+----------+------+--------------------+\n",
      "| mpg|cylinders|displacement|horsepower|weight|acceleration|model year|origin|            car name|\n",
      "+----+---------+------------+----------+------+------------+----------+------+--------------------+\n",
      "|18.0|        8|       307.0|       130|  3504|        12.0|        70|     1|chevrolet chevell...|\n",
      "|15.0|        8|       350.0|       165|  3693|        11.5|        70|     1|   buick skylark 320|\n",
      "|18.0|        8|       318.0|       150|  3436|        11.0|        70|     1|  plymouth satellite|\n",
      "|16.0|        8|       304.0|       150|  3433|        12.0|        70|     1|       amc rebel sst|\n",
      "|17.0|        8|       302.0|       140|  3449|        10.5|        70|     1|         ford torino|\n",
      "+----+---------+------------+----------+------+------------+----------+------+--------------------+\n"
     ]
    }
   ],
   "source": [
    "df = df.na.drop()\n",
    "\n",
    "df = df.withColumn(\"horsepower\", df[\"horsepower\"].cast(IntegerType()))  # сменим лошадиные силы на тип данных int\n",
    "\n",
    "df.show(5)"
   ],
   "metadata": {
    "collapsed": false,
    "ExecuteTime": {
     "end_time": "2024-01-17T16:57:44.792092700Z",
     "start_time": "2024-01-17T16:57:44.680823700Z"
    }
   },
   "id": "567458e23b1b715"
  },
  {
   "cell_type": "markdown",
   "source": [
    "# Выведем имена столбцов"
   ],
   "metadata": {
    "collapsed": false
   },
   "id": "69d9f84d9143db3f"
  },
  {
   "cell_type": "code",
   "execution_count": 99,
   "outputs": [
    {
     "data": {
      "text/plain": "['mpg',\n 'cylinders',\n 'displacement',\n 'horsepower',\n 'weight',\n 'acceleration',\n 'model year',\n 'origin',\n 'car name']"
     },
     "execution_count": 99,
     "metadata": {},
     "output_type": "execute_result"
    }
   ],
   "source": [
    "df.columns"
   ],
   "metadata": {
    "collapsed": false,
    "ExecuteTime": {
     "end_time": "2024-01-17T16:57:46.112237900Z",
     "start_time": "2024-01-17T16:57:46.094307800Z"
    }
   },
   "id": "ba722d1c79c38793"
  },
  {
   "cell_type": "markdown",
   "source": [
    "# Можем отображать данные в pandas формате"
   ],
   "metadata": {
    "collapsed": false
   },
   "id": "7adf8f7fd9cc95a5"
  },
  {
   "cell_type": "code",
   "execution_count": 100,
   "outputs": [
    {
     "data": {
      "text/plain": "    mpg  cylinders  displacement  horsepower  weight  acceleration  \\\n0  18.0          8         307.0         130    3504          12.0   \n1  15.0          8         350.0         165    3693          11.5   \n2  18.0          8         318.0         150    3436          11.0   \n3  16.0          8         304.0         150    3433          12.0   \n4  17.0          8         302.0         140    3449          10.5   \n\n   model year  origin                   car name  \n0          70       1  chevrolet chevelle malibu  \n1          70       1          buick skylark 320  \n2          70       1         plymouth satellite  \n3          70       1              amc rebel sst  \n4          70       1                ford torino  ",
      "text/html": "<div>\n<style scoped>\n    .dataframe tbody tr th:only-of-type {\n        vertical-align: middle;\n    }\n\n    .dataframe tbody tr th {\n        vertical-align: top;\n    }\n\n    .dataframe thead th {\n        text-align: right;\n    }\n</style>\n<table border=\"1\" class=\"dataframe\">\n  <thead>\n    <tr style=\"text-align: right;\">\n      <th></th>\n      <th>mpg</th>\n      <th>cylinders</th>\n      <th>displacement</th>\n      <th>horsepower</th>\n      <th>weight</th>\n      <th>acceleration</th>\n      <th>model year</th>\n      <th>origin</th>\n      <th>car name</th>\n    </tr>\n  </thead>\n  <tbody>\n    <tr>\n      <th>0</th>\n      <td>18.0</td>\n      <td>8</td>\n      <td>307.0</td>\n      <td>130</td>\n      <td>3504</td>\n      <td>12.0</td>\n      <td>70</td>\n      <td>1</td>\n      <td>chevrolet chevelle malibu</td>\n    </tr>\n    <tr>\n      <th>1</th>\n      <td>15.0</td>\n      <td>8</td>\n      <td>350.0</td>\n      <td>165</td>\n      <td>3693</td>\n      <td>11.5</td>\n      <td>70</td>\n      <td>1</td>\n      <td>buick skylark 320</td>\n    </tr>\n    <tr>\n      <th>2</th>\n      <td>18.0</td>\n      <td>8</td>\n      <td>318.0</td>\n      <td>150</td>\n      <td>3436</td>\n      <td>11.0</td>\n      <td>70</td>\n      <td>1</td>\n      <td>plymouth satellite</td>\n    </tr>\n    <tr>\n      <th>3</th>\n      <td>16.0</td>\n      <td>8</td>\n      <td>304.0</td>\n      <td>150</td>\n      <td>3433</td>\n      <td>12.0</td>\n      <td>70</td>\n      <td>1</td>\n      <td>amc rebel sst</td>\n    </tr>\n    <tr>\n      <th>4</th>\n      <td>17.0</td>\n      <td>8</td>\n      <td>302.0</td>\n      <td>140</td>\n      <td>3449</td>\n      <td>10.5</td>\n      <td>70</td>\n      <td>1</td>\n      <td>ford torino</td>\n    </tr>\n  </tbody>\n</table>\n</div>"
     },
     "execution_count": 100,
     "metadata": {},
     "output_type": "execute_result"
    }
   ],
   "source": [
    "df.toPandas().head()"
   ],
   "metadata": {
    "collapsed": false,
    "ExecuteTime": {
     "end_time": "2024-01-17T16:57:47.359509100Z",
     "start_time": "2024-01-17T16:57:47.262514300Z"
    }
   },
   "id": "ec88f0bfd5985adb"
  },
  {
   "cell_type": "markdown",
   "source": [
    "# Можем выводить информацию о датасете"
   ],
   "metadata": {
    "collapsed": false
   },
   "id": "8abc382a9fde65cc"
  },
  {
   "cell_type": "code",
   "execution_count": 101,
   "outputs": [
    {
     "name": "stdout",
     "output_type": "stream",
     "text": [
      "root\n",
      " |-- mpg: double (nullable = true)\n",
      " |-- cylinders: integer (nullable = true)\n",
      " |-- displacement: double (nullable = true)\n",
      " |-- horsepower: integer (nullable = true)\n",
      " |-- weight: integer (nullable = true)\n",
      " |-- acceleration: double (nullable = true)\n",
      " |-- model year: integer (nullable = true)\n",
      " |-- origin: integer (nullable = true)\n",
      " |-- car name: string (nullable = true)\n"
     ]
    }
   ],
   "source": [
    "df.printSchema()"
   ],
   "metadata": {
    "collapsed": false,
    "ExecuteTime": {
     "end_time": "2024-01-17T16:57:48.505228100Z",
     "start_time": "2024-01-17T16:57:48.484285900Z"
    }
   },
   "id": "c7fc83741889624e"
  },
  {
   "cell_type": "markdown",
   "source": [
    "# Переименуем столбцы"
   ],
   "metadata": {
    "collapsed": false
   },
   "id": "d069f79b70d9845f"
  },
  {
   "cell_type": "code",
   "execution_count": 102,
   "outputs": [
    {
     "name": "stdout",
     "output_type": "stream",
     "text": [
      "+----+---------+------------+----------+------+------------+----------+------+--------------------+\n",
      "| mpg|cylinders|displacement|horsepower|weight|acceleration|model_year|origin|            car_name|\n",
      "+----+---------+------------+----------+------+------------+----------+------+--------------------+\n",
      "|18.0|        8|       307.0|       130|  3504|        12.0|        70|     1|chevrolet chevell...|\n",
      "|15.0|        8|       350.0|       165|  3693|        11.5|        70|     1|   buick skylark 320|\n",
      "|18.0|        8|       318.0|       150|  3436|        11.0|        70|     1|  plymouth satellite|\n",
      "+----+---------+------------+----------+------+------------+----------+------+--------------------+\n"
     ]
    }
   ],
   "source": [
    "df = df.withColumnRenamed('model year', 'model_year')\n",
    "\n",
    "df = df.withColumnRenamed('car name', 'car_name')\n",
    "\n",
    "df.show(3)"
   ],
   "metadata": {
    "collapsed": false,
    "ExecuteTime": {
     "end_time": "2024-01-17T16:57:49.824482100Z",
     "start_time": "2024-01-17T16:57:49.756616800Z"
    }
   },
   "id": "7923a47e7f59b978"
  },
  {
   "cell_type": "markdown",
   "source": [
    "# Выведем информацию по строкам"
   ],
   "metadata": {
    "collapsed": false
   },
   "id": "6cf9e28685f6bddc"
  },
  {
   "cell_type": "code",
   "execution_count": 103,
   "outputs": [
    {
     "name": "stdout",
     "output_type": "stream",
     "text": [
      "Row(mpg=18.0, cylinders=8, displacement=307.0, horsepower=130, weight=3504, acceleration=12.0, model_year=70, origin=1, car_name='chevrolet chevelle malibu') \n",
      "\n",
      "Row(mpg=15.0, cylinders=8, displacement=350.0, horsepower=165, weight=3693, acceleration=11.5, model_year=70, origin=1, car_name='buick skylark 320') \n",
      "\n",
      "Row(mpg=18.0, cylinders=8, displacement=318.0, horsepower=150, weight=3436, acceleration=11.0, model_year=70, origin=1, car_name='plymouth satellite') \n",
      "\n",
      "Row(mpg=16.0, cylinders=8, displacement=304.0, horsepower=150, weight=3433, acceleration=12.0, model_year=70, origin=1, car_name='amc rebel sst') \n"
     ]
    }
   ],
   "source": [
    "for car in df.head(4):\n",
    "    print(car, '\\n')"
   ],
   "metadata": {
    "collapsed": false,
    "ExecuteTime": {
     "end_time": "2024-01-17T16:57:50.861307Z",
     "start_time": "2024-01-17T16:57:50.803336Z"
    }
   },
   "id": "802b33ec2965ece8"
  },
  {
   "cell_type": "markdown",
   "source": [
    "# Получим статистическую сводку по датафрейму"
   ],
   "metadata": {
    "collapsed": false
   },
   "id": "28e76bc32287f907"
  },
  {
   "cell_type": "code",
   "execution_count": 104,
   "outputs": [
    {
     "name": "stdout",
     "output_type": "stream",
     "text": [
      "+-------+-----------------+------------------+------------------+------------------+------------------+------------------+-----------------+------------------+--------------------+\n",
      "|summary|              mpg|         cylinders|      displacement|        horsepower|            weight|      acceleration|       model_year|            origin|            car_name|\n",
      "+-------+-----------------+------------------+------------------+------------------+------------------+------------------+-----------------+------------------+--------------------+\n",
      "|  count|              392|               392|               392|               392|               392|               392|              392|               392|                 392|\n",
      "|   mean|23.44591836734694| 5.471938775510204|194.41198979591837|104.46938775510205|2977.5841836734694|15.541326530612228| 75.9795918367347|1.5765306122448979|                NULL|\n",
      "| stddev|7.805007486571802|1.7057832474527845|104.64400390890465| 38.49115993282846| 849.4025600429486|  2.75886411918808|3.683736543577868|0.8055181834183057|                NULL|\n",
      "|    min|              9.0|                 3|              68.0|                46|              1613|               8.0|               70|                 1|amc ambassador br...|\n",
      "|    max|             46.6|                 8|             455.0|               230|              5140|              24.8|               82|                 3|    vw rabbit custom|\n",
      "+-------+-----------------+------------------+------------------+------------------+------------------+------------------+-----------------+------------------+--------------------+\n"
     ]
    }
   ],
   "source": [
    "df.describe().show()"
   ],
   "metadata": {
    "collapsed": false,
    "ExecuteTime": {
     "end_time": "2024-01-17T16:57:52.414820100Z",
     "start_time": "2024-01-17T16:57:51.981870300Z"
    }
   },
   "id": "cb6150645421ad07"
  },
  {
   "cell_type": "markdown",
   "source": [
    "# Также можем получить сводку по конкретным столбцам"
   ],
   "metadata": {
    "collapsed": false
   },
   "id": "4dad70fc8f297caa"
  },
  {
   "cell_type": "code",
   "execution_count": 105,
   "outputs": [
    {
     "name": "stdout",
     "output_type": "stream",
     "text": [
      "+-------+-----------------+------------------+\n",
      "|summary|              mpg|        horsepower|\n",
      "+-------+-----------------+------------------+\n",
      "|  count|              392|               392|\n",
      "|   mean|23.44591836734694|104.46938775510205|\n",
      "| stddev|7.805007486571802| 38.49115993282846|\n",
      "|    min|              9.0|                46|\n",
      "|    max|             46.6|               230|\n",
      "+-------+-----------------+------------------+\n"
     ]
    }
   ],
   "source": [
    "df.describe(['mpg', 'horsepower']).show()"
   ],
   "metadata": {
    "collapsed": false,
    "ExecuteTime": {
     "end_time": "2024-01-17T16:57:53.440656500Z",
     "start_time": "2024-01-17T16:57:53.140235200Z"
    }
   },
   "id": "35e77387b49a8c6a"
  },
  {
   "cell_type": "code",
   "execution_count": 106,
   "outputs": [
    {
     "name": "stdout",
     "output_type": "stream",
     "text": [
      "+-------+-----------------+------------------+------------------+------------------+------------------+------------------+-----------------+------------------+\n",
      "|summary|              mpg|         cylinders|      displacement|        horsepower|            weight|      acceleration|       model_year|            origin|\n",
      "+-------+-----------------+------------------+------------------+------------------+------------------+------------------+-----------------+------------------+\n",
      "|  count|              392|               392|               392|               392|               392|               392|              392|               392|\n",
      "|   mean|23.44591836734694| 5.471938775510204|194.41198979591837|104.46938775510205|2977.5841836734694|15.541326530612228| 75.9795918367347|1.5765306122448979|\n",
      "| stddev|7.805007486571802|1.7057832474527845|104.64400390890465| 38.49115993282846| 849.4025600429486|  2.75886411918808|3.683736543577868|0.8055181834183057|\n",
      "|    min|              9.0|                 3|              68.0|                46|              1613|               8.0|               70|                 1|\n",
      "|    max|             46.6|                 8|             455.0|               230|              5140|              24.8|               82|                 3|\n",
      "+-------+-----------------+------------------+------------------+------------------+------------------+------------------+-----------------+------------------+\n"
     ]
    }
   ],
   "source": [
    "def get_num_cols(dataframe):\n",
    "    num_cols = [col for col in dataframe.columns if dataframe.select(col).dtypes[0][1] in ['double', 'int']]\n",
    "    return num_cols\n",
    "\n",
    "\n",
    "num_cols = get_num_cols(df)\n",
    "df.describe(num_cols).show()"
   ],
   "metadata": {
    "collapsed": false,
    "ExecuteTime": {
     "end_time": "2024-01-17T16:57:54.309189800Z",
     "start_time": "2024-01-17T16:57:53.682109400Z"
    }
   },
   "id": "9c7084b4a885e760"
  },
  {
   "cell_type": "markdown",
   "source": [
    "# Базовые операции с Датафреймами"
   ],
   "metadata": {
    "collapsed": false
   },
   "id": "3c4e38eb03802af4"
  },
  {
   "cell_type": "code",
   "execution_count": 107,
   "outputs": [
    {
     "name": "stdout",
     "output_type": "stream",
     "text": [
      "+----+---------+------------+----------+------+------------+----------+------+--------------------+\n",
      "| mpg|cylinders|displacement|horsepower|weight|acceleration|model_year|origin|            car_name|\n",
      "+----+---------+------------+----------+------+------------+----------+------+--------------------+\n",
      "|24.0|        4|       113.0|        95|  2372|        15.0|        70|     3|toyota corona mar...|\n",
      "|27.0|        4|        97.0|        88|  2130|        14.5|        70|     3|        datsun pl510|\n",
      "|26.0|        4|        97.0|        46|  1835|        20.5|        70|     2|volkswagen 1131 d...|\n",
      "|25.0|        4|       110.0|        87|  2672|        17.5|        70|     2|         peugeot 504|\n",
      "|24.0|        4|       107.0|        90|  2430|        14.5|        70|     2|         audi 100 ls|\n",
      "+----+---------+------------+----------+------+------------+----------+------+--------------------+\n"
     ]
    }
   ],
   "source": [
    "df.filter(df['mpg'] > 23).show(5)  # Возьмем автомобили с пробегом более 23 миль на галлон топлива"
   ],
   "metadata": {
    "collapsed": false,
    "ExecuteTime": {
     "end_time": "2024-01-17T16:57:55.369655Z",
     "start_time": "2024-01-17T16:57:55.273885800Z"
    }
   },
   "id": "4829a342b50dbf2c"
  },
  {
   "cell_type": "code",
   "execution_count": 108,
   "outputs": [
    {
     "name": "stdout",
     "output_type": "stream",
     "text": [
      "+--------------------+\n",
      "|            car_name|\n",
      "+--------------------+\n",
      "|chevrolet chevell...|\n",
      "|   buick skylark 320|\n",
      "|  plymouth satellite|\n",
      "|       amc rebel sst|\n",
      "|         ford torino|\n",
      "+--------------------+\n"
     ]
    }
   ],
   "source": [
    "df.filter((df['horsepower'] > 80) & (df['weight'] > 2000)).select('car_name').show(\n",
    "    5)  # Рассмотрим множественные условия.\n",
    "# Тут мы выбрали названия автомобилей, у которых количество лошадиных сил больше 80 и вес больше 2 тонн"
   ],
   "metadata": {
    "collapsed": false,
    "ExecuteTime": {
     "end_time": "2024-01-17T16:57:56.089011200Z",
     "start_time": "2024-01-17T16:57:55.993781400Z"
    }
   },
   "id": "29f9e787b6d64a3e"
  },
  {
   "cell_type": "code",
   "execution_count": 109,
   "outputs": [
    {
     "name": "stdout",
     "output_type": "stream",
     "text": [
      "+----+---------+------------+----------+------+------------+----------+------+--------------------+\n",
      "| mpg|cylinders|displacement|horsepower|weight|acceleration|model_year|origin|            car_name|\n",
      "+----+---------+------------+----------+------+------------+----------+------+--------------------+\n",
      "|44.3|        4|        90.0|        48|  2085|        21.7|        80|     2|vw rabbit c (diesel)|\n",
      "|44.0|        4|        97.0|        52|  2130|        24.6|        82|     2|           vw pickup|\n",
      "|43.4|        4|        90.0|        48|  2335|        23.7|        80|     2|  vw dasher (diesel)|\n",
      "|43.1|        4|        90.0|        48|  1985|        21.5|        78|     2|volkswagen rabbit...|\n",
      "|41.5|        4|        98.0|        76|  2144|        14.7|        80|     2|           vw rabbit|\n",
      "+----+---------+------------+----------+------+------------+----------+------+--------------------+\n"
     ]
    }
   ],
   "source": [
    "df.filter((df['mpg'] > 25) & (df['origin'] == 2)).orderBy('mpg', ascending=False).show(\n",
    "    5)  # Выполним сортировку по расходу топлива для автомобилей с расходом более 25 миль."
   ],
   "metadata": {
    "collapsed": false,
    "ExecuteTime": {
     "end_time": "2024-01-17T16:57:56.604350Z",
     "start_time": "2024-01-17T16:57:56.470066900Z"
    }
   },
   "id": "7236ef978d484136"
  },
  {
   "cell_type": "code",
   "execution_count": 110,
   "outputs": [
    {
     "name": "stdout",
     "output_type": "stream",
     "text": [
      "+----+---------+------------+----------+------+------------+----------+------+--------------------+\n",
      "| mpg|cylinders|displacement|horsepower|weight|acceleration|model_year|origin|            car_name|\n",
      "+----+---------+------------+----------+------+------------+----------+------+--------------------+\n",
      "|36.0|        4|       105.0|        74|  1980|        15.3|        82|     2| volkswagen rabbit l|\n",
      "|33.0|        4|       105.0|        74|  2190|        14.2|        81|     2|    volkswagen jetta|\n",
      "|31.5|        4|        89.0|        71|  1990|        14.9|        78|     2| volkswagen scirocco|\n",
      "|43.1|        4|        90.0|        48|  1985|        21.5|        78|     2|volkswagen rabbit...|\n",
      "|29.0|        4|        97.0|        78|  1940|        14.5|        77|     2|volkswagen rabbit...|\n",
      "+----+---------+------------+----------+------+------------+----------+------+--------------------+\n"
     ]
    }
   ],
   "source": [
    "# Найдем автомобили с буквой \"фольксваген\" в названии и отсортируем их по году выпуска и мощности двигателя\n",
    "df.filter(df['car_name'].contains('volkswagen')).orderBy(['model_year', 'horsepower'], ascending=[False, False]).show(5)"
   ],
   "metadata": {
    "collapsed": false,
    "ExecuteTime": {
     "end_time": "2024-01-17T16:57:57.291331700Z",
     "start_time": "2024-01-17T16:57:57.156687300Z"
    }
   },
   "id": "d2302b68d028c6ab"
  },
  {
   "cell_type": "code",
   "execution_count": 111,
   "outputs": [
    {
     "name": "stdout",
     "output_type": "stream",
     "text": [
      "+----+---------+------------+----------+------+------------+----------+------+--------------------+\n",
      "| mpg|cylinders|displacement|horsepower|weight|acceleration|model_year|origin|            car_name|\n",
      "+----+---------+------------+----------+------+------------+----------+------+--------------------+\n",
      "|26.0|        4|        97.0|        46|  1835|        20.5|        70|     2|volkswagen 1131 d...|\n",
      "|27.0|        4|        97.0|        60|  1834|        19.0|        71|     2|volkswagen model 111|\n",
      "|23.0|        4|        97.0|        54|  2254|        23.5|        72|     2|   volkswagen type 3|\n",
      "+----+---------+------------+----------+------+------------+----------+------+--------------------+\n"
     ]
    }
   ],
   "source": [
    "df.filter(df['car_name'].like('%volkswagen%')).show(3)"
   ],
   "metadata": {
    "collapsed": false,
    "ExecuteTime": {
     "end_time": "2024-01-17T16:57:57.671669200Z",
     "start_time": "2024-01-17T16:57:57.563638300Z"
    }
   },
   "id": "88989ed14108229f"
  },
  {
   "cell_type": "markdown",
   "source": [
    "# Фильтрация с SQL"
   ],
   "metadata": {
    "collapsed": false
   },
   "id": "12cecb2c42eed86e"
  },
  {
   "cell_type": "code",
   "execution_count": 112,
   "outputs": [
    {
     "name": "stdout",
     "output_type": "stream",
     "text": [
      "+----+---------+------------+----------+------+------------+----------+------+--------------------+\n",
      "| mpg|cylinders|displacement|horsepower|weight|acceleration|model_year|origin|            car_name|\n",
      "+----+---------+------------+----------+------+------------+----------+------+--------------------+\n",
      "|24.0|        4|       113.0|        95|  2372|        15.0|        70|     3|toyota corona mar...|\n",
      "|25.0|        4|       113.0|        95|  2228|        14.0|        71|     3|       toyota corona|\n",
      "|31.0|        4|        71.0|        65|  1773|        19.0|        71|     3| toyota corolla 1200|\n",
      "|24.0|        4|       113.0|        95|  2278|        15.5|        72|     3|toyota corona har...|\n",
      "|27.0|        4|        97.0|        88|  2100|        16.5|        72|     3|toyota corolla 16...|\n",
      "+----+---------+------------+----------+------+------------+----------+------+--------------------+\n"
     ]
    }
   ],
   "source": [
    "df.filter(\"car_name like '%toyota%'\").show(5)"
   ],
   "metadata": {
    "collapsed": false,
    "ExecuteTime": {
     "end_time": "2024-01-17T16:57:58.949684500Z",
     "start_time": "2024-01-17T16:57:58.845164400Z"
    }
   },
   "id": "747f9c53aa3502cd"
  },
  {
   "cell_type": "code",
   "execution_count": 113,
   "outputs": [
    {
     "name": "stdout",
     "output_type": "stream",
     "text": [
      "+----+---------+------------+----------+------+------------+----------+------+--------------------+\n",
      "| mpg|cylinders|displacement|horsepower|weight|acceleration|model_year|origin|            car_name|\n",
      "+----+---------+------------+----------+------+------------+----------+------+--------------------+\n",
      "|24.0|        4|       113.0|        95|  2372|        15.0|        70|     3|toyota corona mar...|\n",
      "|27.0|        4|        97.0|        88|  2130|        14.5|        70|     3|        datsun pl510|\n",
      "|26.0|        4|        97.0|        46|  1835|        20.5|        70|     2|volkswagen 1131 d...|\n",
      "|25.0|        4|       110.0|        87|  2672|        17.5|        70|     2|         peugeot 504|\n",
      "|24.0|        4|       107.0|        90|  2430|        14.5|        70|     2|         audi 100 ls|\n",
      "+----+---------+------------+----------+------+------------+----------+------+--------------------+\n"
     ]
    }
   ],
   "source": [
    "df.filter('mpg > 22').show(5)"
   ],
   "metadata": {
    "collapsed": false,
    "ExecuteTime": {
     "end_time": "2024-01-17T16:57:59.543836400Z",
     "start_time": "2024-01-17T16:57:59.443198Z"
    }
   },
   "id": "addcbe7ebb3aa10b"
  },
  {
   "cell_type": "code",
   "execution_count": 114,
   "outputs": [
    {
     "name": "stdout",
     "output_type": "stream",
     "text": [
      "+----+---------+------------+----------+------+------------+----------+------+-------------+\n",
      "| mpg|cylinders|displacement|horsepower|weight|acceleration|model_year|origin|     car_name|\n",
      "+----+---------+------------+----------+------+------------+----------+------+-------------+\n",
      "|27.0|        4|        97.0|        88|  2130|        14.5|        70|     3| datsun pl510|\n",
      "|24.0|        4|       107.0|        90|  2430|        14.5|        70|     2|  audi 100 ls|\n",
      "|26.0|        4|       121.0|       113|  2234|        12.5|        70|     2|     bmw 2002|\n",
      "|27.0|        4|        97.0|        88|  2130|        14.5|        71|     3| datsun pl510|\n",
      "|25.0|        4|       113.0|        95|  2228|        14.0|        71|     3|toyota corona|\n",
      "+----+---------+------------+----------+------+------------+----------+------+-------------+\n"
     ]
    }
   ],
   "source": [
    "df.filter('mpg > 22 and acceleration < 15').show(5)"
   ],
   "metadata": {
    "collapsed": false,
    "ExecuteTime": {
     "end_time": "2024-01-17T16:58:00.023356Z",
     "start_time": "2024-01-17T16:57:59.919604200Z"
    }
   },
   "id": "4e0d9b831056d182"
  },
  {
   "cell_type": "code",
   "execution_count": 115,
   "outputs": [
    {
     "name": "stdout",
     "output_type": "stream",
     "text": [
      "+----------+------+--------------------+\n",
      "|horsepower|weight|            car_name|\n",
      "+----------+------+--------------------+\n",
      "|        88|  2957|         peugeot 504|\n",
      "|        88|  2740|pontiac sunbird c...|\n",
      "|        88|  2720| ford fairmont (man)|\n",
      "|        88|  2890|     ford fairmont 4|\n",
      "|        88|  2870|       ford fairmont|\n",
      "|        88|  2605|  chevrolet cavalier|\n",
      "|        88|  2640|chevrolet cavalie...|\n",
      "+----------+------+--------------------+\n"
     ]
    }
   ],
   "source": [
    "df.filter('horsepower == 88 and weight between 2600 and 3000').select(['horsepower', 'weight', 'car_name']).show()"
   ],
   "metadata": {
    "collapsed": false,
    "ExecuteTime": {
     "end_time": "2024-01-17T16:58:00.534198500Z",
     "start_time": "2024-01-17T16:58:00.393975100Z"
    }
   },
   "id": "4ac581fada013dd7"
  },
  {
   "cell_type": "markdown",
   "source": [
    "# Групповка и агрегатные операции"
   ],
   "metadata": {
    "collapsed": false
   },
   "id": "3f43900225cf2c6a"
  },
  {
   "cell_type": "code",
   "execution_count": 116,
   "outputs": [
    {
     "name": "stdout",
     "output_type": "stream",
     "text": [
      "+----+---------+------------+----------+------+------------+----------+------+---------+\n",
      "| mpg|cylinders|displacement|horsepower|weight|acceleration|model_year|origin|    brand|\n",
      "+----+---------+------------+----------+------+------------+----------+------+---------+\n",
      "|18.0|        8|       307.0|       130|  3504|        12.0|        70|     1|chevrolet|\n",
      "|15.0|        8|       350.0|       165|  3693|        11.5|        70|     1|    buick|\n",
      "|18.0|        8|       318.0|       150|  3436|        11.0|        70|     1| plymouth|\n",
      "|16.0|        8|       304.0|       150|  3433|        12.0|        70|     1|      amc|\n",
      "|17.0|        8|       302.0|       140|  3449|        10.5|        70|     1|     ford|\n",
      "+----+---------+------------+----------+------+------------+----------+------+---------+\n"
     ]
    }
   ],
   "source": [
    "df.createOrReplaceTempView('auto_mpg')\n",
    "\n",
    "df = df.withColumn('brand', split(df['car_name'], ' ').getItem(0)).drop('car_name')  # Бренды\n",
    "\n",
    "# Замена брендов с ошибками в написании\n",
    "auto_misspelled = {'chevroelt': 'chevrolet',\n",
    "                   'chevy': 'chevrolet',\n",
    "                   'vokswagen': 'volkswagen',\n",
    "                   'vw': 'volkswagen',\n",
    "                   'hi': 'harvester',\n",
    "                   'maxda': 'mazda',\n",
    "                   'toyouta': 'toyota',\n",
    "                   'mercedes-benz': 'mercedes'}\n",
    "\n",
    "for key in auto_misspelled.keys():\n",
    "    df = df.withColumn('brand', regexp_replace('brand', key, auto_misspelled[key]))\n",
    "\n",
    "df.show(5)"
   ],
   "metadata": {
    "collapsed": false,
    "ExecuteTime": {
     "end_time": "2024-01-17T16:58:01.711033400Z",
     "start_time": "2024-01-17T16:58:01.497950700Z"
    }
   },
   "id": "e8c3cd37f8dd82ec"
  },
  {
   "cell_type": "code",
   "execution_count": 117,
   "outputs": [
    {
     "name": "stdout",
     "output_type": "stream",
     "text": [
      "+--------+------------------+\n",
      "|   brand| avg(acceleration)|\n",
      "+--------+------------------+\n",
      "|   buick|14.700000000000003|\n",
      "| pontiac|14.081249999999999|\n",
      "|mercedes| 19.53333333333333|\n",
      "|  toyota| 16.03846153846154|\n",
      "|    saab|            15.175|\n",
      "+--------+------------------+\n"
     ]
    }
   ],
   "source": [
    "df.groupBy('brand').agg({'acceleration': 'mean'}).show(5)  # Среднее ускорение по маркам автомобилей"
   ],
   "metadata": {
    "collapsed": false,
    "ExecuteTime": {
     "end_time": "2024-01-17T16:58:02.481383400Z",
     "start_time": "2024-01-17T16:58:02.191835300Z"
    }
   },
   "id": "e3b2333fc110afa5"
  },
  {
   "cell_type": "code",
   "execution_count": 118,
   "outputs": [
    {
     "name": "stdout",
     "output_type": "stream",
     "text": [
      "+--------+--------+\n",
      "|   brand|max(mpg)|\n",
      "+--------+--------+\n",
      "|   buick|    30.0|\n",
      "| pontiac|    33.5|\n",
      "|mercedes|    30.0|\n",
      "|  toyota|    39.1|\n",
      "|    saab|    25.0|\n",
      "+--------+--------+\n"
     ]
    }
   ],
   "source": [
    "df.groupBy('brand').agg({'mpg': 'max'}).show(5)  # Максимальное количество миль на галлон по маркам автомобилей"
   ],
   "metadata": {
    "collapsed": false,
    "ExecuteTime": {
     "end_time": "2024-01-17T16:58:02.952122300Z",
     "start_time": "2024-01-17T16:58:02.726470200Z"
    }
   },
   "id": "a5b7292ea4b41295"
  },
  {
   "cell_type": "markdown",
   "source": [
    "# Машинное обучение\n",
    "- Машинное обучение - это метод анализа данных, который автоматизирует построение аналитической модели.\n",
    "- Используя алгоритмы, которые итеративно извлекают уроки из данных, машинное обучение позволяет компьютерам находить скрытые идеи, не будучи явно запрограммированным, где искать.\n",
    "# Обучение с учителем\n",
    "MLlib от Spark в основном предназначен для задач обучения с учителем и без учителя, причем большинство его алгоритмов подпадают под эти две категории.\n",
    "Алгоритмы обучения с учителем обучаются с использованием помеченных примеров, таких как входные данные, где известен желаемый результат.\n",
    "Например, элемент оборудования может иметь точки данных, помеченные либо “F” (сбой), либо “R” (работает).\n",
    "Алгоритм обучения получает набор входных данных вместе с соответствующими правильными выходными данными, и алгоритм учится, сравнивая свои фактические выходные данные с правильными выходными данными, чтобы найти ошибки.\n",
    "Затем он соответствующим образом модифицирует модель.\n",
    "С помощью таких методов, как классификация, регрессия, прогнозирование и повышение градиента, контролируемое обучение использует шаблоны для прогнозирования значений метки на дополнительных немаркированных данных.\n",
    "Контролируемое обучение обычно используется в приложениях, где исторические данные предсказывают вероятные будущие события.\n",
    "Например, оно может предвидеть, когда транзакции по кредитным картам могут быть мошенническими или какой страховой клиент, скорее всего, подаст претензию.\n",
    "Или он может попытаться предсказать цену дома на основе различных характеристик для домов, для которых у нас есть исторические данные о ценах.\n",
    "# Обучение без учителя\n",
    "Неконтролируемое обучение используется для данных, которые не имеют исторических меток.\n",
    "Системе не сообщается \"правильный ответ\". Алгоритм должен вычислить, что показывается.\n",
    "Цель состоит в том, чтобы изучить данные и найти в них некоторую структуру.\n",
    "Например, он может найти основные атрибуты, которые отделяют сегменты клиентов друг от друга.\n",
    "Популярные методы включают самоорганизующиеся карты, сопоставление ближайших соседей, кластеризацию k-средних и декомпозицию по сингулярным значениям.\n",
    "Одна из проблем заключается в том, что может быть трудно оценить результаты неконтролируемой модели!"
   ],
   "metadata": {
    "collapsed": false
   },
   "id": "68561d9fbeb9f81d"
  },
  {
   "cell_type": "markdown",
   "source": [
    "# Машинное обучение с помощью PySpark\n",
    "У Spark есть собственный MLlib для машинного обучения.\n",
    "Будущее MLlib использует синтаксис Spark 2.0 DataFrame.\n",
    "Одна из главных “причуд” использования MLlib заключается в том, что вам нужно отформатировать ваши данные так, чтобы в конечном итоге в них был только один или два столбца:\n",
    "Функции, метки (контролируемые)\n",
    "Функции (неконтролируемые)\n",
    "Это требует немного больше работы по обработке данных, чем некоторые другие библиотеки машинного обучения, но большим плюсом является то, что точно такой же синтаксис работает с распределенными данными, что является немаловажным достижением для того, что происходит “под капотом”!\n",
    "При работе с Python и Spark с MLlib примеры документации всегда содержат красиво отформатированные данные.\n",
    "Огромная часть изучения MLlib - это освоение документации!\n",
    "Умение овладеть навыком поиска информации (а не запоминания) - ключ к тому, чтобы стать отличным разработчиком Spark и Python!"
   ],
   "metadata": {
    "collapsed": false
   },
   "id": "66b717478e4979a9"
  },
  {
   "cell_type": "markdown",
   "source": [
    "# Preprocessing\n",
    "Кодирование брендов"
   ],
   "metadata": {
    "collapsed": false
   },
   "id": "e0894625d3f9ae1f"
  },
  {
   "cell_type": "code",
   "execution_count": 119,
   "outputs": [
    {
     "name": "stdout",
     "output_type": "stream",
     "text": [
      "+---------+-----+\n",
      "|    brand|count|\n",
      "+---------+-----+\n",
      "|     ford|   48|\n",
      "|chevrolet|   47|\n",
      "| plymouth|   31|\n",
      "|    dodge|   28|\n",
      "|      amc|   27|\n",
      "+---------+-----+\n"
     ]
    }
   ],
   "source": [
    "df.groupby('brand').count().orderBy('count', ascending=False).show(5)  # Сначала проверим частоты использования брендов"
   ],
   "metadata": {
    "collapsed": false,
    "ExecuteTime": {
     "end_time": "2024-01-17T16:58:06.644498800Z",
     "start_time": "2024-01-17T16:58:06.398043900Z"
    }
   },
   "id": "bdcf351110fde510"
  },
  {
   "cell_type": "code",
   "execution_count": 120,
   "outputs": [
    {
     "name": "stdout",
     "output_type": "stream",
     "text": [
      "+----+---------+------------+----------+------+------------+----------+------+-------------------+\n",
      "| mpg|cylinders|displacement|horsepower|weight|acceleration|model_year|origin|brand_OneHotEncoded|\n",
      "+----+---------+------------+----------+------+------------+----------+------+-------------------+\n",
      "|18.0|        8|       307.0|       130|  3504|        12.0|        70|     1|     (29,[1],[1.0])|\n",
      "|15.0|        8|       350.0|       165|  3693|        11.5|        70|     1|     (29,[8],[1.0])|\n",
      "|18.0|        8|       318.0|       150|  3436|        11.0|        70|     1|     (29,[2],[1.0])|\n",
      "|16.0|        8|       304.0|       150|  3433|        12.0|        70|     1|     (29,[4],[1.0])|\n",
      "|17.0|        8|       302.0|       140|  3449|        10.5|        70|     1|     (29,[0],[1.0])|\n",
      "+----+---------+------------+----------+------+------------+----------+------+-------------------+\n"
     ]
    }
   ],
   "source": [
    "def one_hot_encoder(dataframe, col):\n",
    "    indexed = StringIndexer().setInputCol(col).setOutputCol(col + '_cat'). \\\n",
    "        fit(dataframe).transform(dataframe)  # преобразование категориальных значений в индексы категорий\n",
    "    ohe = OneHotEncoder().setInputCol(col + '_cat').setOutputCol(col + '_OneHotEncoded'). \\\n",
    "        fit(indexed).transform(indexed)\n",
    "    ohe = ohe.drop(*[col, col + '_cat'])\n",
    "    return ohe\n",
    "\n",
    "\n",
    "df = one_hot_encoder(df, col='brand')\n",
    "df.show(5)"
   ],
   "metadata": {
    "collapsed": false,
    "ExecuteTime": {
     "end_time": "2024-01-17T16:58:07.953896100Z",
     "start_time": "2024-01-17T16:58:07.549710300Z"
    }
   },
   "id": "cbcb931006d3904"
  },
  {
   "cell_type": "code",
   "execution_count": 121,
   "outputs": [
    {
     "name": "stdout",
     "output_type": "stream",
     "text": [
      "+----+--------------------+\n",
      "| mpg|            features|\n",
      "+----+--------------------+\n",
      "|18.0|(36,[0,1,2,3,4,5,...|\n",
      "|15.0|(36,[0,1,2,3,4,5,...|\n",
      "|18.0|(36,[0,1,2,3,4,5,...|\n",
      "|16.0|(36,[0,1,2,3,4,5,...|\n",
      "|17.0|(36,[0,1,2,3,4,5,...|\n",
      "+----+--------------------+\n"
     ]
    }
   ],
   "source": [
    "def vector_assembler(dataframe, indep_cols):\n",
    "    assembler = VectorAssembler(inputCols = indep_cols, outputCol = 'features')\n",
    "    output = assembler.transform(dataframe).drop(*indep_cols)\n",
    "    return output\n",
    "\n",
    "df = vector_assembler(df, indep_cols = df.drop('mpg').columns)\n",
    "df.show(5)"
   ],
   "metadata": {
    "collapsed": false,
    "ExecuteTime": {
     "end_time": "2024-01-17T16:58:39.257352300Z",
     "start_time": "2024-01-17T16:58:39.069864Z"
    }
   },
   "id": "7de409b1a4f9527b"
  },
  {
   "cell_type": "markdown",
   "source": [
    "# Train-Test Split"
   ],
   "metadata": {
    "collapsed": false
   },
   "id": "42ec4e86f258b4b4"
  },
  {
   "cell_type": "code",
   "execution_count": 122,
   "outputs": [
    {
     "name": "stdout",
     "output_type": "stream",
     "text": [
      "Train Shape: (317, 2)\n",
      "Test Shape: (75, 2)\n"
     ]
    }
   ],
   "source": [
    "train_data, test_data = df.randomSplit([0.8, 0.2])\n",
    "\n",
    "print('Train Shape: ({}, {})'.format(train_data.count(), len(train_data.columns)))\n",
    "print('Test Shape: ({}, {})'.format(test_data.count(), len(test_data.columns)))"
   ],
   "metadata": {
    "collapsed": false,
    "ExecuteTime": {
     "end_time": "2024-01-17T16:59:01.370890200Z",
     "start_time": "2024-01-17T16:59:00.677540100Z"
    }
   },
   "id": "c378cf3235feb74f"
  },
  {
   "cell_type": "markdown",
   "source": [
    "# Множественная линейная регрессия с помощью PySpark\n",
    "Обучение модели"
   ],
   "metadata": {
    "collapsed": false
   },
   "id": "32d624a7f0c36fbc"
  },
  {
   "cell_type": "code",
   "execution_count": 123,
   "outputs": [],
   "source": [
    "lr = LinearRegression(labelCol = 'mpg', featuresCol = 'features', regParam = 0.3) # избежим переобучения\n",
    "\n",
    "lr = lr.fit(train_data)"
   ],
   "metadata": {
    "collapsed": false,
    "ExecuteTime": {
     "end_time": "2024-01-17T16:59:59.368654200Z",
     "start_time": "2024-01-17T16:59:58.219859500Z"
    }
   },
   "id": "10c6a265a35503b5"
  },
  {
   "cell_type": "markdown",
   "source": [
    "Оценка модели"
   ],
   "metadata": {
    "collapsed": false
   },
   "id": "7aaf209eeb17bfda"
  },
  {
   "cell_type": "code",
   "execution_count": 124,
   "outputs": [
    {
     "name": "stdout",
     "output_type": "stream",
     "text": [
      "------------------------LinearRegressionModel-------------------------\n",
      "R2: 0.7604419258990616\n",
      "MSE: 13.947856398758665\n",
      "RMSE: 3.7346829047134196\n",
      "MAE: 2.7347807490894396\n",
      "----------------------------------------------------------------------\n"
     ]
    }
   ],
   "source": [
    "def evaluate_reg_model(model, test_data):\n",
    "    print(model.__class__.__name__.center(70, '-'))\n",
    "    model_results = model.evaluate(test_data)\n",
    "    print('R2: {}'.format(model_results.r2))\n",
    "    print('MSE: {}'.format(model_results.meanSquaredError))\n",
    "    print('RMSE: {}'.format(model_results.rootMeanSquaredError))\n",
    "    print('MAE: {}'.format(model_results.meanAbsoluteError))\n",
    "    print(70*'-')\n",
    "\n",
    "evaluate_reg_model(lr, test_data)"
   ],
   "metadata": {
    "collapsed": false,
    "ExecuteTime": {
     "end_time": "2024-01-17T17:00:22.882989Z",
     "start_time": "2024-01-17T17:00:22.593689200Z"
    }
   },
   "id": "970a9161182a1db5"
  },
  {
   "cell_type": "markdown",
   "source": [
    "# ОБЯЗАТЕЛЬНО заканчиваем spark сессию"
   ],
   "metadata": {
    "collapsed": false
   },
   "id": "613060555f9e405d"
  },
  {
   "cell_type": "code",
   "execution_count": 125,
   "outputs": [],
   "source": [
    "spark.stop()"
   ],
   "metadata": {
    "collapsed": false,
    "ExecuteTime": {
     "end_time": "2024-01-17T17:00:50.263223600Z",
     "start_time": "2024-01-17T17:00:50.051208900Z"
    }
   },
   "id": "6547e911240aa48"
  },
  {
   "cell_type": "code",
   "execution_count": null,
   "outputs": [],
   "source": [],
   "metadata": {
    "collapsed": false
   },
   "id": "97c17128500c87c2"
  }
 ],
 "metadata": {
  "kernelspec": {
   "display_name": "Python 3",
   "language": "python",
   "name": "python3"
  },
  "language_info": {
   "codemirror_mode": {
    "name": "ipython",
    "version": 2
   },
   "file_extension": ".py",
   "mimetype": "text/x-python",
   "name": "python",
   "nbconvert_exporter": "python",
   "pygments_lexer": "ipython2",
   "version": "2.7.6"
  }
 },
 "nbformat": 4,
 "nbformat_minor": 5
}
