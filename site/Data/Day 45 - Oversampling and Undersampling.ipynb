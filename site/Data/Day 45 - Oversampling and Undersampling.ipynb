{
 "metadata": {
  "kernelspec": {
   "language": "python",
   "display_name": "Python 3",
   "name": "python3"
  },
  "language_info": {
   "name": "python",
   "version": "3.10.12",
   "mimetype": "text/x-python",
   "codemirror_mode": {
    "name": "ipython",
    "version": 3
   },
   "pygments_lexer": "ipython3",
   "nbconvert_exporter": "python",
   "file_extension": ".py"
  },
  "kaggle": {
   "accelerator": "none",
   "dataSources": [
    {
     "sourceId": 7343567,
     "sourceType": "datasetVersion",
     "datasetId": 4264030
    }
   ],
   "dockerImageVersionId": 30626,
   "isInternetEnabled": true,
   "language": "python",
   "sourceType": "notebook",
   "isGpuEnabled": false
  }
 },
 "nbformat_minor": 4,
 "nbformat": 4,
 "cells": [
  {
   "cell_type": "markdown",
   "source": [
    "# Oversampling и Undersampling в задачах машинного обучения\n",
    "\n",
    "## Введение\n",
    "\n",
    "В мире машинного обучения сталкиваемся с разнообразными задачами, и одной из распространенных проблем является дисбаланс классов. Это означает, что в данных один класс представлен значительно большим количеством примеров по сравнению с другим. Oversampling и Undersampling - это стратегии борьбы с этим явлением.\n",
    "\n",
    "## Oversampling\n",
    "\n",
    "### Что это такое?\n",
    "\n",
    "Oversampling - это метод, при котором количество примеров в миноритарном классе увеличивается, чтобы достичь баланса между классами.\n",
    "\n",
    "### Как бороться?\n",
    "\n",
    "#### 1. **Увеличение примеров (Data Augmentation):**\n",
    "   - Повторение существующих примеров из миноритарного класса.\n",
    "   - Применение трансформаций (например, поворот, масштабирование) к существующим примерам для создания новых.\n",
    "\n",
    "#### 2. **Генерация синтетических данных:**\n",
    "   - Использование алгоритмов, таких как SMOTE (Synthetic Minority Over-sampling Technique), который создает новые примеры, комбинируя существующие.\n",
    "\n",
    "### Под капотом:\n",
    "\n",
    "- Для повторения примеров используются стандартные методы копирования данных.\n",
    "- Генерация синтетических данных (например, SMOTE) основана на интерполяции между существующими примерами миноритарного класса.\n",
    "\n",
    "## Undersampling\n",
    "\n",
    "### Что это такое?\n",
    "\n",
    "Undersampling - это метод, при котором количество примеров в мажоритарном классе уменьшается до уровня миноритарного класса.\n",
    "\n",
    "### Как бороться?\n",
    "\n",
    "#### 1. **Удаление случайных примеров:**\n",
    "   - Случайное удаление примеров из мажоритарного класса.\n",
    "\n",
    "#### 2. **Кластеризация:**\n",
    "   - Использование алгоритмов кластеризации для выделения подгрупп в мажоритарном классе и удаление примеров из этих подгрупп.\n",
    "\n",
    "### Под капотом:\n",
    "\n",
    "- Для удаления примеров используются стандартные методы фильтрации данных.\n",
    "- Кластеризация может быть реализована, например, с использованием k-means.\n",
    "\n",
    "## Общие рекомендации:\n",
    "\n",
    "1. **Оценка эффективности:**\n",
    "   - Важно оценивать эффективность oversampling и undersampling на валидационных данных, чтобы избежать переобучения.\n",
    "\n",
    "2. **Выбор метода:**\n",
    "   - Выбор между oversampling и undersampling зависит от конкретной задачи и данных.\n",
    "\n",
    "3. **Комбинированные методы:**\n",
    "   - Иногда эффективнее использовать комбинацию oversampling и undersampling для достижения оптимального баланса.\n",
    "\n",
    "Внимательное применение этих методов может помочь улучшить производительность модели в условиях дисбаланса классов."
   ],
   "metadata": {}
  },
  {
   "cell_type": "markdown",
   "source": [
    "# Реализации Oversampling и Undersampling в Python\n",
    "\n",
    "### **imbalanced-learn**\n",
    "\n",
    "Это библиотека для балансировки классов в задачах классификации. Она предоставляет множество методов oversampling, включая SMOTE.\n",
    "\n",
    "```python\n",
    "from imblearn.over_sampling import SMOTE\n",
    "from sklearn.datasets import make_classification\n",
    "\n",
    "# Создание синтетических данных\n",
    "X, y = make_classification(n_classes=2, class_sep=2, weights=[0.1, 0.9], n_informative=3, n_redundant=1, flip_y=0, n_features=20, n_clusters_per_class=1, n_samples=1000, random_state=42)\n",
    "\n",
    "# Применение SMOTE\n",
    "smote = SMOTE(sampling_strategy='auto', random_state=42)\n",
    "X_resampled, y_resampled = smote.fit_resample(X, y)\n",
    "```\n",
    "\n",
    "Та же библиотека предоставляет методы для undersampling, включая случайное удаление примеров.\n",
    "\n",
    "```python\n",
    "from imblearn.under_sampling import RandomUnderSampler\n",
    "from sklearn.datasets import make_classification\n",
    "\n",
    "# Создание синтетических данных\n",
    "X, y = make_classification(n_classes=2, class_sep=2, weights=[0.1, 0.9], n_informative=3, n_redundant=1, flip_y=0, n_features=20, n_clusters_per_class=1, n_samples=1000, random_state=42)\n",
    "\n",
    "# Применение случайного удаления примеров\n",
    "rus = RandomUnderSampler(sampling_strategy='auto', random_state=42)\n",
    "X_resampled, y_resampled = rus.fit_resample(X, y)\n",
    "```\n",
    "\n",
    "## Общие рекомендации:\n",
    "\n",
    "1. **Интеграция в pipeline:**\n",
    "   - Важно интегрировать эти методы в pipeline машинного обучения для правильной обработки данных на стадии обучения.\n",
    "\n",
    "2. **Настройка параметров:**\n",
    "   - Некоторые методы имеют параметры, которые могут потребовать настройки в зависимости от конкретной задачи.\n",
    "\n",
    "3. **Оценка результатов:**\n",
    "   - Всегда оценивайте результаты на валидационных данных и тщательно анализируйте, как изменения в данных влияют на модель.\n"
   ],
   "metadata": {
    "collapsed": false
   }
  },
  {
   "cell_type": "code",
   "source": [
    "import pandas as pd\n",
    "import matplotlib.pyplot as plt\n",
    "import re\n",
    "import spacy\n",
    "from sklearn.feature_extraction.text import TfidfVectorizer\n",
    "from sklearn.model_selection import train_test_split\n",
    "from sklearn.metrics import accuracy_score\n",
    "from sklearn.ensemble import RandomForestClassifier\n",
    "from imblearn.over_sampling import RandomOverSampler\n",
    "from imblearn.under_sampling import RandomUnderSampler"
   ],
   "metadata": {
    "execution": {
     "iopub.status.busy": "2024-01-05T12:46:03.242237Z",
     "iopub.execute_input": "2024-01-05T12:46:03.242674Z",
     "iopub.status.idle": "2024-01-05T12:46:03.250841Z",
     "shell.execute_reply.started": "2024-01-05T12:46:03.242642Z",
     "shell.execute_reply": "2024-01-05T12:46:03.249222Z"
    },
    "trusted": true,
    "ExecuteTime": {
     "end_time": "2024-02-22T13:29:37.648735700Z",
     "start_time": "2024-02-22T13:29:37.636350300Z"
    }
   },
   "execution_count": 16,
   "outputs": []
  },
  {
   "cell_type": "code",
   "source": [
    "df = pd.read_csv('Datasets/Twitter2/train.csv')\n",
    "df.head()"
   ],
   "metadata": {
    "execution": {
     "iopub.status.busy": "2024-01-05T12:46:03.256775Z",
     "iopub.execute_input": "2024-01-05T12:46:03.257287Z",
     "iopub.status.idle": "2024-01-05T12:46:03.346271Z",
     "shell.execute_reply.started": "2024-01-05T12:46:03.257245Z",
     "shell.execute_reply": "2024-01-05T12:46:03.344905Z"
    },
    "trusted": true,
    "ExecuteTime": {
     "end_time": "2024-02-22T13:21:06.869483300Z",
     "start_time": "2024-02-22T13:21:06.753107800Z"
    }
   },
   "execution_count": 2,
   "outputs": [
    {
     "data": {
      "text/plain": "   id  label                                              tweet\n0   1      0   @user when a father is dysfunctional and is s...\n1   2      0  @user @user thanks for #lyft credit i can't us...\n2   3      0                                bihday your majesty\n3   4      0  #model   i love u take with u all the time in ...\n4   5      0             factsguide: society now    #motivation",
      "text/html": "<div>\n<style scoped>\n    .dataframe tbody tr th:only-of-type {\n        vertical-align: middle;\n    }\n\n    .dataframe tbody tr th {\n        vertical-align: top;\n    }\n\n    .dataframe thead th {\n        text-align: right;\n    }\n</style>\n<table border=\"1\" class=\"dataframe\">\n  <thead>\n    <tr style=\"text-align: right;\">\n      <th></th>\n      <th>id</th>\n      <th>label</th>\n      <th>tweet</th>\n    </tr>\n  </thead>\n  <tbody>\n    <tr>\n      <th>0</th>\n      <td>1</td>\n      <td>0</td>\n      <td>@user when a father is dysfunctional and is s...</td>\n    </tr>\n    <tr>\n      <th>1</th>\n      <td>2</td>\n      <td>0</td>\n      <td>@user @user thanks for #lyft credit i can't us...</td>\n    </tr>\n    <tr>\n      <th>2</th>\n      <td>3</td>\n      <td>0</td>\n      <td>bihday your majesty</td>\n    </tr>\n    <tr>\n      <th>3</th>\n      <td>4</td>\n      <td>0</td>\n      <td>#model   i love u take with u all the time in ...</td>\n    </tr>\n    <tr>\n      <th>4</th>\n      <td>5</td>\n      <td>0</td>\n      <td>factsguide: society now    #motivation</td>\n    </tr>\n  </tbody>\n</table>\n</div>"
     },
     "execution_count": 2,
     "metadata": {},
     "output_type": "execute_result"
    }
   ]
  },
  {
   "cell_type": "code",
   "source": [
    "df.info()"
   ],
   "metadata": {
    "execution": {
     "iopub.status.busy": "2024-01-05T12:46:03.348361Z",
     "iopub.execute_input": "2024-01-05T12:46:03.348747Z",
     "iopub.status.idle": "2024-01-05T12:46:03.367747Z",
     "shell.execute_reply.started": "2024-01-05T12:46:03.348714Z",
     "shell.execute_reply": "2024-01-05T12:46:03.366364Z"
    },
    "trusted": true,
    "ExecuteTime": {
     "end_time": "2024-02-22T13:21:08.012281200Z",
     "start_time": "2024-02-22T13:21:07.983649500Z"
    }
   },
   "execution_count": 3,
   "outputs": [
    {
     "name": "stdout",
     "output_type": "stream",
     "text": [
      "<class 'pandas.core.frame.DataFrame'>\n",
      "RangeIndex: 31962 entries, 0 to 31961\n",
      "Data columns (total 3 columns):\n",
      " #   Column  Non-Null Count  Dtype \n",
      "---  ------  --------------  ----- \n",
      " 0   id      31962 non-null  int64 \n",
      " 1   label   31962 non-null  int64 \n",
      " 2   tweet   31962 non-null  object\n",
      "dtypes: int64(2), object(1)\n",
      "memory usage: 749.2+ KB\n"
     ]
    }
   ]
  },
  {
   "cell_type": "code",
   "source": [
    "df.shape"
   ],
   "metadata": {
    "execution": {
     "iopub.status.busy": "2024-01-05T12:46:03.369508Z",
     "iopub.execute_input": "2024-01-05T12:46:03.369968Z",
     "iopub.status.idle": "2024-01-05T12:46:03.379324Z",
     "shell.execute_reply.started": "2024-01-05T12:46:03.369926Z",
     "shell.execute_reply": "2024-01-05T12:46:03.377764Z"
    },
    "trusted": true,
    "ExecuteTime": {
     "end_time": "2024-02-22T13:22:23.221086Z",
     "start_time": "2024-02-22T13:22:23.201964Z"
    }
   },
   "execution_count": 4,
   "outputs": [
    {
     "data": {
      "text/plain": "(31962, 3)"
     },
     "execution_count": 4,
     "metadata": {},
     "output_type": "execute_result"
    }
   ]
  },
  {
   "cell_type": "markdown",
   "source": [
    "## Изучим датасет"
   ],
   "metadata": {}
  },
  {
   "cell_type": "code",
   "source": [
    "df.hist(bins=30, figsize=(13, 5), color='r')\n",
    "plt.show()"
   ],
   "metadata": {
    "execution": {
     "iopub.status.busy": "2024-01-05T12:46:03.384108Z",
     "iopub.execute_input": "2024-01-05T12:46:03.384652Z",
     "iopub.status.idle": "2024-01-05T12:46:04.009826Z",
     "shell.execute_reply.started": "2024-01-05T12:46:03.384605Z",
     "shell.execute_reply": "2024-01-05T12:46:04.008516Z"
    },
    "trusted": true,
    "ExecuteTime": {
     "end_time": "2024-02-22T13:22:34.101512900Z",
     "start_time": "2024-02-22T13:22:33.532714400Z"
    }
   },
   "execution_count": 5,
   "outputs": [
    {
     "data": {
      "text/plain": "<Figure size 1300x500 with 2 Axes>",
      "image/png": "[encoded data removed]"
     },
     "metadata": {},
     "output_type": "display_data"
    }
   ]
  },
  {
   "cell_type": "markdown",
   "source": [
    "## Очистка данных"
   ],
   "metadata": {}
  },
  {
   "cell_type": "code",
   "source": [
    "features = df.drop(columns='label', axis=1)\n",
    "targets = df['label']"
   ],
   "metadata": {
    "execution": {
     "iopub.status.busy": "2024-01-05T12:46:04.228882Z",
     "iopub.execute_input": "2024-01-05T12:46:04.229308Z",
     "iopub.status.idle": "2024-01-05T12:46:04.237374Z",
     "shell.execute_reply.started": "2024-01-05T12:46:04.229273Z",
     "shell.execute_reply": "2024-01-05T12:46:04.236207Z"
    },
    "trusted": true,
    "ExecuteTime": {
     "end_time": "2024-02-22T13:23:00.315694800Z",
     "start_time": "2024-02-22T13:23:00.291368100Z"
    }
   },
   "execution_count": 6,
   "outputs": []
  },
  {
   "cell_type": "code",
   "source": [
    "nlp = spacy.load('en_core_web_sm')\n",
    "\n",
    "\n",
    "def data_clean(data):\n",
    "    # Переведем текст в нижний регистр\n",
    "    data = data.lower()\n",
    "    # Удалим лишние символы и пунктуацию\n",
    "    data = re.sub(r'[^a-zA-Z\\s]', '', data)\n",
    "    # Произведем лемматизацию текста\n",
    "    doc = nlp(data)\n",
    "    data = ' '.join([token.lemma_ for token in doc])\n",
    "    return data"
   ],
   "metadata": {
    "execution": {
     "iopub.status.busy": "2024-01-05T12:46:04.238601Z",
     "iopub.execute_input": "2024-01-05T12:46:04.239492Z",
     "iopub.status.idle": "2024-01-05T12:46:05.493643Z",
     "shell.execute_reply.started": "2024-01-05T12:46:04.239453Z",
     "shell.execute_reply": "2024-01-05T12:46:05.492280Z"
    },
    "trusted": true,
    "ExecuteTime": {
     "end_time": "2024-02-22T13:23:57.030878700Z",
     "start_time": "2024-02-22T13:23:52.468736400Z"
    }
   },
   "execution_count": 7,
   "outputs": []
  },
  {
   "cell_type": "code",
   "source": [
    "features['tweet'][1]"
   ],
   "metadata": {
    "execution": {
     "iopub.status.busy": "2024-01-05T12:46:05.496202Z",
     "iopub.execute_input": "2024-01-05T12:46:05.496965Z",
     "iopub.status.idle": "2024-01-05T12:46:05.505855Z",
     "shell.execute_reply.started": "2024-01-05T12:46:05.496921Z",
     "shell.execute_reply": "2024-01-05T12:46:05.504310Z"
    },
    "trusted": true,
    "ExecuteTime": {
     "end_time": "2024-02-22T13:24:00.369773200Z",
     "start_time": "2024-02-22T13:24:00.335463500Z"
    }
   },
   "execution_count": 8,
   "outputs": [
    {
     "data": {
      "text/plain": "\"@user @user thanks for #lyft credit i can't use cause they don't offer wheelchair vans in pdx.    #disapointed #getthanked\""
     },
     "execution_count": 8,
     "metadata": {},
     "output_type": "execute_result"
    }
   ]
  },
  {
   "cell_type": "code",
   "source": [
    "features['tweet'].head()"
   ],
   "metadata": {
    "execution": {
     "iopub.status.busy": "2024-01-05T12:46:05.507758Z",
     "iopub.execute_input": "2024-01-05T12:46:05.508610Z",
     "iopub.status.idle": "2024-01-05T12:46:05.522575Z",
     "shell.execute_reply.started": "2024-01-05T12:46:05.508557Z",
     "shell.execute_reply": "2024-01-05T12:46:05.521001Z"
    },
    "trusted": true,
    "ExecuteTime": {
     "end_time": "2024-02-22T13:24:05.245816100Z",
     "start_time": "2024-02-22T13:24:05.238473800Z"
    }
   },
   "execution_count": 9,
   "outputs": [
    {
     "data": {
      "text/plain": "0     @user when a father is dysfunctional and is s...\n1    @user @user thanks for #lyft credit i can't us...\n2                                  bihday your majesty\n3    #model   i love u take with u all the time in ...\n4               factsguide: society now    #motivation\nName: tweet, dtype: object"
     },
     "execution_count": 9,
     "metadata": {},
     "output_type": "execute_result"
    }
   ]
  },
  {
   "cell_type": "code",
   "source": [
    "features['tweet'] = features['tweet'].apply(data_clean)"
   ],
   "metadata": {
    "execution": {
     "iopub.status.busy": "2024-01-05T12:46:05.530066Z",
     "iopub.execute_input": "2024-01-05T12:46:05.531020Z",
     "iopub.status.idle": "2024-01-05T12:51:20.252408Z",
     "shell.execute_reply.started": "2024-01-05T12:46:05.530956Z",
     "shell.execute_reply": "2024-01-05T12:51:20.251253Z"
    },
    "trusted": true,
    "ExecuteTime": {
     "end_time": "2024-02-22T13:27:43.295811900Z",
     "start_time": "2024-02-22T13:24:07.751819700Z"
    }
   },
   "execution_count": 10,
   "outputs": []
  },
  {
   "cell_type": "code",
   "source": [
    "features['tweet'].head(1)"
   ],
   "metadata": {
    "execution": {
     "iopub.status.busy": "2024-01-05T12:51:20.253992Z",
     "iopub.execute_input": "2024-01-05T12:51:20.255409Z",
     "iopub.status.idle": "2024-01-05T12:51:20.264653Z",
     "shell.execute_reply.started": "2024-01-05T12:51:20.255366Z",
     "shell.execute_reply": "2024-01-05T12:51:20.263230Z"
    },
    "trusted": true,
    "ExecuteTime": {
     "end_time": "2024-02-22T13:28:23.817589200Z",
     "start_time": "2024-02-22T13:28:23.786677900Z"
    }
   },
   "execution_count": 11,
   "outputs": [
    {
     "data": {
      "text/plain": "0      user when a father be dysfunctional and be s...\nName: tweet, dtype: object"
     },
     "execution_count": 11,
     "metadata": {},
     "output_type": "execute_result"
    }
   ]
  },
  {
   "cell_type": "code",
   "source": [
    "data = features['tweet'].values"
   ],
   "metadata": {
    "execution": {
     "iopub.status.busy": "2024-01-05T12:51:20.266279Z",
     "iopub.execute_input": "2024-01-05T12:51:20.266629Z",
     "iopub.status.idle": "2024-01-05T12:51:20.279137Z",
     "shell.execute_reply.started": "2024-01-05T12:51:20.266601Z",
     "shell.execute_reply": "2024-01-05T12:51:20.277649Z"
    },
    "trusted": true,
    "ExecuteTime": {
     "end_time": "2024-02-22T13:28:27.503488900Z",
     "start_time": "2024-02-22T13:28:27.488125800Z"
    }
   },
   "execution_count": 12,
   "outputs": []
  },
  {
   "cell_type": "markdown",
   "source": [
    "## TF-IDF векторизация"
   ],
   "metadata": {}
  },
  {
   "cell_type": "code",
   "source": [
    "Vector = TfidfVectorizer()\n",
    "Vector.fit(data)\n",
    "data = Vector.transform(data)"
   ],
   "metadata": {
    "execution": {
     "iopub.status.busy": "2024-01-05T12:51:20.281419Z",
     "iopub.execute_input": "2024-01-05T12:51:20.282595Z",
     "iopub.status.idle": "2024-01-05T12:51:21.772589Z",
     "shell.execute_reply.started": "2024-01-05T12:51:20.282542Z",
     "shell.execute_reply": "2024-01-05T12:51:21.771561Z"
    },
    "trusted": true,
    "ExecuteTime": {
     "end_time": "2024-02-22T13:28:38.692949100Z",
     "start_time": "2024-02-22T13:28:37.830095300Z"
    }
   },
   "execution_count": 13,
   "outputs": []
  },
  {
   "cell_type": "code",
   "source": [
    "X_train, X_test, y_train, y_test = train_test_split(data, targets, test_size=0.2, stratify=targets, random_state=42)"
   ],
   "metadata": {
    "execution": {
     "iopub.status.busy": "2024-01-05T12:51:21.773854Z",
     "iopub.execute_input": "2024-01-05T12:51:21.774918Z",
     "iopub.status.idle": "2024-01-05T12:51:21.802896Z",
     "shell.execute_reply.started": "2024-01-05T12:51:21.774882Z",
     "shell.execute_reply": "2024-01-05T12:51:21.801616Z"
    },
    "trusted": true,
    "ExecuteTime": {
     "end_time": "2024-02-22T13:28:42.344520700Z",
     "start_time": "2024-02-22T13:28:42.279403800Z"
    }
   },
   "execution_count": 14,
   "outputs": []
  },
  {
   "cell_type": "markdown",
   "source": [
    "# Классификатор случайного леса"
   ],
   "metadata": {}
  },
  {
   "cell_type": "code",
   "source": [
    "rf_classifier = RandomForestClassifier(verbose=10, n_jobs=20)\n",
    "# Обучим модель на тренировочных данных\n",
    "rf_classifier.fit(X_train, y_train)\n",
    "# Сделаем прогноз по тренировочному набору данных\n",
    "predTrain_rf = rf_classifier.predict(X_train)"
   ],
   "metadata": {
    "execution": {
     "iopub.status.busy": "2024-01-05T12:51:21.804470Z",
     "iopub.execute_input": "2024-01-05T12:51:21.805402Z",
     "iopub.status.idle": "2024-01-05T12:53:40.991841Z",
     "shell.execute_reply.started": "2024-01-05T12:51:21.805366Z",
     "shell.execute_reply": "2024-01-05T12:53:40.990581Z"
    },
    "trusted": true,
    "ExecuteTime": {
     "end_time": "2024-02-22T13:30:32.816057600Z",
     "start_time": "2024-02-22T13:30:12.902560100Z"
    }
   },
   "execution_count": 19,
   "outputs": [
    {
     "name": "stderr",
     "output_type": "stream",
     "text": [
      "[Parallel(n_jobs=20)]: Using backend ThreadingBackend with 20 concurrent workers.\n"
     ]
    },
    {
     "name": "stdout",
     "output_type": "stream",
     "text": [
      "building tree 1 of 100building tree 2 of 100\n",
      "\n",
      "building tree 3 of 100\n",
      "building tree 4 of 100\n",
      "building tree 5 of 100\n",
      "building tree 6 of 100\n",
      "building tree 7 of 100\n",
      "building tree 8 of 100\n",
      "building tree 9 of 100\n",
      "building tree 10 of 100\n",
      "building tree 11 of 100\n",
      "building tree 12 of 100\n",
      "building tree 13 of 100\n",
      "building tree 14 of 100\n",
      "building tree 15 of 100\n",
      "building tree 16 of 100\n",
      "building tree 17 of 100\n",
      "building tree 18 of 100\n",
      "building tree 19 of 100\n",
      "building tree 20 of 100\n",
      "building tree 21 of 100\n",
      "building tree 22 of 100\n",
      "building tree 23 of 100\n"
     ]
    },
    {
     "name": "stderr",
     "output_type": "stream",
     "text": [
      "[Parallel(n_jobs=20)]: Done   1 tasks      | elapsed:    2.5s\n"
     ]
    },
    {
     "name": "stdout",
     "output_type": "stream",
     "text": [
      "building tree 24 of 100\n",
      "building tree 25 of 100\n",
      "building tree 26 of 100\n",
      "building tree 27 of 100\n",
      "building tree 28 of 100\n",
      "building tree 29 of 100\n",
      "building tree 30 of 100\n",
      "building tree 31 of 100\n"
     ]
    },
    {
     "name": "stderr",
     "output_type": "stream",
     "text": [
      "[Parallel(n_jobs=20)]: Done  10 tasks      | elapsed:    3.6s\n"
     ]
    },
    {
     "name": "stdout",
     "output_type": "stream",
     "text": [
      "building tree 32 of 100\n",
      "building tree 33 of 100\n",
      "building tree 34 of 100\n",
      "building tree 35 of 100\n",
      "building tree 36 of 100\n",
      "building tree 37 of 100\n",
      "building tree 38 of 100\n",
      "building tree 39 of 100\n",
      "building tree 40 of 100\n",
      "building tree 41 of 100\n"
     ]
    },
    {
     "name": "stderr",
     "output_type": "stream",
     "text": [
      "[Parallel(n_jobs=20)]: Done  21 tasks      | elapsed:    5.3s\n"
     ]
    },
    {
     "name": "stdout",
     "output_type": "stream",
     "text": [
      "building tree 42 of 100\n",
      "building tree 43 of 100\n",
      "building tree 44 of 100\n",
      "building tree 45 of 100\n",
      "building tree 46 of 100\n",
      "building tree 47 of 100\n",
      "building tree 48 of 100\n",
      "building tree 49 of 100\n",
      "building tree 50 of 100\n",
      "building tree 51 of 100\n",
      "building tree 52 of 100\n",
      "building tree 53 of 100\n",
      "building tree 54 of 100\n"
     ]
    },
    {
     "name": "stderr",
     "output_type": "stream",
     "text": [
      "[Parallel(n_jobs=20)]: Done  32 tasks      | elapsed:    8.3s\n"
     ]
    },
    {
     "name": "stdout",
     "output_type": "stream",
     "text": [
      "building tree 55 of 100\n",
      "building tree 56 of 100\n",
      "building tree 57 of 100\n",
      "building tree 58 of 100\n",
      "building tree 59 of 100\n",
      "building tree 60 of 100\n",
      "building tree 61 of 100\n",
      "building tree 62 of 100\n",
      "building tree 63 of 100\n",
      "building tree 64 of 100\n",
      "building tree 65 of 100\n"
     ]
    },
    {
     "name": "stderr",
     "output_type": "stream",
     "text": [
      "[Parallel(n_jobs=20)]: Done  45 tasks      | elapsed:    9.3s\n"
     ]
    },
    {
     "name": "stdout",
     "output_type": "stream",
     "text": [
      "building tree 66 of 100\n",
      "building tree 67 of 100\n",
      "building tree 68 of 100\n",
      "building tree 69 of 100\n",
      "building tree 70 of 100\n",
      "building tree 71 of 100\n",
      "building tree 72 of 100\n",
      "building tree 73 of 100\n",
      "building tree 74 of 100\n",
      "building tree 75 of 100\n",
      "building tree 76 of 100\n",
      "building tree 77 of 100\n",
      "building tree 78 of 100\n"
     ]
    },
    {
     "name": "stderr",
     "output_type": "stream",
     "text": [
      "[Parallel(n_jobs=20)]: Done  58 tasks      | elapsed:   12.6s\n"
     ]
    },
    {
     "name": "stdout",
     "output_type": "stream",
     "text": [
      "building tree 79 of 100\n",
      "building tree 80 of 100\n",
      "building tree 81 of 100\n",
      "building tree 82 of 100\n",
      "building tree 83 of 100\n",
      "building tree 84 of 100\n",
      "building tree 85 of 100\n",
      "building tree 86 of 100\n",
      "building tree 87 of 100\n",
      "building tree 88 of 100\n",
      "building tree 89 of 100\n",
      "building tree 90 of 100\n",
      "building tree 91 of 100\n",
      "building tree 92 of 100\n",
      "building tree 93 of 100\n",
      "building tree 94 of 100\n"
     ]
    },
    {
     "name": "stderr",
     "output_type": "stream",
     "text": [
      "[Parallel(n_jobs=20)]: Done  72 out of 100 | elapsed:   15.2s remaining:    5.9s\n"
     ]
    },
    {
     "name": "stdout",
     "output_type": "stream",
     "text": [
      "building tree 95 of 100\n",
      "building tree 96 of 100\n",
      "building tree 97 of 100\n",
      "building tree 98 of 100\n",
      "building tree 99 of 100\n",
      "building tree 100 of 100\n"
     ]
    },
    {
     "name": "stderr",
     "output_type": "stream",
     "text": [
      "[Parallel(n_jobs=20)]: Done  83 out of 100 | elapsed:   17.4s remaining:    3.5s\n",
      "[Parallel(n_jobs=20)]: Done  94 out of 100 | elapsed:   18.5s remaining:    1.1s\n",
      "[Parallel(n_jobs=20)]: Done 100 out of 100 | elapsed:   19.5s finished\n",
      "[Parallel(n_jobs=20)]: Using backend ThreadingBackend with 20 concurrent workers.\n",
      "[Parallel(n_jobs=20)]: Done   1 tasks      | elapsed:    0.0s\n",
      "[Parallel(n_jobs=20)]: Done  10 tasks      | elapsed:    0.0s\n",
      "[Parallel(n_jobs=20)]: Done  21 tasks      | elapsed:    0.0s\n",
      "[Parallel(n_jobs=20)]: Done  32 tasks      | elapsed:    0.0s\n",
      "[Parallel(n_jobs=20)]: Done  45 tasks      | elapsed:    0.0s\n",
      "[Parallel(n_jobs=20)]: Done  58 tasks      | elapsed:    0.0s\n",
      "[Parallel(n_jobs=20)]: Done  72 out of 100 | elapsed:    0.1s remaining:    0.0s\n",
      "[Parallel(n_jobs=20)]: Done  83 out of 100 | elapsed:    0.1s remaining:    0.0s\n",
      "[Parallel(n_jobs=20)]: Done  94 out of 100 | elapsed:    0.1s remaining:    0.0s\n",
      "[Parallel(n_jobs=20)]: Done 100 out of 100 | elapsed:    0.1s finished\n"
     ]
    }
   ]
  },
  {
   "cell_type": "code",
   "source": [
    "# Посмотрим точность на тренировочных данных\n",
    "accuracyTrain_rf = accuracy_score(predTrain_rf, y_train)\n",
    "print('Accuracy (train): ', accuracyTrain_rf)"
   ],
   "metadata": {
    "execution": {
     "iopub.status.busy": "2024-01-05T12:53:40.993507Z",
     "iopub.execute_input": "2024-01-05T12:53:40.993959Z",
     "iopub.status.idle": "2024-01-05T12:53:41.006236Z",
     "shell.execute_reply.started": "2024-01-05T12:53:40.993918Z",
     "shell.execute_reply": "2024-01-05T12:53:41.004361Z"
    },
    "trusted": true,
    "ExecuteTime": {
     "end_time": "2024-02-22T13:30:59.947860800Z",
     "start_time": "2024-02-22T13:30:59.931474100Z"
    }
   },
   "execution_count": 20,
   "outputs": [
    {
     "name": "stdout",
     "output_type": "stream",
     "text": [
      "Accuracy (train):  0.9998826704212131\n"
     ]
    }
   ]
  },
  {
   "cell_type": "code",
   "source": [
    "# Выполним прогноз на тестовых данных\n",
    "predTest_rf = rf_classifier.predict(X_test)\n",
    "\n",
    "# Посмотрим точность на тестовых данных\n",
    "accuracyTest_rf = accuracy_score(predTest_rf, y_test)\n",
    "print('Accuracy (test): ', accuracyTest_rf)"
   ],
   "metadata": {
    "execution": {
     "iopub.status.busy": "2024-01-05T12:53:41.008136Z",
     "iopub.execute_input": "2024-01-05T12:53:41.009187Z",
     "iopub.status.idle": "2024-01-05T12:53:41.892553Z",
     "shell.execute_reply.started": "2024-01-05T12:53:41.009149Z",
     "shell.execute_reply": "2024-01-05T12:53:41.891379Z"
    },
    "trusted": true,
    "ExecuteTime": {
     "end_time": "2024-02-22T13:31:28.968687600Z",
     "start_time": "2024-02-22T13:31:28.859338Z"
    }
   },
   "execution_count": 21,
   "outputs": [
    {
     "name": "stdout",
     "output_type": "stream",
     "text": [
      "Accuracy (test):  0.9597997810104802\n"
     ]
    },
    {
     "name": "stderr",
     "output_type": "stream",
     "text": [
      "[Parallel(n_jobs=20)]: Using backend ThreadingBackend with 20 concurrent workers.\n",
      "[Parallel(n_jobs=20)]: Done   1 tasks      | elapsed:    0.0s\n",
      "[Parallel(n_jobs=20)]: Done  10 tasks      | elapsed:    0.0s\n",
      "[Parallel(n_jobs=20)]: Done  21 tasks      | elapsed:    0.0s\n",
      "[Parallel(n_jobs=20)]: Done  32 tasks      | elapsed:    0.0s\n",
      "[Parallel(n_jobs=20)]: Done  45 tasks      | elapsed:    0.0s\n",
      "[Parallel(n_jobs=20)]: Done  58 tasks      | elapsed:    0.0s\n",
      "[Parallel(n_jobs=20)]: Done  72 out of 100 | elapsed:    0.0s remaining:    0.0s\n",
      "[Parallel(n_jobs=20)]: Done  83 out of 100 | elapsed:    0.0s remaining:    0.0s\n",
      "[Parallel(n_jobs=20)]: Done  94 out of 100 | elapsed:    0.0s remaining:    0.0s\n",
      "[Parallel(n_jobs=20)]: Done 100 out of 100 | elapsed:    0.0s finished\n"
     ]
    }
   ]
  },
  {
   "cell_type": "markdown",
   "source": [
    "# Undersampling и Oversampling"
   ],
   "metadata": {}
  },
  {
   "cell_type": "markdown",
   "source": [
    "## Undersampling"
   ],
   "metadata": {}
  },
  {
   "cell_type": "code",
   "source": [
    "# Выберем стратегию борьбы с андерсемплингом\n",
    "undersample = RandomUnderSampler(sampling_strategy='majority')\n",
    "newdata, newtargets = undersample.fit_resample(data, targets)"
   ],
   "metadata": {
    "execution": {
     "iopub.status.busy": "2024-01-05T12:53:41.894212Z",
     "iopub.execute_input": "2024-01-05T12:53:41.894565Z",
     "iopub.status.idle": "2024-01-05T12:53:41.913360Z",
     "shell.execute_reply.started": "2024-01-05T12:53:41.894536Z",
     "shell.execute_reply": "2024-01-05T12:53:41.912201Z"
    },
    "trusted": true,
    "ExecuteTime": {
     "end_time": "2024-02-22T13:32:11.370464600Z",
     "start_time": "2024-02-22T13:32:11.343628700Z"
    }
   },
   "execution_count": 22,
   "outputs": []
  },
  {
   "cell_type": "code",
   "source": [
    "from collections import Counter\n",
    "\n",
    "print(Counter(newtargets))"
   ],
   "metadata": {
    "execution": {
     "iopub.status.busy": "2024-01-05T12:53:41.915638Z",
     "iopub.execute_input": "2024-01-05T12:53:41.916057Z",
     "iopub.status.idle": "2024-01-05T12:53:41.922444Z",
     "shell.execute_reply.started": "2024-01-05T12:53:41.915994Z",
     "shell.execute_reply": "2024-01-05T12:53:41.921291Z"
    },
    "trusted": true,
    "ExecuteTime": {
     "end_time": "2024-02-22T13:32:14.545689600Z",
     "start_time": "2024-02-22T13:32:14.516804600Z"
    }
   },
   "execution_count": 23,
   "outputs": [
    {
     "name": "stdout",
     "output_type": "stream",
     "text": [
      "Counter({0: 2242, 1: 2242})\n"
     ]
    }
   ]
  },
  {
   "cell_type": "code",
   "source": [
    "print(len(newtargets))"
   ],
   "metadata": {
    "execution": {
     "iopub.status.busy": "2024-01-05T12:53:41.923979Z",
     "iopub.execute_input": "2024-01-05T12:53:41.924692Z",
     "iopub.status.idle": "2024-01-05T12:53:41.935710Z",
     "shell.execute_reply.started": "2024-01-05T12:53:41.924654Z",
     "shell.execute_reply": "2024-01-05T12:53:41.934105Z"
    },
    "trusted": true,
    "ExecuteTime": {
     "end_time": "2024-02-22T13:32:16.682422800Z",
     "start_time": "2024-02-22T13:32:16.676099400Z"
    }
   },
   "execution_count": 24,
   "outputs": [
    {
     "name": "stdout",
     "output_type": "stream",
     "text": [
      "4484\n"
     ]
    }
   ]
  },
  {
   "cell_type": "code",
   "source": [
    "X_train, X_test, y_train, y_test = train_test_split(newdata, newtargets, test_size=0.2, stratify=newtargets,\n",
    "                                                    random_state=42)"
   ],
   "metadata": {
    "execution": {
     "iopub.status.busy": "2024-01-05T12:53:41.937896Z",
     "iopub.execute_input": "2024-01-05T12:53:41.938405Z",
     "iopub.status.idle": "2024-01-05T12:53:41.953183Z",
     "shell.execute_reply.started": "2024-01-05T12:53:41.938365Z",
     "shell.execute_reply": "2024-01-05T12:53:41.951774Z"
    },
    "trusted": true,
    "ExecuteTime": {
     "end_time": "2024-02-22T13:32:21.223199900Z",
     "start_time": "2024-02-22T13:32:21.113864300Z"
    }
   },
   "execution_count": 25,
   "outputs": []
  },
  {
   "cell_type": "code",
   "source": [
    "rf_classifier = RandomForestClassifier(verbose=10, n_jobs=20)\n",
    "rf_classifier.fit(X_train, y_train)\n",
    "predTrain_rf = rf_classifier.predict(X_train)"
   ],
   "metadata": {
    "execution": {
     "iopub.status.busy": "2024-01-05T12:53:41.955531Z",
     "iopub.execute_input": "2024-01-05T12:53:41.956466Z",
     "iopub.status.idle": "2024-01-05T12:53:51.067192Z",
     "shell.execute_reply.started": "2024-01-05T12:53:41.956414Z",
     "shell.execute_reply": "2024-01-05T12:53:51.065995Z"
    },
    "trusted": true,
    "ExecuteTime": {
     "end_time": "2024-02-22T13:32:33.648242500Z",
     "start_time": "2024-02-22T13:32:31.988112600Z"
    }
   },
   "execution_count": 26,
   "outputs": [
    {
     "name": "stderr",
     "output_type": "stream",
     "text": [
      "[Parallel(n_jobs=20)]: Using backend ThreadingBackend with 20 concurrent workers.\n"
     ]
    },
    {
     "name": "stdout",
     "output_type": "stream",
     "text": [
      "building tree 1 of 100\n",
      "building tree 2 of 100\n",
      "building tree 3 of 100\n",
      "building tree 4 of 100\n",
      "building tree 5 of 100\n",
      "building tree 6 of 100\n",
      "building tree 7 of 100\n",
      "building tree 8 of 100\n",
      "building tree 9 of 100\n",
      "building tree 10 of 100\n",
      "building tree 11 of 100\n",
      "building tree 12 of 100\n",
      "building tree 13 of 100\n",
      "building tree 14 of 100\n",
      "building tree 15 of 100\n",
      "building tree 16 of 100\n",
      "building tree 17 of 100\n",
      "building tree 18 of 100\n",
      "building tree 19 of 100\n",
      "building tree 20 of 100\n",
      "building tree 21 of 100building tree 22 of 100\n",
      "\n",
      "building tree 23 of 100\n",
      "building tree 24 of 100\n",
      "building tree 25 of 100\n",
      "building tree 26 of 100\n",
      "building tree 27 of 100\n",
      "building tree 28 of 100\n",
      "building tree 29 of 100\n",
      "building tree 30 of 100\n",
      "building tree 31 of 100\n",
      "building tree 32 of 100\n",
      "building tree 33 of 100\n",
      "building tree 34 of 100\n",
      "building tree 35 of 100\n",
      "building tree 36 of 100\n",
      "building tree 37 of 100\n",
      "building tree 38 of 100\n",
      "building tree 39 of 100\n",
      "building tree 40 of 100\n"
     ]
    },
    {
     "name": "stderr",
     "output_type": "stream",
     "text": [
      "[Parallel(n_jobs=20)]: Done   1 tasks      | elapsed:    0.2s\n",
      "[Parallel(n_jobs=20)]: Done  10 tasks      | elapsed:    0.2s\n"
     ]
    },
    {
     "name": "stdout",
     "output_type": "stream",
     "text": [
      "building tree 41 of 100\n",
      "building tree 42 of 100\n",
      "building tree 43 of 100\n",
      "building tree 44 of 100\n",
      "building tree 45 of 100\n",
      "building tree 46 of 100\n",
      "building tree 48 of 100\n",
      "building tree 49 of 100\n",
      "building tree 50 of 100\n",
      "building tree 47 of 100\n",
      "building tree 51 of 100\n",
      "building tree 52 of 100\n",
      "building tree 53 of 100\n",
      "building tree 54 of 100\n",
      "building tree 55 of 100\n",
      "building tree 56 of 100\n",
      "building tree 57 of 100\n",
      "building tree 58 of 100\n",
      "building tree 59 of 100\n"
     ]
    },
    {
     "name": "stderr",
     "output_type": "stream",
     "text": [
      "[Parallel(n_jobs=20)]: Done  21 tasks      | elapsed:    0.4s\n",
      "[Parallel(n_jobs=20)]: Done  32 tasks      | elapsed:    0.5s\n"
     ]
    },
    {
     "name": "stdout",
     "output_type": "stream",
     "text": [
      "building tree 60 of 100\n",
      "building tree 61 of 100\n",
      "building tree 62 of 100\n",
      "building tree 63 of 100\n",
      "building tree 64 of 100\n",
      "building tree 65 of 100\n",
      "building tree 66 of 100\n",
      "building tree 67 of 100\n",
      "building tree 68 of 100\n",
      "building tree 69 of 100\n"
     ]
    },
    {
     "name": "stderr",
     "output_type": "stream",
     "text": [
      "[Parallel(n_jobs=20)]: Done  45 tasks      | elapsed:    0.7s\n"
     ]
    },
    {
     "name": "stdout",
     "output_type": "stream",
     "text": [
      "building tree 70 of 100building tree 71 of 100\n",
      "\n",
      "building tree 72 of 100\n",
      "building tree 73 of 100\n",
      "building tree 74 of 100\n",
      "building tree 75 of 100\n",
      "building tree 76 of 100\n",
      "building tree 77 of 100\n",
      "building tree 78 of 100\n",
      "building tree 79 of 100\n",
      "building tree 80 of 100\n",
      "building tree 81 of 100\n",
      "building tree 82 of 100\n",
      "building tree 83 of 100\n",
      "building tree 84 of 100\n",
      "building tree 85 of 100\n",
      "building tree 86 of 100\n",
      "building tree 87 of 100\n"
     ]
    },
    {
     "name": "stderr",
     "output_type": "stream",
     "text": [
      "[Parallel(n_jobs=20)]: Done  58 tasks      | elapsed:    0.9s\n"
     ]
    },
    {
     "name": "stdout",
     "output_type": "stream",
     "text": [
      "building tree 88 of 100\n",
      "building tree 89 of 100\n",
      "building tree 90 of 100\n",
      "building tree 91 of 100\n",
      "building tree 92 of 100\n",
      "building tree 93 of 100\n",
      "building tree 94 of 100\n",
      "building tree 95 of 100\n",
      "building tree 96 of 100\n",
      "building tree 97 of 100\n",
      "building tree 98 of 100\n",
      "building tree 99 of 100\n",
      "building tree 100 of 100\n"
     ]
    },
    {
     "name": "stderr",
     "output_type": "stream",
     "text": [
      "[Parallel(n_jobs=20)]: Done  72 out of 100 | elapsed:    1.2s remaining:    0.4s\n",
      "[Parallel(n_jobs=20)]: Done  83 out of 100 | elapsed:    1.3s remaining:    0.2s\n",
      "[Parallel(n_jobs=20)]: Done  94 out of 100 | elapsed:    1.4s remaining:    0.0s\n",
      "[Parallel(n_jobs=20)]: Done 100 out of 100 | elapsed:    1.5s finished\n",
      "[Parallel(n_jobs=20)]: Using backend ThreadingBackend with 20 concurrent workers.\n",
      "[Parallel(n_jobs=20)]: Done   1 tasks      | elapsed:    0.0s\n",
      "[Parallel(n_jobs=20)]: Done  10 tasks      | elapsed:    0.0s\n",
      "[Parallel(n_jobs=20)]: Done  21 tasks      | elapsed:    0.0s\n",
      "[Parallel(n_jobs=20)]: Done  32 tasks      | elapsed:    0.0s\n",
      "[Parallel(n_jobs=20)]: Done  45 tasks      | elapsed:    0.0s\n",
      "[Parallel(n_jobs=20)]: Done  58 tasks      | elapsed:    0.0s\n",
      "[Parallel(n_jobs=20)]: Done  72 out of 100 | elapsed:    0.0s remaining:    0.0s\n",
      "[Parallel(n_jobs=20)]: Done  83 out of 100 | elapsed:    0.0s remaining:    0.0s\n",
      "[Parallel(n_jobs=20)]: Done  94 out of 100 | elapsed:    0.0s remaining:    0.0s\n",
      "[Parallel(n_jobs=20)]: Done 100 out of 100 | elapsed:    0.0s finished\n"
     ]
    }
   ]
  },
  {
   "cell_type": "code",
   "source": [
    "# Посмотрим точность на тренировочных данных\n",
    "accuracyTrain_rf = accuracy_score(predTrain_rf, y_train)\n",
    "print('Accuracy (train): ', accuracyTrain_rf)"
   ],
   "metadata": {
    "execution": {
     "iopub.status.busy": "2024-01-05T12:53:51.068664Z",
     "iopub.execute_input": "2024-01-05T12:53:51.069073Z",
     "iopub.status.idle": "2024-01-05T12:53:51.077488Z",
     "shell.execute_reply.started": "2024-01-05T12:53:51.068998Z",
     "shell.execute_reply": "2024-01-05T12:53:51.076139Z"
    },
    "trusted": true,
    "ExecuteTime": {
     "end_time": "2024-02-22T13:32:59.497679500Z",
     "start_time": "2024-02-22T13:32:59.473166600Z"
    }
   },
   "execution_count": 27,
   "outputs": [
    {
     "name": "stdout",
     "output_type": "stream",
     "text": [
      "Accuracy (train):  1.0\n"
     ]
    }
   ]
  },
  {
   "cell_type": "code",
   "source": [
    "# Посмотрим точность на тестовых данных\n",
    "predTest_rf = rf_classifier.predict(X_test)\n",
    "accuracyTest_rf = accuracy_score(predTest_rf, y_test)\n",
    "print('Accuracy (test): ', accuracyTest_rf)"
   ],
   "metadata": {
    "execution": {
     "iopub.status.busy": "2024-01-05T12:53:51.079673Z",
     "iopub.execute_input": "2024-01-05T12:53:51.080550Z",
     "iopub.status.idle": "2024-01-05T12:53:51.163582Z",
     "shell.execute_reply.started": "2024-01-05T12:53:51.080494Z",
     "shell.execute_reply": "2024-01-05T12:53:51.162376Z"
    },
    "trusted": true,
    "ExecuteTime": {
     "end_time": "2024-02-22T13:33:26.260236800Z",
     "start_time": "2024-02-22T13:33:26.179933Z"
    }
   },
   "execution_count": 28,
   "outputs": [
    {
     "name": "stdout",
     "output_type": "stream",
     "text": [
      "Accuracy (test):  0.835005574136009\n"
     ]
    },
    {
     "name": "stderr",
     "output_type": "stream",
     "text": [
      "[Parallel(n_jobs=20)]: Using backend ThreadingBackend with 20 concurrent workers.\n",
      "[Parallel(n_jobs=20)]: Done   1 tasks      | elapsed:    0.0s\n",
      "[Parallel(n_jobs=20)]: Done  10 tasks      | elapsed:    0.0s\n",
      "[Parallel(n_jobs=20)]: Done  21 tasks      | elapsed:    0.0s\n",
      "[Parallel(n_jobs=20)]: Done  32 tasks      | elapsed:    0.0s\n",
      "[Parallel(n_jobs=20)]: Done  45 tasks      | elapsed:    0.0s\n",
      "[Parallel(n_jobs=20)]: Done  58 tasks      | elapsed:    0.0s\n",
      "[Parallel(n_jobs=20)]: Done  72 out of 100 | elapsed:    0.0s remaining:    0.0s\n",
      "[Parallel(n_jobs=20)]: Done  83 out of 100 | elapsed:    0.0s remaining:    0.0s\n",
      "[Parallel(n_jobs=20)]: Done  94 out of 100 | elapsed:    0.0s remaining:    0.0s\n",
      "[Parallel(n_jobs=20)]: Done 100 out of 100 | elapsed:    0.0s finished\n"
     ]
    }
   ]
  },
  {
   "cell_type": "markdown",
   "source": [
    "## Oversampling"
   ],
   "metadata": {}
  },
  {
   "cell_type": "code",
   "source": [
    "# Выберем стратегию борьбы с оверсемплингом\n",
    "oversample = RandomOverSampler(sampling_strategy='minority')\n",
    "newdata, newtargets = oversample.fit_resample(data, targets)"
   ],
   "metadata": {
    "execution": {
     "iopub.status.busy": "2024-01-05T12:53:51.165745Z",
     "iopub.execute_input": "2024-01-05T12:53:51.166148Z",
     "iopub.status.idle": "2024-01-05T12:53:51.189133Z",
     "shell.execute_reply.started": "2024-01-05T12:53:51.166114Z",
     "shell.execute_reply": "2024-01-05T12:53:51.187739Z"
    },
    "trusted": true,
    "ExecuteTime": {
     "end_time": "2024-02-22T13:33:45.984180300Z",
     "start_time": "2024-02-22T13:33:45.953252500Z"
    }
   },
   "execution_count": 29,
   "outputs": []
  },
  {
   "cell_type": "code",
   "source": [
    "print(Counter(newtargets))"
   ],
   "metadata": {
    "execution": {
     "iopub.status.busy": "2024-01-05T12:53:51.190623Z",
     "iopub.execute_input": "2024-01-05T12:53:51.191565Z",
     "iopub.status.idle": "2024-01-05T12:53:51.211311Z",
     "shell.execute_reply.started": "2024-01-05T12:53:51.191530Z",
     "shell.execute_reply": "2024-01-05T12:53:51.209651Z"
    },
    "trusted": true,
    "ExecuteTime": {
     "end_time": "2024-02-22T13:33:46.786456300Z",
     "start_time": "2024-02-22T13:33:46.767574900Z"
    }
   },
   "execution_count": 30,
   "outputs": [
    {
     "name": "stdout",
     "output_type": "stream",
     "text": [
      "Counter({0: 29720, 1: 29720})\n"
     ]
    }
   ]
  },
  {
   "cell_type": "code",
   "source": [
    "X_train, X_test, y_train, y_test = train_test_split(newdata, newtargets, test_size=0.2, stratify=newtargets,\n",
    "                                                    random_state=42)"
   ],
   "metadata": {
    "execution": {
     "iopub.status.busy": "2024-01-05T12:53:51.213132Z",
     "iopub.execute_input": "2024-01-05T12:53:51.214346Z",
     "iopub.status.idle": "2024-01-05T12:53:51.269346Z",
     "shell.execute_reply.started": "2024-01-05T12:53:51.214284Z",
     "shell.execute_reply": "2024-01-05T12:53:51.267638Z"
    },
    "trusted": true,
    "ExecuteTime": {
     "end_time": "2024-02-22T13:34:20.908273300Z",
     "start_time": "2024-02-22T13:34:20.854821300Z"
    }
   },
   "execution_count": 31,
   "outputs": []
  },
  {
   "cell_type": "code",
   "source": [
    "rf_classifier = RandomForestClassifier(verbose=10, n_jobs=20)\n",
    "rf_classifier.fit(X_train, y_train)\n",
    "predTrain_rf = rf_classifier.predict(X_train)"
   ],
   "metadata": {
    "execution": {
     "iopub.status.busy": "2024-01-05T12:53:51.275536Z",
     "iopub.execute_input": "2024-01-05T12:53:51.275985Z",
     "iopub.status.idle": "2024-01-05T12:56:08.083934Z",
     "shell.execute_reply.started": "2024-01-05T12:53:51.275955Z",
     "shell.execute_reply": "2024-01-05T12:56:08.082795Z"
    },
    "trusted": true,
    "ExecuteTime": {
     "end_time": "2024-02-22T13:34:49.136043400Z",
     "start_time": "2024-02-22T13:34:29.184602900Z"
    }
   },
   "execution_count": 32,
   "outputs": [
    {
     "name": "stderr",
     "output_type": "stream",
     "text": [
      "[Parallel(n_jobs=20)]: Using backend ThreadingBackend with 20 concurrent workers.\n"
     ]
    },
    {
     "name": "stdout",
     "output_type": "stream",
     "text": [
      "building tree 1 of 100\n",
      "building tree 2 of 100\n",
      "building tree 3 of 100\n",
      "building tree 4 of 100\n",
      "building tree 5 of 100\n",
      "building tree 6 of 100\n",
      "building tree 7 of 100\n",
      "building tree 8 of 100\n",
      "building tree 9 of 100\n",
      "building tree 10 of 100\n",
      "building tree 11 of 100\n",
      "building tree 12 of 100\n",
      "building tree 13 of 100\n",
      "building tree 14 of 100\n",
      "building tree 15 of 100\n",
      "building tree 16 of 100\n",
      "building tree 17 of 100\n",
      "building tree 18 of 100\n",
      "building tree 19 of 100\n",
      "building tree 20 of 100\n",
      "building tree 21 of 100\n",
      "building tree 22 of 100\n",
      "building tree 23 of 100\n",
      "building tree 24 of 100\n"
     ]
    },
    {
     "name": "stderr",
     "output_type": "stream",
     "text": [
      "[Parallel(n_jobs=20)]: Done   1 tasks      | elapsed:    2.9s\n"
     ]
    },
    {
     "name": "stdout",
     "output_type": "stream",
     "text": [
      "building tree 25 of 100\n",
      "building tree 26 of 100\n",
      "building tree 27 of 100\n",
      "building tree 28 of 100\n",
      "building tree 29 of 100\n",
      "building tree 30 of 100\n",
      "building tree 31 of 100\n",
      "building tree 32 of 100\n"
     ]
    },
    {
     "name": "stderr",
     "output_type": "stream",
     "text": [
      "[Parallel(n_jobs=20)]: Done  10 tasks      | elapsed:    3.9s\n"
     ]
    },
    {
     "name": "stdout",
     "output_type": "stream",
     "text": [
      "building tree 33 of 100\n",
      "building tree 34 of 100\n",
      "building tree 35 of 100\n",
      "building tree 36 of 100\n",
      "building tree 37 of 100\n",
      "building tree 38 of 100\n",
      "building tree 39 of 100\n",
      "building tree 40 of 100building tree 41 of 100\n"
     ]
    },
    {
     "name": "stderr",
     "output_type": "stream",
     "text": [
      "[Parallel(n_jobs=20)]: Done  21 tasks      | elapsed:    5.7s\n"
     ]
    },
    {
     "name": "stdout",
     "output_type": "stream",
     "text": [
      "building tree 42 of 100\n",
      "building tree 43 of 100\n",
      "building tree 44 of 100\n",
      "building tree 45 of 100\n",
      "building tree 46 of 100\n",
      "building tree 47 of 100\n",
      "building tree 48 of 100\n",
      "building tree 49 of 100\n",
      "building tree 50 of 100\n",
      "building tree 51 of 100\n",
      "building tree 52 of 100\n",
      "building tree 53 of 100\n"
     ]
    },
    {
     "name": "stderr",
     "output_type": "stream",
     "text": [
      "[Parallel(n_jobs=20)]: Done  32 tasks      | elapsed:    8.4s\n"
     ]
    },
    {
     "name": "stdout",
     "output_type": "stream",
     "text": [
      "building tree 54 of 100\n",
      "building tree 55 of 100\n",
      "building tree 56 of 100\n",
      "building tree 57 of 100\n",
      "building tree 58 of 100\n",
      "building tree 59 of 100\n",
      "building tree 60 of 100\n",
      "building tree 61 of 100\n",
      "building tree 62 of 100\n",
      "building tree 63 of 100\n",
      "building tree 64 of 100\n",
      "building tree 65 of 100\n",
      "building tree 66 of 100\n"
     ]
    },
    {
     "name": "stderr",
     "output_type": "stream",
     "text": [
      "[Parallel(n_jobs=20)]: Done  45 tasks      | elapsed:   10.1s\n"
     ]
    },
    {
     "name": "stdout",
     "output_type": "stream",
     "text": [
      "building tree 67 of 100\n",
      "building tree 68 of 100\n",
      "building tree 69 of 100\n",
      "building tree 70 of 100\n",
      "building tree 71 of 100\n",
      "building tree 72 of 100\n",
      "building tree 73 of 100\n",
      "building tree 74 of 100\n",
      "building tree 75 of 100\n",
      "building tree 76 of 100\n",
      "building tree 77 of 100\n",
      "building tree 78 of 100\n",
      "building tree 79 of 100\n"
     ]
    },
    {
     "name": "stderr",
     "output_type": "stream",
     "text": [
      "[Parallel(n_jobs=20)]: Done  58 tasks      | elapsed:   12.7s\n"
     ]
    },
    {
     "name": "stdout",
     "output_type": "stream",
     "text": [
      "building tree 80 of 100\n",
      "building tree 81 of 100\n",
      "building tree 82 of 100\n",
      "building tree 83 of 100\n",
      "building tree 84 of 100\n",
      "building tree 85 of 100\n",
      "building tree 86 of 100\n",
      "building tree 87 of 100\n",
      "building tree 88 of 100\n",
      "building tree 89 of 100\n",
      "building tree 90 of 100\n",
      "building tree 91 of 100\n",
      "building tree 92 of 100\n"
     ]
    },
    {
     "name": "stderr",
     "output_type": "stream",
     "text": [
      "[Parallel(n_jobs=20)]: Done  72 out of 100 | elapsed:   15.4s remaining:    5.9s\n"
     ]
    },
    {
     "name": "stdout",
     "output_type": "stream",
     "text": [
      "building tree 93 of 100\n",
      "building tree 94 of 100\n",
      "building tree 95 of 100\n",
      "building tree 96 of 100\n",
      "building tree 97 of 100\n",
      "building tree 98 of 100\n",
      "building tree 99 of 100\n",
      "building tree 100 of 100\n"
     ]
    },
    {
     "name": "stderr",
     "output_type": "stream",
     "text": [
      "[Parallel(n_jobs=20)]: Done  83 out of 100 | elapsed:   17.5s remaining:    3.5s\n",
      "[Parallel(n_jobs=20)]: Done  94 out of 100 | elapsed:   18.6s remaining:    1.1s\n",
      "[Parallel(n_jobs=20)]: Done 100 out of 100 | elapsed:   19.5s finished\n",
      "[Parallel(n_jobs=20)]: Using backend ThreadingBackend with 20 concurrent workers.\n",
      "[Parallel(n_jobs=20)]: Done   1 tasks      | elapsed:    0.0s\n",
      "[Parallel(n_jobs=20)]: Done  10 tasks      | elapsed:    0.0s\n",
      "[Parallel(n_jobs=20)]: Done  21 tasks      | elapsed:    0.0s\n",
      "[Parallel(n_jobs=20)]: Done  32 tasks      | elapsed:    0.0s\n",
      "[Parallel(n_jobs=20)]: Done  45 tasks      | elapsed:    0.0s\n",
      "[Parallel(n_jobs=20)]: Done  58 tasks      | elapsed:    0.1s\n",
      "[Parallel(n_jobs=20)]: Done  72 out of 100 | elapsed:    0.1s remaining:    0.0s\n",
      "[Parallel(n_jobs=20)]: Done  83 out of 100 | elapsed:    0.1s remaining:    0.0s\n",
      "[Parallel(n_jobs=20)]: Done  94 out of 100 | elapsed:    0.2s remaining:    0.0s\n",
      "[Parallel(n_jobs=20)]: Done 100 out of 100 | elapsed:    0.2s finished\n"
     ]
    }
   ]
  },
  {
   "cell_type": "code",
   "source": [
    "accuracyTrain_rf = accuracy_score(predTrain_rf, y_train)\n",
    "print('Accuracy (train): ', accuracyTrain_rf)"
   ],
   "metadata": {
    "execution": {
     "iopub.status.busy": "2024-01-05T12:56:08.085427Z",
     "iopub.execute_input": "2024-01-05T12:56:08.085762Z",
     "iopub.status.idle": "2024-01-05T12:56:08.100534Z",
     "shell.execute_reply.started": "2024-01-05T12:56:08.085732Z",
     "shell.execute_reply": "2024-01-05T12:56:08.099093Z"
    },
    "trusted": true,
    "ExecuteTime": {
     "end_time": "2024-02-22T13:35:23.269286100Z",
     "start_time": "2024-02-22T13:35:23.240260500Z"
    }
   },
   "execution_count": 33,
   "outputs": [
    {
     "name": "stdout",
     "output_type": "stream",
     "text": [
      "Accuracy (train):  0.9999579407806191\n"
     ]
    }
   ]
  },
  {
   "cell_type": "code",
   "source": [
    "predTest_rf = rf_classifier.predict(X_test)\n",
    "accuracyTest_rf = accuracy_score(predTest_rf, y_test)\n",
    "print('Accuracy (test): ', accuracyTest_rf)"
   ],
   "metadata": {
    "execution": {
     "iopub.status.busy": "2024-01-05T12:56:08.102833Z",
     "iopub.execute_input": "2024-01-05T12:56:08.103961Z",
     "iopub.status.idle": "2024-01-05T12:56:08.909684Z",
     "shell.execute_reply.started": "2024-01-05T12:56:08.103758Z",
     "shell.execute_reply": "2024-01-05T12:56:08.908328Z"
    },
    "trusted": true,
    "ExecuteTime": {
     "end_time": "2024-02-22T13:35:34.721046900Z",
     "start_time": "2024-02-22T13:35:34.593792400Z"
    }
   },
   "execution_count": 34,
   "outputs": [
    {
     "name": "stdout",
     "output_type": "stream",
     "text": [
      "Accuracy (test):  0.9978129205921938\n"
     ]
    },
    {
     "name": "stderr",
     "output_type": "stream",
     "text": [
      "[Parallel(n_jobs=20)]: Using backend ThreadingBackend with 20 concurrent workers.\n",
      "[Parallel(n_jobs=20)]: Done   1 tasks      | elapsed:    0.0s\n",
      "[Parallel(n_jobs=20)]: Done  10 tasks      | elapsed:    0.0s\n",
      "[Parallel(n_jobs=20)]: Done  21 tasks      | elapsed:    0.0s\n",
      "[Parallel(n_jobs=20)]: Done  32 tasks      | elapsed:    0.0s\n",
      "[Parallel(n_jobs=20)]: Done  45 tasks      | elapsed:    0.0s\n",
      "[Parallel(n_jobs=20)]: Done  58 tasks      | elapsed:    0.0s\n",
      "[Parallel(n_jobs=20)]: Done  72 out of 100 | elapsed:    0.0s remaining:    0.0s\n",
      "[Parallel(n_jobs=20)]: Done  83 out of 100 | elapsed:    0.0s remaining:    0.0s\n",
      "[Parallel(n_jobs=20)]: Done  94 out of 100 | elapsed:    0.0s remaining:    0.0s\n",
      "[Parallel(n_jobs=20)]: Done 100 out of 100 | elapsed:    0.0s finished\n"
     ]
    }
   ]
  },
  {
   "cell_type": "markdown",
   "source": [
    "## Сравнение"
   ],
   "metadata": {}
  },
  {
   "cell_type": "code",
   "source": [
    "results = {\n",
    "    'Варианты': ['Изначальный набор данных', 'Случаный Undersampling', 'Случайный Oversampling'],\n",
    "    'Accuracy (train)': [0.9998, 1.0, 0.9999],\n",
    "    'Accuracy (test)': [0.9618, 0.827, 0.9979]\n",
    "}\n",
    "results_df = pd.DataFrame(results)\n",
    "print(results_df)"
   ],
   "metadata": {
    "execution": {
     "iopub.status.busy": "2024-01-05T12:56:28.069569Z",
     "iopub.execute_input": "2024-01-05T12:56:28.070004Z",
     "iopub.status.idle": "2024-01-05T12:56:28.080307Z",
     "shell.execute_reply.started": "2024-01-05T12:56:28.069972Z",
     "shell.execute_reply": "2024-01-05T12:56:28.079262Z"
    },
    "trusted": true,
    "ExecuteTime": {
     "end_time": "2024-02-22T13:36:46.887320200Z",
     "start_time": "2024-02-22T13:36:46.830633100Z"
    }
   },
   "execution_count": 35,
   "outputs": [
    {
     "name": "stdout",
     "output_type": "stream",
     "text": [
      "                   Варианты  Accuracy (train)  Accuracy (test)\n",
      "0  Изначальный набор данных            0.9998           0.9618\n",
      "1    Случаный Undersampling            1.0000           0.8270\n",
      "2    Случайный Oversampling            0.9999           0.9979\n"
     ]
    }
   ]
  },
  {
   "cell_type": "code",
   "execution_count": null,
   "outputs": [],
   "source": [],
   "metadata": {
    "collapsed": false
   }
  }
 ]
}
