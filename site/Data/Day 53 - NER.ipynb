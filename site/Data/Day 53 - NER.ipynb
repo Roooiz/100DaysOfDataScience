{
 "cells": [
  {
   "cell_type": "markdown",
   "source": [
    "# Извлечение именованных сущностей (NER)\n",
    "\n",
    "Извлечение именованных сущностей (NER) - это задача в области обработки естественного языка, которая заключается в выделении и классификации конкретных объектов (сущностей) в тексте. Эти сущности могут включать в себя имена людей, организации, места, даты и другие типы информации.\n",
    "\n",
    "## Цель NER\n",
    "\n",
    "Цель NER состоит в том, чтобы автоматически распознавать и классифицировать конкретные фрагменты текста как определенные типы сущностей. Например, в предложении \"Apple Inc. была основана Стивом Джобсом в Купертино в 1976 году\", NER должно определить \"Apple Inc.\" как организацию, \"Стивом Джобсом\" как имя человека, \"Купертино\" как местоположение и \"1976 году\" как дату.\n",
    "\n",
    "NER имеет множество приложений, таких как:\n",
    "- **Информационный поиск:** Позволяет уточнить запрос, ограничив результаты поиска по конкретным сущностям.\n",
    "- **Извлечение информации:** Помогает автоматически извлекать ключевую информацию из текстов, упрощая анализ данных.\n",
    "- **Автоматическая обработка языка:** Используется для лучшего понимания контекста и семантики текста.\n",
    "\n",
    "## Как работает?\n",
    "\n",
    "NER использует методы машинного обучения, основанные на алгоритмах классификации, чтобы определить, к какому классу относится каждая часть текста. Для этого требуется обучение модели на размеченных данных, где каждая сущность в тексте помечена определенным классом.\n",
    "\n",
    "## Популярные инструменты для NER\n",
    "\n",
    "Несколько популярных библиотек и инструментов для работы с NER включают:\n",
    "- **Spacy:** Библиотека для обработки естественного языка, которая включает в себя инструменты для извлечения именованных сущностей.\n",
    "- **NLTK (Natural Language Toolkit):** Библиотека на языке Python, предоставляющая инструменты для работы с текстом, включая NER.\n",
    "- **Stanford NER:** Инструмент для обучения собственных моделей извлечения именованных сущностей."
   ],
   "metadata": {
    "collapsed": false
   }
  },
  {
   "cell_type": "markdown",
   "metadata": {},
   "source": [
    "# Загрузим данные"
   ]
  },
  {
   "cell_type": "code",
   "execution_count": 1,
   "metadata": {
    "ExecuteTime": {
     "end_time": "2024-03-01T16:17:48.752985100Z",
     "start_time": "2024-03-01T16:17:46.396302600Z"
    }
   },
   "outputs": [
    {
     "data": {
      "text/plain": "    Sentence #           Word  POS Tag\n0  Sentence: 1      Thousands  NNS   O\n1          NaN             of   IN   O\n2          NaN  demonstrators  NNS   O\n3          NaN           have  VBP   O\n4          NaN        marched  VBN   O",
      "text/html": "<div>\n<style scoped>\n    .dataframe tbody tr th:only-of-type {\n        vertical-align: middle;\n    }\n\n    .dataframe tbody tr th {\n        vertical-align: top;\n    }\n\n    .dataframe thead th {\n        text-align: right;\n    }\n</style>\n<table border=\"1\" class=\"dataframe\">\n  <thead>\n    <tr style=\"text-align: right;\">\n      <th></th>\n      <th>Sentence #</th>\n      <th>Word</th>\n      <th>POS</th>\n      <th>Tag</th>\n    </tr>\n  </thead>\n  <tbody>\n    <tr>\n      <th>0</th>\n      <td>Sentence: 1</td>\n      <td>Thousands</td>\n      <td>NNS</td>\n      <td>O</td>\n    </tr>\n    <tr>\n      <th>1</th>\n      <td>NaN</td>\n      <td>of</td>\n      <td>IN</td>\n      <td>O</td>\n    </tr>\n    <tr>\n      <th>2</th>\n      <td>NaN</td>\n      <td>demonstrators</td>\n      <td>NNS</td>\n      <td>O</td>\n    </tr>\n    <tr>\n      <th>3</th>\n      <td>NaN</td>\n      <td>have</td>\n      <td>VBP</td>\n      <td>O</td>\n    </tr>\n    <tr>\n      <th>4</th>\n      <td>NaN</td>\n      <td>marched</td>\n      <td>VBN</td>\n      <td>O</td>\n    </tr>\n  </tbody>\n</table>\n</div>"
     },
     "execution_count": 1,
     "metadata": {},
     "output_type": "execute_result"
    }
   ],
   "source": [
    "import pandas as pd\n",
    "\n",
    "data = pd.read_csv('Datasets/ner_dataset.csv', encoding='unicode_escape')\n",
    "data.head()"
   ]
  },
  {
   "cell_type": "code",
   "execution_count": 2,
   "metadata": {
    "ExecuteTime": {
     "end_time": "2024-03-01T16:17:53.318968100Z",
     "start_time": "2024-03-01T16:17:53.300068400Z"
    }
   },
   "outputs": [
    {
     "data": {
      "text/plain": "(1048575, 4)"
     },
     "execution_count": 2,
     "metadata": {},
     "output_type": "execute_result"
    }
   ],
   "source": [
    "data.shape"
   ]
  },
  {
   "cell_type": "markdown",
   "metadata": {},
   "source": [
    "Мы можем видеть, что предложения разбиты на токены в столбце \"Word\". В столбце \"Sentence #\" номер предложения отображается один раз, а затем выводится NaN до начала следующего предложения."
   ]
  },
  {
   "cell_type": "markdown",
   "metadata": {},
   "source": [
    "## Вытащим необходимые части для нейронной сети\n",
    "Для обучения нейронной сети мы будем использовать два параметра, приведенных ниже. Нейронная сеть будет принимать только целые числа в качестве входных данных. Преобразуем все уникальные токены в корпусе в соответствующий индекс.\n",
    "- {token} в {token id}: адрес строки в матрице вложений для текущего токена.\n",
    "- {tag} в {tag id}: векторы распределения вероятности истинности с one-hot кодированием для вычисления потерь на выходе сети."
   ]
  },
  {
   "cell_type": "code",
   "execution_count": 3,
   "metadata": {
    "ExecuteTime": {
     "end_time": "2024-03-01T16:28:41.581406600Z",
     "start_time": "2024-03-01T16:28:41.459880200Z"
    }
   },
   "outputs": [],
   "source": [
    "def get_dict_map(data, token_or_tag):\n",
    "    if token_or_tag == 'token':\n",
    "        vocab = list(set(data['Word'].to_list()))\n",
    "    else:\n",
    "        vocab = list(set(data['Tag'].to_list()))\n",
    "\n",
    "    idx2tok = {idx: tok for idx, tok in enumerate(vocab)}\n",
    "    tok2idx = {tok: idx for idx, tok in enumerate(vocab)}\n",
    "    return tok2idx, idx2tok\n",
    "\n",
    "\n",
    "token2idx, idx2token = get_dict_map(data, 'token')\n",
    "tag2idx, idx2tag = get_dict_map(data, 'tag')"
   ]
  },
  {
   "cell_type": "code",
   "execution_count": 4,
   "metadata": {
    "ExecuteTime": {
     "end_time": "2024-03-01T16:28:45.800958500Z",
     "start_time": "2024-03-01T16:28:45.591718600Z"
    }
   },
   "outputs": [],
   "source": [
    "data['Word_idx'] = data['Word'].map(token2idx)\n",
    "data['Tag_idx'] = data['Tag'].map(tag2idx)"
   ]
  },
  {
   "cell_type": "code",
   "execution_count": 5,
   "metadata": {
    "ExecuteTime": {
     "end_time": "2024-03-01T16:28:46.881275Z",
     "start_time": "2024-03-01T16:28:46.844650700Z"
    }
   },
   "outputs": [
    {
     "data": {
      "text/plain": "    Sentence #           Word  POS Tag  Word_idx  Tag_idx\n0  Sentence: 1      Thousands  NNS   O     24054        6\n1          NaN             of   IN   O      5452        6\n2          NaN  demonstrators  NNS   O     15942        6\n3          NaN           have  VBP   O     35023        6\n4          NaN        marched  VBN   O      3890        6",
      "text/html": "<div>\n<style scoped>\n    .dataframe tbody tr th:only-of-type {\n        vertical-align: middle;\n    }\n\n    .dataframe tbody tr th {\n        vertical-align: top;\n    }\n\n    .dataframe thead th {\n        text-align: right;\n    }\n</style>\n<table border=\"1\" class=\"dataframe\">\n  <thead>\n    <tr style=\"text-align: right;\">\n      <th></th>\n      <th>Sentence #</th>\n      <th>Word</th>\n      <th>POS</th>\n      <th>Tag</th>\n      <th>Word_idx</th>\n      <th>Tag_idx</th>\n    </tr>\n  </thead>\n  <tbody>\n    <tr>\n      <th>0</th>\n      <td>Sentence: 1</td>\n      <td>Thousands</td>\n      <td>NNS</td>\n      <td>O</td>\n      <td>24054</td>\n      <td>6</td>\n    </tr>\n    <tr>\n      <th>1</th>\n      <td>NaN</td>\n      <td>of</td>\n      <td>IN</td>\n      <td>O</td>\n      <td>5452</td>\n      <td>6</td>\n    </tr>\n    <tr>\n      <th>2</th>\n      <td>NaN</td>\n      <td>demonstrators</td>\n      <td>NNS</td>\n      <td>O</td>\n      <td>15942</td>\n      <td>6</td>\n    </tr>\n    <tr>\n      <th>3</th>\n      <td>NaN</td>\n      <td>have</td>\n      <td>VBP</td>\n      <td>O</td>\n      <td>35023</td>\n      <td>6</td>\n    </tr>\n    <tr>\n      <th>4</th>\n      <td>NaN</td>\n      <td>marched</td>\n      <td>VBN</td>\n      <td>O</td>\n      <td>3890</td>\n      <td>6</td>\n    </tr>\n  </tbody>\n</table>\n</div>"
     },
     "execution_count": 5,
     "metadata": {},
     "output_type": "execute_result"
    }
   ],
   "source": [
    "data.head()"
   ]
  },
  {
   "cell_type": "markdown",
   "metadata": {},
   "source": [
    "## Преобразуем столбцы для извлечения последовательных данных\n",
    "Заполним NaN в столбце \"Sentence #\", используя метод ffill в fillna. После этого сгруппируем столбец, чтобы получить список токенов и тегов для каждого предложения"
   ]
  },
  {
   "cell_type": "code",
   "execution_count": 6,
   "metadata": {
    "ExecuteTime": {
     "end_time": "2024-03-01T16:29:55.842935300Z",
     "start_time": "2024-03-01T16:29:55.702869700Z"
    }
   },
   "outputs": [
    {
     "data": {
      "text/plain": "Sentence #     True\nWord           True\nPOS           False\nTag           False\nWord_idx      False\nTag_idx       False\ndtype: bool"
     },
     "execution_count": 6,
     "metadata": {},
     "output_type": "execute_result"
    }
   ],
   "source": [
    "data.isna().any()"
   ]
  },
  {
   "cell_type": "code",
   "execution_count": 8,
   "metadata": {
    "ExecuteTime": {
     "end_time": "2024-03-01T16:31:23.315469Z",
     "start_time": "2024-03-01T16:31:17.868264900Z"
    }
   },
   "outputs": [
    {
     "name": "stderr",
     "output_type": "stream",
     "text": [
      "C:\\Users\\Admin\\AppData\\Local\\Temp\\ipykernel_19804\\777973001.py:1: FutureWarning: DataFrame.fillna with 'method' is deprecated and will raise in a future version. Use obj.ffill() or obj.bfill() instead.\n",
      "  data_fillna = data.fillna(method='ffill', axis=0)\n"
     ]
    },
    {
     "data": {
      "text/plain": "        Sentence #                                               Word  \\\n0      Sentence: 1  [Thousands, of, demonstrators, have, marched, ...   \n1     Sentence: 10  [Iranian, officials, say, they, expect, to, ge...   \n2    Sentence: 100  [Helicopter, gunships, Saturday, pounded, mili...   \n3   Sentence: 1000  [They, left, after, a, tense, hour-long, stand...   \n4  Sentence: 10000  [U.N., relief, coordinator, Jan, Egeland, said...   \n\n                                                 POS  \\\n0  [NNS, IN, NNS, VBP, VBN, IN, NNP, TO, VB, DT, ...   \n1  [JJ, NNS, VBP, PRP, VBP, TO, VB, NN, TO, JJ, J...   \n2  [NN, NNS, NNP, VBD, JJ, NNS, IN, DT, NNP, JJ, ...   \n3     [PRP, VBD, IN, DT, NN, JJ, NN, IN, NN, NNS, .]   \n4  [NNP, NN, NN, NNP, NNP, VBD, NNP, ,, NNP, ,, J...   \n\n                                                 Tag  \\\n0  [O, O, O, O, O, O, B-geo, O, O, O, O, O, B-geo...   \n1  [B-gpe, O, O, O, O, O, O, O, O, O, O, O, O, O,...   \n2  [O, O, B-tim, O, O, O, O, O, B-geo, O, O, O, O...   \n3                  [O, O, O, O, O, O, O, O, O, O, O]   \n4  [B-geo, O, O, B-per, I-per, O, B-tim, O, B-geo...   \n\n                                            Word_idx  \\\n0  [24054, 5452, 15942, 35023, 3890, 34031, 29039...   \n1  [31686, 34694, 6497, 24260, 33579, 21129, 1091...   \n2  [6453, 5421, 27868, 9731, 26726, 33346, 7228, ...   \n3  [27631, 1643, 34435, 13942, 10539, 23321, 1039...   \n4  [10755, 15407, 27232, 34203, 150, 14088, 9204,...   \n\n                                             Tag_idx  \n0  [6, 6, 6, 6, 6, 6, 11, 6, 6, 6, 6, 6, 11, 6, 6...  \n1  [13, 6, 6, 6, 6, 6, 6, 6, 6, 6, 6, 6, 6, 6, 6,...  \n2  [6, 6, 5, 6, 6, 6, 6, 6, 11, 6, 6, 6, 6, 6, 16...  \n3                  [6, 6, 6, 6, 6, 6, 6, 6, 6, 6, 6]  \n4  [11, 6, 6, 14, 1, 6, 5, 6, 11, 6, 13, 6, 13, 6...  ",
      "text/html": "<div>\n<style scoped>\n    .dataframe tbody tr th:only-of-type {\n        vertical-align: middle;\n    }\n\n    .dataframe tbody tr th {\n        vertical-align: top;\n    }\n\n    .dataframe thead th {\n        text-align: right;\n    }\n</style>\n<table border=\"1\" class=\"dataframe\">\n  <thead>\n    <tr style=\"text-align: right;\">\n      <th></th>\n      <th>Sentence #</th>\n      <th>Word</th>\n      <th>POS</th>\n      <th>Tag</th>\n      <th>Word_idx</th>\n      <th>Tag_idx</th>\n    </tr>\n  </thead>\n  <tbody>\n    <tr>\n      <th>0</th>\n      <td>Sentence: 1</td>\n      <td>[Thousands, of, demonstrators, have, marched, ...</td>\n      <td>[NNS, IN, NNS, VBP, VBN, IN, NNP, TO, VB, DT, ...</td>\n      <td>[O, O, O, O, O, O, B-geo, O, O, O, O, O, B-geo...</td>\n      <td>[24054, 5452, 15942, 35023, 3890, 34031, 29039...</td>\n      <td>[6, 6, 6, 6, 6, 6, 11, 6, 6, 6, 6, 6, 11, 6, 6...</td>\n    </tr>\n    <tr>\n      <th>1</th>\n      <td>Sentence: 10</td>\n      <td>[Iranian, officials, say, they, expect, to, ge...</td>\n      <td>[JJ, NNS, VBP, PRP, VBP, TO, VB, NN, TO, JJ, J...</td>\n      <td>[B-gpe, O, O, O, O, O, O, O, O, O, O, O, O, O,...</td>\n      <td>[31686, 34694, 6497, 24260, 33579, 21129, 1091...</td>\n      <td>[13, 6, 6, 6, 6, 6, 6, 6, 6, 6, 6, 6, 6, 6, 6,...</td>\n    </tr>\n    <tr>\n      <th>2</th>\n      <td>Sentence: 100</td>\n      <td>[Helicopter, gunships, Saturday, pounded, mili...</td>\n      <td>[NN, NNS, NNP, VBD, JJ, NNS, IN, DT, NNP, JJ, ...</td>\n      <td>[O, O, B-tim, O, O, O, O, O, B-geo, O, O, O, O...</td>\n      <td>[6453, 5421, 27868, 9731, 26726, 33346, 7228, ...</td>\n      <td>[6, 6, 5, 6, 6, 6, 6, 6, 11, 6, 6, 6, 6, 6, 16...</td>\n    </tr>\n    <tr>\n      <th>3</th>\n      <td>Sentence: 1000</td>\n      <td>[They, left, after, a, tense, hour-long, stand...</td>\n      <td>[PRP, VBD, IN, DT, NN, JJ, NN, IN, NN, NNS, .]</td>\n      <td>[O, O, O, O, O, O, O, O, O, O, O]</td>\n      <td>[27631, 1643, 34435, 13942, 10539, 23321, 1039...</td>\n      <td>[6, 6, 6, 6, 6, 6, 6, 6, 6, 6, 6]</td>\n    </tr>\n    <tr>\n      <th>4</th>\n      <td>Sentence: 10000</td>\n      <td>[U.N., relief, coordinator, Jan, Egeland, said...</td>\n      <td>[NNP, NN, NN, NNP, NNP, VBD, NNP, ,, NNP, ,, J...</td>\n      <td>[B-geo, O, O, B-per, I-per, O, B-tim, O, B-geo...</td>\n      <td>[10755, 15407, 27232, 34203, 150, 14088, 9204,...</td>\n      <td>[11, 6, 6, 14, 1, 6, 5, 6, 11, 6, 13, 6, 13, 6...</td>\n    </tr>\n  </tbody>\n</table>\n</div>"
     },
     "execution_count": 8,
     "metadata": {},
     "output_type": "execute_result"
    }
   ],
   "source": [
    "data_fillna = data.fillna(method='ffill', axis=0)\n",
    "data_group = data_fillna.groupby(['Sentence #'], as_index=False\n",
    "                                 )[['Word', 'POS', 'Tag', 'Word_idx', 'Tag_idx']].agg(lambda x: list(x))\n",
    "\n",
    "data_group.head()"
   ]
  },
  {
   "cell_type": "markdown",
   "metadata": {},
   "source": [
    "## Заполним последовательности и разделим набор данных на обучающие, тестовые выборки\n",
    "Слои LSTM принимают последовательности только одинаковой длины. Поэтому мы преобразуем наш список token_sequences ('Word_idx'), который представляет собой списки целых чисел, в матрицу (token_sequences, max_len). Мы можем использовать любую длину в качестве max_len. Тут мы будем использовать длину самой длинной последовательности как max_len. Последовательности, которые короче max_len, дополняются указанным значением в конце."
   ]
  },
  {
   "cell_type": "code",
   "execution_count": 9,
   "metadata": {
    "ExecuteTime": {
     "end_time": "2024-03-01T16:33:30.595191900Z",
     "start_time": "2024-03-01T16:33:15.915940200Z"
    }
   },
   "outputs": [
    {
     "name": "stdout",
     "output_type": "stream",
     "text": [
      "WARNING:tensorflow:From C:\\Users\\Admin\\PycharmProjects\\100DaysOfDataScience\\venv\\Lib\\site-packages\\keras\\src\\losses.py:2976: The name tf.losses.sparse_softmax_cross_entropy is deprecated. Please use tf.compat.v1.losses.sparse_softmax_cross_entropy instead.\n"
     ]
    }
   ],
   "source": [
    "from sklearn.model_selection import train_test_split\n",
    "from keras.preprocessing.sequence import pad_sequences\n",
    "from keras.utils import to_categorical"
   ]
  },
  {
   "cell_type": "code",
   "execution_count": 10,
   "metadata": {
    "ExecuteTime": {
     "end_time": "2024-03-01T16:34:22.569688400Z",
     "start_time": "2024-03-01T16:34:21.385952700Z"
    }
   },
   "outputs": [
    {
     "name": "stdout",
     "output_type": "stream",
     "text": [
      "длина train_tokens: 43163 \n",
      "длина test_tokens: 4796 \n",
      "train_tags: 43163 \n",
      "test_tags: 4796\n"
     ]
    }
   ],
   "source": [
    "def get_pad_train_test_val(data_group, data):\n",
    "    n_token = len(list(set(data['Word'].to_list())))\n",
    "    n_tag = len(list(set(data['Tag'].to_list())))\n",
    "\n",
    "    tokens = data_group['Word_idx'].tolist()\n",
    "    maxlen = max([len(s) for s in tokens])\n",
    "    pad_tokens = pad_sequences(tokens, maxlen=maxlen, dtype='int32', padding='post', value=n_token - 1)\n",
    "\n",
    "    tags = data_group['Tag_idx'].tolist()\n",
    "    pad_tags = pad_sequences(tags, maxlen=maxlen, dtype='int32', padding='post', value=tag2idx[\"O\"])\n",
    "\n",
    "    n_tags = len(tag2idx)\n",
    "    pad_tags = [to_categorical(i, num_classes=n_tags) for i in pad_tags]\n",
    "\n",
    "    train_tokens, test_tokens, train_tags, test_tags = train_test_split(pad_tokens, pad_tags, test_size=0.1,\n",
    "                                                                        train_size=0.9, random_state=2020)\n",
    "\n",
    "    print(\n",
    "        'длина train_tokens:', len(train_tokens),\n",
    "        '\\nдлина test_tokens:', len(test_tokens),\n",
    "        '\\ntrain_tags:', len(train_tags),\n",
    "        '\\ntest_tags:', len(test_tags)\n",
    "    )\n",
    "\n",
    "    return train_tokens, test_tokens, train_tags, test_tags\n",
    "\n",
    "\n",
    "train_tokens, test_tokens, train_tags, test_tags = get_pad_train_test_val(data_group, data)"
   ]
  },
  {
   "cell_type": "code",
   "execution_count": 11,
   "metadata": {
    "ExecuteTime": {
     "end_time": "2024-03-01T16:34:26.816795900Z",
     "start_time": "2024-03-01T16:34:26.771490800Z"
    }
   },
   "outputs": [
    {
     "name": "stdout",
     "output_type": "stream",
     "text": [
      "30839\t[0. 0. 0. 0. 0. 0. 1. 0. 0. 0. 0. 0. 0. 0. 0. 0. 0.]\n",
      "6497\t[0. 0. 0. 0. 0. 0. 1. 0. 0. 0. 0. 0. 0. 0. 0. 0. 0.]\n",
      "23896\t[0. 0. 0. 0. 0. 0. 0. 0. 0. 0. 0. 0. 0. 0. 1. 0. 0.]\n",
      "29434\t[0. 0. 0. 0. 0. 0. 1. 0. 0. 0. 0. 0. 0. 0. 0. 0. 0.]\n",
      "23694\t[0. 0. 0. 0. 0. 0. 1. 0. 0. 0. 0. 0. 0. 0. 0. 0. 0.]\n",
      "29575\t[0. 0. 0. 0. 0. 0. 1. 0. 0. 0. 0. 0. 0. 0. 0. 0. 0.]\n",
      "21129\t[0. 0. 0. 0. 0. 0. 1. 0. 0. 0. 0. 0. 0. 0. 0. 0. 0.]\n",
      "15084\t[0. 0. 0. 0. 0. 0. 1. 0. 0. 0. 0. 0. 0. 0. 0. 0. 0.]\n",
      "21817\t[0. 0. 0. 0. 0. 0. 1. 0. 0. 0. 0. 0. 0. 0. 0. 0. 0.]\n",
      "13924\t[0. 0. 0. 0. 0. 0. 0. 0. 0. 0. 0. 1. 0. 0. 0. 0. 0.]\n",
      "25844\t[0. 0. 0. 0. 0. 0. 1. 0. 0. 0. 0. 0. 0. 0. 0. 0. 0.]\n",
      "14226\t[0. 0. 0. 0. 0. 0. 1. 0. 0. 0. 0. 0. 0. 0. 0. 0. 0.]\n",
      "24260\t[0. 0. 0. 0. 0. 0. 1. 0. 0. 0. 0. 0. 0. 0. 0. 0. 0.]\n",
      "6519\t[0. 0. 0. 0. 0. 0. 1. 0. 0. 0. 0. 0. 0. 0. 0. 0. 0.]\n",
      "13019\t[0. 0. 0. 0. 0. 0. 1. 0. 0. 0. 0. 0. 0. 0. 0. 0. 0.]\n",
      "99\t[0. 0. 0. 0. 0. 0. 1. 0. 0. 0. 0. 0. 0. 0. 0. 0. 0.]\n",
      "3864\t[0. 0. 0. 0. 0. 0. 1. 0. 0. 0. 0. 0. 0. 0. 0. 0. 0.]\n",
      "3043\t[0. 0. 0. 0. 0. 0. 1. 0. 0. 0. 0. 0. 0. 0. 0. 0. 0.]\n",
      "23126\t[0. 0. 0. 0. 0. 0. 1. 0. 0. 0. 0. 0. 0. 0. 0. 0. 0.]\n",
      "19327\t[0. 0. 0. 0. 0. 0. 1. 0. 0. 0. 0. 0. 0. 0. 0. 0. 0.]\n",
      "7228\t[0. 0. 0. 0. 0. 0. 1. 0. 0. 0. 0. 0. 0. 0. 0. 0. 0.]\n",
      "3167\t[0. 0. 0. 0. 0. 0. 1. 0. 0. 0. 0. 0. 0. 0. 0. 0. 0.]\n",
      "10659\t[0. 0. 0. 0. 0. 0. 1. 0. 0. 0. 0. 0. 0. 0. 0. 0. 0.]\n",
      "13732\t[0. 0. 0. 0. 0. 1. 0. 0. 0. 0. 0. 0. 0. 0. 0. 0. 0.]\n",
      "21246\t[0. 0. 0. 1. 0. 0. 0. 0. 0. 0. 0. 0. 0. 0. 0. 0. 0.]\n",
      "33\t[0. 0. 0. 1. 0. 0. 0. 0. 0. 0. 0. 0. 0. 0. 0. 0. 0.]\n",
      "29887\t[0. 0. 0. 0. 0. 0. 1. 0. 0. 0. 0. 0. 0. 0. 0. 0. 0.]\n",
      "35177\t[0. 0. 0. 0. 0. 0. 1. 0. 0. 0. 0. 0. 0. 0. 0. 0. 0.]\n",
      "35177\t[0. 0. 0. 0. 0. 0. 1. 0. 0. 0. 0. 0. 0. 0. 0. 0. 0.]\n",
      "35177\t[0. 0. 0. 0. 0. 0. 1. 0. 0. 0. 0. 0. 0. 0. 0. 0. 0.]\n",
      "35177\t[0. 0. 0. 0. 0. 0. 1. 0. 0. 0. 0. 0. 0. 0. 0. 0. 0.]\n",
      "35177\t[0. 0. 0. 0. 0. 0. 1. 0. 0. 0. 0. 0. 0. 0. 0. 0. 0.]\n",
      "35177\t[0. 0. 0. 0. 0. 0. 1. 0. 0. 0. 0. 0. 0. 0. 0. 0. 0.]\n",
      "35177\t[0. 0. 0. 0. 0. 0. 1. 0. 0. 0. 0. 0. 0. 0. 0. 0. 0.]\n",
      "35177\t[0. 0. 0. 0. 0. 0. 1. 0. 0. 0. 0. 0. 0. 0. 0. 0. 0.]\n",
      "35177\t[0. 0. 0. 0. 0. 0. 1. 0. 0. 0. 0. 0. 0. 0. 0. 0. 0.]\n",
      "35177\t[0. 0. 0. 0. 0. 0. 1. 0. 0. 0. 0. 0. 0. 0. 0. 0. 0.]\n",
      "35177\t[0. 0. 0. 0. 0. 0. 1. 0. 0. 0. 0. 0. 0. 0. 0. 0. 0.]\n",
      "35177\t[0. 0. 0. 0. 0. 0. 1. 0. 0. 0. 0. 0. 0. 0. 0. 0. 0.]\n",
      "35177\t[0. 0. 0. 0. 0. 0. 1. 0. 0. 0. 0. 0. 0. 0. 0. 0. 0.]\n",
      "35177\t[0. 0. 0. 0. 0. 0. 1. 0. 0. 0. 0. 0. 0. 0. 0. 0. 0.]\n",
      "35177\t[0. 0. 0. 0. 0. 0. 1. 0. 0. 0. 0. 0. 0. 0. 0. 0. 0.]\n",
      "35177\t[0. 0. 0. 0. 0. 0. 1. 0. 0. 0. 0. 0. 0. 0. 0. 0. 0.]\n",
      "35177\t[0. 0. 0. 0. 0. 0. 1. 0. 0. 0. 0. 0. 0. 0. 0. 0. 0.]\n",
      "35177\t[0. 0. 0. 0. 0. 0. 1. 0. 0. 0. 0. 0. 0. 0. 0. 0. 0.]\n",
      "35177\t[0. 0. 0. 0. 0. 0. 1. 0. 0. 0. 0. 0. 0. 0. 0. 0. 0.]\n",
      "35177\t[0. 0. 0. 0. 0. 0. 1. 0. 0. 0. 0. 0. 0. 0. 0. 0. 0.]\n",
      "35177\t[0. 0. 0. 0. 0. 0. 1. 0. 0. 0. 0. 0. 0. 0. 0. 0. 0.]\n",
      "35177\t[0. 0. 0. 0. 0. 0. 1. 0. 0. 0. 0. 0. 0. 0. 0. 0. 0.]\n",
      "35177\t[0. 0. 0. 0. 0. 0. 1. 0. 0. 0. 0. 0. 0. 0. 0. 0. 0.]\n",
      "35177\t[0. 0. 0. 0. 0. 0. 1. 0. 0. 0. 0. 0. 0. 0. 0. 0. 0.]\n",
      "35177\t[0. 0. 0. 0. 0. 0. 1. 0. 0. 0. 0. 0. 0. 0. 0. 0. 0.]\n",
      "35177\t[0. 0. 0. 0. 0. 0. 1. 0. 0. 0. 0. 0. 0. 0. 0. 0. 0.]\n",
      "35177\t[0. 0. 0. 0. 0. 0. 1. 0. 0. 0. 0. 0. 0. 0. 0. 0. 0.]\n",
      "35177\t[0. 0. 0. 0. 0. 0. 1. 0. 0. 0. 0. 0. 0. 0. 0. 0. 0.]\n",
      "35177\t[0. 0. 0. 0. 0. 0. 1. 0. 0. 0. 0. 0. 0. 0. 0. 0. 0.]\n",
      "35177\t[0. 0. 0. 0. 0. 0. 1. 0. 0. 0. 0. 0. 0. 0. 0. 0. 0.]\n",
      "35177\t[0. 0. 0. 0. 0. 0. 1. 0. 0. 0. 0. 0. 0. 0. 0. 0. 0.]\n",
      "35177\t[0. 0. 0. 0. 0. 0. 1. 0. 0. 0. 0. 0. 0. 0. 0. 0. 0.]\n",
      "35177\t[0. 0. 0. 0. 0. 0. 1. 0. 0. 0. 0. 0. 0. 0. 0. 0. 0.]\n",
      "35177\t[0. 0. 0. 0. 0. 0. 1. 0. 0. 0. 0. 0. 0. 0. 0. 0. 0.]\n",
      "35177\t[0. 0. 0. 0. 0. 0. 1. 0. 0. 0. 0. 0. 0. 0. 0. 0. 0.]\n",
      "35177\t[0. 0. 0. 0. 0. 0. 1. 0. 0. 0. 0. 0. 0. 0. 0. 0. 0.]\n",
      "35177\t[0. 0. 0. 0. 0. 0. 1. 0. 0. 0. 0. 0. 0. 0. 0. 0. 0.]\n",
      "35177\t[0. 0. 0. 0. 0. 0. 1. 0. 0. 0. 0. 0. 0. 0. 0. 0. 0.]\n",
      "35177\t[0. 0. 0. 0. 0. 0. 1. 0. 0. 0. 0. 0. 0. 0. 0. 0. 0.]\n",
      "35177\t[0. 0. 0. 0. 0. 0. 1. 0. 0. 0. 0. 0. 0. 0. 0. 0. 0.]\n",
      "35177\t[0. 0. 0. 0. 0. 0. 1. 0. 0. 0. 0. 0. 0. 0. 0. 0. 0.]\n",
      "35177\t[0. 0. 0. 0. 0. 0. 1. 0. 0. 0. 0. 0. 0. 0. 0. 0. 0.]\n",
      "35177\t[0. 0. 0. 0. 0. 0. 1. 0. 0. 0. 0. 0. 0. 0. 0. 0. 0.]\n",
      "35177\t[0. 0. 0. 0. 0. 0. 1. 0. 0. 0. 0. 0. 0. 0. 0. 0. 0.]\n",
      "35177\t[0. 0. 0. 0. 0. 0. 1. 0. 0. 0. 0. 0. 0. 0. 0. 0. 0.]\n",
      "35177\t[0. 0. 0. 0. 0. 0. 1. 0. 0. 0. 0. 0. 0. 0. 0. 0. 0.]\n",
      "35177\t[0. 0. 0. 0. 0. 0. 1. 0. 0. 0. 0. 0. 0. 0. 0. 0. 0.]\n",
      "35177\t[0. 0. 0. 0. 0. 0. 1. 0. 0. 0. 0. 0. 0. 0. 0. 0. 0.]\n",
      "35177\t[0. 0. 0. 0. 0. 0. 1. 0. 0. 0. 0. 0. 0. 0. 0. 0. 0.]\n",
      "35177\t[0. 0. 0. 0. 0. 0. 1. 0. 0. 0. 0. 0. 0. 0. 0. 0. 0.]\n",
      "35177\t[0. 0. 0. 0. 0. 0. 1. 0. 0. 0. 0. 0. 0. 0. 0. 0. 0.]\n",
      "35177\t[0. 0. 0. 0. 0. 0. 1. 0. 0. 0. 0. 0. 0. 0. 0. 0. 0.]\n",
      "35177\t[0. 0. 0. 0. 0. 0. 1. 0. 0. 0. 0. 0. 0. 0. 0. 0. 0.]\n",
      "35177\t[0. 0. 0. 0. 0. 0. 1. 0. 0. 0. 0. 0. 0. 0. 0. 0. 0.]\n",
      "35177\t[0. 0. 0. 0. 0. 0. 1. 0. 0. 0. 0. 0. 0. 0. 0. 0. 0.]\n",
      "35177\t[0. 0. 0. 0. 0. 0. 1. 0. 0. 0. 0. 0. 0. 0. 0. 0. 0.]\n",
      "35177\t[0. 0. 0. 0. 0. 0. 1. 0. 0. 0. 0. 0. 0. 0. 0. 0. 0.]\n",
      "35177\t[0. 0. 0. 0. 0. 0. 1. 0. 0. 0. 0. 0. 0. 0. 0. 0. 0.]\n",
      "35177\t[0. 0. 0. 0. 0. 0. 1. 0. 0. 0. 0. 0. 0. 0. 0. 0. 0.]\n",
      "35177\t[0. 0. 0. 0. 0. 0. 1. 0. 0. 0. 0. 0. 0. 0. 0. 0. 0.]\n",
      "35177\t[0. 0. 0. 0. 0. 0. 1. 0. 0. 0. 0. 0. 0. 0. 0. 0. 0.]\n",
      "35177\t[0. 0. 0. 0. 0. 0. 1. 0. 0. 0. 0. 0. 0. 0. 0. 0. 0.]\n",
      "35177\t[0. 0. 0. 0. 0. 0. 1. 0. 0. 0. 0. 0. 0. 0. 0. 0. 0.]\n",
      "35177\t[0. 0. 0. 0. 0. 0. 1. 0. 0. 0. 0. 0. 0. 0. 0. 0. 0.]\n",
      "35177\t[0. 0. 0. 0. 0. 0. 1. 0. 0. 0. 0. 0. 0. 0. 0. 0. 0.]\n",
      "35177\t[0. 0. 0. 0. 0. 0. 1. 0. 0. 0. 0. 0. 0. 0. 0. 0. 0.]\n",
      "35177\t[0. 0. 0. 0. 0. 0. 1. 0. 0. 0. 0. 0. 0. 0. 0. 0. 0.]\n",
      "35177\t[0. 0. 0. 0. 0. 0. 1. 0. 0. 0. 0. 0. 0. 0. 0. 0. 0.]\n",
      "35177\t[0. 0. 0. 0. 0. 0. 1. 0. 0. 0. 0. 0. 0. 0. 0. 0. 0.]\n",
      "35177\t[0. 0. 0. 0. 0. 0. 1. 0. 0. 0. 0. 0. 0. 0. 0. 0. 0.]\n",
      "35177\t[0. 0. 0. 0. 0. 0. 1. 0. 0. 0. 0. 0. 0. 0. 0. 0. 0.]\n",
      "35177\t[0. 0. 0. 0. 0. 0. 1. 0. 0. 0. 0. 0. 0. 0. 0. 0. 0.]\n",
      "35177\t[0. 0. 0. 0. 0. 0. 1. 0. 0. 0. 0. 0. 0. 0. 0. 0. 0.]\n",
      "35177\t[0. 0. 0. 0. 0. 0. 1. 0. 0. 0. 0. 0. 0. 0. 0. 0. 0.]\n",
      "35177\t[0. 0. 0. 0. 0. 0. 1. 0. 0. 0. 0. 0. 0. 0. 0. 0. 0.]\n",
      "35177\t[0. 0. 0. 0. 0. 0. 1. 0. 0. 0. 0. 0. 0. 0. 0. 0. 0.]\n",
      "35177\t[0. 0. 0. 0. 0. 0. 1. 0. 0. 0. 0. 0. 0. 0. 0. 0. 0.]\n"
     ]
    }
   ],
   "source": [
    "for token, tag in zip(train_tokens[0], train_tags[0]):\n",
    "    print('%s\\t%s' % (token, tag))"
   ]
  },
  {
   "cell_type": "markdown",
   "metadata": {},
   "source": [
    "## Построим модель\n",
    "\n",
    "Построим модель нейронной сети со слоями lstm. Сравнис краткое описание слоев и график модели, чтобы лучше понять слои, входные и выходные размеры. Мы создаем простую модель из 4 слоев.\n",
    "\n",
    "- **Слой 1 - Слой эмбеддинга**: Мы передадим дополненные последовательности равной длины (104) на слой эмбеддинга. Как только сеть будет обучена, каждый токен преобразуется в вектор n измерений (у нас это 64).\n",
    "\n",
    "- **Слой 2 - Двунаправленный LSTM**: Двунаправленный lstm принимает повторяющийся слой (например, первый слой LSTM) в качестве аргумента. Этот слой принимает выходные данные из предыдущего слоя эмбеддинга (104, 64). Он также позволяет вам указать режим слияния, то есть как прямые и обратные выходные данные должны быть объединены перед передачей на следующий слой. Режим по умолчанию - concatenate, при котором выходы объединяются вместе, обеспечивая двойное количество выходов на следующий уровень, в нашем случае это 128 (64 * 2).\n",
    "\n",
    "- Выходной размер двунаправленного слоя lstm (104, 128) становится входным размером следующего слоя lstm.\n",
    "\n",
    "- **Слой 3 - Слой LSTM**: Сеть LSTM - это рекуррентная нейронная сеть, которая имеет блоки ячеек LSTM вместо наших стандартных слоев нейронной сети. Эти ячейки имеют различные компоненты, называемые входными элементами, элементами забывания (память) и выходными элементами.\n",
    "\n",
    "- Этот слой принимает выходное измерение из предыдущего двунаправленного слоя lstm (104, 128) и выводит (104, 256)\n",
    "\n",
    "- **Слой 4 - TimeDistributed**: Мы имеем дело с архитектурой RNN от многих ко многим, где мы ожидаем вывода от каждой входной последовательности, например (a1 →b1, a2 →b2... an →bn), где a и b являются входами и выходами каждой последовательности. Слои TimeDistributeDense позволяют нам применять плотную (полностью подключенную) операцию к каждому выходу на каждом временном шаге.\n",
    "Этот слой принимает размерность вывода предыдущего слоя lstm (104, 256) и выводит максимальную длину последовательности (104) и максимальное количество тегов (17)."
   ]
  },
  {
   "cell_type": "code",
   "execution_count": 12,
   "metadata": {
    "ExecuteTime": {
     "end_time": "2024-03-01T16:48:46.293538100Z",
     "start_time": "2024-03-01T16:48:46.274014Z"
    }
   },
   "outputs": [],
   "source": [
    "import numpy as np\n",
    "import tensorflow\n",
    "from keras import Sequential, Model, Input\n",
    "from keras.layers import LSTM, Embedding, Dense, TimeDistributed, Dropout, Bidirectional\n",
    "from keras.utils import plot_model\n",
    "\n",
    "from numpy.random import seed\n",
    "\n",
    "seed(1)\n",
    "tensorflow.random.set_seed(2)"
   ]
  },
  {
   "cell_type": "code",
   "execution_count": 13,
   "metadata": {
    "ExecuteTime": {
     "end_time": "2024-03-01T16:48:53.571927700Z",
     "start_time": "2024-03-01T16:48:53.492776400Z"
    }
   },
   "outputs": [
    {
     "name": "stdout",
     "output_type": "stream",
     "text": [
      "input_dim:  35179 \n",
      "output_dim:  32 \n",
      "input_length:  104 \n",
      "n_tags:  17\n"
     ]
    }
   ],
   "source": [
    "input_dim = len(list(set(data['Word'].to_list()))) + 1\n",
    "output_dim = 32\n",
    "input_length = max([len(s) for s in data_group['Word_idx'].tolist()])\n",
    "n_tags = len(tag2idx)\n",
    "print('input_dim: ', input_dim, '\\noutput_dim: ', output_dim, '\\ninput_length: ', input_length, '\\nn_tags: ', n_tags)"
   ]
  },
  {
   "cell_type": "code",
   "execution_count": 14,
   "metadata": {
    "ExecuteTime": {
     "end_time": "2024-03-01T16:50:04.753515Z",
     "start_time": "2024-03-01T16:50:04.730339500Z"
    }
   },
   "outputs": [],
   "source": [
    "def get_bilstm_lstm_model():\n",
    "    model = Sequential()\n",
    "    # Слой эмбеддинга\n",
    "    model.add(Embedding(input_dim=input_dim, output_dim=output_dim, input_length=input_length))\n",
    "    # Двунаправленный слой\n",
    "    model.add(Bidirectional(LSTM(units=output_dim, return_sequences=True, dropout=0.2, recurrent_dropout=0.2),\n",
    "                            merge_mode='concat'))\n",
    "    # Слой LSTM \n",
    "    model.add(LSTM(units=output_dim, return_sequences=True, dropout=0.5, recurrent_dropout=0.5))\n",
    "    # timeDistributed слой\n",
    "    model.add(TimeDistributed(Dense(n_tags, activation=\"relu\")))\n",
    "    # Оптимизатор\n",
    "    # adam = k.optimizers.Adam(lr=0.0005, beta_1=0.9, beta_2=0.999)\n",
    "\n",
    "    # Соберем модель\n",
    "    model.compile(loss='categorical_crossentropy', optimizer='adam', metrics=['accuracy'])\n",
    "    model.summary()\n",
    "    return model"
   ]
  },
  {
   "cell_type": "code",
   "execution_count": 18,
   "metadata": {
    "ExecuteTime": {
     "end_time": "2024-03-01T17:34:44.164696900Z",
     "start_time": "2024-03-01T17:34:43.763201Z"
    }
   },
   "outputs": [
    {
     "name": "stdout",
     "output_type": "stream",
     "text": [
      "Model: \"sequential_1\"\n",
      "_________________________________________________________________\n",
      " Layer (type)                Output Shape              Param #   \n",
      "=================================================================\n",
      " embedding_1 (Embedding)     (None, 104, 32)           1125728   \n",
      "                                                                 \n",
      " bidirectional_1 (Bidirecti  (None, 104, 64)           16640     \n",
      " onal)                                                           \n",
      "                                                                 \n",
      " lstm_3 (LSTM)               (None, 104, 32)           12416     \n",
      "                                                                 \n",
      " time_distributed_1 (TimeDi  (None, 104, 17)           561       \n",
      " stributed)                                                      \n",
      "                                                                 \n",
      "=================================================================\n",
      "Total params: 1155345 (4.41 MB)\n",
      "Trainable params: 1155345 (4.41 MB)\n",
      "Non-trainable params: 0 (0.00 Byte)\n",
      "_________________________________________________________________\n"
     ]
    },
    {
     "data": {
      "image/png": "[encoded data removed]",
      "text/plain": "<IPython.core.display.Image object>"
     },
     "execution_count": 18,
     "metadata": {},
     "output_type": "execute_result"
    }
   ],
   "source": [
    "def train_model(X, y, model):\n",
    "    loss = list()\n",
    "    for _ in range(15):\n",
    "        # подходящая модель для одной эпохи в этой последовательности\n",
    "        hist = model.fit(X, y, batch_size=1000, verbose=1, epochs=1, validation_split=0.2)\n",
    "        loss.append(hist.history['loss'][0])\n",
    "    return loss\n",
    "\n",
    "\n",
    "model_bilstm_lstm = get_bilstm_lstm_model()\n",
    "plot_model(model_bilstm_lstm)"
   ]
  },
  {
   "cell_type": "code",
   "execution_count": 19,
   "metadata": {
    "ExecuteTime": {
     "end_time": "2024-03-01T17:50:42.839708800Z",
     "start_time": "2024-03-01T17:34:46.172139700Z"
    }
   },
   "outputs": [
    {
     "name": "stdout",
     "output_type": "stream",
     "text": [
      "35/35 [==============================] - 71s 2s/step - loss: 1.4460 - accuracy: 0.8914 - val_loss: 0.3101 - val_accuracy: 0.9679\n",
      "35/35 [==============================] - 60s 2s/step - loss: 0.3069 - accuracy: 0.9677 - val_loss: 0.2551 - val_accuracy: 0.9679\n",
      "35/35 [==============================] - 69s 2s/step - loss: 0.2629 - accuracy: 0.9677 - val_loss: 0.2366 - val_accuracy: 0.9679\n",
      "35/35 [==============================] - 62s 2s/step - loss: 0.2399 - accuracy: 0.9677 - val_loss: 0.2030 - val_accuracy: 0.9679\n",
      "35/35 [==============================] - 62s 2s/step - loss: 0.2379 - accuracy: 0.9677 - val_loss: 0.2015 - val_accuracy: 0.9679\n",
      "35/35 [==============================] - 67s 2s/step - loss: 0.1975 - accuracy: 0.9677 - val_loss: 0.1819 - val_accuracy: 0.9679\n",
      "35/35 [==============================] - 62s 2s/step - loss: 0.1807 - accuracy: 0.9677 - val_loss: 0.1675 - val_accuracy: 0.9679\n",
      "35/35 [==============================] - 62s 2s/step - loss: 0.2653 - accuracy: 0.9678 - val_loss: 0.2280 - val_accuracy: 0.9680\n",
      "35/35 [==============================] - 62s 2s/step - loss: 0.2061 - accuracy: 0.9678 - val_loss: 0.1848 - val_accuracy: 0.9679\n",
      "35/35 [==============================] - 63s 2s/step - loss: 0.1769 - accuracy: 0.9677 - val_loss: 0.1633 - val_accuracy: 0.9679\n",
      "35/35 [==============================] - 63s 2s/step - loss: 0.1659 - accuracy: 0.9677 - val_loss: 0.1603 - val_accuracy: 0.9679\n",
      "35/35 [==============================] - 63s 2s/step - loss: 0.1620 - accuracy: 0.9677 - val_loss: 0.1565 - val_accuracy: 0.9679\n",
      "35/35 [==============================] - 63s 2s/step - loss: 0.1574 - accuracy: 0.9677 - val_loss: 0.1553 - val_accuracy: 0.9679\n",
      "35/35 [==============================] - 63s 2s/step - loss: 0.1796 - accuracy: 0.9678 - val_loss: 0.1817 - val_accuracy: 0.9680\n",
      "35/35 [==============================] - 63s 2s/step - loss: 0.1698 - accuracy: 0.9678 - val_loss: 0.1644 - val_accuracy: 0.9679\n"
     ]
    }
   ],
   "source": [
    "results = pd.DataFrame()\n",
    "results['with_add_lstm'] = train_model(train_tokens, np.array(train_tags), model_bilstm_lstm)"
   ]
  },
  {
   "cell_type": "code",
   "execution_count": 20,
   "metadata": {
    "ExecuteTime": {
     "end_time": "2024-03-01T17:57:02.980337800Z",
     "start_time": "2024-03-01T17:57:02.167744700Z"
    }
   },
   "outputs": [
    {
     "data": {
      "text/plain": "<Figure size 640x480 with 1 Axes>",
      "image/png": "[encoded data removed]"
     },
     "metadata": {},
     "output_type": "display_data"
    }
   ],
   "source": [
    "import matplotlib.pyplot as plt\n",
    "\n",
    "plt.plot(results['with_add_lstm'])\n",
    "plt.xlabel('Epochs');\n",
    "plt.ylabel('Loss');"
   ]
  },
  {
   "cell_type": "markdown",
   "metadata": {},
   "source": [
    "## spaCy"
   ]
  },
  {
   "cell_type": "code",
   "execution_count": 21,
   "metadata": {
    "ExecuteTime": {
     "end_time": "2024-03-01T17:57:49.239645100Z",
     "start_time": "2024-03-01T17:57:46.458573800Z"
    }
   },
   "outputs": [],
   "source": [
    "import spacy\n",
    "from spacy import displacy\n",
    "\n",
    "nlp = spacy.load('en_core_web_sm')"
   ]
  },
  {
   "cell_type": "code",
   "execution_count": 22,
   "metadata": {
    "ExecuteTime": {
     "end_time": "2024-03-01T17:58:01.597584300Z",
     "start_time": "2024-03-01T17:58:01.557202200Z"
    }
   },
   "outputs": [],
   "source": [
    "text = nlp(\n",
    "    'Jim bought 300 shares of Acme Corp. in 2006. And producing an annotated block of text that \\\n",
    "    highlights the names of entities: [Jim]Person bought 300 shares of \\\n",
    "    [Acme Corp.]Organization in [2006]Time. In this example, a person name consisting \\\n",
    "    of one token, a two-token company name and a temporal expression have been detected \\\n",
    "    and classified.State-of-the-art NER systems for English produce near-human performance. \\\n",
    "    For example, the best system entering MUC-7 scored 93.39% of F-measure while human \\\n",
    "    annotators scored 97.60% and 96.95%.[1][2]')"
   ]
  },
  {
   "cell_type": "code",
   "execution_count": 23,
   "metadata": {
    "ExecuteTime": {
     "end_time": "2024-03-01T17:58:02.895238700Z",
     "start_time": "2024-03-01T17:58:02.890577500Z"
    }
   },
   "outputs": [
    {
     "name": "stdout",
     "output_type": "stream",
     "text": [
      "Jim PERSON\n",
      "300 CARDINAL\n",
      "Acme Corp. ORG\n",
      "2006 DATE\n",
      "300 CARDINAL\n",
      "one CARDINAL\n",
      "two CARDINAL\n",
      "NER ORG\n",
      "English LANGUAGE\n",
      "MUC-7 ORG\n",
      "93.39% PERCENT\n",
      "97.60% PERCENT\n",
      "96.95%.[1][2 WORK_OF_ART\n"
     ]
    }
   ],
   "source": [
    "for w in text.ents:\n",
    "    print(w.text, w.label_)"
   ]
  },
  {
   "cell_type": "code",
   "execution_count": 24,
   "metadata": {
    "ExecuteTime": {
     "end_time": "2024-03-01T17:58:04.484154500Z",
     "start_time": "2024-03-01T17:58:04.474652400Z"
    }
   },
   "outputs": [
    {
     "data": {
      "text/plain": "<IPython.core.display.HTML object>",
      "text/html": "<span class=\"tex2jax_ignore\"><div class=\"entities\" style=\"line-height: 2.5; direction: ltr\">\n<mark class=\"entity\" style=\"background: #aa9cfc; padding: 0.45em 0.6em; margin: 0 0.25em; line-height: 1; border-radius: 0.35em;\">\n    Jim\n    <span style=\"font-size: 0.8em; font-weight: bold; line-height: 1; border-radius: 0.35em; vertical-align: middle; margin-left: 0.5rem\">PERSON</span>\n</mark>\n bought \n<mark class=\"entity\" style=\"background: #e4e7d2; padding: 0.45em 0.6em; margin: 0 0.25em; line-height: 1; border-radius: 0.35em;\">\n    300\n    <span style=\"font-size: 0.8em; font-weight: bold; line-height: 1; border-radius: 0.35em; vertical-align: middle; margin-left: 0.5rem\">CARDINAL</span>\n</mark>\n shares of \n<mark class=\"entity\" style=\"background: #7aecec; padding: 0.45em 0.6em; margin: 0 0.25em; line-height: 1; border-radius: 0.35em;\">\n    Acme Corp.\n    <span style=\"font-size: 0.8em; font-weight: bold; line-height: 1; border-radius: 0.35em; vertical-align: middle; margin-left: 0.5rem\">ORG</span>\n</mark>\n in \n<mark class=\"entity\" style=\"background: #bfe1d9; padding: 0.45em 0.6em; margin: 0 0.25em; line-height: 1; border-radius: 0.35em;\">\n    2006\n    <span style=\"font-size: 0.8em; font-weight: bold; line-height: 1; border-radius: 0.35em; vertical-align: middle; margin-left: 0.5rem\">DATE</span>\n</mark>\n. And producing an annotated block of text that     highlights the names of entities: [Jim]Person bought \n<mark class=\"entity\" style=\"background: #e4e7d2; padding: 0.45em 0.6em; margin: 0 0.25em; line-height: 1; border-radius: 0.35em;\">\n    300\n    <span style=\"font-size: 0.8em; font-weight: bold; line-height: 1; border-radius: 0.35em; vertical-align: middle; margin-left: 0.5rem\">CARDINAL</span>\n</mark>\n shares of     [Acme Corp.]Organization in [2006]Time. In this example, a person name consisting     of \n<mark class=\"entity\" style=\"background: #e4e7d2; padding: 0.45em 0.6em; margin: 0 0.25em; line-height: 1; border-radius: 0.35em;\">\n    one\n    <span style=\"font-size: 0.8em; font-weight: bold; line-height: 1; border-radius: 0.35em; vertical-align: middle; margin-left: 0.5rem\">CARDINAL</span>\n</mark>\n token, a \n<mark class=\"entity\" style=\"background: #e4e7d2; padding: 0.45em 0.6em; margin: 0 0.25em; line-height: 1; border-radius: 0.35em;\">\n    two\n    <span style=\"font-size: 0.8em; font-weight: bold; line-height: 1; border-radius: 0.35em; vertical-align: middle; margin-left: 0.5rem\">CARDINAL</span>\n</mark>\n-token company name and a temporal expression have been detected     and classified.State-of-the-art \n<mark class=\"entity\" style=\"background: #7aecec; padding: 0.45em 0.6em; margin: 0 0.25em; line-height: 1; border-radius: 0.35em;\">\n    NER\n    <span style=\"font-size: 0.8em; font-weight: bold; line-height: 1; border-radius: 0.35em; vertical-align: middle; margin-left: 0.5rem\">ORG</span>\n</mark>\n systems for \n<mark class=\"entity\" style=\"background: #ff8197; padding: 0.45em 0.6em; margin: 0 0.25em; line-height: 1; border-radius: 0.35em;\">\n    English\n    <span style=\"font-size: 0.8em; font-weight: bold; line-height: 1; border-radius: 0.35em; vertical-align: middle; margin-left: 0.5rem\">LANGUAGE</span>\n</mark>\n produce near-human performance.     For example, the best system entering \n<mark class=\"entity\" style=\"background: #7aecec; padding: 0.45em 0.6em; margin: 0 0.25em; line-height: 1; border-radius: 0.35em;\">\n    MUC-7\n    <span style=\"font-size: 0.8em; font-weight: bold; line-height: 1; border-radius: 0.35em; vertical-align: middle; margin-left: 0.5rem\">ORG</span>\n</mark>\n scored \n<mark class=\"entity\" style=\"background: #e4e7d2; padding: 0.45em 0.6em; margin: 0 0.25em; line-height: 1; border-radius: 0.35em;\">\n    93.39%\n    <span style=\"font-size: 0.8em; font-weight: bold; line-height: 1; border-radius: 0.35em; vertical-align: middle; margin-left: 0.5rem\">PERCENT</span>\n</mark>\n of F-measure while human     annotators scored \n<mark class=\"entity\" style=\"background: #e4e7d2; padding: 0.45em 0.6em; margin: 0 0.25em; line-height: 1; border-radius: 0.35em;\">\n    97.60%\n    <span style=\"font-size: 0.8em; font-weight: bold; line-height: 1; border-radius: 0.35em; vertical-align: middle; margin-left: 0.5rem\">PERCENT</span>\n</mark>\n and \n<mark class=\"entity\" style=\"background: #f0d0ff; padding: 0.45em 0.6em; margin: 0 0.25em; line-height: 1; border-radius: 0.35em;\">\n    96.95%.[1][2\n    <span style=\"font-size: 0.8em; font-weight: bold; line-height: 1; border-radius: 0.35em; vertical-align: middle; margin-left: 0.5rem\">WORK_OF_ART</span>\n</mark>\n]</div></span>"
     },
     "metadata": {},
     "output_type": "display_data"
    }
   ],
   "source": [
    "displacy.render(text, style='ent', jupyter=True)"
   ]
  },
  {
   "cell_type": "code",
   "execution_count": 25,
   "metadata": {
    "ExecuteTime": {
     "end_time": "2024-03-01T17:58:06.437192Z",
     "start_time": "2024-03-01T17:58:06.426913Z"
    }
   },
   "outputs": [
    {
     "data": {
      "text/plain": "'Numerals that do not fall under another type'"
     },
     "execution_count": 25,
     "metadata": {},
     "output_type": "execute_result"
    }
   ],
   "source": [
    "spacy.explain('CARDINAL')"
   ]
  },
  {
   "cell_type": "code",
   "execution_count": null,
   "metadata": {},
   "outputs": [],
   "source": []
  }
 ],
 "metadata": {
  "kernelspec": {
   "name": "python3",
   "language": "python",
   "display_name": "Python 3 (ipykernel)"
  },
  "language_info": {
   "codemirror_mode": {
    "name": "ipython",
    "version": 3
   },
   "file_extension": ".py",
   "mimetype": "text/x-python",
   "name": "python",
   "nbconvert_exporter": "python",
   "pygments_lexer": "ipython3",
   "version": "3.7.3"
  }
 },
 "nbformat": 4,
 "nbformat_minor": 4
}
