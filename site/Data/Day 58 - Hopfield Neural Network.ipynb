{
 "nbformat": 4,
 "nbformat_minor": 0,
 "metadata": {
  "colab": {
   "provenance": []
  },
  "kernelspec": {
   "name": "python3",
   "language": "python",
   "display_name": "Python 3 (ipykernel)"
  },
  "language_info": {
   "name": "python"
  }
 },
 "cells": [
  {
   "cell_type": "markdown",
   "source": [
    "# Нейронная сеть Хопфилда"
   ],
   "metadata": {
    "id": "3nXCPGLHs-qI"
   }
  },
  {
   "cell_type": "markdown",
   "source": [
    "## Теория"
   ],
   "metadata": {
    "id": "t9yEL9JptBTG"
   }
  },
  {
   "cell_type": "markdown",
   "source": [
    "Нейронная сеть Хопфилда — полносвязная нейронная сеть с симметричной матрицей связей. Такая сеть может быть использована для организации ассоциативной памяти, как фильтр, а также для решения некоторых задач оптимизации.\n",
    "\n",
    "Сеть Хопфилда является абсолютно однородной структурой без какой-либо внутренней специализации ее нейронов. Её классический вариант состоит из единственного слоя нейронов, число которых является одновременно числом входов и выходов сети. Каждый нейрон сети связан со всеми остальными нейронами, а также имеет один вход, через который осуществляется ввод сигнала."
   ],
   "metadata": {
    "id": "2y3i6Vj53vku"
   }
  },
  {
   "cell_type": "markdown",
   "source": [
    "![image.png](data:image/png;base64,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)"
   ],
   "metadata": {
    "id": "yWoUHZmD4Lnd"
   }
  },
  {
   "cell_type": "markdown",
   "source": [
    "Нейронная сеть Хопфилда устроена так, что её отклик на запомненные $m$ эталонных «образов» составляют сами эти образы, а если образ немного исказить и подать на вход, он будет восстановлен и в виде отклика будет получен оригинальный образ. Таким образом, сеть Хопфилда осуществляет коррекцию ошибок и помех."
   ],
   "metadata": {
    "id": "3t-74mp944xO"
   }
  },
  {
   "cell_type": "markdown",
   "source": [
    "### Обучение"
   ],
   "metadata": {
    "id": "brvHVczX4kEH"
   }
  },
  {
   "cell_type": "markdown",
   "source": [
    "В процессе обучения формируется выходная матрица $W$, которая запоминает $m$ эталонных «образов» — $N$-мерных бинарных векторов, эти образы во время эксплуатации сети будут выражать отклик системы на входные сигналы, или иначе - окончательные значения выходов $y_i$ после серии итераций."
   ],
   "metadata": {
    "id": "rLLL_md94v3l"
   }
  },
  {
   "cell_type": "markdown",
   "source": [
    "В сети Хопфилда матрица связей является симметричной ($w_{ij}=w_{ji}$), а диагональные элементы матрицы полагаются равными нулю ($w_{ij}=0$), что исключает эффект воздействия нейрона на самого себя и является необходимым для сети Хопфилда, но не достаточным условием устойчивости в процессе работы сети."
   ],
   "metadata": {
    "id": "1imZ6Gco6eRW"
   }
  },
  {
   "cell_type": "markdown",
   "source": [
    "Обучение сети заключается в том, что находятся веса матрицы взаимодействий так, чтобы запомнить $m$ векторов (эталонных образов, составляющих \"память\" системы).\n",
    "Запоминаемые векторы должны иметь бинарный вид. Расчёт весовых коэффициентов проводится по следующей формуле:\n",
    "\\begin{align}\n",
    "w_{ij} = \\frac{1}{N}\\sum_{d=1..m} X_{id} X_{jd}.\n",
    "\\end{align}\n",
    "где $N$ — размерность векторов, $m$ — число запоминаемых выходных векторов, $d$ — номер запоминаемого выходного вектора, $X_{{ij}}$ — $i$-я компонента запоминаемого выходного $j$-го вектора."
   ],
   "metadata": {
    "id": "IJrzY8K264y2"
   }
  },
  {
   "cell_type": "markdown",
   "source": [
    "Расчёт этих весовых коэффициентов и называется обучением сети, которое проводится только за одну эпоху."
   ],
   "metadata": {
    "id": "JQUfJvFr8nZn"
   }
  },
  {
   "cell_type": "markdown",
   "source": [
    "### Востановление образов"
   ],
   "metadata": {
    "id": "WT5jRtPh8sAX"
   }
  },
  {
   "cell_type": "markdown",
   "source": [
    "Как только веса заданы, сеть может быть использована для получения запомненного выходного вектора по данному входному вектору, который может быть частично неправильным или неполным. Для этого выходам сети сначала придают значения этого начального вектора. Затем сеть последовательно меняет свои состояния согласно формуле:\n",
    "$X(t+1)=F(WX(t))$\n",
    "где F — активационная функция,\n",
    "$X(t)$ и $X(t+1)$ — текущее и следующее состояния сети, до тех пор, пока состояния $X(t)$ и $X(t+1)$ не совпадут. Полученное устойчивое состояние\n",
    "$X_{i}$ (статический аттрактор), или, возможно, в синхронном случае пара\n",
    "$X_{i},X_{i+1}$ (динамический аттрактор), является ответом сети на данный входной образ."
   ],
   "metadata": {
    "id": "lsWdWlFA8vUw"
   }
  },
  {
   "cell_type": "markdown",
   "source": [
    "\n",
    "\n",
    "> На выходе сети может получаться также инверсный вектор (в котором значения -1 и 1 в запомненных образцах перевёрнуты). В случае, если система не нашла решения, на выходе системы могут получаться также тривиальные вектора, состоящие только из 1 или только из -1.\n",
    "\n"
   ],
   "metadata": {
    "id": "twG8zchv_70X"
   }
  },
  {
   "cell_type": "markdown",
   "source": [
    "Это же можно описать так называемым локальным полем $a_{{i}}$ действующим на нейрон $x_{i}$ со стороны всех остальных нейронов сети:\n",
    "\\begin{align}\n",
    "a_i(t)=\\sum_{j=1, j\\neq i}^N w_{ij}x_j(t-1)\n",
    "\\end{align}"
   ],
   "metadata": {
    "id": "hXbspqS29oR4"
   }
  },
  {
   "cell_type": "markdown",
   "source": [
    "После расчёта локального поля нейрона\n",
    "$a_{i}(t)$ это значение используется для расчёта значения выхода через функцию активации, которая в данном случае является пороговой (с нулевым порогом). Соответственно, значение выхода нейрона і в текущий момент времени\n",
    "$x_{i}(t)$ рассчитывается по формуле:\n",
    "\\begin{align}\n",
    "x_i(t)=sign(\\sum_{j=1, j\\neq i}^N w_{ij}x_j(t-1))\n",
    "\\end{align}\n",
    "где $w_{ij}$ — весовой коэффициент между нейронами $i$ и $j$,\n",
    "$x_{j}(t-1)$ — значения выходов нейрона $j$ в предыдущий момент времени."
   ],
   "metadata": {
    "id": "VabUIQct-8R7"
   }
  },
  {
   "cell_type": "markdown",
   "source": [
    "## Создадим класс нейронной сети"
   ],
   "metadata": {
    "id": "7nZOvBWktOdW"
   }
  },
  {
   "cell_type": "code",
   "execution_count": 1,
   "metadata": {
    "id": "98zkpCvts760",
    "ExecuteTime": {
     "end_time": "2024-03-07T16:17:35.645813700Z",
     "start_time": "2024-03-07T16:17:35.052143800Z"
    }
   },
   "outputs": [],
   "source": [
    "import numpy as np\n",
    "\n",
    "\n",
    "class Hopfield:  # класс нейронной сети\n",
    "\n",
    "    def __init__(self, n, k):  # инициализация\n",
    "        self.N = n  # количество нейронов\n",
    "        self.K = k  # максимальное количсетво эпох распознавания сигнала\n",
    "        self.W = np.zeros((n, n))  # матрица взаимодействий (весов)\n",
    "\n",
    "    def remember(self, M):  # метод запоминания образов\n",
    "        for X in M:  # перебор массива образов\n",
    "            for i in range(self.N):\n",
    "                for j in range(self.N):\n",
    "                    if i == j:\n",
    "                        self.W[i][j] = 0  # диагональные элементы матрицы полагаются равными нулю\n",
    "                    else:\n",
    "                        self.W[i][j] += X[i] * X[j]  # можно опустить деление на N\n",
    "\n",
    "    def associations(self, signal):  # распознавание образа\n",
    "        X = signal.copy()  # текущее состояние\n",
    "        stop = 0\n",
    "\n",
    "        while (stop < self.K):\n",
    "            pre_X = X.copy()  # предыдущее состояние\n",
    "            for i in range(self.N):\n",
    "                a_i = 0\n",
    "                for j in range(self.N):\n",
    "                    a_i += self.W[i][j] * pre_X[j]\n",
    "                X[i] = self.signum(a_i)\n",
    "\n",
    "            if (pre_X == X).all():  # выход из цикла, если значения стабилизировались\n",
    "                return X\n",
    "            stop += 1\n",
    "        return X\n",
    "\n",
    "    def signum(self, a):  # функция активации\n",
    "        return 1 if a >= 0 else -1"
   ]
  },
  {
   "cell_type": "markdown",
   "source": [
    "Частый пример работы нейронной сети Хопфилда - это распознавание образов букв."
   ],
   "metadata": {
    "id": "Vx80RwghA_HI"
   }
  },
  {
   "cell_type": "markdown",
   "source": [
    "### Вспомогательные функции"
   ],
   "metadata": {
    "id": "EtNVmxbJBYBY"
   }
  },
  {
   "cell_type": "code",
   "source": [
    "def create_image(base, dic):  # Создает бинарный вектор образа\n",
    "    a = np.array([])\n",
    "    for i in base:\n",
    "        a = np.append(a, dic[i])\n",
    "    return a\n",
    "\n",
    "\n",
    "def parse_image(img, dic, n):  # Выводит образ по бинарному вектору\n",
    "    a = ''\n",
    "    for i in range(len(img)):\n",
    "        if i % n == 0:\n",
    "            print(a)\n",
    "            a = ''\n",
    "        a += dic[img[i]]\n",
    "\n",
    "\n",
    "def print_images(img1, img2, dic, n):\n",
    "    a1 = ''\n",
    "    a2 = ''\n",
    "    for i in range(len(img1)):\n",
    "        if i % n == 0:\n",
    "            print(a1, ' ' * 10, a2)\n",
    "            a1 = ''\n",
    "            a2 = ''\n",
    "        a1 += dic[img1[i]]\n",
    "        a2 += dic[img2[i]]\n",
    "    print('>' * 32)"
   ],
   "metadata": {
    "id": "MkxDyvqA_Wx0",
    "ExecuteTime": {
     "end_time": "2024-03-07T16:19:19.243277Z",
     "start_time": "2024-03-07T16:19:19.213689900Z"
    }
   },
   "execution_count": 3,
   "outputs": []
  },
  {
   "cell_type": "markdown",
   "source": [
    "### Образы"
   ],
   "metadata": {
    "id": "A_3ZklmEZrju"
   }
  },
  {
   "cell_type": "code",
   "source": [
    "symbols = {\"#\": 1,\n",
    "           \"_\": -1}\n",
    "symbols_reverse = {1: '#',\n",
    "                   -1: '_'}\n",
    "\n",
    "t = \"##########\" \\\n",
    "    \"##########\" \\\n",
    "    \"____##____\" \\\n",
    "    \"____##____\" \\\n",
    "    \"____##____\" \\\n",
    "    \"____##____\" \\\n",
    "    \"____##____\" \\\n",
    "    \"____##____\" \\\n",
    "    \"____##____\" \\\n",
    "    \"____##____\"\n",
    "\n",
    "n = \"##______##\" \\\n",
    "    \"##______##\" \\\n",
    "    \"##______##\" \\\n",
    "    \"##______##\" \\\n",
    "    \"##########\" \\\n",
    "    \"##########\" \\\n",
    "    \"##______##\" \\\n",
    "    \"##______##\" \\\n",
    "    \"##______##\" \\\n",
    "    \"##______##\"\n",
    "\n",
    "k = \"##______##\" \\\n",
    "    \"##_____##_\" \\\n",
    "    \"##____##__\" \\\n",
    "    \"##__##____\" \\\n",
    "    \"####______\" \\\n",
    "    \"####______\" \\\n",
    "    \"##__##____\" \\\n",
    "    \"##____##__\" \\\n",
    "    \"##_____##_\" \\\n",
    "    \"##______##\"\n",
    "\n",
    "images = np.array([create_image(t, symbols),\n",
    "                   create_image(n, symbols),\n",
    "                   create_image(k, symbols)])"
   ],
   "metadata": {
    "id": "jv1IJ7_u8Gu6",
    "ExecuteTime": {
     "end_time": "2024-03-07T16:19:21.154826100Z",
     "start_time": "2024-03-07T16:19:21.143716600Z"
    }
   },
   "execution_count": 4,
   "outputs": []
  },
  {
   "cell_type": "markdown",
   "source": [
    "### Сигналы"
   ],
   "metadata": {
    "id": "_-Mx9ZP-ZvdU"
   }
  },
  {
   "cell_type": "code",
   "source": [
    "t1 = \"#######_##\" \\\n",
    "     \"##_#######\" \\\n",
    "     \"____##____\" \\\n",
    "     \"____##____\" \\\n",
    "     \"____##____\" \\\n",
    "     \"___###____\" \\\n",
    "     \"____##____\" \\\n",
    "     \"____##__#_\" \\\n",
    "     \"____##____\" \\\n",
    "     \"____##____\"\n",
    "\n",
    "n1 = \"##______##\" \\\n",
    "     \"###_____##\" \\\n",
    "     \"###______#\" \\\n",
    "     \"##______##\" \\\n",
    "     \"####_#####\" \\\n",
    "     \"#######_##\" \\\n",
    "     \"#___#___##\" \\\n",
    "     \"##_#___###\" \\\n",
    "     \"##______##\" \\\n",
    "     \"##______##\"\n",
    "\n",
    "k1 = \"##______##\" \\\n",
    "     \"###____##_\" \\\n",
    "     \"##____####\" \\\n",
    "     \"##__###___\" \\\n",
    "     \"####___#__\" \\\n",
    "     \"#_##____#_\" \\\n",
    "     \"##__##____\" \\\n",
    "     \"##________\" \\\n",
    "     \"###____##_\" \\\n",
    "     \"##______##\"\n",
    "\n",
    "pa = \"__________\" \\\n",
    "     \"_______#__\" \\\n",
    "     \"_#________\" \\\n",
    "     \"__________\" \\\n",
    "     \"____#_____\" \\\n",
    "     \"__________\" \\\n",
    "     \"__________\" \\\n",
    "     \"_______#__\" \\\n",
    "     \"__________\" \\\n",
    "     \"__#_______\"\n",
    "\n",
    "signals = np.array([create_image(t1, symbols),\n",
    "                    create_image(n1, symbols),\n",
    "                    create_image(k1, symbols),\n",
    "                    create_image(pa, symbols)])"
   ],
   "metadata": {
    "id": "SZ9xzzSdCckF",
    "ExecuteTime": {
     "end_time": "2024-03-07T16:19:24.333957800Z",
     "start_time": "2024-03-07T16:19:24.311905500Z"
    }
   },
   "execution_count": 5,
   "outputs": []
  },
  {
   "cell_type": "markdown",
   "source": [
    "### Тесты"
   ],
   "metadata": {
    "id": "29e5mY_JZx88"
   }
  },
  {
   "cell_type": "code",
   "source": [
    "NEURONS_NUMBER = len(t)  # 100 # количество нейронов\n",
    "MAX_STEPS = 100  # максимальное кол-во итераций\n",
    "\n",
    "h = Hopfield(NEURONS_NUMBER, MAX_STEPS)\n",
    "h.remember(images)\n",
    "\n",
    "answer = ''\n",
    "for signal in signals:\n",
    "    res = h.associations(signal)\n",
    "    print_images(signal, res, symbols_reverse, 10)"
   ],
   "metadata": {
    "colab": {
     "base_uri": "https://localhost:8080/"
    },
    "id": "z6uvpy6mAF7R",
    "outputId": "716d20d6-4deb-4e8b-e37f-9a307bc47b32",
    "ExecuteTime": {
     "end_time": "2024-03-07T16:19:27.067535700Z",
     "start_time": "2024-03-07T16:19:26.990719700Z"
    }
   },
   "execution_count": 6,
   "outputs": [
    {
     "name": "stdout",
     "output_type": "stream",
     "text": [
      "            \n",
      "#######_##            ##########\n",
      "##_#######            ##########\n",
      "____##____            ____##____\n",
      "____##____            ____##____\n",
      "____##____            ____##____\n",
      "___###____            ____##____\n",
      "____##____            ____##____\n",
      "____##__#_            ____##____\n",
      "____##____            ____##____\n",
      ">>>>>>>>>>>>>>>>>>>>>>>>>>>>>>>>\n",
      "            \n",
      "##______##            ##______##\n",
      "###_____##            ##______##\n",
      "###______#            ##______##\n",
      "##______##            ##______##\n",
      "####_#####            ##########\n",
      "#######_##            ##########\n",
      "#___#___##            ##______##\n",
      "##_#___###            ##______##\n",
      "##______##            ##______##\n",
      ">>>>>>>>>>>>>>>>>>>>>>>>>>>>>>>>\n",
      "            \n",
      "##______##            ##______##\n",
      "###____##_            ##_____##_\n",
      "##____####            ##____##__\n",
      "##__###___            ##__##____\n",
      "####___#__            ####______\n",
      "#_##____#_            ####______\n",
      "##__##____            ##__##____\n",
      "##________            ##____##__\n",
      "###____##_            ##_____##_\n",
      ">>>>>>>>>>>>>>>>>>>>>>>>>>>>>>>>\n",
      "            \n",
      "__________            ##########\n",
      "_______#__            ##########\n",
      "_#________            ____##____\n",
      "__________            ____##____\n",
      "____#_____            ____##____\n",
      "__________            ____##____\n",
      "__________            ____##____\n",
      "_______#__            ____##____\n",
      "__________            ____##____\n",
      ">>>>>>>>>>>>>>>>>>>>>>>>>>>>>>>>\n"
     ]
    }
   ]
  },
  {
   "cell_type": "markdown",
   "source": [
    "## Работа с фильмами"
   ],
   "metadata": {
    "id": "hGyL3ulHWPHy"
   }
  },
  {
   "cell_type": "markdown",
   "source": [
    "Нейронную сеть Хопфилда можно использовать для задачи группировки/фильтрации фильмов."
   ],
   "metadata": {
    "id": "tE-x85YXLAVF"
   }
  },
  {
   "cell_type": "markdown",
   "source": [
    "### Вспомогательные функции для работы с данными"
   ],
   "metadata": {
    "id": "E0-A7BzSXJm2"
   }
  },
  {
   "cell_type": "code",
   "source": [
    "import enum\n",
    "\n",
    "\n",
    "class DateEnum(enum.Enum):  # перечисление промежутков дат\n",
    "    D1800 = '1800-e'\n",
    "    D1900 = '1900-e'\n",
    "    D1910 = '1910-e'\n",
    "    D1920 = '1920-e'\n",
    "    D1930 = '1930-e'\n",
    "    D1940 = '1940-e'\n",
    "    D1950 = '1950-e'\n",
    "    D1960 = '1960-e'\n",
    "    D1970 = '1970-e'\n",
    "    D1980 = '1980-e'\n",
    "    D1990 = '1990-e'\n",
    "    D2000 = '2000-e'\n",
    "    D2010 = '2010-e'\n",
    "    D2015 = '2015-e'\n",
    "    D2020 = '2020-e'\n",
    "\n",
    "\n",
    "class Runtime(enum.Enum):  # перечисление промежутков длительности фильмов\n",
    "    KOR = 'Короткий метр'\n",
    "    NORM = 'Стандартный метр'\n",
    "    DLIN = 'Длинный метр'\n",
    "\n",
    "\n",
    "class Budget(enum.Enum):  # перечисление промежутков бюджетов фильмов\n",
    "    MAL = 'Малобюджетный'\n",
    "    NORM = 'Средний'\n",
    "    KRUP = 'Крупнобюджетный'\n",
    "\n",
    "\n",
    "class Average(enum.Enum):  # перечисление промежутков оценок фильмов\n",
    "    BAD = 0\n",
    "    NORM = 1\n",
    "    GOOD = 2"
   ],
   "metadata": {
    "id": "jTWaTCm3W-j1",
    "ExecuteTime": {
     "end_time": "2024-03-07T16:21:40.141026900Z",
     "start_time": "2024-03-07T16:21:40.127728200Z"
    }
   },
   "execution_count": 7,
   "outputs": []
  },
  {
   "cell_type": "code",
   "source": [
    "import datetime\n",
    "\n",
    "\n",
    "def replace_date(d):\n",
    "    release_date = datetime.datetime.strptime(d, '%Y-%m-%d').date()\n",
    "    if 1900 <= release_date.year < 1910:\n",
    "        return DateEnum.D1900\n",
    "    elif 1910 <= release_date.year < 1920:\n",
    "        return DateEnum.D1910\n",
    "    elif 1920 <= release_date.year < 1930:\n",
    "        return DateEnum.D1920\n",
    "    elif 1930 <= release_date.year < 1940:\n",
    "        return DateEnum.D1930\n",
    "    elif 1940 <= release_date.year < 1950:\n",
    "        return DateEnum.D1940\n",
    "    elif 1950 <= release_date.year < 1960:\n",
    "        return DateEnum.D1950\n",
    "    elif 1960 <= release_date.year < 1970:\n",
    "        return DateEnum.D1960\n",
    "    elif 1970 <= release_date.year < 1980:\n",
    "        return DateEnum.D1970\n",
    "    elif 1980 <= release_date.year < 1990:\n",
    "        return DateEnum.D1980\n",
    "    elif 1990 <= release_date.year < 2000:\n",
    "        return DateEnum.D1990\n",
    "    elif 2000 <= release_date.year < 2010:\n",
    "        return DateEnum.D2000\n",
    "    elif 2010 <= release_date.year < 2015:\n",
    "        return DateEnum.D2010\n",
    "    elif 2015 <= release_date.year < 2020:\n",
    "        return DateEnum.D2015\n",
    "    elif 2020 <= release_date.year:\n",
    "        return DateEnum.D2020\n",
    "    else:\n",
    "        return DateEnum.D1800\n",
    "\n",
    "\n",
    "def replace_runtime(runtime):\n",
    "    if runtime < 60:\n",
    "        return Runtime.KOR\n",
    "    elif 60 <= runtime < 130:\n",
    "        return Runtime.NORM\n",
    "    else:\n",
    "        return Runtime.DLIN\n",
    "\n",
    "\n",
    "def replace_budget(budget):\n",
    "    if 0 < budget < 5000000:\n",
    "        return Budget.MAL\n",
    "    elif 5000000 <= budget <= 50000000:\n",
    "        return Budget.NORM\n",
    "    else:\n",
    "        return Budget.KRUP\n",
    "\n",
    "\n",
    "def replace_avarege(vote_average):\n",
    "    if 0 < vote_average <= 4.5:\n",
    "        return Average.BAD\n",
    "    elif 4.5 < vote_average <= 6.7:\n",
    "        return Average.NORM\n",
    "    else:\n",
    "        return Average.GOOD"
   ],
   "metadata": {
    "id": "2XNu6HmTXWgq",
    "ExecuteTime": {
     "end_time": "2024-03-07T16:28:54.241958100Z",
     "start_time": "2024-03-07T16:28:54.217042200Z"
    }
   },
   "execution_count": 13,
   "outputs": []
  },
  {
   "cell_type": "code",
   "source": [
    "def replace_list(s):\n",
    "    if type(s) == str:\n",
    "        return (s.split('-'))\n",
    "    else:\n",
    "        return s"
   ],
   "metadata": {
    "id": "Zc2rM2NmXls7",
    "ExecuteTime": {
     "end_time": "2024-03-07T16:23:16.122296700Z",
     "start_time": "2024-03-07T16:23:16.108040800Z"
    }
   },
   "execution_count": 9,
   "outputs": []
  },
  {
   "cell_type": "markdown",
   "source": [
    "### Подготовка данных"
   ],
   "metadata": {
    "id": "VAysg2L_XYa2"
   }
  },
  {
   "cell_type": "code",
   "source": [
    "import pandas as pd\n",
    "import numpy as np\n",
    "\n",
    "\n",
    "df = pd.read_csv(\"Datasets/movies.csv\", engine=\"python\")  # чтение данных\n",
    "df = df.loc[(df['status'] == 'Released') &\n",
    "            (df['runtime'] > 0) &\n",
    "            (df['vote_average'] > 0) &\n",
    "            (df['budget'] > 0)]  # фильтрация записей\n",
    "df = df.sample(frac=.02, random_state=2)  # выборка 1% случайных записей\n",
    "df = df[['title', 'genres', 'release_date', 'budget', 'runtime', 'vote_average']]  # выборка нужных колонок\n",
    "df = df.dropna()  # избавление от неполных записей\n",
    "\n",
    "df['release_date'] = df['release_date'].apply(replace_date)  # замена дат выхода\n",
    "df['runtime'] = df['runtime'].apply(replace_runtime)  # замена продолжительности\n",
    "df['budget'] = df['budget'].apply(replace_budget)  # замена бюджета\n",
    "df['vote_average'] = df['vote_average'].apply(replace_avarege)  # замена средней оценки\n",
    "df = df.reset_index(drop=True)  # сброс индексов\n",
    "df"
   ],
   "metadata": {
    "colab": {
     "base_uri": "https://localhost:8080/"
    },
    "id": "YDG4a6K2WWnn",
    "outputId": "b3f2d40b-e05e-4506-9fe7-1c002bac017d",
    "ExecuteTime": {
     "end_time": "2024-03-07T16:29:11.061729Z",
     "start_time": "2024-03-07T16:28:55.918142900Z"
    }
   },
   "execution_count": 14,
   "outputs": [
    {
     "data": {
      "text/plain": "                          title  \\\n0       Jurassic World Dominion   \n1             The Love Epidemic   \n2       The Windy City Incident   \n3                      Monsters   \n4                    Funny Farm   \n..                          ...   \n434  The Journey of Jared Price   \n435            Chernobyl: Abyss   \n436                Gemma Bovery   \n437                    Aagathan   \n438             The Spacewalker   \n\n                                             genres    release_date  \\\n0                  Adventure-Action-Science Fiction  DateEnum.D2020   \n1                                Comedy-Documentary  DateEnum.D1970   \n2                                            Comedy  DateEnum.D2000   \n3                    Drama-Thriller-Science Fiction  DateEnum.D2010   \n4                                            Comedy  DateEnum.D1980   \n..                                              ...             ...   \n434                                   Drama-Romance  DateEnum.D2000   \n435  Drama-History-Adventure-Action-Fantasy-Mystery  DateEnum.D2020   \n436                            Romance-Drama-Comedy  DateEnum.D2010   \n437                                 Mystery-Romance  DateEnum.D2010   \n438                Adventure-Drama-History-Thriller  DateEnum.D2015   \n\n          budget       runtime  vote_average  \n0    Budget.KRUP  Runtime.DLIN  Average.GOOD  \n1     Budget.MAL  Runtime.NORM  Average.NORM  \n2     Budget.MAL  Runtime.NORM   Average.BAD  \n3     Budget.MAL  Runtime.NORM  Average.NORM  \n4    Budget.NORM  Runtime.NORM  Average.NORM  \n..           ...           ...           ...  \n434   Budget.MAL  Runtime.NORM  Average.NORM  \n435  Budget.NORM  Runtime.DLIN  Average.NORM  \n436  Budget.NORM  Runtime.NORM  Average.NORM  \n437   Budget.MAL  Runtime.NORM  Average.NORM  \n438  Budget.NORM  Runtime.DLIN  Average.GOOD  \n\n[439 rows x 6 columns]",
      "text/html": "<div>\n<style scoped>\n    .dataframe tbody tr th:only-of-type {\n        vertical-align: middle;\n    }\n\n    .dataframe tbody tr th {\n        vertical-align: top;\n    }\n\n    .dataframe thead th {\n        text-align: right;\n    }\n</style>\n<table border=\"1\" class=\"dataframe\">\n  <thead>\n    <tr style=\"text-align: right;\">\n      <th></th>\n      <th>title</th>\n      <th>genres</th>\n      <th>release_date</th>\n      <th>budget</th>\n      <th>runtime</th>\n      <th>vote_average</th>\n    </tr>\n  </thead>\n  <tbody>\n    <tr>\n      <th>0</th>\n      <td>Jurassic World Dominion</td>\n      <td>Adventure-Action-Science Fiction</td>\n      <td>DateEnum.D2020</td>\n      <td>Budget.KRUP</td>\n      <td>Runtime.DLIN</td>\n      <td>Average.GOOD</td>\n    </tr>\n    <tr>\n      <th>1</th>\n      <td>The Love Epidemic</td>\n      <td>Comedy-Documentary</td>\n      <td>DateEnum.D1970</td>\n      <td>Budget.MAL</td>\n      <td>Runtime.NORM</td>\n      <td>Average.NORM</td>\n    </tr>\n    <tr>\n      <th>2</th>\n      <td>The Windy City Incident</td>\n      <td>Comedy</td>\n      <td>DateEnum.D2000</td>\n      <td>Budget.MAL</td>\n      <td>Runtime.NORM</td>\n      <td>Average.BAD</td>\n    </tr>\n    <tr>\n      <th>3</th>\n      <td>Monsters</td>\n      <td>Drama-Thriller-Science Fiction</td>\n      <td>DateEnum.D2010</td>\n      <td>Budget.MAL</td>\n      <td>Runtime.NORM</td>\n      <td>Average.NORM</td>\n    </tr>\n    <tr>\n      <th>4</th>\n      <td>Funny Farm</td>\n      <td>Comedy</td>\n      <td>DateEnum.D1980</td>\n      <td>Budget.NORM</td>\n      <td>Runtime.NORM</td>\n      <td>Average.NORM</td>\n    </tr>\n    <tr>\n      <th>...</th>\n      <td>...</td>\n      <td>...</td>\n      <td>...</td>\n      <td>...</td>\n      <td>...</td>\n      <td>...</td>\n    </tr>\n    <tr>\n      <th>434</th>\n      <td>The Journey of Jared Price</td>\n      <td>Drama-Romance</td>\n      <td>DateEnum.D2000</td>\n      <td>Budget.MAL</td>\n      <td>Runtime.NORM</td>\n      <td>Average.NORM</td>\n    </tr>\n    <tr>\n      <th>435</th>\n      <td>Chernobyl: Abyss</td>\n      <td>Drama-History-Adventure-Action-Fantasy-Mystery</td>\n      <td>DateEnum.D2020</td>\n      <td>Budget.NORM</td>\n      <td>Runtime.DLIN</td>\n      <td>Average.NORM</td>\n    </tr>\n    <tr>\n      <th>436</th>\n      <td>Gemma Bovery</td>\n      <td>Romance-Drama-Comedy</td>\n      <td>DateEnum.D2010</td>\n      <td>Budget.NORM</td>\n      <td>Runtime.NORM</td>\n      <td>Average.NORM</td>\n    </tr>\n    <tr>\n      <th>437</th>\n      <td>Aagathan</td>\n      <td>Mystery-Romance</td>\n      <td>DateEnum.D2010</td>\n      <td>Budget.MAL</td>\n      <td>Runtime.NORM</td>\n      <td>Average.NORM</td>\n    </tr>\n    <tr>\n      <th>438</th>\n      <td>The Spacewalker</td>\n      <td>Adventure-Drama-History-Thriller</td>\n      <td>DateEnum.D2015</td>\n      <td>Budget.NORM</td>\n      <td>Runtime.DLIN</td>\n      <td>Average.GOOD</td>\n    </tr>\n  </tbody>\n</table>\n<p>439 rows × 6 columns</p>\n</div>"
     },
     "execution_count": 14,
     "metadata": {},
     "output_type": "execute_result"
    }
   ]
  },
  {
   "cell_type": "markdown",
   "source": [
    "В получившемся массиве данных ищутся все уникальные значения в каждой колонке (кроме названия фильма). Каждый фильм может быть охарактеризован бинарным вектором состоящим из значений 1 и -1 для каждой уникальной характеристики."
   ],
   "metadata": {
    "id": "74gAfULtOadS"
   }
  },
  {
   "cell_type": "code",
   "source": [
    "columns = []\n",
    "for column in df.columns[1:]:\n",
    "    columns += list(df[column].apply(replace_list).explode().reset_index(\n",
    "        drop=True).unique())  # нахождение всех уникальных значений для выбранных фильмов\n",
    "data = pd.DataFrame([[-1] * len(columns)] * df.axes[0].stop,\n",
    "                    columns=columns)  # основа для конвертированного массива данных фильмов"
   ],
   "metadata": {
    "id": "uCznKo01X89O",
    "ExecuteTime": {
     "end_time": "2024-03-07T16:29:17.177685600Z",
     "start_time": "2024-03-07T16:29:17.157951Z"
    }
   },
   "execution_count": 15,
   "outputs": []
  },
  {
   "cell_type": "code",
   "source": [
    "for i, row in df.iterrows():\n",
    "\n",
    "    genres = replace_list(row['genres'])\n",
    "    for g in genres:\n",
    "        data.loc[[i], [g]] = 1\n",
    "\n",
    "    data.loc[[i], [row['release_date']]] = 1\n",
    "\n",
    "    data.loc[[i], [row['budget']]] = 1\n",
    "\n",
    "    data.loc[[i], [row['runtime']]] = 1\n",
    "\n",
    "    data.loc[[i], [row['vote_average']]] = 1\n",
    "\n",
    "data"
   ],
   "metadata": {
    "colab": {
     "base_uri": "https://localhost:8080/"
    },
    "id": "zU_NGXv7YA3T",
    "outputId": "69e75c04-b850-4272-a996-a875b188cd8a",
    "ExecuteTime": {
     "end_time": "2024-03-07T16:29:25.826451Z",
     "start_time": "2024-03-07T16:29:23.043505100Z"
    }
   },
   "execution_count": 16,
   "outputs": [
    {
     "data": {
      "text/plain": "     Adventure  Action  Science Fiction  Comedy  Documentary  Drama  Thriller  \\\n0            1       1                1      -1           -1     -1        -1   \n1           -1      -1               -1       1            1     -1        -1   \n2           -1      -1               -1       1           -1     -1        -1   \n3           -1      -1                1      -1           -1      1         1   \n4           -1      -1               -1       1           -1     -1        -1   \n..         ...     ...              ...     ...          ...    ...       ...   \n434         -1      -1               -1      -1           -1      1        -1   \n435          1       1               -1      -1           -1      1        -1   \n436         -1      -1               -1       1           -1      1        -1   \n437         -1      -1               -1      -1           -1     -1        -1   \n438          1      -1               -1      -1           -1      1         1   \n\n     Romance  Animation  Horror  ...  DateEnum.D1910  Budget.KRUP  Budget.MAL  \\\n0         -1         -1      -1  ...              -1            1          -1   \n1         -1         -1      -1  ...              -1           -1           1   \n2         -1         -1      -1  ...              -1           -1           1   \n3         -1         -1      -1  ...              -1           -1           1   \n4         -1         -1      -1  ...              -1           -1          -1   \n..       ...        ...     ...  ...             ...          ...         ...   \n434        1         -1      -1  ...              -1           -1           1   \n435       -1         -1      -1  ...              -1           -1          -1   \n436        1         -1      -1  ...              -1           -1          -1   \n437        1         -1      -1  ...              -1           -1           1   \n438       -1         -1      -1  ...              -1           -1          -1   \n\n     Budget.NORM  Runtime.DLIN  Runtime.NORM  Runtime.KOR  Average.GOOD  \\\n0             -1             1            -1           -1             1   \n1             -1            -1             1           -1            -1   \n2             -1            -1             1           -1            -1   \n3             -1            -1             1           -1            -1   \n4              1            -1             1           -1            -1   \n..           ...           ...           ...          ...           ...   \n434           -1            -1             1           -1            -1   \n435            1             1            -1           -1            -1   \n436            1            -1             1           -1            -1   \n437           -1            -1             1           -1            -1   \n438            1             1            -1           -1             1   \n\n     Average.NORM  Average.BAD  \n0              -1           -1  \n1               1           -1  \n2              -1            1  \n3               1           -1  \n4               1           -1  \n..            ...          ...  \n434             1           -1  \n435             1           -1  \n436             1           -1  \n437             1           -1  \n438            -1           -1  \n\n[439 rows x 41 columns]",
      "text/html": "<div>\n<style scoped>\n    .dataframe tbody tr th:only-of-type {\n        vertical-align: middle;\n    }\n\n    .dataframe tbody tr th {\n        vertical-align: top;\n    }\n\n    .dataframe thead th {\n        text-align: right;\n    }\n</style>\n<table border=\"1\" class=\"dataframe\">\n  <thead>\n    <tr style=\"text-align: right;\">\n      <th></th>\n      <th>Adventure</th>\n      <th>Action</th>\n      <th>Science Fiction</th>\n      <th>Comedy</th>\n      <th>Documentary</th>\n      <th>Drama</th>\n      <th>Thriller</th>\n      <th>Romance</th>\n      <th>Animation</th>\n      <th>Horror</th>\n      <th>...</th>\n      <th>DateEnum.D1910</th>\n      <th>Budget.KRUP</th>\n      <th>Budget.MAL</th>\n      <th>Budget.NORM</th>\n      <th>Runtime.DLIN</th>\n      <th>Runtime.NORM</th>\n      <th>Runtime.KOR</th>\n      <th>Average.GOOD</th>\n      <th>Average.NORM</th>\n      <th>Average.BAD</th>\n    </tr>\n  </thead>\n  <tbody>\n    <tr>\n      <th>0</th>\n      <td>1</td>\n      <td>1</td>\n      <td>1</td>\n      <td>-1</td>\n      <td>-1</td>\n      <td>-1</td>\n      <td>-1</td>\n      <td>-1</td>\n      <td>-1</td>\n      <td>-1</td>\n      <td>...</td>\n      <td>-1</td>\n      <td>1</td>\n      <td>-1</td>\n      <td>-1</td>\n      <td>1</td>\n      <td>-1</td>\n      <td>-1</td>\n      <td>1</td>\n      <td>-1</td>\n      <td>-1</td>\n    </tr>\n    <tr>\n      <th>1</th>\n      <td>-1</td>\n      <td>-1</td>\n      <td>-1</td>\n      <td>1</td>\n      <td>1</td>\n      <td>-1</td>\n      <td>-1</td>\n      <td>-1</td>\n      <td>-1</td>\n      <td>-1</td>\n      <td>...</td>\n      <td>-1</td>\n      <td>-1</td>\n      <td>1</td>\n      <td>-1</td>\n      <td>-1</td>\n      <td>1</td>\n      <td>-1</td>\n      <td>-1</td>\n      <td>1</td>\n      <td>-1</td>\n    </tr>\n    <tr>\n      <th>2</th>\n      <td>-1</td>\n      <td>-1</td>\n      <td>-1</td>\n      <td>1</td>\n      <td>-1</td>\n      <td>-1</td>\n      <td>-1</td>\n      <td>-1</td>\n      <td>-1</td>\n      <td>-1</td>\n      <td>...</td>\n      <td>-1</td>\n      <td>-1</td>\n      <td>1</td>\n      <td>-1</td>\n      <td>-1</td>\n      <td>1</td>\n      <td>-1</td>\n      <td>-1</td>\n      <td>-1</td>\n      <td>1</td>\n    </tr>\n    <tr>\n      <th>3</th>\n      <td>-1</td>\n      <td>-1</td>\n      <td>1</td>\n      <td>-1</td>\n      <td>-1</td>\n      <td>1</td>\n      <td>1</td>\n      <td>-1</td>\n      <td>-1</td>\n      <td>-1</td>\n      <td>...</td>\n      <td>-1</td>\n      <td>-1</td>\n      <td>1</td>\n      <td>-1</td>\n      <td>-1</td>\n      <td>1</td>\n      <td>-1</td>\n      <td>-1</td>\n      <td>1</td>\n      <td>-1</td>\n    </tr>\n    <tr>\n      <th>4</th>\n      <td>-1</td>\n      <td>-1</td>\n      <td>-1</td>\n      <td>1</td>\n      <td>-1</td>\n      <td>-1</td>\n      <td>-1</td>\n      <td>-1</td>\n      <td>-1</td>\n      <td>-1</td>\n      <td>...</td>\n      <td>-1</td>\n      <td>-1</td>\n      <td>-1</td>\n      <td>1</td>\n      <td>-1</td>\n      <td>1</td>\n      <td>-1</td>\n      <td>-1</td>\n      <td>1</td>\n      <td>-1</td>\n    </tr>\n    <tr>\n      <th>...</th>\n      <td>...</td>\n      <td>...</td>\n      <td>...</td>\n      <td>...</td>\n      <td>...</td>\n      <td>...</td>\n      <td>...</td>\n      <td>...</td>\n      <td>...</td>\n      <td>...</td>\n      <td>...</td>\n      <td>...</td>\n      <td>...</td>\n      <td>...</td>\n      <td>...</td>\n      <td>...</td>\n      <td>...</td>\n      <td>...</td>\n      <td>...</td>\n      <td>...</td>\n      <td>...</td>\n    </tr>\n    <tr>\n      <th>434</th>\n      <td>-1</td>\n      <td>-1</td>\n      <td>-1</td>\n      <td>-1</td>\n      <td>-1</td>\n      <td>1</td>\n      <td>-1</td>\n      <td>1</td>\n      <td>-1</td>\n      <td>-1</td>\n      <td>...</td>\n      <td>-1</td>\n      <td>-1</td>\n      <td>1</td>\n      <td>-1</td>\n      <td>-1</td>\n      <td>1</td>\n      <td>-1</td>\n      <td>-1</td>\n      <td>1</td>\n      <td>-1</td>\n    </tr>\n    <tr>\n      <th>435</th>\n      <td>1</td>\n      <td>1</td>\n      <td>-1</td>\n      <td>-1</td>\n      <td>-1</td>\n      <td>1</td>\n      <td>-1</td>\n      <td>-1</td>\n      <td>-1</td>\n      <td>-1</td>\n      <td>...</td>\n      <td>-1</td>\n      <td>-1</td>\n      <td>-1</td>\n      <td>1</td>\n      <td>1</td>\n      <td>-1</td>\n      <td>-1</td>\n      <td>-1</td>\n      <td>1</td>\n      <td>-1</td>\n    </tr>\n    <tr>\n      <th>436</th>\n      <td>-1</td>\n      <td>-1</td>\n      <td>-1</td>\n      <td>1</td>\n      <td>-1</td>\n      <td>1</td>\n      <td>-1</td>\n      <td>1</td>\n      <td>-1</td>\n      <td>-1</td>\n      <td>...</td>\n      <td>-1</td>\n      <td>-1</td>\n      <td>-1</td>\n      <td>1</td>\n      <td>-1</td>\n      <td>1</td>\n      <td>-1</td>\n      <td>-1</td>\n      <td>1</td>\n      <td>-1</td>\n    </tr>\n    <tr>\n      <th>437</th>\n      <td>-1</td>\n      <td>-1</td>\n      <td>-1</td>\n      <td>-1</td>\n      <td>-1</td>\n      <td>-1</td>\n      <td>-1</td>\n      <td>1</td>\n      <td>-1</td>\n      <td>-1</td>\n      <td>...</td>\n      <td>-1</td>\n      <td>-1</td>\n      <td>1</td>\n      <td>-1</td>\n      <td>-1</td>\n      <td>1</td>\n      <td>-1</td>\n      <td>-1</td>\n      <td>1</td>\n      <td>-1</td>\n    </tr>\n    <tr>\n      <th>438</th>\n      <td>1</td>\n      <td>-1</td>\n      <td>-1</td>\n      <td>-1</td>\n      <td>-1</td>\n      <td>1</td>\n      <td>1</td>\n      <td>-1</td>\n      <td>-1</td>\n      <td>-1</td>\n      <td>...</td>\n      <td>-1</td>\n      <td>-1</td>\n      <td>-1</td>\n      <td>1</td>\n      <td>1</td>\n      <td>-1</td>\n      <td>-1</td>\n      <td>1</td>\n      <td>-1</td>\n      <td>-1</td>\n    </tr>\n  </tbody>\n</table>\n<p>439 rows × 41 columns</p>\n</div>"
     },
     "execution_count": 16,
     "metadata": {},
     "output_type": "execute_result"
    }
   ]
  },
  {
   "cell_type": "markdown",
   "source": [
    "### Работа с нейросетью"
   ],
   "metadata": {
    "id": "7Wb9HBhxYPny"
   }
  },
  {
   "cell_type": "code",
   "source": [
    "def convert_image(user_image, columns):  # функция преобразования образа в вектор бинарных значений\n",
    "    conv_image = pd.DataFrame([[-1] * len(columns)], columns=columns)\n",
    "    for row in user_image.itertuples(index=False):\n",
    "        for i in range(len(row)):\n",
    "            for v in row[i]:\n",
    "                conv_image.loc[[0], [v]] = 1\n",
    "    return conv_image.astype(object).to_numpy()[0]"
   ],
   "metadata": {
    "id": "xhHtTQGQYVhI",
    "ExecuteTime": {
     "end_time": "2024-03-07T16:29:35.201317200Z",
     "start_time": "2024-03-07T16:29:35.176964800Z"
    }
   },
   "execution_count": 17,
   "outputs": []
  },
  {
   "cell_type": "markdown",
   "source": [
    "#### Образы"
   ],
   "metadata": {
    "id": "1-hzFci-Pabi"
   }
  },
  {
   "cell_type": "markdown",
   "source": [
    "В полученном после конвертации массиве фильмов (где каждый фильм описывается бинарным вектором) находится всего 40 колонок, то есть в нейросети будет использовано всего 40 нейронов. Соответственно для правильной и стабильной работы нейросети количество запоминаемых ей образов ограничено 3-4 штуками."
   ],
   "metadata": {
    "id": "pyQ_zJfQPjxZ"
   }
  },
  {
   "cell_type": "code",
   "source": [
    "columns_image = ['genres', 'release_date', 'budget', 'vote_average', 'runtime']\n",
    "\n",
    "with_friends = [['Horror', 'Comedy', 'Action', 'Mystery', 'Crime', 'Thriller'],\n",
    "                [DateEnum.D2020, DateEnum.D2015, DateEnum.D2010, DateEnum.D2000, DateEnum.D1990],\n",
    "                [Budget.MAL, Budget.NORM, Budget.KRUP],\n",
    "                [Average.BAD, Average.NORM],\n",
    "                [Runtime.NORM]]\n",
    "with_girl = [['Family', 'Romance', 'Animation', 'TV Movie', 'Music', 'Fantasy'],\n",
    "             [DateEnum.D2020, DateEnum.D2015, DateEnum.D2010],\n",
    "             [Budget.NORM, Budget.KRUP],\n",
    "             [Average.GOOD],\n",
    "             [Runtime.KOR, Runtime.NORM]]\n",
    "with_family = [['Family', 'Mystery', 'Comedy', 'TV Movie'],\n",
    "               [DateEnum.D2000, DateEnum.D1990, DateEnum.D1980, DateEnum.D1970, DateEnum.D1960, DateEnum.D1950],\n",
    "               [Budget.NORM, Budget.KRUP],\n",
    "               [Average.GOOD, Average.NORM],\n",
    "               [Runtime.NORM, Runtime.DLIN]]\n",
    "\n",
    "with_friends_img = pd.DataFrame([with_friends], columns=columns_image)\n",
    "with_girl_img = pd.DataFrame([with_girl], columns=columns_image)\n",
    "with_family_img = pd.DataFrame([with_family], columns=columns_image)\n",
    "\n",
    "images = np.array([convert_image(with_friends_img, columns),\n",
    "                   convert_image(with_girl_img, columns),\n",
    "                   convert_image(with_family_img, columns)], dtype=object)\n",
    "\n",
    "names = np.array(['С друзьями', 'С девушкой', 'С семьей'])"
   ],
   "metadata": {
    "id": "R_N70jcUaXcj",
    "ExecuteTime": {
     "end_time": "2024-03-07T16:30:05.598920800Z",
     "start_time": "2024-03-07T16:30:05.534440500Z"
    }
   },
   "execution_count": 18,
   "outputs": []
  },
  {
   "cell_type": "markdown",
   "source": [
    "#### Запуск"
   ],
   "metadata": {
    "id": "zsimIGs8hc6M"
   }
  },
  {
   "cell_type": "code",
   "source": [
    "NEURONS_NUMBER = len(columns)  # 100 # количество нейронов\n",
    "MAX_STEPS = 100  # максимальное кол-во итераций\n",
    "h = Hopfield(NEURONS_NUMBER, MAX_STEPS)\n",
    "\n",
    "h.remember(images)\n",
    "groups = []\n",
    "for signal in data.values.tolist():\n",
    "    res = h.associations(np.array(signal))\n",
    "    if (res == images).all(axis=1).any():\n",
    "        name = names[np.where(np.all(images == res, axis=1))[0][0]]\n",
    "        groups.append(name)\n",
    "    else:\n",
    "        groups.append('Не подходит')\n",
    "\n",
    "df['group'] = groups\n",
    "print(df.groupby(['group']).size())\n",
    "df.loc[(df['group'] != 'Не подходит')].sort_values(['group']).reset_index(drop=True)"
   ],
   "metadata": {
    "colab": {
     "base_uri": "https://localhost:8080/"
    },
    "id": "DHuSGUUYd4LI",
    "outputId": "9228bf34-0fbd-4a15-eead-669f6b87a24d",
    "ExecuteTime": {
     "end_time": "2024-03-07T16:30:14.953192400Z",
     "start_time": "2024-03-07T16:30:13.572045100Z"
    }
   },
   "execution_count": 19,
   "outputs": [
    {
     "name": "stdout",
     "output_type": "stream",
     "text": [
      "group\n",
      "Не подходит    192\n",
      "С девушкой      92\n",
      "С друзьями     139\n",
      "С семьей        16\n",
      "dtype: int64\n"
     ]
    },
    {
     "data": {
      "text/plain": "                                  title                            genres  \\\n0               Jurassic World Dominion  Adventure-Action-Science Fiction   \n1                Lonesome Desert Cactus                      Comedy-Drama   \n2               Naschy of the Full Moon                Documentary-Horror   \n3                   Complex Bereavement              Drama-Horror-Mystery   \n4                Adam Patel: Real Magic                       Documentary   \n..                                  ...                               ...   \n242  Journey to the Center of the Earth          Adventure-Fantasy-Family   \n243                             Tempest              Comedy-Drama-Romance   \n244                              Aliens   Action-Thriller-Science Fiction   \n245                         Great Times                  Family-War-Drama   \n246              For a Few Dollars More                           Western   \n\n       release_date       budget       runtime  vote_average       group  \n0    DateEnum.D2020  Budget.KRUP  Runtime.DLIN  Average.GOOD  С девушкой  \n1    DateEnum.D2015   Budget.MAL   Runtime.KOR  Average.GOOD  С девушкой  \n2    DateEnum.D2010   Budget.MAL   Runtime.KOR  Average.GOOD  С девушкой  \n3    DateEnum.D2020   Budget.MAL   Runtime.KOR  Average.GOOD  С девушкой  \n4    DateEnum.D2015   Budget.MAL   Runtime.KOR  Average.GOOD  С девушкой  \n..              ...          ...           ...           ...         ...  \n242  DateEnum.D1950   Budget.MAL  Runtime.DLIN  Average.GOOD    С семьей  \n243  DateEnum.D1980  Budget.NORM  Runtime.DLIN  Average.NORM    С семьей  \n244  DateEnum.D1980  Budget.NORM  Runtime.DLIN  Average.GOOD    С семьей  \n245  DateEnum.D1970   Budget.MAL  Runtime.NORM  Average.NORM    С семьей  \n246  DateEnum.D1960   Budget.MAL  Runtime.DLIN  Average.GOOD    С семьей  \n\n[247 rows x 7 columns]",
      "text/html": "<div>\n<style scoped>\n    .dataframe tbody tr th:only-of-type {\n        vertical-align: middle;\n    }\n\n    .dataframe tbody tr th {\n        vertical-align: top;\n    }\n\n    .dataframe thead th {\n        text-align: right;\n    }\n</style>\n<table border=\"1\" class=\"dataframe\">\n  <thead>\n    <tr style=\"text-align: right;\">\n      <th></th>\n      <th>title</th>\n      <th>genres</th>\n      <th>release_date</th>\n      <th>budget</th>\n      <th>runtime</th>\n      <th>vote_average</th>\n      <th>group</th>\n    </tr>\n  </thead>\n  <tbody>\n    <tr>\n      <th>0</th>\n      <td>Jurassic World Dominion</td>\n      <td>Adventure-Action-Science Fiction</td>\n      <td>DateEnum.D2020</td>\n      <td>Budget.KRUP</td>\n      <td>Runtime.DLIN</td>\n      <td>Average.GOOD</td>\n      <td>С девушкой</td>\n    </tr>\n    <tr>\n      <th>1</th>\n      <td>Lonesome Desert Cactus</td>\n      <td>Comedy-Drama</td>\n      <td>DateEnum.D2015</td>\n      <td>Budget.MAL</td>\n      <td>Runtime.KOR</td>\n      <td>Average.GOOD</td>\n      <td>С девушкой</td>\n    </tr>\n    <tr>\n      <th>2</th>\n      <td>Naschy of the Full Moon</td>\n      <td>Documentary-Horror</td>\n      <td>DateEnum.D2010</td>\n      <td>Budget.MAL</td>\n      <td>Runtime.KOR</td>\n      <td>Average.GOOD</td>\n      <td>С девушкой</td>\n    </tr>\n    <tr>\n      <th>3</th>\n      <td>Complex Bereavement</td>\n      <td>Drama-Horror-Mystery</td>\n      <td>DateEnum.D2020</td>\n      <td>Budget.MAL</td>\n      <td>Runtime.KOR</td>\n      <td>Average.GOOD</td>\n      <td>С девушкой</td>\n    </tr>\n    <tr>\n      <th>4</th>\n      <td>Adam Patel: Real Magic</td>\n      <td>Documentary</td>\n      <td>DateEnum.D2015</td>\n      <td>Budget.MAL</td>\n      <td>Runtime.KOR</td>\n      <td>Average.GOOD</td>\n      <td>С девушкой</td>\n    </tr>\n    <tr>\n      <th>...</th>\n      <td>...</td>\n      <td>...</td>\n      <td>...</td>\n      <td>...</td>\n      <td>...</td>\n      <td>...</td>\n      <td>...</td>\n    </tr>\n    <tr>\n      <th>242</th>\n      <td>Journey to the Center of the Earth</td>\n      <td>Adventure-Fantasy-Family</td>\n      <td>DateEnum.D1950</td>\n      <td>Budget.MAL</td>\n      <td>Runtime.DLIN</td>\n      <td>Average.GOOD</td>\n      <td>С семьей</td>\n    </tr>\n    <tr>\n      <th>243</th>\n      <td>Tempest</td>\n      <td>Comedy-Drama-Romance</td>\n      <td>DateEnum.D1980</td>\n      <td>Budget.NORM</td>\n      <td>Runtime.DLIN</td>\n      <td>Average.NORM</td>\n      <td>С семьей</td>\n    </tr>\n    <tr>\n      <th>244</th>\n      <td>Aliens</td>\n      <td>Action-Thriller-Science Fiction</td>\n      <td>DateEnum.D1980</td>\n      <td>Budget.NORM</td>\n      <td>Runtime.DLIN</td>\n      <td>Average.GOOD</td>\n      <td>С семьей</td>\n    </tr>\n    <tr>\n      <th>245</th>\n      <td>Great Times</td>\n      <td>Family-War-Drama</td>\n      <td>DateEnum.D1970</td>\n      <td>Budget.MAL</td>\n      <td>Runtime.NORM</td>\n      <td>Average.NORM</td>\n      <td>С семьей</td>\n    </tr>\n    <tr>\n      <th>246</th>\n      <td>For a Few Dollars More</td>\n      <td>Western</td>\n      <td>DateEnum.D1960</td>\n      <td>Budget.MAL</td>\n      <td>Runtime.DLIN</td>\n      <td>Average.GOOD</td>\n      <td>С семьей</td>\n    </tr>\n  </tbody>\n</table>\n<p>247 rows × 7 columns</p>\n</div>"
     },
     "execution_count": 19,
     "metadata": {},
     "output_type": "execute_result"
    }
   ]
  },
  {
   "cell_type": "markdown",
   "source": [
    "Нейронная сеть Хопфилда эффективна для задачи восстановления образа, однако конкретно для задачи разделения фильмов на группы по образам проще и эффективнее использовать классические фильтры данных."
   ],
   "metadata": {
    "id": "XxtWSn9lg-m9"
   }
  },
  {
   "cell_type": "code",
   "execution_count": null,
   "outputs": [],
   "source": [],
   "metadata": {
    "collapsed": false
   }
  }
 ]
}
