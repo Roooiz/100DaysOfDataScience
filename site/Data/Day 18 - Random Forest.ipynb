{
 "metadata": {
  "kernelspec": {
   "language": "python",
   "display_name": "Python 3",
   "name": "python3"
  },
  "language_info": {
   "name": "python",
   "version": "3.10.12",
   "mimetype": "text/x-python",
   "codemirror_mode": {
    "name": "ipython",
    "version": 3
   },
   "pygments_lexer": "ipython3",
   "nbconvert_exporter": "python",
   "file_extension": ".py"
  },
  "kaggle": {
   "accelerator": "none",
   "dataSources": [
    {
     "sourceId": 4511756,
     "sourceType": "datasetVersion",
     "datasetId": 2636953
    }
   ],
   "dockerImageVersionId": 30587,
   "isInternetEnabled": true,
   "language": "python",
   "sourceType": "notebook",
   "isGpuEnabled": false
  }
 },
 "nbformat_minor": 4,
 "nbformat": 4,
 "cells": [
  {
   "cell_type": "markdown",
   "source": [
    "# Ансамблевые методы\n",
    "- Ансамблевые методы помогают свести к минимуму ошибки при обучении за счет уменьшения шума, смещения и дисперсии.\n",
    "- Они повышают стабильность и точность алгоритмов машинного обучения.\n",
    "- Объединение нескольких классификаторов уменьшает дисперсию, особенно для нестабильных классификаторов.\n",
    "- Пакетирование и бустинг используют набор базовых алгоритмов обучения, таких как деревья классификации.\n",
    "\n",
    "# Алгоритм случайного леса\n",
    "- Случайный лес - это алгоритм машинного обучения с контролем, который можно использовать как для задач классификации, так и для задач регрессии.\n",
    "- Он использует ансамблевое обучение, объединяя несколько деревьев решений для повышения точности прогнозирования.\n",
    "- Каждое дерево решений строится на уникальном подмножестве данных, что сокращает возможность переобучения.\n",
    "- Окончательный прогноз определяется большинством голосов среди деревьев решений.\n",
    "- Большее количество деревьев в лесу обычно приводит к более высокой точности.\n",
    "\n",
    "# Зачем использовать Random Forest?\n",
    "- Требуется меньше времени на обучение по сравнению с другими алгоритмами.\n",
    "- Он предсказывает выходные данные с высокой точностью даже для большого набора данных.\n",
    "- Он также может поддерживать точность, когда отсутствует большая часть данных.\n",
    "\n",
    "# Как работает алгоритм Random Forest?\n",
    "1. Выберем случайные K точек данных из обучающего набора.\n",
    "2. Построим деревья решений, связанные с выбранными точками данных, подмножествами.\n",
    "3. Выберем число N для деревьев решений, которые мы хотим построить.\n",
    "4. Повторим шаги 1 и 2.\n",
    "5. Для новых точек данных найдём предсказания каждого дерева решений и отнесём новые точки данных к категории, которая наберет большинство голосов.\n",
    "\n",
    "# Преимущества случайного леса:\n",
    "- Он уменьшает переобучение деревьев решений и помогает повысить точность предсказания.\n",
    "- Он гибок как для задач классификации, так и для задач регрессии.\n",
    "- Он хорошо работает как с категориальными, так и с непрерывными значениями.\n",
    "- Нормализация данных не требуется, поскольку при этом используется подход, основанный на правилах.\n",
    "\n",
    "# Недостатки случайного леса:\n",
    "- Он требует больших вычислительных мощностей, а также ресурсов, поскольку создает множество деревьев для объединения их выходных данных.\n",
    "- Также требуется много времени для обучения, поскольку он объединяет множество деревьев решений для определения класса.\n",
    "- Из-за совокупности деревьев принятия решений он также страдает интерпретируемостью и не позволяет определить значимость каждой переменной.\n",
    "\n"
   ],
   "metadata": {
    "collapsed": false
   }
  },
  {
   "cell_type": "code",
   "source": [
    "import numpy as np\n",
    "import pandas as pd\n",
    "import matplotlib.pyplot as plt\n",
    "import seaborn as sns\n",
    "\n",
    "from sklearn.preprocessing import LabelEncoder\n",
    "from sklearn.model_selection import train_test_split\n",
    "from sklearn.preprocessing import StandardScaler\n",
    "from sklearn.metrics import f1_score\n",
    "from sklearn.ensemble import RandomForestClassifier\n",
    "from sklearn.model_selection import cross_val_score\n",
    "from sklearn.metrics import confusion_matrix, accuracy_score, recall_score, precision_score\n",
    "from sklearn.metrics import classification_report"
   ],
   "metadata": {
    "_uuid": "8f2839f25d086af736a60e9eeb907d3b93b6e0e5",
    "_cell_guid": "b1076dfc-b9ad-4769-8c92-a6c4dae69d19",
    "execution": {
     "iopub.status.busy": "2023-12-05T18:13:37.075004Z",
     "iopub.execute_input": "2023-12-05T18:13:37.075434Z",
     "iopub.status.idle": "2023-12-05T18:13:39.533850Z",
     "shell.execute_reply.started": "2023-12-05T18:13:37.075399Z",
     "shell.execute_reply": "2023-12-05T18:13:39.532926Z"
    },
    "trusted": true,
    "ExecuteTime": {
     "end_time": "2024-01-25T16:47:42.737662100Z",
     "start_time": "2024-01-25T16:47:41.143229400Z"
    }
   },
   "execution_count": 1,
   "outputs": []
  },
  {
   "cell_type": "code",
   "source": [
    "df = pd.read_csv('Datasets/Loan/train.csv')\n",
    "df.head()"
   ],
   "metadata": {
    "execution": {
     "iopub.status.busy": "2023-12-05T18:15:10.344936Z",
     "iopub.execute_input": "2023-12-05T18:15:10.345934Z",
     "iopub.status.idle": "2023-12-05T18:15:10.379920Z",
     "shell.execute_reply.started": "2023-12-05T18:15:10.345897Z",
     "shell.execute_reply": "2023-12-05T18:15:10.379068Z"
    },
    "trusted": true,
    "ExecuteTime": {
     "end_time": "2024-01-25T16:47:44.602089Z",
     "start_time": "2024-01-25T16:47:44.570977500Z"
    }
   },
   "execution_count": 2,
   "outputs": [
    {
     "data": {
      "text/plain": "    Loan_ID Gender Married Dependents     Education Self_Employed  \\\n0  LP001002   Male      No          0      Graduate            No   \n1  LP001003   Male     Yes          1      Graduate            No   \n2  LP001005   Male     Yes          0      Graduate           Yes   \n3  LP001006   Male     Yes          0  Not Graduate            No   \n4  LP001008   Male      No          0      Graduate            No   \n\n   ApplicantIncome  CoapplicantIncome  LoanAmount  Loan_Amount_Term  \\\n0             5849                0.0         NaN             360.0   \n1             4583             1508.0       128.0             360.0   \n2             3000                0.0        66.0             360.0   \n3             2583             2358.0       120.0             360.0   \n4             6000                0.0       141.0             360.0   \n\n   Credit_History Property_Area Loan_Status  \n0             1.0         Urban           Y  \n1             1.0         Rural           N  \n2             1.0         Urban           Y  \n3             1.0         Urban           Y  \n4             1.0         Urban           Y  ",
      "text/html": "<div>\n<style scoped>\n    .dataframe tbody tr th:only-of-type {\n        vertical-align: middle;\n    }\n\n    .dataframe tbody tr th {\n        vertical-align: top;\n    }\n\n    .dataframe thead th {\n        text-align: right;\n    }\n</style>\n<table border=\"1\" class=\"dataframe\">\n  <thead>\n    <tr style=\"text-align: right;\">\n      <th></th>\n      <th>Loan_ID</th>\n      <th>Gender</th>\n      <th>Married</th>\n      <th>Dependents</th>\n      <th>Education</th>\n      <th>Self_Employed</th>\n      <th>ApplicantIncome</th>\n      <th>CoapplicantIncome</th>\n      <th>LoanAmount</th>\n      <th>Loan_Amount_Term</th>\n      <th>Credit_History</th>\n      <th>Property_Area</th>\n      <th>Loan_Status</th>\n    </tr>\n  </thead>\n  <tbody>\n    <tr>\n      <th>0</th>\n      <td>LP001002</td>\n      <td>Male</td>\n      <td>No</td>\n      <td>0</td>\n      <td>Graduate</td>\n      <td>No</td>\n      <td>5849</td>\n      <td>0.0</td>\n      <td>NaN</td>\n      <td>360.0</td>\n      <td>1.0</td>\n      <td>Urban</td>\n      <td>Y</td>\n    </tr>\n    <tr>\n      <th>1</th>\n      <td>LP001003</td>\n      <td>Male</td>\n      <td>Yes</td>\n      <td>1</td>\n      <td>Graduate</td>\n      <td>No</td>\n      <td>4583</td>\n      <td>1508.0</td>\n      <td>128.0</td>\n      <td>360.0</td>\n      <td>1.0</td>\n      <td>Rural</td>\n      <td>N</td>\n    </tr>\n    <tr>\n      <th>2</th>\n      <td>LP001005</td>\n      <td>Male</td>\n      <td>Yes</td>\n      <td>0</td>\n      <td>Graduate</td>\n      <td>Yes</td>\n      <td>3000</td>\n      <td>0.0</td>\n      <td>66.0</td>\n      <td>360.0</td>\n      <td>1.0</td>\n      <td>Urban</td>\n      <td>Y</td>\n    </tr>\n    <tr>\n      <th>3</th>\n      <td>LP001006</td>\n      <td>Male</td>\n      <td>Yes</td>\n      <td>0</td>\n      <td>Not Graduate</td>\n      <td>No</td>\n      <td>2583</td>\n      <td>2358.0</td>\n      <td>120.0</td>\n      <td>360.0</td>\n      <td>1.0</td>\n      <td>Urban</td>\n      <td>Y</td>\n    </tr>\n    <tr>\n      <th>4</th>\n      <td>LP001008</td>\n      <td>Male</td>\n      <td>No</td>\n      <td>0</td>\n      <td>Graduate</td>\n      <td>No</td>\n      <td>6000</td>\n      <td>0.0</td>\n      <td>141.0</td>\n      <td>360.0</td>\n      <td>1.0</td>\n      <td>Urban</td>\n      <td>Y</td>\n    </tr>\n  </tbody>\n</table>\n</div>"
     },
     "execution_count": 2,
     "metadata": {},
     "output_type": "execute_result"
    }
   ]
  },
  {
   "cell_type": "code",
   "source": [
    "df = df.rename(columns=str.lower)"
   ],
   "metadata": {
    "execution": {
     "iopub.status.busy": "2023-12-05T18:16:25.152793Z",
     "iopub.execute_input": "2023-12-05T18:16:25.153405Z",
     "iopub.status.idle": "2023-12-05T18:16:25.160737Z",
     "shell.execute_reply.started": "2023-12-05T18:16:25.153356Z",
     "shell.execute_reply": "2023-12-05T18:16:25.159346Z"
    },
    "trusted": true,
    "ExecuteTime": {
     "end_time": "2024-01-25T16:47:46.953530400Z",
     "start_time": "2024-01-25T16:47:46.928249900Z"
    }
   },
   "execution_count": 3,
   "outputs": []
  },
  {
   "cell_type": "code",
   "source": [
    "df.shape"
   ],
   "metadata": {
    "execution": {
     "iopub.status.busy": "2023-12-05T18:16:36.940146Z",
     "iopub.execute_input": "2023-12-05T18:16:36.940553Z",
     "iopub.status.idle": "2023-12-05T18:16:36.947960Z",
     "shell.execute_reply.started": "2023-12-05T18:16:36.940521Z",
     "shell.execute_reply": "2023-12-05T18:16:36.946830Z"
    },
    "trusted": true,
    "ExecuteTime": {
     "end_time": "2024-01-25T16:47:50.511315700Z",
     "start_time": "2024-01-25T16:47:50.490440100Z"
    }
   },
   "execution_count": 4,
   "outputs": [
    {
     "data": {
      "text/plain": "(614, 13)"
     },
     "execution_count": 4,
     "metadata": {},
     "output_type": "execute_result"
    }
   ]
  },
  {
   "cell_type": "code",
   "source": [
    "df.info()\n"
   ],
   "metadata": {
    "execution": {
     "iopub.status.busy": "2023-12-05T18:16:48.567587Z",
     "iopub.execute_input": "2023-12-05T18:16:48.567985Z",
     "iopub.status.idle": "2023-12-05T18:16:48.597954Z",
     "shell.execute_reply.started": "2023-12-05T18:16:48.567956Z",
     "shell.execute_reply": "2023-12-05T18:16:48.597132Z"
    },
    "trusted": true,
    "ExecuteTime": {
     "end_time": "2024-01-25T16:47:54.275039800Z",
     "start_time": "2024-01-25T16:47:54.245378500Z"
    }
   },
   "execution_count": 5,
   "outputs": [
    {
     "name": "stdout",
     "output_type": "stream",
     "text": [
      "<class 'pandas.core.frame.DataFrame'>\n",
      "RangeIndex: 614 entries, 0 to 613\n",
      "Data columns (total 13 columns):\n",
      " #   Column             Non-Null Count  Dtype  \n",
      "---  ------             --------------  -----  \n",
      " 0   loan_id            614 non-null    object \n",
      " 1   gender             601 non-null    object \n",
      " 2   married            611 non-null    object \n",
      " 3   dependents         599 non-null    object \n",
      " 4   education          614 non-null    object \n",
      " 5   self_employed      582 non-null    object \n",
      " 6   applicantincome    614 non-null    int64  \n",
      " 7   coapplicantincome  614 non-null    float64\n",
      " 8   loanamount         592 non-null    float64\n",
      " 9   loan_amount_term   600 non-null    float64\n",
      " 10  credit_history     564 non-null    float64\n",
      " 11  property_area      614 non-null    object \n",
      " 12  loan_status        614 non-null    object \n",
      "dtypes: float64(4), int64(1), object(8)\n",
      "memory usage: 62.5+ KB\n"
     ]
    }
   ]
  },
  {
   "cell_type": "code",
   "source": [
    "en = LabelEncoder()\n",
    "cat = ['gender', 'married', 'education', 'self_employed', 'property_area', 'loan_status']\n",
    "for cols in cat:\n",
    "    df[cols] = en.fit_transform(df[cols])"
   ],
   "metadata": {
    "execution": {
     "iopub.status.busy": "2023-12-05T18:17:32.043732Z",
     "iopub.execute_input": "2023-12-05T18:17:32.044102Z",
     "iopub.status.idle": "2023-12-05T18:17:32.056378Z",
     "shell.execute_reply.started": "2023-12-05T18:17:32.044072Z",
     "shell.execute_reply": "2023-12-05T18:17:32.055327Z"
    },
    "trusted": true,
    "ExecuteTime": {
     "end_time": "2024-01-25T16:47:56.994987300Z",
     "start_time": "2024-01-25T16:47:56.976768800Z"
    }
   },
   "execution_count": 6,
   "outputs": []
  },
  {
   "cell_type": "code",
   "source": [
    "df['dependents'].replace('3+', 3, inplace=True)"
   ],
   "metadata": {
    "execution": {
     "iopub.status.busy": "2023-12-05T18:18:15.255465Z",
     "iopub.execute_input": "2023-12-05T18:18:15.255997Z",
     "iopub.status.idle": "2023-12-05T18:18:15.264160Z",
     "shell.execute_reply.started": "2023-12-05T18:18:15.255957Z",
     "shell.execute_reply": "2023-12-05T18:18:15.262772Z"
    },
    "trusted": true,
    "ExecuteTime": {
     "end_time": "2024-01-25T16:48:15.798601700Z",
     "start_time": "2024-01-25T16:48:15.781057700Z"
    }
   },
   "execution_count": 7,
   "outputs": []
  },
  {
   "cell_type": "code",
   "source": [
    "df.head()"
   ],
   "metadata": {
    "execution": {
     "iopub.status.busy": "2023-12-05T18:18:33.573510Z",
     "iopub.execute_input": "2023-12-05T18:18:33.573926Z",
     "iopub.status.idle": "2023-12-05T18:18:33.593108Z",
     "shell.execute_reply.started": "2023-12-05T18:18:33.573894Z",
     "shell.execute_reply": "2023-12-05T18:18:33.592273Z"
    },
    "trusted": true,
    "ExecuteTime": {
     "end_time": "2024-01-25T16:48:17.136009700Z",
     "start_time": "2024-01-25T16:48:17.111459500Z"
    }
   },
   "execution_count": 8,
   "outputs": [
    {
     "data": {
      "text/plain": "    loan_id  gender  married dependents  education  self_employed  \\\n0  LP001002       1        0          0          0              0   \n1  LP001003       1        1          1          0              0   \n2  LP001005       1        1          0          0              1   \n3  LP001006       1        1          0          1              0   \n4  LP001008       1        0          0          0              0   \n\n   applicantincome  coapplicantincome  loanamount  loan_amount_term  \\\n0             5849                0.0         NaN             360.0   \n1             4583             1508.0       128.0             360.0   \n2             3000                0.0        66.0             360.0   \n3             2583             2358.0       120.0             360.0   \n4             6000                0.0       141.0             360.0   \n\n   credit_history  property_area  loan_status  \n0             1.0              2            1  \n1             1.0              0            0  \n2             1.0              2            1  \n3             1.0              2            1  \n4             1.0              2            1  ",
      "text/html": "<div>\n<style scoped>\n    .dataframe tbody tr th:only-of-type {\n        vertical-align: middle;\n    }\n\n    .dataframe tbody tr th {\n        vertical-align: top;\n    }\n\n    .dataframe thead th {\n        text-align: right;\n    }\n</style>\n<table border=\"1\" class=\"dataframe\">\n  <thead>\n    <tr style=\"text-align: right;\">\n      <th></th>\n      <th>loan_id</th>\n      <th>gender</th>\n      <th>married</th>\n      <th>dependents</th>\n      <th>education</th>\n      <th>self_employed</th>\n      <th>applicantincome</th>\n      <th>coapplicantincome</th>\n      <th>loanamount</th>\n      <th>loan_amount_term</th>\n      <th>credit_history</th>\n      <th>property_area</th>\n      <th>loan_status</th>\n    </tr>\n  </thead>\n  <tbody>\n    <tr>\n      <th>0</th>\n      <td>LP001002</td>\n      <td>1</td>\n      <td>0</td>\n      <td>0</td>\n      <td>0</td>\n      <td>0</td>\n      <td>5849</td>\n      <td>0.0</td>\n      <td>NaN</td>\n      <td>360.0</td>\n      <td>1.0</td>\n      <td>2</td>\n      <td>1</td>\n    </tr>\n    <tr>\n      <th>1</th>\n      <td>LP001003</td>\n      <td>1</td>\n      <td>1</td>\n      <td>1</td>\n      <td>0</td>\n      <td>0</td>\n      <td>4583</td>\n      <td>1508.0</td>\n      <td>128.0</td>\n      <td>360.0</td>\n      <td>1.0</td>\n      <td>0</td>\n      <td>0</td>\n    </tr>\n    <tr>\n      <th>2</th>\n      <td>LP001005</td>\n      <td>1</td>\n      <td>1</td>\n      <td>0</td>\n      <td>0</td>\n      <td>1</td>\n      <td>3000</td>\n      <td>0.0</td>\n      <td>66.0</td>\n      <td>360.0</td>\n      <td>1.0</td>\n      <td>2</td>\n      <td>1</td>\n    </tr>\n    <tr>\n      <th>3</th>\n      <td>LP001006</td>\n      <td>1</td>\n      <td>1</td>\n      <td>0</td>\n      <td>1</td>\n      <td>0</td>\n      <td>2583</td>\n      <td>2358.0</td>\n      <td>120.0</td>\n      <td>360.0</td>\n      <td>1.0</td>\n      <td>2</td>\n      <td>1</td>\n    </tr>\n    <tr>\n      <th>4</th>\n      <td>LP001008</td>\n      <td>1</td>\n      <td>0</td>\n      <td>0</td>\n      <td>0</td>\n      <td>0</td>\n      <td>6000</td>\n      <td>0.0</td>\n      <td>141.0</td>\n      <td>360.0</td>\n      <td>1.0</td>\n      <td>2</td>\n      <td>1</td>\n    </tr>\n  </tbody>\n</table>\n</div>"
     },
     "execution_count": 8,
     "metadata": {},
     "output_type": "execute_result"
    }
   ]
  },
  {
   "cell_type": "code",
   "source": [
    "df.isna().sum()"
   ],
   "metadata": {
    "execution": {
     "iopub.status.busy": "2023-12-05T18:18:51.090150Z",
     "iopub.execute_input": "2023-12-05T18:18:51.090610Z",
     "iopub.status.idle": "2023-12-05T18:18:51.106410Z",
     "shell.execute_reply.started": "2023-12-05T18:18:51.090566Z",
     "shell.execute_reply": "2023-12-05T18:18:51.104767Z"
    },
    "trusted": true,
    "ExecuteTime": {
     "end_time": "2024-01-25T16:48:18.652254100Z",
     "start_time": "2024-01-25T16:48:18.633265400Z"
    }
   },
   "execution_count": 9,
   "outputs": [
    {
     "data": {
      "text/plain": "loan_id               0\ngender                0\nmarried               0\ndependents           15\neducation             0\nself_employed         0\napplicantincome       0\ncoapplicantincome     0\nloanamount           22\nloan_amount_term     14\ncredit_history       50\nproperty_area         0\nloan_status           0\ndtype: int64"
     },
     "execution_count": 9,
     "metadata": {},
     "output_type": "execute_result"
    }
   ]
  },
  {
   "cell_type": "code",
   "source": [
    "df_clean = df\n",
    "df_clean.drop('loan_id', axis=1, inplace=True)"
   ],
   "metadata": {
    "execution": {
     "iopub.status.busy": "2023-12-05T18:21:40.529279Z",
     "iopub.execute_input": "2023-12-05T18:21:40.529762Z",
     "iopub.status.idle": "2023-12-05T18:21:40.538843Z",
     "shell.execute_reply.started": "2023-12-05T18:21:40.529726Z",
     "shell.execute_reply": "2023-12-05T18:21:40.537667Z"
    },
    "trusted": true,
    "ExecuteTime": {
     "end_time": "2024-01-25T16:48:20.939816600Z",
     "start_time": "2024-01-25T16:48:20.922159400Z"
    }
   },
   "execution_count": 10,
   "outputs": []
  },
  {
   "cell_type": "code",
   "source": [
    "from sklearn.impute import KNNImputer\n",
    "\n",
    "imputer = KNNImputer(n_neighbors=3)\n",
    "df_clean = pd.DataFrame(imputer.fit_transform(df), columns=df_clean.columns)\n",
    "df_clean.isnull().sum()"
   ],
   "metadata": {
    "execution": {
     "iopub.status.busy": "2023-12-05T18:25:36.640104Z",
     "iopub.execute_input": "2023-12-05T18:25:36.640535Z",
     "iopub.status.idle": "2023-12-05T18:25:36.681971Z",
     "shell.execute_reply.started": "2023-12-05T18:25:36.640504Z",
     "shell.execute_reply": "2023-12-05T18:25:36.680338Z"
    },
    "trusted": true,
    "ExecuteTime": {
     "end_time": "2024-01-25T16:48:28.895339900Z",
     "start_time": "2024-01-25T16:48:28.867012400Z"
    }
   },
   "execution_count": 11,
   "outputs": [
    {
     "data": {
      "text/plain": "gender               0\nmarried              0\ndependents           0\neducation            0\nself_employed        0\napplicantincome      0\ncoapplicantincome    0\nloanamount           0\nloan_amount_term     0\ncredit_history       0\nproperty_area        0\nloan_status          0\ndtype: int64"
     },
     "execution_count": 11,
     "metadata": {},
     "output_type": "execute_result"
    }
   ]
  },
  {
   "cell_type": "code",
   "source": [
    "X = df_clean.drop(columns=['loan_status']).values\n",
    "y = df_clean['loan_status'].values"
   ],
   "metadata": {
    "execution": {
     "iopub.status.busy": "2023-12-05T18:25:51.270075Z",
     "iopub.execute_input": "2023-12-05T18:25:51.270512Z",
     "iopub.status.idle": "2023-12-05T18:25:51.276900Z",
     "shell.execute_reply.started": "2023-12-05T18:25:51.270475Z",
     "shell.execute_reply": "2023-12-05T18:25:51.275745Z"
    },
    "trusted": true,
    "ExecuteTime": {
     "end_time": "2024-01-25T16:48:37.941126500Z",
     "start_time": "2024-01-25T16:48:37.928108200Z"
    }
   },
   "execution_count": 12,
   "outputs": []
  },
  {
   "cell_type": "code",
   "source": [
    "X_train, X_test, y_train, y_test = train_test_split(X, y, test_size=0.25, random_state=0)"
   ],
   "metadata": {
    "execution": {
     "iopub.status.busy": "2023-12-05T18:26:10.695679Z",
     "iopub.execute_input": "2023-12-05T18:26:10.696109Z",
     "iopub.status.idle": "2023-12-05T18:26:10.704509Z",
     "shell.execute_reply.started": "2023-12-05T18:26:10.696077Z",
     "shell.execute_reply": "2023-12-05T18:26:10.702709Z"
    },
    "trusted": true,
    "ExecuteTime": {
     "end_time": "2024-01-25T16:48:39.548694100Z",
     "start_time": "2024-01-25T16:48:39.533208200Z"
    }
   },
   "execution_count": 13,
   "outputs": []
  },
  {
   "cell_type": "code",
   "source": [
    "sc = StandardScaler()\n",
    "X_train = sc.fit_transform(X_train)\n",
    "X_test = sc.transform(X_test)"
   ],
   "metadata": {
    "execution": {
     "iopub.status.busy": "2023-12-05T18:26:24.416355Z",
     "iopub.execute_input": "2023-12-05T18:26:24.416741Z",
     "iopub.status.idle": "2023-12-05T18:26:24.423215Z",
     "shell.execute_reply.started": "2023-12-05T18:26:24.416711Z",
     "shell.execute_reply": "2023-12-05T18:26:24.422116Z"
    },
    "trusted": true,
    "ExecuteTime": {
     "end_time": "2024-01-25T16:48:41.085271600Z",
     "start_time": "2024-01-25T16:48:41.058688600Z"
    }
   },
   "execution_count": 14,
   "outputs": []
  },
  {
   "cell_type": "code",
   "source": [
    "rfc = RandomForestClassifier(criterion='entropy', random_state=42)\n",
    "rfc.fit(X_train, y_train)"
   ],
   "metadata": {
    "execution": {
     "iopub.status.busy": "2023-12-05T18:27:04.696067Z",
     "iopub.execute_input": "2023-12-05T18:27:04.696478Z",
     "iopub.status.idle": "2023-12-05T18:27:04.921075Z",
     "shell.execute_reply.started": "2023-12-05T18:27:04.696448Z",
     "shell.execute_reply": "2023-12-05T18:27:04.919983Z"
    },
    "trusted": true,
    "ExecuteTime": {
     "end_time": "2024-01-25T16:48:47.371238100Z",
     "start_time": "2024-01-25T16:48:47.162323200Z"
    }
   },
   "execution_count": 15,
   "outputs": [
    {
     "data": {
      "text/plain": "RandomForestClassifier(criterion='entropy', random_state=42)",
      "text/html": "<style>#sk-container-id-1 {\n  /* Definition of color scheme common for light and dark mode */\n  --sklearn-color-text: black;\n  --sklearn-color-line: gray;\n  /* Definition of color scheme for unfitted estimators */\n  --sklearn-color-unfitted-level-0: #fff5e6;\n  --sklearn-color-unfitted-level-1: #f6e4d2;\n  --sklearn-color-unfitted-level-2: #ffe0b3;\n  --sklearn-color-unfitted-level-3: chocolate;\n  /* Definition of color scheme for fitted estimators */\n  --sklearn-color-fitted-level-0: #f0f8ff;\n  --sklearn-color-fitted-level-1: #d4ebff;\n  --sklearn-color-fitted-level-2: #b3dbfd;\n  --sklearn-color-fitted-level-3: cornflowerblue;\n\n  /* Specific color for light theme */\n  --sklearn-color-text-on-default-background: var(--sg-text-color, var(--theme-code-foreground, var(--jp-content-font-color1, black)));\n  --sklearn-color-background: var(--sg-background-color, var(--theme-background, var(--jp-layout-color0, white)));\n  --sklearn-color-border-box: var(--sg-text-color, var(--theme-code-foreground, var(--jp-content-font-color1, black)));\n  --sklearn-color-icon: #696969;\n\n  @media (prefers-color-scheme: dark) {\n    /* Redefinition of color scheme for dark theme */\n    --sklearn-color-text-on-default-background: var(--sg-text-color, var(--theme-code-foreground, var(--jp-content-font-color1, white)));\n    --sklearn-color-background: var(--sg-background-color, var(--theme-background, var(--jp-layout-color0, #111)));\n    --sklearn-color-border-box: var(--sg-text-color, var(--theme-code-foreground, var(--jp-content-font-color1, white)));\n    --sklearn-color-icon: #878787;\n  }\n}\n\n#sk-container-id-1 {\n  color: var(--sklearn-color-text);\n}\n\n#sk-container-id-1 pre {\n  padding: 0;\n}\n\n#sk-container-id-1 input.sk-hidden--visually {\n  border: 0;\n  clip: rect(1px 1px 1px 1px);\n  clip: rect(1px, 1px, 1px, 1px);\n  height: 1px;\n  margin: -1px;\n  overflow: hidden;\n  padding: 0;\n  position: absolute;\n  width: 1px;\n}\n\n#sk-container-id-1 div.sk-dashed-wrapped {\n  border: 1px dashed var(--sklearn-color-line);\n  margin: 0 0.4em 0.5em 0.4em;\n  box-sizing: border-box;\n  padding-bottom: 0.4em;\n  background-color: var(--sklearn-color-background);\n}\n\n#sk-container-id-1 div.sk-container {\n  /* jupyter's `normalize.less` sets `[hidden] { display: none; }`\n     but bootstrap.min.css set `[hidden] { display: none !important; }`\n     so we also need the `!important` here to be able to override the\n     default hidden behavior on the sphinx rendered scikit-learn.org.\n     See: https://github.com/scikit-learn/scikit-learn/issues/21755 */\n  display: inline-block !important;\n  position: relative;\n}\n\n#sk-container-id-1 div.sk-text-repr-fallback {\n  display: none;\n}\n\ndiv.sk-parallel-item,\ndiv.sk-serial,\ndiv.sk-item {\n  /* draw centered vertical line to link estimators */\n  background-image: linear-gradient(var(--sklearn-color-text-on-default-background), var(--sklearn-color-text-on-default-background));\n  background-size: 2px 100%;\n  background-repeat: no-repeat;\n  background-position: center center;\n}\n\n/* Parallel-specific style estimator block */\n\n#sk-container-id-1 div.sk-parallel-item::after {\n  content: \"\";\n  width: 100%;\n  border-bottom: 2px solid var(--sklearn-color-text-on-default-background);\n  flex-grow: 1;\n}\n\n#sk-container-id-1 div.sk-parallel {\n  display: flex;\n  align-items: stretch;\n  justify-content: center;\n  background-color: var(--sklearn-color-background);\n  position: relative;\n}\n\n#sk-container-id-1 div.sk-parallel-item {\n  display: flex;\n  flex-direction: column;\n}\n\n#sk-container-id-1 div.sk-parallel-item:first-child::after {\n  align-self: flex-end;\n  width: 50%;\n}\n\n#sk-container-id-1 div.sk-parallel-item:last-child::after {\n  align-self: flex-start;\n  width: 50%;\n}\n\n#sk-container-id-1 div.sk-parallel-item:only-child::after {\n  width: 0;\n}\n\n/* Serial-specific style estimator block */\n\n#sk-container-id-1 div.sk-serial {\n  display: flex;\n  flex-direction: column;\n  align-items: center;\n  background-color: var(--sklearn-color-background);\n  padding-right: 1em;\n  padding-left: 1em;\n}\n\n\n/* Toggleable style: style used for estimator/Pipeline/ColumnTransformer box that is\nclickable and can be expanded/collapsed.\n- Pipeline and ColumnTransformer use this feature and define the default style\n- Estimators will overwrite some part of the style using the `sk-estimator` class\n*/\n\n/* Pipeline and ColumnTransformer style (default) */\n\n#sk-container-id-1 div.sk-toggleable {\n  /* Default theme specific background. It is overwritten whether we have a\n  specific estimator or a Pipeline/ColumnTransformer */\n  background-color: var(--sklearn-color-background);\n}\n\n/* Toggleable label */\n#sk-container-id-1 label.sk-toggleable__label {\n  cursor: pointer;\n  display: block;\n  width: 100%;\n  margin-bottom: 0;\n  padding: 0.5em;\n  box-sizing: border-box;\n  text-align: center;\n}\n\n#sk-container-id-1 label.sk-toggleable__label-arrow:before {\n  /* Arrow on the left of the label */\n  content: \"▸\";\n  float: left;\n  margin-right: 0.25em;\n  color: var(--sklearn-color-icon);\n}\n\n#sk-container-id-1 label.sk-toggleable__label-arrow:hover:before {\n  color: var(--sklearn-color-text);\n}\n\n/* Toggleable content - dropdown */\n\n#sk-container-id-1 div.sk-toggleable__content {\n  max-height: 0;\n  max-width: 0;\n  overflow: hidden;\n  text-align: left;\n  /* unfitted */\n  background-color: var(--sklearn-color-unfitted-level-0);\n}\n\n#sk-container-id-1 div.sk-toggleable__content.fitted {\n  /* fitted */\n  background-color: var(--sklearn-color-fitted-level-0);\n}\n\n#sk-container-id-1 div.sk-toggleable__content pre {\n  margin: 0.2em;\n  border-radius: 0.25em;\n  color: var(--sklearn-color-text);\n  /* unfitted */\n  background-color: var(--sklearn-color-unfitted-level-0);\n}\n\n#sk-container-id-1 div.sk-toggleable__content.fitted pre {\n  /* unfitted */\n  background-color: var(--sklearn-color-fitted-level-0);\n}\n\n#sk-container-id-1 input.sk-toggleable__control:checked~div.sk-toggleable__content {\n  /* Expand drop-down */\n  max-height: 200px;\n  max-width: 100%;\n  overflow: auto;\n}\n\n#sk-container-id-1 input.sk-toggleable__control:checked~label.sk-toggleable__label-arrow:before {\n  content: \"▾\";\n}\n\n/* Pipeline/ColumnTransformer-specific style */\n\n#sk-container-id-1 div.sk-label input.sk-toggleable__control:checked~label.sk-toggleable__label {\n  color: var(--sklearn-color-text);\n  background-color: var(--sklearn-color-unfitted-level-2);\n}\n\n#sk-container-id-1 div.sk-label.fitted input.sk-toggleable__control:checked~label.sk-toggleable__label {\n  background-color: var(--sklearn-color-fitted-level-2);\n}\n\n/* Estimator-specific style */\n\n/* Colorize estimator box */\n#sk-container-id-1 div.sk-estimator input.sk-toggleable__control:checked~label.sk-toggleable__label {\n  /* unfitted */\n  background-color: var(--sklearn-color-unfitted-level-2);\n}\n\n#sk-container-id-1 div.sk-estimator.fitted input.sk-toggleable__control:checked~label.sk-toggleable__label {\n  /* fitted */\n  background-color: var(--sklearn-color-fitted-level-2);\n}\n\n#sk-container-id-1 div.sk-label label.sk-toggleable__label,\n#sk-container-id-1 div.sk-label label {\n  /* The background is the default theme color */\n  color: var(--sklearn-color-text-on-default-background);\n}\n\n/* On hover, darken the color of the background */\n#sk-container-id-1 div.sk-label:hover label.sk-toggleable__label {\n  color: var(--sklearn-color-text);\n  background-color: var(--sklearn-color-unfitted-level-2);\n}\n\n/* Label box, darken color on hover, fitted */\n#sk-container-id-1 div.sk-label.fitted:hover label.sk-toggleable__label.fitted {\n  color: var(--sklearn-color-text);\n  background-color: var(--sklearn-color-fitted-level-2);\n}\n\n/* Estimator label */\n\n#sk-container-id-1 div.sk-label label {\n  font-family: monospace;\n  font-weight: bold;\n  display: inline-block;\n  line-height: 1.2em;\n}\n\n#sk-container-id-1 div.sk-label-container {\n  text-align: center;\n}\n\n/* Estimator-specific */\n#sk-container-id-1 div.sk-estimator {\n  font-family: monospace;\n  border: 1px dotted var(--sklearn-color-border-box);\n  border-radius: 0.25em;\n  box-sizing: border-box;\n  margin-bottom: 0.5em;\n  /* unfitted */\n  background-color: var(--sklearn-color-unfitted-level-0);\n}\n\n#sk-container-id-1 div.sk-estimator.fitted {\n  /* fitted */\n  background-color: var(--sklearn-color-fitted-level-0);\n}\n\n/* on hover */\n#sk-container-id-1 div.sk-estimator:hover {\n  /* unfitted */\n  background-color: var(--sklearn-color-unfitted-level-2);\n}\n\n#sk-container-id-1 div.sk-estimator.fitted:hover {\n  /* fitted */\n  background-color: var(--sklearn-color-fitted-level-2);\n}\n\n/* Specification for estimator info (e.g. \"i\" and \"?\") */\n\n/* Common style for \"i\" and \"?\" */\n\n.sk-estimator-doc-link,\na:link.sk-estimator-doc-link,\na:visited.sk-estimator-doc-link {\n  float: right;\n  font-size: smaller;\n  line-height: 1em;\n  font-family: monospace;\n  background-color: var(--sklearn-color-background);\n  border-radius: 1em;\n  height: 1em;\n  width: 1em;\n  text-decoration: none !important;\n  margin-left: 1ex;\n  /* unfitted */\n  border: var(--sklearn-color-unfitted-level-1) 1pt solid;\n  color: var(--sklearn-color-unfitted-level-1);\n}\n\n.sk-estimator-doc-link.fitted,\na:link.sk-estimator-doc-link.fitted,\na:visited.sk-estimator-doc-link.fitted {\n  /* fitted */\n  border: var(--sklearn-color-fitted-level-1) 1pt solid;\n  color: var(--sklearn-color-fitted-level-1);\n}\n\n/* On hover */\ndiv.sk-estimator:hover .sk-estimator-doc-link:hover,\n.sk-estimator-doc-link:hover,\ndiv.sk-label-container:hover .sk-estimator-doc-link:hover,\n.sk-estimator-doc-link:hover {\n  /* unfitted */\n  background-color: var(--sklearn-color-unfitted-level-3);\n  color: var(--sklearn-color-background);\n  text-decoration: none;\n}\n\ndiv.sk-estimator.fitted:hover .sk-estimator-doc-link.fitted:hover,\n.sk-estimator-doc-link.fitted:hover,\ndiv.sk-label-container:hover .sk-estimator-doc-link.fitted:hover,\n.sk-estimator-doc-link.fitted:hover {\n  /* fitted */\n  background-color: var(--sklearn-color-fitted-level-3);\n  color: var(--sklearn-color-background);\n  text-decoration: none;\n}\n\n/* Span, style for the box shown on hovering the info icon */\n.sk-estimator-doc-link span {\n  display: none;\n  z-index: 9999;\n  position: relative;\n  font-weight: normal;\n  right: .2ex;\n  padding: .5ex;\n  margin: .5ex;\n  width: min-content;\n  min-width: 20ex;\n  max-width: 50ex;\n  color: var(--sklearn-color-text);\n  box-shadow: 2pt 2pt 4pt #999;\n  /* unfitted */\n  background: var(--sklearn-color-unfitted-level-0);\n  border: .5pt solid var(--sklearn-color-unfitted-level-3);\n}\n\n.sk-estimator-doc-link.fitted span {\n  /* fitted */\n  background: var(--sklearn-color-fitted-level-0);\n  border: var(--sklearn-color-fitted-level-3);\n}\n\n.sk-estimator-doc-link:hover span {\n  display: block;\n}\n\n/* \"?\"-specific style due to the `<a>` HTML tag */\n\n#sk-container-id-1 a.estimator_doc_link {\n  float: right;\n  font-size: 1rem;\n  line-height: 1em;\n  font-family: monospace;\n  background-color: var(--sklearn-color-background);\n  border-radius: 1rem;\n  height: 1rem;\n  width: 1rem;\n  text-decoration: none;\n  /* unfitted */\n  color: var(--sklearn-color-unfitted-level-1);\n  border: var(--sklearn-color-unfitted-level-1) 1pt solid;\n}\n\n#sk-container-id-1 a.estimator_doc_link.fitted {\n  /* fitted */\n  border: var(--sklearn-color-fitted-level-1) 1pt solid;\n  color: var(--sklearn-color-fitted-level-1);\n}\n\n/* On hover */\n#sk-container-id-1 a.estimator_doc_link:hover {\n  /* unfitted */\n  background-color: var(--sklearn-color-unfitted-level-3);\n  color: var(--sklearn-color-background);\n  text-decoration: none;\n}\n\n#sk-container-id-1 a.estimator_doc_link.fitted:hover {\n  /* fitted */\n  background-color: var(--sklearn-color-fitted-level-3);\n}\n</style><div id=\"sk-container-id-1\" class=\"sk-top-container\"><div class=\"sk-text-repr-fallback\"><pre>RandomForestClassifier(criterion=&#x27;entropy&#x27;, random_state=42)</pre><b>In a Jupyter environment, please rerun this cell to show the HTML representation or trust the notebook. <br />On GitHub, the HTML representation is unable to render, please try loading this page with nbviewer.org.</b></div><div class=\"sk-container\" hidden><div class=\"sk-item\"><div class=\"sk-estimator fitted sk-toggleable\"><input class=\"sk-toggleable__control sk-hidden--visually\" id=\"sk-estimator-id-1\" type=\"checkbox\" checked><label for=\"sk-estimator-id-1\" class=\"sk-toggleable__label fitted sk-toggleable__label-arrow fitted\">&nbsp;&nbsp;RandomForestClassifier<a class=\"sk-estimator-doc-link fitted\" rel=\"noreferrer\" target=\"_blank\" href=\"https://scikit-learn.org/1.4/modules/generated/sklearn.ensemble.RandomForestClassifier.html\">?<span>Documentation for RandomForestClassifier</span></a><span class=\"sk-estimator-doc-link fitted\">i<span>Fitted</span></span></label><div class=\"sk-toggleable__content fitted\"><pre>RandomForestClassifier(criterion=&#x27;entropy&#x27;, random_state=42)</pre></div> </div></div></div></div>"
     },
     "execution_count": 15,
     "metadata": {},
     "output_type": "execute_result"
    }
   ]
  },
  {
   "cell_type": "code",
   "source": [
    "scores = cross_val_score(rfc, X_train, y_train, cv=10)\n",
    "print(\"Mean cross-validation score: %.3f\" % scores.mean())"
   ],
   "metadata": {
    "execution": {
     "iopub.status.busy": "2023-12-05T18:27:25.407822Z",
     "iopub.execute_input": "2023-12-05T18:27:25.408252Z",
     "iopub.status.idle": "2023-12-05T18:27:27.497419Z",
     "shell.execute_reply.started": "2023-12-05T18:27:25.408220Z",
     "shell.execute_reply": "2023-12-05T18:27:27.496177Z"
    },
    "trusted": true,
    "ExecuteTime": {
     "end_time": "2024-01-25T16:48:52.755550100Z",
     "start_time": "2024-01-25T16:48:50.862637900Z"
    }
   },
   "execution_count": 16,
   "outputs": [
    {
     "name": "stdout",
     "output_type": "stream",
     "text": [
      "Mean cross-validation score: 0.793\n"
     ]
    }
   ]
  },
  {
   "cell_type": "code",
   "source": [
    "y_pred_test = rfc.predict(X_test)\n",
    "y_pred_train = rfc.predict(X_train)"
   ],
   "metadata": {
    "execution": {
     "iopub.status.busy": "2023-12-05T18:27:57.700237Z",
     "iopub.execute_input": "2023-12-05T18:27:57.700694Z",
     "iopub.status.idle": "2023-12-05T18:27:57.730434Z",
     "shell.execute_reply.started": "2023-12-05T18:27:57.700665Z",
     "shell.execute_reply": "2023-12-05T18:27:57.729181Z"
    },
    "trusted": true,
    "ExecuteTime": {
     "end_time": "2024-01-25T16:48:55.471789900Z",
     "start_time": "2024-01-25T16:48:55.444831600Z"
    }
   },
   "execution_count": 17,
   "outputs": []
  },
  {
   "cell_type": "code",
   "source": [
    "print(classification_report(y_test, y_pred_test))"
   ],
   "metadata": {
    "execution": {
     "iopub.status.busy": "2023-12-05T18:29:42.169470Z",
     "iopub.execute_input": "2023-12-05T18:29:42.169878Z",
     "iopub.status.idle": "2023-12-05T18:29:42.185146Z",
     "shell.execute_reply.started": "2023-12-05T18:29:42.169847Z",
     "shell.execute_reply": "2023-12-05T18:29:42.184083Z"
    },
    "trusted": true,
    "ExecuteTime": {
     "end_time": "2024-01-25T16:48:56.854230200Z",
     "start_time": "2024-01-25T16:48:56.835046300Z"
    }
   },
   "execution_count": 18,
   "outputs": [
    {
     "name": "stdout",
     "output_type": "stream",
     "text": [
      "              precision    recall  f1-score   support\n",
      "\n",
      "         0.0       0.74      0.47      0.57        43\n",
      "         1.0       0.82      0.94      0.87       111\n",
      "\n",
      "    accuracy                           0.81       154\n",
      "   macro avg       0.78      0.70      0.72       154\n",
      "weighted avg       0.80      0.81      0.79       154\n"
     ]
    }
   ]
  },
  {
   "cell_type": "code",
   "source": [
    "cm_test = confusion_matrix(y_test, y_pred_test)\n",
    "print(cm_test)\n",
    "pd.crosstab(y_test, y_pred_test)"
   ],
   "metadata": {
    "execution": {
     "iopub.status.busy": "2023-12-05T18:28:28.282398Z",
     "iopub.execute_input": "2023-12-05T18:28:28.282805Z",
     "iopub.status.idle": "2023-12-05T18:28:28.329363Z",
     "shell.execute_reply.started": "2023-12-05T18:28:28.282773Z",
     "shell.execute_reply": "2023-12-05T18:28:28.328319Z"
    },
    "trusted": true,
    "ExecuteTime": {
     "end_time": "2024-01-25T16:49:23.930272100Z",
     "start_time": "2024-01-25T16:49:23.908567500Z"
    }
   },
   "execution_count": 19,
   "outputs": [
    {
     "name": "stdout",
     "output_type": "stream",
     "text": [
      "[[ 20  23]\n",
      " [  7 104]]\n"
     ]
    },
    {
     "data": {
      "text/plain": "col_0  0.0  1.0\nrow_0          \n0.0     20   23\n1.0      7  104",
      "text/html": "<div>\n<style scoped>\n    .dataframe tbody tr th:only-of-type {\n        vertical-align: middle;\n    }\n\n    .dataframe tbody tr th {\n        vertical-align: top;\n    }\n\n    .dataframe thead th {\n        text-align: right;\n    }\n</style>\n<table border=\"1\" class=\"dataframe\">\n  <thead>\n    <tr style=\"text-align: right;\">\n      <th>col_0</th>\n      <th>0.0</th>\n      <th>1.0</th>\n    </tr>\n    <tr>\n      <th>row_0</th>\n      <th></th>\n      <th></th>\n    </tr>\n  </thead>\n  <tbody>\n    <tr>\n      <th>0.0</th>\n      <td>20</td>\n      <td>23</td>\n    </tr>\n    <tr>\n      <th>1.0</th>\n      <td>7</td>\n      <td>104</td>\n    </tr>\n  </tbody>\n</table>\n</div>"
     },
     "execution_count": 19,
     "metadata": {},
     "output_type": "execute_result"
    }
   ]
  },
  {
   "cell_type": "code",
   "source": [
    "sns.heatmap(cm_test, square=True, annot=True, cmap='bwr')"
   ],
   "metadata": {
    "execution": {
     "iopub.status.busy": "2023-12-05T18:32:50.641025Z",
     "iopub.execute_input": "2023-12-05T18:32:50.641468Z",
     "iopub.status.idle": "2023-12-05T18:32:50.927045Z",
     "shell.execute_reply.started": "2023-12-05T18:32:50.641437Z",
     "shell.execute_reply": "2023-12-05T18:32:50.925991Z"
    },
    "trusted": true,
    "ExecuteTime": {
     "end_time": "2024-01-25T16:49:24.911056500Z",
     "start_time": "2024-01-25T16:49:24.608199Z"
    }
   },
   "execution_count": 20,
   "outputs": [
    {
     "data": {
      "text/plain": "<Axes: >"
     },
     "execution_count": 20,
     "metadata": {},
     "output_type": "execute_result"
    },
    {
     "data": {
      "text/plain": "<Figure size 640x480 with 2 Axes>",
      "image/png": "[encoded data removed]"
     },
     "metadata": {},
     "output_type": "display_data"
    }
   ]
  },
  {
   "cell_type": "code",
   "execution_count": null,
   "outputs": [],
   "source": [],
   "metadata": {
    "collapsed": false
   }
  }
 ]
}
