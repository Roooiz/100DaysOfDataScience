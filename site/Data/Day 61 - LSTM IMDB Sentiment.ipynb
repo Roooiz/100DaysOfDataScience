{
 "nbformat": 4,
 "nbformat_minor": 0,
 "metadata": {
  "colab": {
   "name": "LSTM IMDB Sentiment Example.ipynb",
   "provenance": [],
   "machine_shape": "hm"
  },
  "kernelspec": {
   "name": "python3",
   "language": "python",
   "display_name": "Python 3 (ipykernel)"
  },
  "accelerator": "GPU"
 },
 "cells": [
  {
   "cell_type": "markdown",
   "metadata": {
    "id": "WMucfLUS1yhH"
   },
   "source": [
    "Построим рекуррентную нейронную сеть LSTM для анализа настроений в обзорах фильмов IMDB."
   ]
  },
  {
   "cell_type": "code",
   "metadata": {
    "id": "2e3txwbh3q76",
    "outputId": "097e3f2c-6084-4ddb-baad-b918f445f7c3",
    "colab": {
     "base_uri": "https://localhost:8080/",
     "height": 56
    },
    "ExecuteTime": {
     "end_time": "2024-03-10T18:49:57.607772600Z",
     "start_time": "2024-03-10T18:49:48.087424500Z"
    }
   },
   "source": [
    "import tensorflow as tf\n",
    "import numpy as np\n",
    "from keras.preprocessing import sequence\n",
    "\n",
    "import logging\n",
    "\n",
    "logging.getLogger('tensorflow').disabled = True\n",
    "\n",
    "# Извлечем данные \"Обзор фильмов IMDB\", ограничив наши обзоры до\n",
    "# 10000 наиболее часто используемых\n",
    "vocab_size = 10000\n",
    "(x_train, y_train), (x_test, y_test) = tf.keras.datasets.imdb.load_data(num_words=vocab_size)\n",
    "\n",
    "class_names = [\"Негативный\", \"Позитивный\"]"
   ],
   "execution_count": 1,
   "outputs": []
  },
  {
   "cell_type": "code",
   "execution_count": 2,
   "outputs": [],
   "source": [
    "import keras as K\n",
    "\n",
    "K.backend.set_floatx('float32')"
   ],
   "metadata": {
    "collapsed": false,
    "ExecuteTime": {
     "end_time": "2024-03-10T18:50:04.570652100Z",
     "start_time": "2024-03-10T18:50:04.533418Z"
    }
   }
  },
  {
   "cell_type": "markdown",
   "metadata": {
    "id": "hdyHL8FF0JJy"
   },
   "source": [
    "## Создадим IMDB-разметку для преобразования набора данных IMDB в читаемые обзоры\n",
    "\n",
    "Обзоры в наборе данных IMDB были закодированы как последовательность целых чисел. К счастью, набор данных также содержит индекс для преобразования обзоров обратно в удобочитаемую форму."
   ]
  },
  {
   "cell_type": "code",
   "metadata": {
    "id": "E05AweFu0Imt",
    "ExecuteTime": {
     "end_time": "2024-03-10T18:50:06.477572200Z",
     "start_time": "2024-03-10T18:50:06.280573500Z"
    }
   },
   "source": [
    "# Получим индекс слова из набора данных\n",
    "word_index = tf.keras.datasets.imdb.get_word_index()\n",
    "\n",
    "# Убедимся, что теги преобразованы в понятные термины\n",
    "word_index = {k: (v + 3) for k, v in word_index.items()}\n",
    "word_index[\"<PAD>\"] = 0\n",
    "word_index[\"<START>\"] = 1\n",
    "word_index[\"<UNKNOWN>\"] = 2\n",
    "word_index[\"<UNUSED>\"] = 3\n",
    "\n",
    "# Выполним обратный поиск слова\n",
    "reverse_word_index = dict([(value, key) for (key, value) in word_index.items()])\n",
    "\n",
    "\n",
    "def decode_review(text):\n",
    "    return ' '.join([reverse_word_index.get(i, '?') for i in text])"
   ],
   "execution_count": 3,
   "outputs": []
  },
  {
   "cell_type": "markdown",
   "metadata": {
    "id": "fFXK-g6G81sC"
   },
   "source": [
    "## Анализ данных\n",
    "\n",
    "Здесь мы более подробно рассмотрим наши данные. Сколько слов содержат наши обзоры?\n",
    "И как выглядит наш обзор в оригинале и читаемой форме?"
   ]
  },
  {
   "cell_type": "code",
   "metadata": {
    "id": "yD1qHVBn81Y_",
    "outputId": "65f35e69-8cf5-4ada-f817-40ee96ed8df9",
    "colab": {
     "base_uri": "https://localhost:8080/",
     "height": 218
    },
    "ExecuteTime": {
     "end_time": "2024-03-10T18:50:08.662483Z",
     "start_time": "2024-03-10T18:50:07.450851200Z"
    }
   },
   "source": [
    "# Объединение тестового и тренировочного наборов данных\n",
    "allreviews = np.concatenate((x_train, x_test), axis=0)\n",
    "\n",
    "# Длины отзывов для полного тестового и тренировочного датасетов\n",
    "print(\"Максимальная длина отзыва: {}\".format(len(max((allreviews), key=len))))\n",
    "print(\"Минимальная длина отзыва: {}\".format(len(min((allreviews), key=len))))\n",
    "result = [len(x) for x in allreviews]\n",
    "print(\"Средняя длина отзыва: {}\".format(np.mean(result)))\n",
    "\n",
    "# Вывод отзыва и его класса, как хранится в датасете\n",
    "print(\"\")\n",
    "print(\"Отзыв в машинном формате\")\n",
    "print(\"Текст отзыва: \" + str(x_train[60]))\n",
    "print(\"Окрас отзыва: \" + str(y_train[60]))\n",
    "\n",
    "# Вывод отзыва и его класса в человекочитаемом формате. Замените число, чтобы выбрать другой отзыв.\n",
    "print(\"\")\n",
    "print(\"Отзыв в удобном формате\")\n",
    "print(\"Текст отзыва: \" + decode_review(x_train[60]))\n",
    "print(\"Окрас отзыва: \" + class_names[y_train[60]])"
   ],
   "execution_count": 4,
   "outputs": [
    {
     "ename": "ValueError",
     "evalue": "setting an array element with a sequence. The requested array has an inhomogeneous shape after 1 dimensions. The detected shape was (25000,) + inhomogeneous part.",
     "output_type": "error",
     "traceback": [
      "\u001B[1;31m---------------------------------------------------------------------------\u001B[0m",
      "\u001B[1;31mValueError\u001B[0m                                Traceback (most recent call last)",
      "Cell \u001B[1;32mIn[4], line 2\u001B[0m\n\u001B[0;32m      1\u001B[0m \u001B[38;5;66;03m# Объединение тестового и тренировочного наборов данных\u001B[39;00m\n\u001B[1;32m----> 2\u001B[0m allreviews \u001B[38;5;241m=\u001B[39m \u001B[43mnp\u001B[49m\u001B[38;5;241;43m.\u001B[39;49m\u001B[43mconcatenate\u001B[49m\u001B[43m(\u001B[49m\u001B[43m(\u001B[49m\u001B[43mx_train\u001B[49m\u001B[43m,\u001B[49m\u001B[43m \u001B[49m\u001B[43mx_test\u001B[49m\u001B[43m)\u001B[49m\u001B[43m,\u001B[49m\u001B[43m \u001B[49m\u001B[43maxis\u001B[49m\u001B[38;5;241;43m=\u001B[39;49m\u001B[38;5;241;43m0\u001B[39;49m\u001B[43m)\u001B[49m\n\u001B[0;32m      4\u001B[0m \u001B[38;5;66;03m# Длины отзывов для полного тестового и тренировочного датасетов\u001B[39;00m\n\u001B[0;32m      5\u001B[0m \u001B[38;5;28mprint\u001B[39m(\u001B[38;5;124m\"\u001B[39m\u001B[38;5;124mМаксимальная длина отзыва: \u001B[39m\u001B[38;5;132;01m{}\u001B[39;00m\u001B[38;5;124m\"\u001B[39m\u001B[38;5;241m.\u001B[39mformat(\u001B[38;5;28mlen\u001B[39m(\u001B[38;5;28mmax\u001B[39m((allreviews), key\u001B[38;5;241m=\u001B[39m\u001B[38;5;28mlen\u001B[39m))))\n",
      "\u001B[1;31mValueError\u001B[0m: setting an array element with a sequence. The requested array has an inhomogeneous shape after 1 dimensions. The detected shape was (25000,) + inhomogeneous part."
     ]
    }
   ]
  },
  {
   "cell_type": "markdown",
   "metadata": {
    "id": "mF-Votm66zD5"
   },
   "source": [
    "## Предварительная обработка данных\n",
    "Нам нужно убедиться, что наши обзоры имеют одинаковую длину. Это необходимо для параметров LSTM.\n",
    "Некоторые обзоры необходимо будет урезать, в то время как другие необходимо дополнить."
   ]
  },
  {
   "cell_type": "code",
   "metadata": {
    "id": "uNtJTLJA6gaT",
    "outputId": "dc3a6cce-561b-493f-d306-ad2df4dd48a4",
    "colab": {
     "base_uri": "https://localhost:8080/",
     "height": 138
    },
    "ExecuteTime": {
     "end_time": "2024-03-10T18:50:29.551908400Z",
     "start_time": "2024-03-10T18:50:28.440869600Z"
    }
   },
   "source": [
    "# Длина отзывов\n",
    "review_length = 500\n",
    "\n",
    "# Добавление или обрезка отзывов до указанной длины\n",
    "x_train = sequence.pad_sequences(x_train, maxlen=review_length)\n",
    "x_test = sequence.pad_sequences(x_test, maxlen=review_length)\n",
    "\n",
    "# Проверка размеров наших наборов данных. Данные об отзывах для обучения и тестирования\n",
    "# должны содержать 25000 отзывов по 500 чисел в каждом. Данные о классах должны содержать\n",
    "# 25000 значений, по одному для каждого отзыва. Значения классов - 0 или 1, указывающие\n",
    "# на отрицательный или положительный отзыв.\n",
    "print(\"Форма данных обучения по отзывам: \" + str(x_train.shape))\n",
    "print(\"Форма данных обучения по классам: \" + str(y_train.shape))\n",
    "print(\"Форма тестовых данных по отзывам: \" + str(x_test.shape))\n",
    "print(\"Форма тестовых данных по классам: \" + str(y_test.shape))\n",
    "\n",
    "# Заполнение добавляется в начало отзыва, а не в конец\n",
    "print(\"\")\n",
    "print(\"Текст отзыва (после добавления заполнения): \" + decode_review(x_train[60]))"
   ],
   "execution_count": 6,
   "outputs": [
    {
     "name": "stdout",
     "output_type": "stream",
     "text": [
      "Форма данных обучения по отзывам: (25000, 500)\n",
      "Форма данных обучения по классам: (25000,)\n",
      "Форма тестовых данных по отзывам: (25000, 500)\n",
      "Форма тестовых данных по классам: (25000,)\n",
      "\n",
      "Текст отзыва (после добавления заполнения): <PAD> <PAD> <PAD> <PAD> <PAD> <PAD> <PAD> <PAD> <PAD> <PAD> <PAD> <PAD> <PAD> <PAD> <PAD> <PAD> <PAD> <PAD> <PAD> <PAD> <PAD> <PAD> <PAD> <PAD> <PAD> <PAD> <PAD> <PAD> <PAD> <PAD> <PAD> <PAD> <PAD> <PAD> <PAD> <PAD> <PAD> <PAD> <PAD> <PAD> <PAD> <PAD> <PAD> <PAD> <PAD> <PAD> <PAD> <PAD> <PAD> <PAD> <PAD> <PAD> <PAD> <PAD> <PAD> <PAD> <PAD> <PAD> <PAD> <PAD> <PAD> <PAD> <PAD> <PAD> <PAD> <PAD> <PAD> <PAD> <PAD> <PAD> <PAD> <PAD> <PAD> <PAD> <PAD> <PAD> <PAD> <PAD> <PAD> <PAD> <PAD> <PAD> <PAD> <PAD> <PAD> <PAD> <PAD> <PAD> <PAD> <PAD> <PAD> <PAD> <PAD> <PAD> <PAD> <PAD> <PAD> <PAD> <PAD> <PAD> <PAD> <PAD> <PAD> <PAD> <PAD> <PAD> <PAD> <PAD> <PAD> <PAD> <PAD> <PAD> <PAD> <PAD> <PAD> <PAD> <PAD> <PAD> <PAD> <PAD> <PAD> <PAD> <PAD> <PAD> <PAD> <PAD> <PAD> <PAD> <PAD> <PAD> <PAD> <PAD> <PAD> <PAD> <PAD> <PAD> <PAD> <PAD> <PAD> <PAD> <PAD> <PAD> <PAD> <PAD> <PAD> <PAD> <PAD> <PAD> <PAD> <PAD> <PAD> <PAD> <PAD> <PAD> <PAD> <PAD> <PAD> <PAD> <PAD> <PAD> <PAD> <PAD> <PAD> <PAD> <PAD> <PAD> <PAD> <PAD> <PAD> <PAD> <PAD> <PAD> <PAD> <PAD> <PAD> <PAD> <PAD> <PAD> <PAD> <PAD> <PAD> <PAD> <PAD> <PAD> <PAD> <PAD> <PAD> <PAD> <PAD> <PAD> <PAD> <PAD> <PAD> <PAD> <PAD> <PAD> <PAD> <PAD> <PAD> <PAD> <PAD> <PAD> <PAD> <PAD> <PAD> <PAD> <PAD> <PAD> <PAD> <PAD> <PAD> <PAD> <PAD> <PAD> <PAD> <PAD> <PAD> <PAD> <PAD> <PAD> <PAD> <PAD> <PAD> <PAD> <PAD> <PAD> <PAD> <PAD> <PAD> <PAD> <PAD> <PAD> <PAD> <PAD> <PAD> <PAD> <PAD> <PAD> <PAD> <PAD> <PAD> <PAD> <PAD> <PAD> <PAD> <PAD> <PAD> <PAD> <PAD> <PAD> <PAD> <PAD> <PAD> <PAD> <PAD> <PAD> <PAD> <PAD> <PAD> <PAD> <PAD> <PAD> <PAD> <PAD> <PAD> <PAD> <PAD> <PAD> <PAD> <PAD> <PAD> <PAD> <PAD> <PAD> <PAD> <PAD> <PAD> <PAD> <PAD> <PAD> <PAD> <PAD> <PAD> <PAD> <PAD> <PAD> <PAD> <PAD> <PAD> <PAD> <PAD> <PAD> <PAD> <PAD> <PAD> <PAD> <PAD> <PAD> <PAD> <PAD> <PAD> <PAD> <PAD> <PAD> <PAD> <PAD> <PAD> <PAD> <PAD> <PAD> <PAD> <PAD> <PAD> <PAD> <PAD> <PAD> <PAD> <PAD> <PAD> <PAD> <PAD> <PAD> <PAD> <PAD> <PAD> <PAD> <PAD> <PAD> <PAD> <PAD> <PAD> <PAD> <PAD> <PAD> <PAD> <PAD> <PAD> <PAD> <PAD> <PAD> <PAD> <PAD> <PAD> <PAD> <PAD> <PAD> <PAD> <PAD> <PAD> <PAD> <PAD> <PAD> <PAD> <PAD> <PAD> <PAD> <PAD> <PAD> <PAD> <PAD> <PAD> <PAD> <PAD> <PAD> <PAD> <PAD> <PAD> <PAD> <PAD> <PAD> <PAD> <PAD> <PAD> <PAD> <PAD> <PAD> <PAD> <PAD> <PAD> <PAD> <PAD> <PAD> <PAD> <PAD> <PAD> <PAD> <PAD> <PAD> <PAD> <PAD> <PAD> <PAD> <PAD> <START> i saw this at the <UNKNOWN> film festival it was awful every clichéd violent rich boy fantasy was on display you just knew how it was going to end especially with all the shots of the <UNKNOWN> wife and the rape of the first girl br br the worst part was the q a with the director writer and writer producer they tried to come across as <UNKNOWN> but you could tell they're the types that get off on violence i bet anything they frequent <UNKNOWN> and do drugs br br don't waste your time i had to keep my boyfriend from walking out of it\n"
     ]
    }
   ]
  },
  {
   "cell_type": "markdown",
   "metadata": {
    "id": "BfOdV_VCCFee"
   },
   "source": [
    "## Рекуррентная нейронная сеть LSTM"
   ]
  },
  {
   "cell_type": "code",
   "execution_count": 17,
   "outputs": [
    {
     "data": {
      "text/plain": "\u001B[1mModel: \"sequential_6\"\u001B[0m\n",
      "text/html": "<pre style=\"white-space:pre;overflow-x:auto;line-height:normal;font-family:Menlo,'DejaVu Sans Mono',consolas,'Courier New',monospace\"><span style=\"font-weight: bold\">Model: \"sequential_6\"</span>\n</pre>\n"
     },
     "metadata": {},
     "output_type": "display_data"
    },
    {
     "data": {
      "text/plain": "┏━━━━━━━━━━━━━━━━━━━━━━━━━━━━━━━━━┳━━━━━━━━━━━━━━━━━━━━━━━━┳━━━━━━━━━━━━━━━┓\n┃\u001B[1m \u001B[0m\u001B[1mLayer (type)                   \u001B[0m\u001B[1m \u001B[0m┃\u001B[1m \u001B[0m\u001B[1mOutput Shape          \u001B[0m\u001B[1m \u001B[0m┃\u001B[1m \u001B[0m\u001B[1m      Param #\u001B[0m\u001B[1m \u001B[0m┃\n┡━━━━━━━━━━━━━━━━━━━━━━━━━━━━━━━━━╇━━━━━━━━━━━━━━━━━━━━━━━━╇━━━━━━━━━━━━━━━┩\n│ embedding_5 (\u001B[38;5;33mEmbedding\u001B[0m)         │ ?                      │   \u001B[38;5;34m0\u001B[0m (unbuilt) │\n├─────────────────────────────────┼────────────────────────┼───────────────┤\n│ dropout_2 (\u001B[38;5;33mDropout\u001B[0m)             │ ?                      │             \u001B[38;5;34m0\u001B[0m │\n├─────────────────────────────────┼────────────────────────┼───────────────┤\n│ conv1d_2 (\u001B[38;5;33mConv1D\u001B[0m)               │ ?                      │   \u001B[38;5;34m0\u001B[0m (unbuilt) │\n├─────────────────────────────────┼────────────────────────┼───────────────┤\n│ global_max_pooling1d_2          │ ?                      │   \u001B[38;5;34m0\u001B[0m (unbuilt) │\n│ (\u001B[38;5;33mGlobalMaxPooling1D\u001B[0m)            │                        │               │\n├─────────────────────────────────┼────────────────────────┼───────────────┤\n│ dense_4 (\u001B[38;5;33mDense\u001B[0m)                 │ ?                      │   \u001B[38;5;34m0\u001B[0m (unbuilt) │\n├─────────────────────────────────┼────────────────────────┼───────────────┤\n│ dense_5 (\u001B[38;5;33mDense\u001B[0m)                 │ ?                      │   \u001B[38;5;34m0\u001B[0m (unbuilt) │\n└─────────────────────────────────┴────────────────────────┴───────────────┘\n",
      "text/html": "<pre style=\"white-space:pre;overflow-x:auto;line-height:normal;font-family:Menlo,'DejaVu Sans Mono',consolas,'Courier New',monospace\">┏━━━━━━━━━━━━━━━━━━━━━━━━━━━━━━━━━┳━━━━━━━━━━━━━━━━━━━━━━━━┳━━━━━━━━━━━━━━━┓\n┃<span style=\"font-weight: bold\"> Layer (type)                    </span>┃<span style=\"font-weight: bold\"> Output Shape           </span>┃<span style=\"font-weight: bold\">       Param # </span>┃\n┡━━━━━━━━━━━━━━━━━━━━━━━━━━━━━━━━━╇━━━━━━━━━━━━━━━━━━━━━━━━╇━━━━━━━━━━━━━━━┩\n│ embedding_5 (<span style=\"color: #0087ff; text-decoration-color: #0087ff\">Embedding</span>)         │ ?                      │   <span style=\"color: #00af00; text-decoration-color: #00af00\">0</span> (unbuilt) │\n├─────────────────────────────────┼────────────────────────┼───────────────┤\n│ dropout_2 (<span style=\"color: #0087ff; text-decoration-color: #0087ff\">Dropout</span>)             │ ?                      │             <span style=\"color: #00af00; text-decoration-color: #00af00\">0</span> │\n├─────────────────────────────────┼────────────────────────┼───────────────┤\n│ conv1d_2 (<span style=\"color: #0087ff; text-decoration-color: #0087ff\">Conv1D</span>)               │ ?                      │   <span style=\"color: #00af00; text-decoration-color: #00af00\">0</span> (unbuilt) │\n├─────────────────────────────────┼────────────────────────┼───────────────┤\n│ global_max_pooling1d_2          │ ?                      │   <span style=\"color: #00af00; text-decoration-color: #00af00\">0</span> (unbuilt) │\n│ (<span style=\"color: #0087ff; text-decoration-color: #0087ff\">GlobalMaxPooling1D</span>)            │                        │               │\n├─────────────────────────────────┼────────────────────────┼───────────────┤\n│ dense_4 (<span style=\"color: #0087ff; text-decoration-color: #0087ff\">Dense</span>)                 │ ?                      │   <span style=\"color: #00af00; text-decoration-color: #00af00\">0</span> (unbuilt) │\n├─────────────────────────────────┼────────────────────────┼───────────────┤\n│ dense_5 (<span style=\"color: #0087ff; text-decoration-color: #0087ff\">Dense</span>)                 │ ?                      │   <span style=\"color: #00af00; text-decoration-color: #00af00\">0</span> (unbuilt) │\n└─────────────────────────────────┴────────────────────────┴───────────────┘\n</pre>\n"
     },
     "metadata": {},
     "output_type": "display_data"
    },
    {
     "data": {
      "text/plain": "\u001B[1m Total params: \u001B[0m\u001B[38;5;34m0\u001B[0m (0.00 B)\n",
      "text/html": "<pre style=\"white-space:pre;overflow-x:auto;line-height:normal;font-family:Menlo,'DejaVu Sans Mono',consolas,'Courier New',monospace\"><span style=\"font-weight: bold\"> Total params: </span><span style=\"color: #00af00; text-decoration-color: #00af00\">0</span> (0.00 B)\n</pre>\n"
     },
     "metadata": {},
     "output_type": "display_data"
    },
    {
     "data": {
      "text/plain": "\u001B[1m Trainable params: \u001B[0m\u001B[38;5;34m0\u001B[0m (0.00 B)\n",
      "text/html": "<pre style=\"white-space:pre;overflow-x:auto;line-height:normal;font-family:Menlo,'DejaVu Sans Mono',consolas,'Courier New',monospace\"><span style=\"font-weight: bold\"> Trainable params: </span><span style=\"color: #00af00; text-decoration-color: #00af00\">0</span> (0.00 B)\n</pre>\n"
     },
     "metadata": {},
     "output_type": "display_data"
    },
    {
     "data": {
      "text/plain": "\u001B[1m Non-trainable params: \u001B[0m\u001B[38;5;34m0\u001B[0m (0.00 B)\n",
      "text/html": "<pre style=\"white-space:pre;overflow-x:auto;line-height:normal;font-family:Menlo,'DejaVu Sans Mono',consolas,'Courier New',monospace\"><span style=\"font-weight: bold\"> Non-trainable params: </span><span style=\"color: #00af00; text-decoration-color: #00af00\">0</span> (0.00 B)\n</pre>\n"
     },
     "metadata": {},
     "output_type": "display_data"
    }
   ],
   "source": [
    "model = K.models.Sequential()\n",
    "model.add(\n",
    "    K.layers.Embedding(\n",
    "        input_dim=vocab_size,  # Размер нашего словаря\n",
    "        output_dim=32,  # Размерность, к которой каждое слово будет отображено\n",
    "    )\n",
    ")\n",
    "model.add(\n",
    "    K.layers.Dropout(\n",
    "        rate=0.25  # Случайно отключить 25% нейронов\n",
    "    )\n",
    ")\n",
    "# Переместите указание input_length в следующий слой после Embedding\n",
    "model.add(\n",
    "    K.layers.Conv1D(\n",
    "        filters=32,\n",
    "        kernel_size=3,\n",
    "        strides=1,\n",
    "        padding='same',\n",
    "        activation='relu'\n",
    "    )\n",
    ")\n",
    "model.add(\n",
    "    K.layers.GlobalMaxPooling1D()\n",
    ")\n",
    "model.add(\n",
    "    K.layers.Dense(\n",
    "        units=250,\n",
    "        activation='relu'\n",
    "    )\n",
    ")\n",
    "model.add(\n",
    "    K.layers.Dense(\n",
    "        units=1,\n",
    "        activation='sigmoid'\n",
    "    )\n",
    ")\n",
    "# Компилируем модель\n",
    "model.compile(\n",
    "    loss=K.losses.binary_crossentropy,  # Функция потерь\n",
    "    optimizer=K.optimizers.Adam(),  # Оптимизатор\n",
    "    metrics=['accuracy'])  # Метрика для отчетов\n",
    "\n",
    "# Выводим краткое описание структуры модели\n",
    "model.summary()"
   ],
   "metadata": {
    "collapsed": false,
    "ExecuteTime": {
     "end_time": "2024-03-10T18:55:04.394605800Z",
     "start_time": "2024-03-10T18:55:04.337711600Z"
    }
   }
  },
  {
   "cell_type": "markdown",
   "metadata": {
    "id": "8Xx1Q2I8WNI9"
   },
   "source": [
    "## Отобразим модель"
   ]
  },
  {
   "cell_type": "code",
   "execution_count": 18,
   "outputs": [],
   "source": [
    "model.build()"
   ],
   "metadata": {
    "collapsed": false,
    "ExecuteTime": {
     "end_time": "2024-03-10T18:55:08.225173900Z",
     "start_time": "2024-03-10T18:55:08.208938700Z"
    }
   }
  },
  {
   "cell_type": "code",
   "metadata": {
    "id": "cz0Erj2WU3Vh",
    "outputId": "0d5ef724-03c0-43e0-dfea-9c7806e1e288",
    "colab": {
     "base_uri": "https://localhost:8080/",
     "height": 642
    },
    "ExecuteTime": {
     "end_time": "2024-03-10T18:55:10.200881100Z",
     "start_time": "2024-03-10T18:55:09.975115400Z"
    }
   },
   "source": [
    "K.utils.plot_model(model, to_file='model.png', show_shapes=True, show_layer_names=False)"
   ],
   "execution_count": 19,
   "outputs": [
    {
     "data": {
      "image/png": "[encoded data removed]",
      "text/plain": "<IPython.core.display.Image object>"
     },
     "execution_count": 19,
     "metadata": {},
     "output_type": "execute_result"
    }
   ]
  },
  {
   "cell_type": "markdown",
   "metadata": {
    "id": "5KdfAoHsGwzo"
   },
   "source": [
    "## Натренируем LSTM"
   ]
  },
  {
   "cell_type": "code",
   "metadata": {
    "id": "rEN1vV4nG1V3",
    "outputId": "28f14ffe-cc25-4cea-d3ba-a00320ad5649",
    "colab": {
     "base_uri": "https://localhost:8080/",
     "height": 131
    },
    "ExecuteTime": {
     "end_time": "2024-03-10T18:55:36.697390Z",
     "start_time": "2024-03-10T18:55:17.117684900Z"
    }
   },
   "source": [
    "# Обучение LSTM на тренировочных данных\n",
    "history = model.fit(\n",
    "\n",
    "    # Данные для обучения: признаки (отзывы) и классы (положительные или отрицательные)\n",
    "    x_train, y_train,\n",
    "\n",
    "    # Количество выборок, обрабатываемых перед обновлением\n",
    "    # внутренних параметров модели с помощью обратного распространения.\n",
    "    # Чем выше размер пакета (batch), тем будет больше требоваться памяти.\n",
    "    batch_size=256,\n",
    "\n",
    "    # Эпоха - итерация по всему тренировочному набору данных.\n",
    "    epochs=3,\n",
    "\n",
    "    # Модель будет оценивать потери и метрики на этой части\n",
    "    # тренировочных данных, отделив их от обучающей выборки.\n",
    "    validation_split=0.2,\n",
    "    verbose=1\n",
    ")"
   ],
   "execution_count": 20,
   "outputs": [
    {
     "name": "stdout",
     "output_type": "stream",
     "text": [
      "Epoch 1/3\n",
      "\u001B[1m79/79\u001B[0m \u001B[32m━━━━━━━━━━━━━━━━━━━━\u001B[0m\u001B[37m\u001B[0m \u001B[1m8s\u001B[0m 76ms/step - accuracy: 0.5686 - loss: 0.6795 - val_accuracy: 0.7688 - val_loss: 0.5105\n",
      "Epoch 2/3\n",
      "\u001B[1m79/79\u001B[0m \u001B[32m━━━━━━━━━━━━━━━━━━━━\u001B[0m\u001B[37m\u001B[0m \u001B[1m6s\u001B[0m 72ms/step - accuracy: 0.7991 - loss: 0.4446 - val_accuracy: 0.8474 - val_loss: 0.3505\n",
      "Epoch 3/3\n",
      "\u001B[1m79/79\u001B[0m \u001B[32m━━━━━━━━━━━━━━━━━━━━\u001B[0m\u001B[37m\u001B[0m \u001B[1m6s\u001B[0m 73ms/step - accuracy: 0.8737 - loss: 0.3026 - val_accuracy: 0.8696 - val_loss: 0.3052\n"
     ]
    }
   ]
  },
  {
   "cell_type": "markdown",
   "metadata": {
    "id": "rpCS2-jFH1KY"
   },
   "source": [
    "## Оценим модель с помощью тестовых данных и просмотрим результаты"
   ]
  },
  {
   "cell_type": "code",
   "execution_count": 22,
   "outputs": [
    {
     "name": "stdout",
     "output_type": "stream",
     "text": [
      "\u001B[1m782/782\u001B[0m \u001B[32m━━━━━━━━━━━━━━━━━━━━\u001B[0m\u001B[37m\u001B[0m \u001B[1m3s\u001B[0m 3ms/step\n",
      "              precision    recall  f1-score   support\n",
      "\n",
      "  Негативный       0.85      0.90      0.87     12500\n",
      "  Позитивный       0.89      0.84      0.87     12500\n",
      "\n",
      "    accuracy                           0.87     25000\n",
      "   macro avg       0.87      0.87      0.87     25000\n",
      "weighted avg       0.87      0.87      0.87     25000\n"
     ]
    }
   ],
   "source": [
    "from sklearn.metrics import classification_report\n",
    "\n",
    "# Получение предсказаний модели\n",
    "predicted_probabilities = model.predict(x_test)\n",
    "predicted_classes = (predicted_probabilities > 0.5).astype('int32')\n",
    "\n",
    "# Вывод отчета классификации\n",
    "print(classification_report(y_test, predicted_classes, target_names=class_names))\n"
   ],
   "metadata": {
    "collapsed": false,
    "ExecuteTime": {
     "end_time": "2024-03-10T18:59:08.525076Z",
     "start_time": "2024-03-10T18:59:05.093883900Z"
    }
   }
  },
  {
   "cell_type": "markdown",
   "metadata": {
    "id": "CkfHCIVHrJni"
   },
   "source": [
    "## Просмотрим несколько неверных прогнозов\n",
    "\n",
    "Давайте взглянем на некоторые из неправильно классифицированных обзоров. Для удобства чтения мы уберем отступы."
   ]
  },
  {
   "cell_type": "code",
   "metadata": {
    "id": "bwKLBwBbp7zg",
    "outputId": "edd92930-4ee3-4f98-e2bf-2b1684498954",
    "colab": {
     "base_uri": "https://localhost:8080/",
     "height": 1000
    },
    "ExecuteTime": {
     "end_time": "2024-03-10T19:00:21.930494100Z",
     "start_time": "2024-03-10T19:00:21.897034400Z"
    }
   },
   "source": [
    "predicted_classes_reshaped = np.reshape(predicted_classes, 25000)\n",
    "\n",
    "incorrect = np.nonzero(predicted_classes_reshaped != y_test)[0]\n",
    "\n",
    "# Мы выбираем первые 10 неправильно классифицированных отзывов\n",
    "for j, incorrect in enumerate(incorrect[0:20]):\n",
    "    predicted = class_names[predicted_classes_reshaped[incorrect]]\n",
    "    actual = class_names[y_test[incorrect]]\n",
    "    human_readable_review = decode_review(x_test[incorrect])\n",
    "\n",
    "    print(\"Неправильно классифицированный тестовый отзыв [\" + str(j + 1) + \"]\")\n",
    "    print(\"Тестовый отзыв #\" + str(incorrect) + \": Предсказано [\" + predicted + \"] Фактически [\" + actual + \"]\")\n",
    "    print(\"Текст тестового отзыва: \" + human_readable_review.replace(\"<PAD> \", \"\"))\n",
    "    print(\"\")"
   ],
   "execution_count": 23,
   "outputs": [
    {
     "name": "stdout",
     "output_type": "stream",
     "text": [
      "Неправильно классифицированный тестовый отзыв [1]\n",
      "Тестовый отзыв #2: Предсказано [Негативный] Фактически [Позитивный]\n",
      "Текст тестового отзыва: at a time when motion picture animation of all sorts was in its <UNKNOWN> br br the political <UNKNOWN> of the russian revolution caused <UNKNOWN> to move to paris where one of his first productions <UNKNOWN> was a dark political satire <UNKNOWN> known as <UNKNOWN> or the <UNKNOWN> who wanted a king a strain of black comedy can be found in almost all of films but here it is very dark indeed aimed more at grown ups who can appreciate the satirical aspects than children who would most likely find the climax <UNKNOWN> i'm middle aged and found it pretty <UNKNOWN> myself and indeed <UNKNOWN> of the film intended for english speaking viewers of the 1920s were given title cards filled with <UNKNOWN> and <UNKNOWN> in order to help <UNKNOWN> the sharp <UNKNOWN> of the finale br br our tale is set in a swamp the <UNKNOWN> <UNKNOWN> where the citizens are unhappy with their government and have called a special session to see what they can do to improve matters they decide to <UNKNOWN> <UNKNOWN> for a king the crowds are <UNKNOWN> animated in this opening sequence it couldn't have been easy to make so many frog puppets look alive simultaneously while <UNKNOWN> for his part is depicted as a <UNKNOWN> white <UNKNOWN> guy in the clouds who looks like he'd rather be taking a <UNKNOWN> when <UNKNOWN> sends them a tree like god who regards them the <UNKNOWN> decide that this is no improvement and demand a different king irritated <UNKNOWN> sends them a <UNKNOWN> br br delighted with this <UNKNOWN> looking new king who towers above them the <UNKNOWN> welcome him with a <UNKNOWN> of <UNKNOWN> dressed <UNKNOWN> the mayor steps forward to hand him the key to the <UNKNOWN> as <UNKNOWN> cameras record the event to everyone's horror the <UNKNOWN> promptly eats the mayor and then goes on a merry rampage <UNKNOWN> citizens at random a title card <UNKNOWN> reads news of the king's <UNKNOWN> throughout the kingdom when the now terrified <UNKNOWN> once more <UNKNOWN> <UNKNOWN> for help he loses his temper and <UNKNOWN> their community with lightning <UNKNOWN> the moral of our story delivered by a hapless frog just before he is eaten is let well enough alone br br considering the time period when this startling little film was made and considering the fact that it was made by a russian <UNKNOWN> at the height of that <UNKNOWN> country's civil war it would be easy to see this as a <UNKNOWN> about those events <UNKNOWN> may or may not have had <UNKNOWN> turmoil in mind when he made <UNKNOWN> but whatever <UNKNOWN> his choice of material the film stands as a <UNKNOWN> tale of universal <UNKNOWN> <UNKNOWN> could be the soviet union italy germany or japan in the 1930s or any country of any era that lets its guard down and is overwhelmed by <UNKNOWN> it's a fascinating film even a charming one in its macabre way but its message is no joke\n",
      "\n",
      "Неправильно классифицированный тестовый отзыв [2]\n",
      "Тестовый отзыв #3: Предсказано [Позитивный] Фактически [Негативный]\n",
      "Текст тестового отзыва: <START> i generally love this type of movie however this time i found myself wanting to kick the screen since i can't do that i will just complain about it this was absolutely idiotic the things that happen with the dead kids are very cool but the alive people are absolute idiots i am a grown man pretty big and i can defend myself well however i would not do half the stuff the little girl does in this movie also the mother in this movie is reckless with her children to the point of neglect i wish i wasn't so angry about her and her actions because i would have otherwise enjoyed the flick what a number she was take my advise and fast forward through everything you see her do until the end also is anyone else getting sick of watching movies that are filmed so dark anymore one can hardly see what is being filmed as an audience we are <UNKNOWN> involved with the actions on the screen so then why the hell can't we have night vision\n",
      "\n",
      "Неправильно классифицированный тестовый отзыв [3]\n",
      "Тестовый отзыв #8: Предсказано [Позитивный] Фактически [Негативный]\n",
      "Текст тестового отзыва: <START> hollywood had a long love affair with bogus <UNKNOWN> nights tales but few of these products have stood the test of time the most memorable were the jon hall maria <UNKNOWN> films which have long since become camp this one is filled with dubbed songs <UNKNOWN> <UNKNOWN> and slapstick it's a truly crop of corn and pretty near <UNKNOWN> today it was nominated for its imaginative special effects which are almost <UNKNOWN> in this day and age <UNKNOWN> mainly of trick photography the only outstanding positive feature which survives is its beautiful color and clarity sad to say of the many films made in this genre few of them come up to alexander <UNKNOWN> original thief of <UNKNOWN> almost any other <UNKNOWN> nights film is superior to this one though it's a loser\n",
      "\n",
      "Неправильно классифицированный тестовый отзыв [4]\n",
      "Тестовый отзыв #17: Предсказано [Позитивный] Фактически [Негативный]\n",
      "Текст тестового отзыва: <START> ed <UNKNOWN> mitchell is a teenager who lives for his job at good <UNKNOWN> a small but friendly neighborhood <UNKNOWN> stand while his buddy <UNKNOWN> thompson also works there but lack <UNKNOWN> single minded devotion to his job he's there because he accidentally destroyed the car of his teacher mr <UNKNOWN> <UNKNOWN> and has to raise money to pay the <UNKNOWN> when <UNKNOWN> <UNKNOWN> a <UNKNOWN> fast foot chain opens across the street it looks like good <UNKNOWN> is history until ed <UNKNOWN> a secret <UNKNOWN> that brings hundreds of new customers to their door however the <UNKNOWN> manager of <UNKNOWN> <UNKNOWN> kurt jan is determined to get his hands on the <UNKNOWN> and put good <UNKNOWN> out of business meanwhile ed and <UNKNOWN> must rescue <UNKNOWN> <UNKNOWN> <UNKNOWN> the world's oldest fast food employee from the demented hills asylum and ed might just find love with <UNKNOWN> jackson if he could take his mind off the <UNKNOWN> long enough to pay attention to her good <UNKNOWN> is a comedy directed for kids decent story acting and overall a pretty harmless kids movie\n",
      "\n",
      "Неправильно классифицированный тестовый отзыв [5]\n",
      "Тестовый отзыв #31: Предсказано [Негативный] Фактически [Позитивный]\n",
      "Текст тестового отзыва: <START> if you expect that this movie is full of action and grabbing you from the start then don't watch it but if you like those kind of <UNKNOWN> movies which stick in your mind for a while until you get the details then you will love it now don't get me wrong there is action and there are things going on just not in the usual way br br basically the plot is in a post apocalyptic world where anyone fights in his or their way for survival in this fight they lost the ability to speak i don't want to write more to not spoil the movie for you but trust me if you like sf authors like or or even some from orson scott card you will love this movie\n",
      "\n",
      "Неправильно классифицированный тестовый отзыв [6]\n",
      "Тестовый отзыв #78: Предсказано [Позитивный] Фактически [Негативный]\n",
      "Текст тестового отзыва: <START> there seems to be a spectrum of cinema on the left there are movies made mostly for entertainment and or commercial purposes in the middle there are movies that are both entertaining and artistic on the right are movies that are not as commercial but are focused more on cinema as art than cinema as product br br i'm not here to say any one part of the spectrum is better than any other but that when a movie goes too far to either end it's rarely good such is the case with <UNKNOWN> br br i had no idea what to expect when i saw it advertised a few friends were going and asked if i wanted to come along none of us knew what to expect and by the end none of us were pleased br br yes there are breathtaking images yes i'm amazed at the <UNKNOWN> the filmmakers went to in searching through <UNKNOWN> footage yes the soundtrack is enjoyable to listen to and probably the best part of the experience the thing is this goes so far to the right side of the spectrum i mentioned that i can't say anything nice about the movie as a whole br br it's preachy it's a <UNKNOWN> of symbolism and obvious morality it's not saying anything new or forcing the viewer to examine life in a new way it's just telling us things we already know that is if we can even figure out what it's saying br br this movie is simply art for <UNKNOWN> sake an attempt to say look at how deep and thought provoking we can be by using montage when a film becomes more about how clever or intelligent its creators are than about its subject it <UNKNOWN> to be a film and simply becomes celluloid self <UNKNOWN>\n",
      "\n",
      "Неправильно классифицированный тестовый отзыв [7]\n",
      "Тестовый отзыв #80: Предсказано [Негативный] Фактически [Позитивный]\n",
      "Текст тестового отзыва: <START> with the obvious exception of fools horses this was in my opinion david <UNKNOWN> finest series br br coming straight after his tv debut on <UNKNOWN> not <UNKNOWN> your set ' these 13 episodes revealed a <UNKNOWN> of comic timing not seen since the old silent movie days by comparison <UNKNOWN> open all hours and that awful series <UNKNOWN> man' did not come close br br i believe jason banned the series being repeated because it showed him at his <UNKNOWN> shame on him a new generation deserves to enjoy this the series actually <UNKNOWN> in the ratings but that is most likely because it was shown against 'the <UNKNOWN> which aired on bbc at the same time before <UNKNOWN> were <UNKNOWN> br br btw i have only just noticed that his long suffering assistant spencer was played by mark <UNKNOWN> alan <UNKNOWN> off <UNKNOWN> street i am amazed he didn't try to murder edgar <UNKNOWN>\n",
      "\n",
      "Неправильно классифицированный тестовый отзыв [8]\n",
      "Тестовый отзыв #81: Предсказано [Позитивный] Фактически [Негативный]\n",
      "Текст тестового отзыва: <START> <UNKNOWN> the tv movie <UNKNOWN> a very twisted and version of the story about the greek superhero paul makes a good attempt to play this hero sean <UNKNOWN> <UNKNOWN> his sam image by playing <UNKNOWN> a thrown in character to make the whole thing a buddy movie picture i almost expected his to say at one point we're in a bad situation mr <UNKNOWN> uh i mean <UNKNOWN> an unexpected good performance comes from timothy dalton one of the lesser james bonds as father love interest looks like paris hilton something which just turned me off right away someone has twisted and the original story into somewhat of a murky and sometimes incomprehensible story the special effects don't help either while the <UNKNOWN> scene does the original story justice the lion and <UNKNOWN> are just well lame i believe the creatures and effects from power rangers <UNKNOWN> across my mind at least twice and the golden <UNKNOWN> felt rushed and very computer generated and they took out one of my favorite parts of what was originally a very cool story the movie can't decide whether it's greek roman or american and it almost ruined the original story a classic epic don't bother looking for this one on the direct to dvd c\n",
      "\n",
      "Неправильно классифицированный тестовый отзыв [9]\n",
      "Тестовый отзыв #87: Предсказано [Негативный] Фактически [Позитивный]\n",
      "Текст тестового отзыва: <START> i can't get this flick off my brain it's definitely totally different than anything that's out there i've seen a ton of movies over the holidays and while some are okay nothing really <UNKNOWN> my world the way did there is just something way cool about the actors and the way that they put the film together it's like there is really scary stuff mixed with with some pretty f ing hilarious black humour franco is great but the older rough dude steals the show in a few scenes like when he punches the kid out in the dirt grave i guess some politically won't appreciate the vibe don't bring your grandma but it is totally awesome the thing that's best is the style there is some really serious stuff mixed with super interesting footage of the road the movie really makes you sad and scared in parts but it also <UNKNOWN> your head with what is happening and the way it is filmed wtf is up with the world <UNKNOWN> many critics are raving about all these supposedly revolutionary ground breaking films and when you see them they're boring and predictable and not all that i don't get it because there are a lot of other better choices blind spot is really kinda great because it gives you thrills and chills and major upcoming star power but does it in a way that is completely fresh and definitely totally <UNKNOWN>\n",
      "\n",
      "Неправильно классифицированный тестовый отзыв [10]\n",
      "Тестовый отзыв #100: Предсказано [Негативный] Фактически [Позитивный]\n",
      "Текст тестового отзыва: <START> a quick glance at the premise of this film would seem to indicate just another dumb <UNKNOWN> <UNKNOWN> <UNKNOWN> slash fest the type where sex equals death and the actors are all annoying stereotypes you actually want to die however delivers considerably more br br rather than focus on bare flesh and gore though there is a little of each no sex however the flick focuses on delivering impending dread <UNKNOWN> tension amidst a lovely <UNKNOWN> backdrop these feelings are further <UNKNOWN> by a cast of realistically likable characters and <UNKNOWN> that are more amoral than cardboard <UNKNOWN> of evil oh yeah george kennedy is here too and when is that not a good thing br br if you liked wrong turn then watch this to see where much of its' <UNKNOWN> came from\n",
      "\n",
      "Неправильно классифицированный тестовый отзыв [11]\n",
      "Тестовый отзыв #101: Предсказано [Негативный] Фактически [Позитивный]\n",
      "Текст тестового отзыва: <START> <UNKNOWN> is the first of its kind in turkish cinema and it's way better than i expected those people who say it's neither scary nor funny have a point it's not all that great indeed but it must be kept in mind that everyone involved with the movie is rather amateur so it's basically a maiden voyage and comparing this one to other films such as the 1st class garbage propaganda this movie is pretty damn good br br one thing that must be said it deals with the <UNKNOWN> <UNKNOWN> life in turkey very realistically that's exactly how it goes the scenes that are meant to scare are somewhat cheap and <UNKNOWN> most of them even if not all but that religion lesson scene made me laugh in tears and performs the best acting of this flick as a religion teacher br br it's not a waste of your time go and watch it you'll find it rather amusing especially if you know turkey enough to relate to turkish school lives\n",
      "\n",
      "Неправильно классифицированный тестовый отзыв [12]\n",
      "Тестовый отзыв #115: Предсказано [Позитивный] Фактически [Негативный]\n",
      "Текст тестового отзыва: <START> while the design and locations and photography are strong <UNKNOWN> in this film it is a turgid and melodramatic affair which demonstrates the limits of cinema to convey truth br br the case is the use of the soundtrack music a mix of <UNKNOWN> and andrew lloyd <UNKNOWN> that plays constantly and <UNKNOWN> and would have made max <UNKNOWN> <UNKNOWN> at its over use as it <UNKNOWN> the audience how difficult how <UNKNOWN> how tortured it is to be an artist and then it really counts the story the details at the end br br this <UNKNOWN> and <UNKNOWN> exploitation of emotions was once well <UNKNOWN> by peter <UNKNOWN> about a <UNKNOWN> <UNKNOWN> book this is not writing this is barbara <UNKNOWN> precisely the same critique can be made of this film a <UNKNOWN> <UNKNOWN> vanity project\n",
      "\n",
      "Неправильно классифицированный тестовый отзыв [13]\n",
      "Тестовый отзыв #130: Предсказано [Негативный] Фактически [Позитивный]\n",
      "Текст тестового отзыва: <START> i just saw this movie at the berlin film <UNKNOWN> children's program and it just killed me and pretty much everyone else in the audience and make no mistake about it this film belongs into the all time 250 let me tell you that i'm in no way associated with the creators of this film if that's what you come to believe reading this no but this actually is it <UNKNOWN> the kid's film label on it <UNKNOWN> girl is on almost every account a classic as in biblical the story concerns 12 year old <UNKNOWN> <UNKNOWN> julie who is <UNKNOWN> to learn of her <UNKNOWN> <UNKNOWN> illness special surgery in the us would cost 1 5 million and of course nobody could afford that so <UNKNOWN> and her friends <UNKNOWN> and sebastian do what every good kid would and <UNKNOWN> a bank sounds corny don't forget this is not america and is by no means the tear <UNKNOWN> robin williams <UNKNOWN> <UNKNOWN> du <UNKNOWN> nobody takes seriously anyway director <UNKNOWN> set out to make a big budget action comedy for kids and boy did he succeed let me put it this way this film rocks like no kid film and few others did before and there's a whole lot more to it than just the action after about 20 minutes of by the numbers exposition well granted it into a monster that br br effortlessly puts mission impossible to shame the numerous action sequences are masterfully staged and look real expensive take that mummy br br <UNKNOWN> almost every other movie suspense wise no easy they're only kids antics here br br easily <UNKNOWN> a dense story with enough laughs to make jim carrey look for career <UNKNOWN> br br <UNKNOWN> to both damon <UNKNOWN> and karate kid within the same seconds br br comes up with so much wicked humor that side of p c that i can hear the american ratings board wet their pants from over here br br manages to actually be tender and serious and sexy at the same time what am i saying they're kids they're kids <UNKNOWN> watch that last scene br br stars <UNKNOWN> anderson who since last years is everybody's favourite kid actor br br what a ride\n",
      "\n",
      "Неправильно классифицированный тестовый отзыв [14]\n",
      "Тестовый отзыв #140: Предсказано [Негативный] Фактически [Позитивный]\n",
      "Текст тестового отзыва: <START> <UNKNOWN> the murderous doll from child's play and 2 crappy sequels is dead but his ex girlfriend <UNKNOWN> jennifer <UNKNOWN> gets his remains and using voodoo for <UNKNOWN> <UNKNOWN> him then through circumstances too convoluted to get into she is killed and has her soul put into another doll together they fall in love and kidnap a nice couple nick <UNKNOWN> <UNKNOWN> to take them to <UNKNOWN> coffin to get an <UNKNOWN> to make <UNKNOWN> and <UNKNOWN> real people again br br a lot better than it sounds after the last two sequels to child's play both of which were horrible i was expecting the worst but this actually was lots of fun the movie doesn't take itself seriously for a second seriously how could it and the lines and situations are actually quite funny also there are a few very gory murders thrown in to satisfy us horror fans and the film never stops moving the movie also has a few things usually not found in a horror movie a gay best friend gordon michael who is intelligent and not played for laughs and a sequence in which has his shirt off just to show his muscular body john ritter has a nice cameo too as a sheriff br br the acting is good is young very handsome and likable <UNKNOWN> doesn't have much to do but pulls it off and brad <UNKNOWN> the voice of <UNKNOWN> and <UNKNOWN> are hilarious as the murderous dolls my favorite part is when the dolls have sex don't ask and she asks for a rubber and he responds but i'm made of rubber the special effects are good no lousy cgi here and this is one of the few horror films to mix humor and violence in an entertaining way well worth seeing i give it a 9\n",
      "\n",
      "Неправильно классифицированный тестовый отзыв [15]\n",
      "Тестовый отзыв #144: Предсказано [Позитивный] Фактически [Негативный]\n",
      "Текст тестового отзыва: <START> here's a couple of <UNKNOWN> out of an <UNKNOWN> i wrote for university about br br the book of revelation is an erotic thriller about sex power and a talented <UNKNOWN> struggle to regain his sense of self after being unfortunately raped by three <UNKNOWN> women the three women that <UNKNOWN> him all have distinctive marks on the bodies one has a giant birth mark on her <UNKNOWN> another has a <UNKNOWN> <UNKNOWN> on her lower stomach and the ring leader has a small circle on her breast so he lives his new life in search of these <UNKNOWN> and to find them on these intimate places he does what any sane man does when he needs to see as many naked women as possible to solve a mystery he has sex with them an hour and ten minutes into the film and you feel like he has almost had a piece of every woman in melbourne br br the film is a giant <UNKNOWN> of pretentious celluloid it is like <UNKNOWN> from every frame at only one point towards the films final climax does give a scene the same energy and strength as her debut feature head on had in <UNKNOWN> as like many films <UNKNOWN> by the government bodies the film takes it self way to seriously the script and its execution appear to be <UNKNOWN> rather then gifts and unfortunately for the talented <UNKNOWN> their brilliant performances particularly tom long as the <UNKNOWN> protagonist are stuck within the confines of a pompous wan k fest\n",
      "\n",
      "Неправильно классифицированный тестовый отзыв [16]\n",
      "Тестовый отзыв #145: Предсказано [Негативный] Фактически [Позитивный]\n",
      "Текст тестового отзыва: <START> rugged david <UNKNOWN> solid doug <UNKNOWN> and dr <UNKNOWN> perry a delightfully <UNKNOWN> peter cushing <UNKNOWN> their way into the <UNKNOWN> core in their <UNKNOWN> mole machine the duo discover an ancient <UNKNOWN> world populated by dangerous gigantic <UNKNOWN> and human beings who are used as both food and slaves by evil <UNKNOWN> <UNKNOWN> men director kevin <UNKNOWN> working from a <UNKNOWN> silly script by <UNKNOWN> <UNKNOWN> maintains a constant <UNKNOWN> pace throughout and treats the exceptionally foolish premise with astonishing seriousness thereby giving this picture a certain <UNKNOWN> earnest quality that's amusing and endearing in equal measure the <UNKNOWN> hokey not so special effects are quite unintentionally funny the cheesy array of cut price creatures in particular are positively <UNKNOWN> <UNKNOWN> guys in obvious shoddy rubber suits <UNKNOWN> men equally <UNKNOWN> <UNKNOWN> savage ape man <UNKNOWN> and a hilariously ludicrous fire <UNKNOWN> frog thing who blows up real good one gut <UNKNOWN> highlight occurs when <UNKNOWN> mixes it up with a fat and clumsy giant <UNKNOWN> another priceless scene depicts a dinosaur <UNKNOWN> a doll in its <UNKNOWN> jaws moreover we also get some rousing <UNKNOWN> <UNKNOWN> and an exciting climactic slave revolt it's a total treat to see cushing <UNKNOWN> ham it up in a rare broad comedic part and become an unlikely but enthusiastic arrow <UNKNOWN> action hero in the last third of the flick the ever <UNKNOWN> caroline <UNKNOWN> looks positively <UNKNOWN> as the <UNKNOWN> princess <UNKNOWN> plus there are nice supporting turns by grant as <UNKNOWN> warrior <UNKNOWN> and sean lynch as <UNKNOWN> coward mike neatly varied score <UNKNOWN> between <UNKNOWN> <UNKNOWN> music and <UNKNOWN> <UNKNOWN> <UNKNOWN> stuff alan <UNKNOWN> crisp cinematography adds a glossy sheen to the <UNKNOWN> inane proceedings a complete campy riot\n",
      "\n",
      "Неправильно классифицированный тестовый отзыв [17]\n",
      "Тестовый отзыв #146: Предсказано [Негативный] Фактически [Позитивный]\n",
      "Текст тестового отзыва: <START> i was shocked to learn that jimmy <UNKNOWN> has left this show does anyone know why i regard james as one of the all time <UNKNOWN> and wasn't surprised he ended up on tv which can be better than the crap you see on the big screen the stories are slick and the camera faster than a <UNKNOWN> bullet <UNKNOWN> forget the rest of the cast james vanessa <UNKNOWN> <UNKNOWN> molly josh mitch also can anyone tell me why on earth there's a crap theme tune on the dvd sets but <UNKNOWN> <UNKNOWN> of a little less conversation is used on the initial nbc <UNKNOWN> does it not make sense to use a tune that you would associate with the gambling <UNKNOWN> of america for dvd releases\n",
      "\n",
      "Неправильно классифицированный тестовый отзыв [18]\n",
      "Тестовый отзыв #152: Предсказано [Позитивный] Фактически [Негативный]\n",
      "Текст тестового отзыва: <START> i can pretend no knowledge of cinematography or mr <UNKNOWN> but i know <UNKNOWN> and i love her people in july my 14 year old son and i traveled to turkey in search of some remains of the neighborhood where his great grandfather lived until the great <UNKNOWN> of <UNKNOWN> in <UNKNOWN> reading the summary of the film <UNKNOWN> from <UNKNOWN> i thought that perhaps i might learn something more about the forced <UNKNOWN> of modern <UNKNOWN> if i did not have a home in <UNKNOWN> had i not been to <UNKNOWN> 28 times in as many years were i not familiar with dozens of islands and cities in <UNKNOWN> and if i had never enjoyed the friendship of these <UNKNOWN> life <UNKNOWN> people i might have believed that this had something to do with modern <UNKNOWN> as a professor at a new jersey state college let me assure you that i am familiar with the history of the period covered in the film indeed my wife's uncle was murdered by the <UNKNOWN> during the communist grab for power my mother in law lived through the italian invasion and german <UNKNOWN> barely these characters on the screen speak greek they listen to greek music but who are they no they are not even vaguely greek of course they are not people at all but simply <UNKNOWN> they are that which the artist <UNKNOWN> when life does not entirely fit or is <UNKNOWN> to his perception of how it was or should have been all represent some aspect of post wwi <UNKNOWN> that greater outside forces <UNKNOWN> to a fate they didn't deserve as we <UNKNOWN> in the late 70's in america the revolution didn't happen for an <UNKNOWN> artist this is no joke it's in fact grounds to put us through two and a half hours of torment and it's all because the various powers <UNKNOWN> of guards in different colored uniforms didn't allow the generation after the <UNKNOWN> of <UNKNOWN> to follow the call of peace and freedom the music of <UNKNOWN> and his fellow musicians i e the movement the cause this dark surreal <UNKNOWN> <UNKNOWN> the true and heroic efforts of the greek people to sustain their lust for life through the <UNKNOWN> of the 20th century to achieve more than any of their <UNKNOWN> neighbors to have become so politically evolved and <UNKNOWN> integrated\n",
      "\n",
      "Неправильно классифицированный тестовый отзыв [19]\n",
      "Тестовый отзыв #159: Предсказано [Негативный] Фактически [Позитивный]\n",
      "Текст тестового отзыва: predictable and based largely around glaring cliché borrowed <UNKNOWN> from the likes of <UNKNOWN> killer and john <UNKNOWN> classic the killer br br almost every aspect of the film is <UNKNOWN> with angst with the three lead characters suffering as if the weight of the world was on their shoulders and <UNKNOWN> <UNKNOWN> to do anything to pursue their romantic <UNKNOWN> park <UNKNOWN> in particular as the kind of overly emotional socially retarded assassin so beloved of modern cinema is <UNKNOWN> ludicrous from his blatant incompetence on the job to his hilarious attempts to discuss <UNKNOWN> painting with young or his <UNKNOWN> for flower growing this <UNKNOWN> <UNKNOWN> does make the film's central romance somewhat hard to swallow and <UNKNOWN> attempts to evoke the feeling that it is fate which brings the characters together comes across more as shoddy coincidence br br fans of <UNKNOWN> <UNKNOWN> <UNKNOWN> should note that her character is far closer to her role in the <UNKNOWN> supernatural drama the <UNKNOWN> than my sassy girl or and while she tries her best to pull a few wacky faces here and there her performance is certainly more subdued br br the film benefits from glossy production values and <UNKNOWN> makes good use of the <UNKNOWN> scenery playing on the contrast between the grey almost gothic beauty of the city and the innocent blue <UNKNOWN> and <UNKNOWN> fields of the countryside unfortunately he tends to <UNKNOWN> slow motion for some of the emotional scenes which when coupled with some of the picture <UNKNOWN> visuals gives the film the feel at times of a <UNKNOWN> <UNKNOWN> there are a few scenes of surprisingly violent action though these are few and far between and whilst well staged seem to have been thrown in as an <UNKNOWN> and do little more than briefly raising the pulse br br despite its flaws daisy makes for engaging viewing and the story grips almost in spite of itself mainly out of a morbid fascination to see not which of the men young will end up with but to see who will lie dying in her arms the self indulgent melodrama works well enough to <UNKNOWN> all the right boxes for the genre and the film functions perfectly well as an <UNKNOWN> glossy <UNKNOWN> romance br br it is worth noting that the dvd features the director's cut of the film which for once <UNKNOWN> that it is <UNKNOWN> different from the theatrical version which not only adds 25 minutes but some of the scenes making the narrative less linear although this new version is perhaps too long it is surely superior as without these changes the film would surely have been even more conventional and would have suffered from even <UNKNOWN> character development br br <UNKNOWN> <UNKNOWN> <UNKNOWN> director young screenplay cast woo sung <UNKNOWN>  park <UNKNOWN> sung lee  <UNKNOWN> woo david <UNKNOWN>  <UNKNOWN> ho <UNKNOWN> <UNKNOWN>  detective <UNKNOWN> <UNKNOWN> <UNKNOWN> <UNKNOWN>  young <UNKNOWN> <UNKNOWN>  <UNKNOWN> <UNKNOWN> ha\n",
      "\n",
      "Неправильно классифицированный тестовый отзыв [20]\n",
      "Тестовый отзыв #167: Предсказано [Негативный] Фактически [Позитивный]\n",
      "Текст тестового отзыва: <START> for all viewers out there who have <UNKNOWN> john waters for creating a film like pink <UNKNOWN> just stop it's getting you nowhere has anyone ever cared to stop and think about the ambition and dedication mr waters possesses to gather your best friends up and to create a movie just to gross out thousands of viewers all over shows this man has a great deal of ambition inside himself just read his biography shock value it <UNKNOWN> the <UNKNOWN> he went through to get this film finished maybe it wasn't just the fact that john made this film to gross people out it was to prove that there can be something such as good bad taste\n"
     ]
    }
   ]
  },
  {
   "cell_type": "markdown",
   "metadata": {
    "id": "OlAfxIoTrtYa"
   },
   "source": [
    "## Сопоставим свой собственный отзыв с обученной моделью\n",
    "\n",
    "Это интересный способ проверить возможности обученной модели.\n",
    "Вы увидите исходный прогноз из модели - в основном значение от 0 до 1."
   ]
  },
  {
   "cell_type": "code",
   "metadata": {
    "id": "UEKEB0DpD_8P",
    "outputId": "3b9c092a-71a1-42b2-beb3-7e85a97c238a",
    "colab": {
     "base_uri": "https://localhost:8080/",
     "height": 65
    },
    "ExecuteTime": {
     "end_time": "2024-03-10T19:04:33.194271Z",
     "start_time": "2024-03-10T19:04:33.085193200Z"
    }
   },
   "source": [
    "# Напишем ваш отзыв\n",
    "review = \"This movie was an absolute disaster. The plot was nonsensical, the acting was atrocious, and the directing was terrible. I couldn't stand watching it for more than a few minutes. The dialogue was cringe-worthy, filled with cliches and poorly executed lines. The characters were uninteresting and lacked any depth. The cinematography was amateurish, with shaky camera work and poorly framed shots. The overall experience was incredibly disappointing and I regret wasting my time and money on this garbage. I strongly advise anyone to stay away from this film.\"\n",
    "\n",
    "tmp = []\n",
    "for word in review.lower().split(\" \"):\n",
    "    if word in word_index:\n",
    "        tmp.append(word_index[word])\n",
    "    else:\n",
    "        tmp.append(word_index['<UNKNOWN>'])  # Заменить нераспознанные слова на специальный токен <UNK>\n",
    "\n",
    "tmp_padded = sequence.pad_sequences([tmp], maxlen=review_length)\n",
    "\n",
    "# Выполнение обработанного отзыва на обученной модели\n",
    "rawprediction = model.predict(np.array([tmp_padded][0]))[0][0]\n",
    "prediction = int(round(rawprediction))\n",
    "\n",
    "# Тестирование модели и вывод результата\n",
    "print(\"Отзыв: \" + review)\n",
    "print(\"Предсказание (сырые данные): \" + str(rawprediction))\n",
    "print(\"Предсказанный класс: \" + class_names[prediction])"
   ],
   "execution_count": 28,
   "outputs": [
    {
     "name": "stdout",
     "output_type": "stream",
     "text": [
      "\u001B[1m1/1\u001B[0m \u001B[32m━━━━━━━━━━━━━━━━━━━━\u001B[0m\u001B[37m\u001B[0m \u001B[1m0s\u001B[0m 39ms/step\n",
      "Отзыв: This movie was an absolute disaster. The plot was nonsensical, the acting was atrocious, and the directing was terrible. I couldn't stand watching it for more than a few minutes. The dialogue was cringe-worthy, filled with cliches and poorly executed lines. The characters were uninteresting and lacked any depth. The cinematography was amateurish, with shaky camera work and poorly framed shots. The overall experience was incredibly disappointing and I regret wasting my time and money on this garbage. I strongly advise anyone to stay away from this film.\n",
      "Предсказание (сырые данные): 0.009271271\n",
      "Предсказанный класс: Негативный\n"
     ]
    }
   ]
  },
  {
   "cell_type": "code",
   "execution_count": null,
   "outputs": [],
   "source": [],
   "metadata": {
    "collapsed": false
   }
  }
 ]
}
