{
 "cells": [
  {
   "cell_type": "markdown",
   "id": "f88e343c",
   "metadata": {},
   "source": [
    "# Функции в Python\n",
    "Функция - это блок кода, который выполняет определенную задачу всякий раз, когда он вызывается. \n",
    "Существует два типа функций: встроенные функции и определяемые пользователем функции\n",
    "\n",
    "1. Встроенные функции:\n",
    "min(), max(), len(), sum(), type(), range(), dict(), list(), tuple(), set(), print()\n",
    "\n",
    "2. Пользовательские функции:\n",
    "Мы можем создавать функции для выполнения конкретных задач в соответствии с нашими потребностями.\n",
    "Синтаксис таких функций выглядит так:\n",
    "\n",
    "def MyFunc():\n",
    "    pass        # Тут прописываем логику работы нашей функции\n",
    "\n",
    "А затем мы можем вызвать нашу функцию в любой момент:\n",
    "MyFunc()"
   ]
  },
  {
   "cell_type": "code",
   "execution_count": 1,
   "id": "34333d32",
   "metadata": {
    "ExecuteTime": {
     "end_time": "2024-01-09T11:58:31.836767500Z",
     "start_time": "2024-01-09T11:58:31.824940800Z"
    }
   },
   "outputs": [
    {
     "name": "stdout",
     "output_type": "stream",
     "text": [
      "Hello, Sergey Novichkov\n"
     ]
    }
   ],
   "source": [
    "def greeting_message(first_name, last_name):\n",
    "    print(\"Hello,\", first_name, last_name)\n",
    "\n",
    "\n",
    "greeting_message(\"Sergey\", \"Novichkov\")"
   ]
  },
  {
   "cell_type": "markdown",
   "id": "8f034ccd",
   "metadata": {},
   "source": [
    "# Аргументы функций\n",
    "Существует четыре типа аргументов, которые мы можем предоставить в функции:\n",
    "1. Аргументы по умолчанию\n",
    "2. Аргументы ключевых слов\n",
    "3. Обязательные аргументы\n",
    "4. Аргументы переменной длины"
   ]
  },
  {
   "cell_type": "markdown",
   "id": "c7c03b57",
   "metadata": {},
   "source": [
    "Аргументы по умолчанию:\n",
    "Мы можем указать значение по умолчанию при создании функции.\n",
    "Таким образом, функция принимает значение по умолчанию, даже если значение не указано в вызове функции для этого аргумента."
   ]
  },
  {
   "cell_type": "code",
   "execution_count": 2,
   "id": "bbc8612e",
   "metadata": {
    "ExecuteTime": {
     "end_time": "2024-01-09T12:03:50.024550600Z",
     "start_time": "2024-01-09T12:03:50.010122700Z"
    }
   },
   "outputs": [
    {
     "name": "stdout",
     "output_type": "stream",
     "text": [
      "Привет, Сергей Фамилия Отчество\n"
     ]
    }
   ],
   "source": [
    "def greeting_message(first_name, middle_name=\"Фамилия\", last_name=\"Отчество\"):\n",
    "    print(\"Привет,\", first_name, middle_name, middle_name)\n",
    "\n",
    "\n",
    "greeting_message(\"Сергей\")"
   ]
  },
  {
   "cell_type": "markdown",
   "id": "c9f9ddfd",
   "metadata": {},
   "source": [
    "Аргументы ключевого слова:\n",
    "Мы можем предоставить аргументы с key = value, таким образом интерпретатор распознает аргументы по имени параметра. Следовательно, порядок, в котором передаются аргументы, не имеет значения."
   ]
  },
  {
   "cell_type": "code",
   "execution_count": 4,
   "id": "36a857c0",
   "metadata": {
    "ExecuteTime": {
     "end_time": "2024-01-09T12:08:14.587686400Z",
     "start_time": "2024-01-09T12:08:14.564826900Z"
    }
   },
   "outputs": [
    {
     "name": "stdout",
     "output_type": "stream",
     "text": [
      "Привет, Новичков Сергей Дмитриевич\n"
     ]
    }
   ],
   "source": [
    "def greeting_message(first_name, middle_name, last_name):\n",
    "    print(\"Привет,\", middle_name, first_name, last_name)\n",
    "\n",
    "\n",
    "greeting_message(middle_name=\"Новичков\", last_name=\"Дмитриевич\", first_name=\"Сергей\")"
   ]
  },
  {
   "cell_type": "markdown",
   "id": "f88909a4",
   "metadata": {},
   "source": [
    "Обязательные аргументы:\n",
    "В случае, если мы не передаем аргументы с синтаксисом ключ = значение, тогда необходимо передавать аргументы в правильном позиционном порядке, и количество передаваемых аргументов должно соответствовать фактическому определению функции."
   ]
  },
  {
   "cell_type": "code",
   "execution_count": 6,
   "id": "e7fb927b",
   "metadata": {
    "ExecuteTime": {
     "end_time": "2024-01-09T12:10:47.262636900Z",
     "start_time": "2024-01-09T12:10:47.248068600Z"
    }
   },
   "outputs": [
    {
     "name": "stdout",
     "output_type": "stream",
     "text": [
      "Привет, Новичков Сергей Дмитриевич\n"
     ]
    }
   ],
   "source": [
    "def greeting_message(first_name, middle_name, last_name):\n",
    "    print(\"Привет,\", middle_name, first_name, last_name)\n",
    "\n",
    "\n",
    "greeting_message(\"Сергей\", \"Новичков\", \"Дмитриевич\")"
   ]
  },
  {
   "cell_type": "markdown",
   "id": "640c8afa",
   "metadata": {},
   "source": [
    "Аргументы переменной длины:\n",
    "Иногда нам может потребоваться передать больше аргументов, чем определено в самой функции. Это можно сделать с помощью аргументов переменной длины (args, kwargs).\n",
    "\n",
    "Есть два способа добиться этого:\n",
    "Произвольные аргументы - при создании функции перед именем параметра при определении функции передаём символ *."
   ]
  },
  {
   "cell_type": "code",
   "execution_count": 7,
   "id": "cbf7b9c2",
   "metadata": {
    "ExecuteTime": {
     "end_time": "2024-01-09T12:12:34.778580700Z",
     "start_time": "2024-01-09T12:12:34.768028700Z"
    }
   },
   "outputs": [
    {
     "name": "stdout",
     "output_type": "stream",
     "text": [
      "Привет, Сергей Новичков Дмитриевич\n"
     ]
    }
   ],
   "source": [
    "def greeting_message(*name):\n",
    "    print(\"Привет,\", name[0], name[1], name[2])\n",
    "\n",
    "\n",
    "greeting_message(\"Сергей\", \"Новичков\", \"Дмитриевич\")"
   ]
  },
  {
   "cell_type": "markdown",
   "id": "487a120b",
   "metadata": {},
   "source": [
    "Аргумент ключевое слово."
   ]
  },
  {
   "cell_type": "code",
   "execution_count": 8,
   "id": "abd12682",
   "metadata": {
    "ExecuteTime": {
     "end_time": "2024-01-09T12:15:16.663582200Z",
     "start_time": "2024-01-09T12:15:16.654643100Z"
    }
   },
   "outputs": [
    {
     "name": "stdout",
     "output_type": "stream",
     "text": [
      "Привет, Новичков Сергей Дмитриевич\n"
     ]
    }
   ],
   "source": [
    "def greeting_message(**name):\n",
    "    print(\"Привет,\", name[\"middle_name\"], name[\"first_name\"], name[\"last_name\"])\n",
    "\n",
    "\n",
    "greeting_message(middle_name=\"Новичков\", last_name=\"Дмитриевич\", first_name=\"Сергей\")"
   ]
  },
  {
   "cell_type": "markdown",
   "id": "f1db70d0",
   "metadata": {},
   "source": [
    "# Оператор return\n",
    "Оператор return используется для возврата значения выражения"
   ]
  },
  {
   "cell_type": "code",
   "execution_count": 9,
   "id": "446dbd28",
   "metadata": {
    "ExecuteTime": {
     "end_time": "2024-01-09T12:23:07.620878200Z",
     "start_time": "2024-01-09T12:23:07.579065600Z"
    }
   },
   "outputs": [
    {
     "name": "stdout",
     "output_type": "stream",
     "text": [
      "Привет, Новичков Сергей Дмитриевич\n"
     ]
    }
   ],
   "source": [
    "def greeting_message(first_name, middle_name, last_name):\n",
    "    return \"Привет, \" + middle_name + \" \" + first_name + \" \" + last_name\n",
    "\n",
    "\n",
    "print(greeting_message(\"Сергей\", \"Новичков\", \"Дмитриевич\"))"
   ]
  },
  {
   "cell_type": "markdown",
   "id": "c5246f95",
   "metadata": {},
   "source": [
    "# Рекурсия в Python\n",
    "Мы можем позволить функции вызывать саму себя, такой процесс известен как рекурсивный вызов функции."
   ]
  },
  {
   "cell_type": "code",
   "execution_count": 10,
   "id": "6ce1d916",
   "metadata": {
    "ExecuteTime": {
     "end_time": "2024-01-09T12:25:17.805862900Z",
     "start_time": "2024-01-09T12:25:11.348090Z"
    }
   },
   "outputs": [
    {
     "name": "stdout",
     "output_type": "stream",
     "text": [
      "число:  5\n",
      "Факториал:  120\n"
     ]
    }
   ],
   "source": [
    "def factorial(num):\n",
    "    if (num == 1 or num == 0):\n",
    "        return 1\n",
    "    else:\n",
    "        return (num * factorial(num - 1))\n",
    "\n",
    "\n",
    "num = int(input(\"Введите число: \"))\n",
    "print(\"число: \", num)\n",
    "print(\"Факториал: \", factorial(num))"
   ]
  },
  {
   "cell_type": "code",
   "execution_count": 11,
   "id": "77667ae1",
   "metadata": {
    "ExecuteTime": {
     "end_time": "2024-01-09T12:29:07.454711500Z",
     "start_time": "2024-01-09T12:28:57.460370200Z"
    }
   },
   "outputs": [
    {
     "name": "stdout",
     "output_type": "stream",
     "text": [
      "Hh/\\K,Q[Ei\n",
      "7k:#v[Pr@J\n",
      "]GB]^|j:o\"\n",
      "##09|Kbkpe\n"
     ]
    }
   ],
   "source": [
    "# Функция генерации случайного пароля\n",
    "import random\n",
    "import string\n",
    "\n",
    "\n",
    "def generate_password(length=12):\n",
    "    characters = string.ascii_letters + string.digits + string.punctuation\n",
    "    password = ''.join(random.choice(characters) for _ in range(length))\n",
    "\n",
    "    return password\n",
    "\n",
    "\n",
    "try:\n",
    "    password_length = int(input(\"Введите длину пароля: \"))\n",
    "    num_passwords = int(input(\"Введите количество паролей: \"))\n",
    "    for _ in range(num_passwords):\n",
    "        password = generate_password(password_length)\n",
    "        print(password)\n",
    "\n",
    "except ValueError:\n",
    "    print(\"Некорректный ввод, введите ЧИСЛОВЫЕ значения для длины и колличества паролей\")"
   ]
  },
  {
   "cell_type": "code",
   "execution_count": 12,
   "id": "72807bf7",
   "metadata": {
    "ExecuteTime": {
     "end_time": "2024-01-09T12:30:23.532422900Z",
     "start_time": "2024-01-09T12:30:09.520987Z"
    }
   },
   "outputs": [
    {
     "name": "stdout",
     "output_type": "stream",
     "text": [
      "Время вышло!\n"
     ]
    }
   ],
   "source": [
    "# Простой таймер\n",
    "import time\n",
    "\n",
    "\n",
    "def countdown(user_time):\n",
    "    while user_time >= 0:\n",
    "        mins, secs = divmod(user_time, 60)\n",
    "        timer = '{:02d}:{:02d}'.format(mins, secs)\n",
    "        print(timer, end='\\r')\n",
    "        time.sleep(1)\n",
    "        user_time -= 1\n",
    "    print('Время вышло!')\n",
    "\n",
    "\n",
    "if __name__ == '__main__':\n",
    "    user_time = int(input(\"Введите необходимое кол-во секунд: \"))\n",
    "    countdown(user_time)"
   ]
  },
  {
   "cell_type": "code",
   "execution_count": 13,
   "id": "1f855326",
   "metadata": {
    "ExecuteTime": {
     "end_time": "2024-01-09T12:31:46.448870200Z",
     "start_time": "2024-01-09T12:31:46.418752300Z"
    }
   },
   "outputs": [
    {
     "name": "stdout",
     "output_type": "stream",
     "text": [
      "           1 \n",
      "          1 1 \n",
      "         1 2 1 \n",
      "        1 3 3 1 \n",
      "       1 4 6 4 1 \n",
      "      1 5 10 10 5 1 \n",
      "     1 6 15 20 15 6 1 \n",
      "    1 7 21 35 35 21 7 1 \n",
      "   1 8 28 56 70 56 28 8 1 \n",
      "  1 9 36 84 126 126 84 36 9 1 \n"
     ]
    }
   ],
   "source": [
    "# Треугольник Паскаля\n",
    "from math import factorial\n",
    "\n",
    "\n",
    "def pascal_triangle(n):\n",
    "    for i in range(n):\n",
    "        for j in range(n - i + 1):\n",
    "            print(end=' ')\n",
    "        for j in range(i + 1):\n",
    "            print(factorial(i) // (factorial(j) * factorial(i - j)), end=' ')\n",
    "        print()\n",
    "\n",
    "\n",
    "if __name__ == '__main__':\n",
    "    pascal_triangle(10)"
   ]
  },
  {
   "cell_type": "markdown",
   "source": [
    "---\n",
    "# Объектно-ориентированное программирование"
   ],
   "metadata": {
    "collapsed": false
   },
   "id": "9aca7a90ebfe6208"
  },
  {
   "cell_type": "markdown",
   "source": [
    "# Создание класса:\n",
    "Класс - это схема или шаблон для создания объектов, в то время как объект - это экземпляр или копия класса с фактическими значениями."
   ],
   "metadata": {
    "collapsed": false
   },
   "id": "6d9614f661e70f6c"
  },
  {
   "cell_type": "code",
   "execution_count": 15,
   "outputs": [],
   "source": [
    "# Простой пример создания класса\n",
    "class PersonalInfo:\n",
    "    name = \"Sergey\"\n",
    "    address = \"Moscow\"\n",
    "    age = 20"
   ],
   "metadata": {
    "collapsed": false,
    "ExecuteTime": {
     "end_time": "2024-01-09T12:49:29.927002800Z",
     "start_time": "2024-01-09T12:49:29.922452400Z"
    }
   },
   "id": "28915483afed7970"
  },
  {
   "cell_type": "markdown",
   "source": [
    "# Создание объекта класса (экземпляра класса)"
   ],
   "metadata": {
    "collapsed": false
   },
   "id": "d5beb318c7fb22ff"
  },
  {
   "cell_type": "code",
   "execution_count": 17,
   "outputs": [
    {
     "name": "stdout",
     "output_type": "stream",
     "text": [
      "Sergey\n",
      "Moscow\n",
      "20\n"
     ]
    }
   ],
   "source": [
    "class PersonalInfo:\n",
    "    name = \"Sergey\"\n",
    "    address = \"Moscow\"\n",
    "    age = 20\n",
    "\n",
    "\n",
    "obj1 = PersonalInfo()\n",
    "# Получим информацию о объекте\n",
    "print(obj1.name)\n",
    "print(obj1.address)\n",
    "print(obj1.age)"
   ],
   "metadata": {
    "collapsed": false,
    "ExecuteTime": {
     "end_time": "2024-01-09T12:50:28.520054600Z",
     "start_time": "2024-01-09T12:50:28.499293800Z"
    }
   },
   "id": "a61b09e9cd3d1395"
  },
  {
   "cell_type": "markdown",
   "source": [
    "# Метод self\n",
    "Параметр self является ссылкой на текущий экземпляр класса и используется для доступа к переменным, принадлежащим классу.\n",
    "Он должен быть указан в качестве дополнительного параметра внутри определения метода."
   ],
   "metadata": {
    "collapsed": false
   },
   "id": "f4280bd8de0f0ed6"
  },
  {
   "cell_type": "code",
   "execution_count": 20,
   "outputs": [
    {
     "name": "stdout",
     "output_type": "stream",
     "text": [
      "Моё имя Сергей Я из города Москва И мне 20 лет\n"
     ]
    }
   ],
   "source": [
    "class PersonalInfo:\n",
    "    name = \"Сергей\"\n",
    "    address = \"Москва\"\n",
    "    age = 20\n",
    "\n",
    "    def description(self):\n",
    "        print(\"Моё имя\", self.name,\n",
    "              \"Я из города\", self.address,\n",
    "              \"И мне\", self.age, \"лет\")\n",
    "\n",
    "\n",
    "obj1 = PersonalInfo()\n",
    "obj1.description()"
   ],
   "metadata": {
    "collapsed": false,
    "ExecuteTime": {
     "end_time": "2024-01-09T12:54:27.577546200Z",
     "start_time": "2024-01-09T12:54:27.562085200Z"
    }
   },
   "id": "27ef90f4c6486e30"
  },
  {
   "cell_type": "markdown",
   "source": [
    "# Метод init\n",
    "Метод init используется для инициализации состояния объекта и содержит инструкции, которые выполняются во время создания объекта."
   ],
   "metadata": {
    "collapsed": false
   },
   "id": "4b2ab458a30e0959"
  },
  {
   "cell_type": "code",
   "execution_count": 21,
   "outputs": [
    {
     "name": "stdout",
     "output_type": "stream",
     "text": [
      "Привет, моё имя Сергей\n"
     ]
    }
   ],
   "source": [
    "class PersonalInfo:\n",
    "    def __init__(self, name, age):\n",
    "        self.name = name\n",
    "        self.age = age\n",
    "\n",
    "\n",
    "obj1 = PersonalInfo(\"Сергей\", 20)\n",
    "print(\"Привет, моё имя \" + obj1.name)"
   ],
   "metadata": {
    "collapsed": false,
    "ExecuteTime": {
     "end_time": "2024-01-09T12:56:59.557544500Z",
     "start_time": "2024-01-09T12:56:59.511318600Z"
    }
   },
   "id": "5c5fb07e5403c1f9"
  },
  {
   "cell_type": "code",
   "execution_count": 22,
   "outputs": [
    {
     "name": "stdout",
     "output_type": "stream",
     "text": [
      "Сергей(20)\n"
     ]
    }
   ],
   "source": [
    "class PersonalInfo:\n",
    "    def __init__(self, name, age):\n",
    "        self.name = name\n",
    "        self.age = age\n",
    "\n",
    "    def __str__(self):\n",
    "        return f\"{self.name}({self.age})\"\n",
    "\n",
    "\n",
    "obj1 = PersonalInfo(\"Сергей\", 20)\n",
    "\n",
    "print(obj1)"
   ],
   "metadata": {
    "collapsed": false,
    "ExecuteTime": {
     "end_time": "2024-01-09T12:57:37.678306600Z",
     "start_time": "2024-01-09T12:57:37.630974500Z"
    }
   },
   "id": "a90d695795cba6cb"
  },
  {
   "cell_type": "markdown",
   "source": [
    "# Итераторы в Python\n",
    "Итераторы в python используются для перебора повторяемых объектов или контейнерных типов данных, таких как списки, кортежи, словари, наборы и т.д.\n",
    "\n",
    "Он состоит из методов __iter__() и __next__().\n",
    "\n",
    "__iter__() : Чтобы инициализировать итератор, используем метод __iter__().\n",
    "\n",
    "__next__() : Этот метод возвращает следующий элемент последовательности."
   ],
   "metadata": {
    "collapsed": false
   },
   "id": "9263fbbec7959d8b"
  },
  {
   "cell_type": "code",
   "execution_count": 23,
   "outputs": [
    {
     "name": "stdout",
     "output_type": "stream",
     "text": [
      "H\n",
      "e\n",
      "l\n",
      "l\n",
      "o\n",
      " \n",
      "W\n",
      "o\n",
      "r\n",
      "l\n",
      "d\n"
     ]
    }
   ],
   "source": [
    "string = 'Hello World'\n",
    "iterObj = iter(string)\n",
    "\n",
    "while True:\n",
    "    try:\n",
    "        char1 = next(iterObj)\n",
    "        print(char1)\n",
    "    except StopIteration:\n",
    "        break"
   ],
   "metadata": {
    "collapsed": false,
    "ExecuteTime": {
     "end_time": "2024-01-09T12:59:07.966627500Z",
     "start_time": "2024-01-09T12:59:07.931393900Z"
    }
   },
   "id": "dd407f04958e52b4"
  },
  {
   "cell_type": "code",
   "execution_count": 26,
   "outputs": [
    {
     "name": "stdout",
     "output_type": "stream",
     "text": [
      "25\n",
      "35\n",
      "45\n",
      "55\n",
      "65\n",
      "75\n",
      "85\n",
      "95\n"
     ]
    }
   ],
   "source": [
    "# Создадим кастомный итератор\n",
    "class CustomIterator:\n",
    "    def __iter__(self):\n",
    "        self.count = 25\n",
    "        return self\n",
    "\n",
    "    def __next__(self):\n",
    "        if self.count <= 100:\n",
    "            x = self.count\n",
    "            self.count += 10\n",
    "            return x\n",
    "        else:\n",
    "            raise StopIteration\n",
    "\n",
    "\n",
    "obj1 = CustomIterator()\n",
    "number = iter(obj1)\n",
    "\n",
    "for x in number:\n",
    "    print(x)"
   ],
   "metadata": {
    "collapsed": false,
    "ExecuteTime": {
     "end_time": "2024-01-09T13:01:25.888443600Z",
     "start_time": "2024-01-09T13:01:25.872363800Z"
    }
   },
   "id": "12afbb6f71412dde"
  },
  {
   "cell_type": "markdown",
   "source": [
    "---\n",
    "# Обработка исключений в Python"
   ],
   "metadata": {
    "collapsed": false
   },
   "id": "7347c48ee0ae40f9"
  },
  {
   "cell_type": "markdown",
   "source": [
    "Блок try позволяет проверить блок кода на наличие ошибок.\n",
    "Блок except позволяет обработать ошибку.\n",
    "Блок else позволяет выполнить код, когда ошибки нет.\n",
    "Блок finally позволяет выполнить код независимо от результата блоков try и except."
   ],
   "metadata": {
    "collapsed": false
   },
   "id": "b644dda88d848197"
  },
  {
   "cell_type": "code",
   "execution_count": 33,
   "outputs": [
    {
     "name": "stdout",
     "output_type": "stream",
     "text": [
      "Введенное число не является целым\n"
     ]
    }
   ],
   "source": [
    "try:\n",
    "    num = int(input(\"Введите целое число: \"))\n",
    "except ValueError:\n",
    "    print(\"Введенное число не является целым\")"
   ],
   "metadata": {
    "collapsed": false,
    "ExecuteTime": {
     "end_time": "2024-01-09T13:05:26.155129800Z",
     "start_time": "2024-01-09T13:05:20.885905700Z"
    }
   },
   "id": "8ac4d8d983de9936"
  },
  {
   "cell_type": "code",
   "execution_count": 34,
   "outputs": [
    {
     "name": "stdout",
     "output_type": "stream",
     "text": [
      "Введено целое число\n"
     ]
    }
   ],
   "source": [
    "try:\n",
    "    num = int(input(\"Введите целое число: \"))\n",
    "except ValueError:\n",
    "    print(\"Введенное число не является целым\")\n",
    "else:\n",
    "    print(\"Введено целое число\")"
   ],
   "metadata": {
    "collapsed": false,
    "ExecuteTime": {
     "end_time": "2024-01-09T13:06:40.861909500Z",
     "start_time": "2024-01-09T13:06:38.965982800Z"
    }
   },
   "id": "d4033fed311c8a47"
  },
  {
   "cell_type": "code",
   "execution_count": 35,
   "outputs": [
    {
     "name": "stdout",
     "output_type": "stream",
     "text": [
      "Введено целое число\n",
      "Это сообщение будет выведено в любом случае, независимо от возникших ошибок\n"
     ]
    }
   ],
   "source": [
    "try:\n",
    "    num = int(input(\"Введите целое число: \"))\n",
    "except ValueError:\n",
    "    print(\"Введенное число не является целым\")\n",
    "else:\n",
    "    print(\"Введено целое число\")\n",
    "finally:\n",
    "    print(\"Это сообщение будет выведено в любом случае, независимо от возникших ошибок\")"
   ],
   "metadata": {
    "collapsed": false,
    "ExecuteTime": {
     "end_time": "2024-01-09T13:07:34.350045800Z",
     "start_time": "2024-01-09T13:07:32.665994900Z"
    }
   },
   "id": "4c97cfb5139c4af4"
  }
 ],
 "metadata": {
  "kernelspec": {
   "display_name": "Python 3 (ipykernel)",
   "language": "python",
   "name": "python3"
  },
  "language_info": {
   "codemirror_mode": {
    "name": "ipython",
    "version": 3
   },
   "file_extension": ".py",
   "mimetype": "text/x-python",
   "name": "python",
   "nbconvert_exporter": "python",
   "pygments_lexer": "ipython3",
   "version": "3.11.3"
  }
 },
 "nbformat": 4,
 "nbformat_minor": 5
}
