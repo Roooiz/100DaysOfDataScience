{
 "cells": [
  {
   "cell_type": "markdown",
   "metadata": {},
   "source": [
    "# Сверточная сеть для MNIST датасета (первый победитель на соревнованиях)"
   ]
  },
  {
   "cell_type": "code",
   "execution_count": 1,
   "metadata": {
    "ExecuteTime": {
     "end_time": "2024-03-26T19:37:08.740604200Z",
     "start_time": "2024-03-26T19:37:05.169738300Z"
    }
   },
   "outputs": [],
   "source": [
    "import numpy as np\n",
    "import torch\n",
    "import time\n",
    "import platform"
   ]
  },
  {
   "cell_type": "code",
   "execution_count": 2,
   "metadata": {
    "ExecuteTime": {
     "end_time": "2024-03-26T19:37:09.383055100Z",
     "start_time": "2024-03-26T19:37:09.346661300Z"
    }
   },
   "outputs": [
    {
     "name": "stdout",
     "output_type": "stream",
     "text": [
      "Pytorch: 2.2.1+cpu\n",
      "cuda: None\n",
      "Python: 3.11.6\n"
     ]
    }
   ],
   "source": [
    "print(f'Pytorch: {torch.__version__}')\n",
    "print(f'cuda: {torch.version.cuda}')\n",
    "print(f'Python: {platform.python_version()}')"
   ]
  },
  {
   "cell_type": "code",
   "execution_count": 3,
   "metadata": {
    "scrolled": false,
    "ExecuteTime": {
     "end_time": "2024-03-26T19:40:48.773213200Z",
     "start_time": "2024-03-26T19:40:48.730321500Z"
    }
   },
   "outputs": [
    {
     "name": "stdout",
     "output_type": "stream",
     "text": [
      "cpu\n"
     ]
    }
   ],
   "source": [
    "device = 'cuda' if torch.cuda.is_available() else 'cpu'\n",
    "print(device)"
   ]
  },
  {
   "cell_type": "markdown",
   "metadata": {},
   "source": [
    "### Загрузим данные и нормализуем их"
   ]
  },
  {
   "cell_type": "code",
   "execution_count": 4,
   "metadata": {
    "ExecuteTime": {
     "end_time": "2024-03-26T19:42:56.269199800Z",
     "start_time": "2024-03-26T19:42:56.241242200Z"
    }
   },
   "outputs": [],
   "source": [
    "from MNISTtools import load, show"
   ]
  },
  {
   "cell_type": "code",
   "execution_count": 6,
   "metadata": {
    "ExecuteTime": {
     "end_time": "2024-03-26T19:44:55.549244200Z",
     "start_time": "2024-03-26T19:44:55.521956Z"
    }
   },
   "outputs": [],
   "source": [
    "xtrain, ltrain = load(dataset='training', path='dataset/')\n",
    "xtest, ltest = load(dataset='testing', path='dataset/')"
   ]
  },
  {
   "cell_type": "code",
   "execution_count": 7,
   "metadata": {
    "ExecuteTime": {
     "end_time": "2024-03-26T19:45:20.392974100Z",
     "start_time": "2024-03-26T19:45:20.352494100Z"
    }
   },
   "outputs": [],
   "source": [
    "def normalize_MNIST_images(x):\n",
    "    '''\n",
    "    Нормализует изображения MNIST.\n",
    "\n",
    "    Аргументы:\n",
    "        x: данные\n",
    "\n",
    "    Возвращает:\n",
    "        Нормализованные данные.\n",
    "    '''\n",
    "    x_norm = x.astype(np.float32)\n",
    "    return x_norm * 2 / 255 - 1"
   ]
  },
  {
   "cell_type": "code",
   "execution_count": 8,
   "metadata": {
    "ExecuteTime": {
     "end_time": "2024-03-26T19:45:29.146476Z",
     "start_time": "2024-03-26T19:45:28.872528800Z"
    }
   },
   "outputs": [],
   "source": [
    "# Нормализация\n",
    "xtrain = normalize_MNIST_images(xtrain)\n",
    "xtest = normalize_MNIST_images(xtest)"
   ]
  },
  {
   "cell_type": "markdown",
   "metadata": {},
   "source": [
    "### Изменение формы данных\n",
    "\n",
    "Torch ожидает, что входные данные сверточного слоя будут храниться в следующем формате:\n",
    "`Размер пакета × Количество входных каналов × Ширина изображения × Высота изображения`"
   ]
  },
  {
   "cell_type": "code",
   "execution_count": 9,
   "metadata": {
    "ExecuteTime": {
     "end_time": "2024-03-26T19:45:59.803760100Z",
     "start_time": "2024-03-26T19:45:59.778128Z"
    }
   },
   "outputs": [
    {
     "name": "stdout",
     "output_type": "stream",
     "text": [
      "Форма xtrain после изменения формы: (28, 28, 1, 60000).\n",
      "Форма xtest после изменения формы: (28, 28, 1, 10000).\n"
     ]
    }
   ],
   "source": [
    "xtrain = xtrain.reshape([28, 28, -1])[:, :, None, :]\n",
    "xtest = xtest.reshape([28, 28, -1])[:, :, None, :]\n",
    "print(f'Форма xtrain после изменения формы: {xtrain.shape}.')\n",
    "print(f'Форма xtest после изменения формы: {xtest.shape}.')"
   ]
  },
  {
   "cell_type": "code",
   "execution_count": 10,
   "metadata": {
    "ExecuteTime": {
     "end_time": "2024-03-26T19:46:14.393533200Z",
     "start_time": "2024-03-26T19:46:14.354098600Z"
    }
   },
   "outputs": [
    {
     "name": "stdout",
     "output_type": "stream",
     "text": [
      "Форма xtrain после moveaxis: (60000, 1, 28, 28).\n",
      "Форма xtest после moveaxis: (10000, 1, 28, 28).\n"
     ]
    }
   ],
   "source": [
    "xtrain = np.moveaxis(xtrain, (2, 3), (1, 0))\n",
    "xtest = np.moveaxis(xtest, (2, 3), (1, 0))\n",
    "print(f'Форма xtrain после moveaxis: {xtrain.shape}.')\n",
    "print(f'Форма xtest после moveaxis: {xtest.shape}.')"
   ]
  },
  {
   "cell_type": "markdown",
   "metadata": {},
   "source": [
    "### Обернем данные в тензор"
   ]
  },
  {
   "cell_type": "code",
   "execution_count": 11,
   "metadata": {
    "ExecuteTime": {
     "end_time": "2024-03-26T19:46:35.101748200Z",
     "start_time": "2024-03-26T19:46:35.071850900Z"
    }
   },
   "outputs": [],
   "source": [
    "xtrain = torch.from_numpy(xtrain)\n",
    "ltrain = torch.from_numpy(ltrain)\n",
    "xtest = torch.from_numpy(xtest)\n",
    "ltest = torch.from_numpy(ltest)"
   ]
  },
  {
   "cell_type": "code",
   "execution_count": 12,
   "metadata": {
    "ExecuteTime": {
     "end_time": "2024-03-26T19:46:38.644689400Z",
     "start_time": "2024-03-26T19:46:38.627749300Z"
    }
   },
   "outputs": [],
   "source": [
    "xtrain_gpu = xtrain.to(device)\n",
    "ltrain_gpu = ltrain.to(device)\n",
    "xtest_gpu = xtest.to(device)\n",
    "ltest_gpu = ltest.to(device)"
   ]
  },
  {
   "cell_type": "markdown",
   "metadata": {},
   "source": [
    "## LeNet 5"
   ]
  },
  {
   "cell_type": "markdown",
   "metadata": {},
   "source": [
    "* Сверточные слои могут быть созданы как `nn.Conv2d(N, C, K)`. Для входных изображений размером `W×H`, выходные карты признаков имеют размер `[W−K+1]x[H−K+1]`.\n",
    "\n",
    "* Максимальное объединение реализуется так же, как и любая другая нелинейная функция (например, ReLU или softmax). Для входных изображений размером `W×H`, выходные карты признаков имеют размер `[W/L]×[H/L]`.\n",
    "\n",
    "* Полносвязанный слой может быть создан как `nn.Linear(M, N)`."
   ]
  },
  {
   "cell_type": "markdown",
   "metadata": {},
   "source": [
    "Архитектура:\n",
    "\n",
    "1. Сверточный слой, соединяющий входное изображение с `6` картами признаков с `5×5` свертками (`K=5`), за которым следуют ReLU и максимальное объединение (`L=2`).\n",
    "2. Сверточный слой, соединяющий `6` входных каналов с `16` выходными каналами с `5×5` свертками, за которым следуют ReLU и максимальное объединение (`L=2`).\n",
    "3. Полносвязанный слой, соединяющий `16` карт признаков с `120` выходными блоками, за которым следует ReLU.\n",
    "4. Полносвязанный слой, соединяющий `120` входов с `84` выходными блоками, за которым следует ReLU.\n",
    "5. Финальный линейный слой, соединяющий `84` входа с `10` линейными выходами (по одному для каждой из наших цифр)."
   ]
  },
  {
   "cell_type": "markdown",
   "metadata": {},
   "source": [
    "Первый слой:\n",
    "* Вход: `(28, 28, 1)`\n",
    "* После *паддинга*: `(32, 32, 1)`\n",
    "* После свертки (ядра=`5x5`): `(28, 28, 6)` где `28=32-5+1`\n",
    "* После ReLU: `(28, 28, 6)`\n",
    "* После максимального объединения (шаг=`2x2`): `(14, 14, 6)` $\\Rightarrow$ **ВЫХОД**\n",
    "\n",
    "Второй слой:\n",
    "* Вход: `(14, 14, 6)`\n",
    "* После свертки (ядра=`5x5`): `(10, 10, 16)`\n",
    "* После ReLU: `(10, 10, 16)`\n",
    "* После максимального объединения (шаг=`2x2`): `(5, 5, 16)` $\\Rightarrow$ **ВЫХОД**\n",
    "\n",
    "Третий слой:\n",
    "* Вход: `(5, 5, 16)` $\\Rightarrow$ `5x5x16=400`\n",
    "* После полносвязного слоя: `(120, 1)`\n",
    "* После ReLU: `(120, 1)` $\\Rightarrow$ **ВЫХОД**\n",
    "\n",
    "Четвертый слой:\n",
    "* Вход: `(120, 1)`\n",
    "* После полносвязного слоя: `(84, 1)`\n",
    "* После ReLU: `(84, 1)` $\\Rightarrow$ **ВЫХОД**\n",
    "\n",
    "Пятый слой:\n",
    "* Вход: `(84, 1)`\n",
    "* После полносвязного слоя: `(10, 1)`\n",
    "* После ReLU: `(10, 1)` $\\Rightarrow$ **ВЫХОД**"
   ]
  },
  {
   "cell_type": "code",
   "execution_count": 13,
   "metadata": {
    "ExecuteTime": {
     "end_time": "2024-03-26T19:49:00.775407700Z",
     "start_time": "2024-03-26T19:49:00.767756400Z"
    }
   },
   "outputs": [],
   "source": [
    "import torch.nn as nn\n",
    "import torch.nn.functional as F"
   ]
  },
  {
   "cell_type": "code",
   "execution_count": 14,
   "metadata": {
    "ExecuteTime": {
     "end_time": "2024-03-26T19:49:19.060313600Z",
     "start_time": "2024-03-26T19:49:19.040305Z"
    }
   },
   "outputs": [],
   "source": [
    "class LeNet(nn.Module):\n",
    "\n",
    "    # структура сети\n",
    "    def __init__(self):\n",
    "        super(LeNet, self).__init__()\n",
    "        self.conv1 = nn.Conv2d(1, 6, 5, padding=2)\n",
    "        self.conv2 = nn.Conv2d(6, 16, 5)\n",
    "        self.fc1 = nn.Linear(16 * 5 * 5, 120)\n",
    "        self.fc2 = nn.Linear(120, 84)\n",
    "        self.fc3 = nn.Linear(84, 10)\n",
    "\n",
    "    def forward(self, x):\n",
    "        '''\n",
    "        Один проход через сеть.\n",
    "\n",
    "        Аргументы:\n",
    "            x: входные данные\n",
    "        '''\n",
    "        x = F.max_pool2d(F.relu(self.conv1(x)), (2, 2))\n",
    "        x = F.max_pool2d(F.relu(self.conv2(x)), (2, 2))\n",
    "        x = x.view(-1, self.num_flat_features(x))\n",
    "        x = F.relu(self.fc1(x))\n",
    "        x = F.relu(self.fc2(x))\n",
    "        x = self.fc3(x)\n",
    "        return x\n",
    "\n",
    "    def num_flat_features(self, x):\n",
    "        '''\n",
    "        Получить количество признаков в пакете тензоров `x`.\n",
    "        '''\n",
    "        size = x.size()[1:]\n",
    "        return np.prod(size)"
   ]
  },
  {
   "cell_type": "markdown",
   "metadata": {},
   "source": [
    "### Проверим структуру модели"
   ]
  },
  {
   "cell_type": "code",
   "execution_count": 15,
   "metadata": {
    "ExecuteTime": {
     "end_time": "2024-03-26T19:49:31.771864200Z",
     "start_time": "2024-03-26T19:49:31.752143200Z"
    }
   },
   "outputs": [
    {
     "name": "stdout",
     "output_type": "stream",
     "text": [
      "LeNet(\n",
      "  (conv1): Conv2d(1, 6, kernel_size=(5, 5), stride=(1, 1), padding=(2, 2))\n",
      "  (conv2): Conv2d(6, 16, kernel_size=(5, 5), stride=(1, 1))\n",
      "  (fc1): Linear(in_features=400, out_features=120, bias=True)\n",
      "  (fc2): Linear(in_features=120, out_features=84, bias=True)\n",
      "  (fc3): Linear(in_features=84, out_features=10, bias=True)\n",
      ")\n"
     ]
    }
   ],
   "source": [
    "net = LeNet()\n",
    "print(net)"
   ]
  },
  {
   "cell_type": "markdown",
   "metadata": {},
   "source": [
    "### Проверим параметры сети"
   ]
  },
  {
   "cell_type": "code",
   "execution_count": 16,
   "metadata": {
    "ExecuteTime": {
     "end_time": "2024-03-26T19:49:41.073818100Z",
     "start_time": "2024-03-26T19:49:41.054285200Z"
    }
   },
   "outputs": [
    {
     "name": "stdout",
     "output_type": "stream",
     "text": [
      "conv1.weight torch.Size([6, 1, 5, 5]) True\n",
      "conv1.bias torch.Size([6]) True\n",
      "conv2.weight torch.Size([16, 6, 5, 5]) True\n",
      "conv2.bias torch.Size([16]) True\n",
      "fc1.weight torch.Size([120, 400]) True\n",
      "fc1.bias torch.Size([120]) True\n",
      "fc2.weight torch.Size([84, 120]) True\n",
      "fc2.bias torch.Size([84]) True\n",
      "fc3.weight torch.Size([10, 84]) True\n",
      "fc3.bias torch.Size([10]) True\n"
     ]
    }
   ],
   "source": [
    "for name, param in net.named_parameters():\n",
    "    print(name, param.size(), param.requires_grad)"
   ]
  },
  {
   "cell_type": "markdown",
   "metadata": {},
   "source": [
    "### Точность без обратного распространения ошибки"
   ]
  },
  {
   "cell_type": "code",
   "execution_count": 17,
   "metadata": {
    "ExecuteTime": {
     "end_time": "2024-03-26T19:50:23.046253900Z",
     "start_time": "2024-03-26T19:50:22.757979600Z"
    }
   },
   "outputs": [],
   "source": [
    "# избегаем отслеживания градиента во время тестирования и тем самым экономим вычислительное время\n",
    "with torch.no_grad():\n",
    "    yinit = net(xtest)"
   ]
  },
  {
   "cell_type": "code",
   "execution_count": 18,
   "metadata": {
    "ExecuteTime": {
     "end_time": "2024-03-26T19:50:24.956501200Z",
     "start_time": "2024-03-26T19:50:24.908082200Z"
    }
   },
   "outputs": [
    {
     "name": "stdout",
     "output_type": "stream",
     "text": [
      "tensor(8.9300)\n"
     ]
    }
   ],
   "source": [
    "_, lpred = yinit.max(1)\n",
    "print(100 * (ltest == lpred).float().mean())"
   ]
  },
  {
   "cell_type": "markdown",
   "metadata": {},
   "source": [
    "`ltest == lpred` создает тензор со значениями `0` и `1`, где `0` означает неравенство, а `1` - равенство. Поэтому `(ltest == lpred).float().mean()` означает точность, которая составляет **11.55%**."
   ]
  },
  {
   "cell_type": "markdown",
   "metadata": {},
   "source": [
    "Стохастический градиентный спуск (SGD) с перекрестной энтропией и моментумом"
   ]
  },
  {
   "cell_type": "markdown",
   "metadata": {},
   "source": [
    "Кросс-энтропия в торче это композиция из softmax и стандартной кросс-энтропии"
   ]
  },
  {
   "cell_type": "code",
   "execution_count": 22,
   "metadata": {
    "ExecuteTime": {
     "end_time": "2024-03-26T19:55:37.786710200Z",
     "start_time": "2024-03-26T19:55:37.766999Z"
    }
   },
   "outputs": [],
   "source": [
    "def backprop_deep(xtrain, ltrain, net, T, B=100, gamma=0.001, rho=0.9):\n",
    "    '''\n",
    "    Обратное распространение.\n",
    "\n",
    "    Аргументы:\n",
    "        xtrain: обучающие выборки\n",
    "        ltrain: тестовые выборки\n",
    "        net: нейронная сеть\n",
    "        T: количество эпох\n",
    "        B: размер минипакета\n",
    "        gamma: размер шага\n",
    "        rho: импульс\n",
    "\n",
    "    Возвращает:\n",
    "        Ничего\n",
    "    '''\n",
    "    N = xtrain.size()[0]  # Размер набора данных для обучения\n",
    "    NB = N // B  # Количество минипакетов\n",
    "    criterion = nn.CrossEntropyLoss()\n",
    "    optimizer = torch.optim.SGD(net.parameters(), lr=gamma, momentum=rho)\n",
    "\n",
    "    for epoch in range(T):\n",
    "        running_loss = 0.0\n",
    "        shuffled_indices = np.random.permutation(NB)\n",
    "        for k in range(NB):\n",
    "            # Извлечение k-го минипакета из xtrain и ltrain\n",
    "            minibatch_indices = range(shuffled_indices[k] * B, (shuffled_indices[k] + 1) * B)\n",
    "            inputs = xtrain[minibatch_indices]\n",
    "            labels = ltrain[minibatch_indices].long()\n",
    "\n",
    "\n",
    "            # Инициализация градиентов нулями\n",
    "            optimizer.zero_grad()\n",
    "\n",
    "            # Прямое распространение\n",
    "            outputs = net(inputs)\n",
    "\n",
    "            # Оценка ошибки\n",
    "            loss = criterion(outputs, labels)\n",
    "\n",
    "            # Обратное распространение\n",
    "            loss.backward()\n",
    "\n",
    "            # Обновление параметров\n",
    "            optimizer.step()\n",
    "\n",
    "            # Вывод средней потери для минипакета каждые 100 минипакетов\n",
    "            # Вычисление и вывод статистики\n",
    "            with torch.no_grad():\n",
    "                running_loss += loss.item()\n",
    "            if k % 100 == 99:\n",
    "                print('[%d, %5d] loss: %.3f' %\n",
    "                      (epoch + 1, k + 1, running_loss / 100))\n",
    "                running_loss = 0.0"
   ]
  },
  {
   "cell_type": "code",
   "execution_count": 23,
   "metadata": {
    "ExecuteTime": {
     "end_time": "2024-03-26T19:55:38.597081Z",
     "start_time": "2024-03-26T19:55:38.563929600Z"
    }
   },
   "outputs": [],
   "source": [
    "net = LeNet()"
   ]
  },
  {
   "cell_type": "code",
   "execution_count": 24,
   "metadata": {
    "ExecuteTime": {
     "end_time": "2024-03-26T19:55:56.236929800Z",
     "start_time": "2024-03-26T19:55:39.002999700Z"
    }
   },
   "outputs": [
    {
     "name": "stdout",
     "output_type": "stream",
     "text": [
      "[1,   100] loss: 2.302\n",
      "[1,   200] loss: 2.296\n",
      "[1,   300] loss: 2.289\n",
      "[1,   400] loss: 2.280\n",
      "[1,   500] loss: 2.262\n",
      "[1,   600] loss: 2.225\n",
      "[2,   100] loss: 2.123\n",
      "[2,   200] loss: 1.705\n",
      "[2,   300] loss: 0.911\n",
      "[2,   400] loss: 0.571\n",
      "[2,   500] loss: 0.442\n",
      "[2,   600] loss: 0.368\n",
      "[3,   100] loss: 0.339\n",
      "[3,   200] loss: 0.306\n",
      "[3,   300] loss: 0.270\n",
      "[3,   400] loss: 0.245\n",
      "[3,   500] loss: 0.240\n",
      "[3,   600] loss: 0.222\n",
      "17.218279 секунд на полный проход.\n"
     ]
    }
   ],
   "source": [
    "start = time.time()\n",
    "backprop_deep(xtrain, ltrain, net, T=3)\n",
    "end = time.time()\n",
    "print(f'{end - start:.6f} секунд на полный проход.')"
   ]
  },
  {
   "cell_type": "markdown",
   "metadata": {},
   "source": [
    "### Проверим тестовый датасет"
   ]
  },
  {
   "cell_type": "code",
   "execution_count": 25,
   "metadata": {
    "scrolled": true,
    "ExecuteTime": {
     "end_time": "2024-03-26T19:56:13.407585500Z",
     "start_time": "2024-03-26T19:56:09.841333Z"
    }
   },
   "outputs": [
    {
     "name": "stdout",
     "output_type": "stream",
     "text": [
      "[1,   100] loss: 0.193\n",
      "[2,   100] loss: 0.171\n",
      "[3,   100] loss: 0.164\n",
      "3.546738 секунд.\n"
     ]
    }
   ],
   "source": [
    "start = time.time()\n",
    "backprop_deep(xtest, ltest, net, T=3)\n",
    "end = time.time()\n",
    "print(f'{end - start:.6f} секунд.')"
   ]
  },
  {
   "cell_type": "code",
   "execution_count": 26,
   "metadata": {
    "ExecuteTime": {
     "end_time": "2024-03-26T19:56:35.762863500Z",
     "start_time": "2024-03-26T19:56:35.535011200Z"
    }
   },
   "outputs": [],
   "source": [
    "y = net(xtest)"
   ]
  },
  {
   "cell_type": "code",
   "execution_count": 27,
   "metadata": {
    "ExecuteTime": {
     "end_time": "2024-03-26T19:56:37.528001100Z",
     "start_time": "2024-03-26T19:56:37.495780Z"
    }
   },
   "outputs": [
    {
     "name": "stdout",
     "output_type": "stream",
     "text": [
      "tensor(95.4100)\n"
     ]
    }
   ],
   "source": [
    "print(100 * (ltest == y.max(1)[1]).float().mean())"
   ]
  },
  {
   "cell_type": "markdown",
   "metadata": {},
   "source": [
    "Точность на трёх эпохах **95.41%**."
   ]
  },
  {
   "cell_type": "code",
   "execution_count": 28,
   "metadata": {
    "ExecuteTime": {
     "end_time": "2024-03-26T19:57:08.256887700Z",
     "start_time": "2024-03-26T19:57:08.223965600Z"
    }
   },
   "outputs": [],
   "source": [
    "net_gpu = LeNet().to(device)"
   ]
  },
  {
   "cell_type": "code",
   "execution_count": 29,
   "metadata": {
    "ExecuteTime": {
     "end_time": "2024-03-26T19:58:09.381013Z",
     "start_time": "2024-03-26T19:57:16.642224900Z"
    }
   },
   "outputs": [
    {
     "name": "stdout",
     "output_type": "stream",
     "text": [
      "[1,   100] loss: 2.303\n",
      "[1,   200] loss: 2.300\n",
      "[1,   300] loss: 2.293\n",
      "[1,   400] loss: 2.286\n",
      "[1,   500] loss: 2.274\n",
      "[1,   600] loss: 2.253\n",
      "[2,   100] loss: 2.203\n",
      "[2,   200] loss: 2.019\n",
      "[2,   300] loss: 1.375\n",
      "[2,   400] loss: 0.788\n",
      "[2,   500] loss: 0.541\n",
      "[2,   600] loss: 0.432\n",
      "[3,   100] loss: 0.342\n",
      "[3,   200] loss: 0.306\n",
      "[3,   300] loss: 0.283\n",
      "[3,   400] loss: 0.257\n",
      "[3,   500] loss: 0.237\n",
      "[3,   600] loss: 0.190\n",
      "[4,   100] loss: 0.194\n",
      "[4,   200] loss: 0.183\n",
      "[4,   300] loss: 0.188\n",
      "[4,   400] loss: 0.174\n",
      "[4,   500] loss: 0.179\n",
      "[4,   600] loss: 0.163\n",
      "[5,   100] loss: 0.152\n",
      "[5,   200] loss: 0.163\n",
      "[5,   300] loss: 0.130\n",
      "[5,   400] loss: 0.140\n",
      "[5,   500] loss: 0.137\n",
      "[5,   600] loss: 0.134\n",
      "[6,   100] loss: 0.132\n",
      "[6,   200] loss: 0.131\n",
      "[6,   300] loss: 0.109\n",
      "[6,   400] loss: 0.118\n",
      "[6,   500] loss: 0.120\n",
      "[6,   600] loss: 0.126\n",
      "[7,   100] loss: 0.108\n",
      "[7,   200] loss: 0.120\n",
      "[7,   300] loss: 0.112\n",
      "[7,   400] loss: 0.101\n",
      "[7,   500] loss: 0.106\n",
      "[7,   600] loss: 0.108\n",
      "[8,   100] loss: 0.104\n",
      "[8,   200] loss: 0.103\n",
      "[8,   300] loss: 0.098\n",
      "[8,   400] loss: 0.096\n",
      "[8,   500] loss: 0.090\n",
      "[8,   600] loss: 0.098\n",
      "[9,   100] loss: 0.098\n",
      "[9,   200] loss: 0.088\n",
      "[9,   300] loss: 0.096\n",
      "[9,   400] loss: 0.087\n",
      "[9,   500] loss: 0.086\n",
      "[9,   600] loss: 0.084\n",
      "[10,   100] loss: 0.081\n",
      "[10,   200] loss: 0.078\n",
      "[10,   300] loss: 0.092\n",
      "[10,   400] loss: 0.090\n",
      "[10,   500] loss: 0.076\n",
      "[10,   600] loss: 0.086\n",
      "52.737324 секунд.\n"
     ]
    }
   ],
   "source": [
    "start = time.time()\n",
    "backprop_deep(xtrain_gpu, ltrain_gpu, net_gpu, T=10)\n",
    "end = time.time()\n",
    "print(f'{end - start:.6f} секунд.')"
   ]
  },
  {
   "cell_type": "markdown",
   "metadata": {},
   "source": [
    "### Оценим дообученную модель"
   ]
  },
  {
   "cell_type": "code",
   "execution_count": 30,
   "metadata": {
    "ExecuteTime": {
     "end_time": "2024-03-26T19:58:12.734692Z",
     "start_time": "2024-03-26T19:58:12.444151600Z"
    }
   },
   "outputs": [],
   "source": [
    "y = net_gpu(xtest_gpu)"
   ]
  },
  {
   "cell_type": "code",
   "execution_count": 31,
   "metadata": {
    "ExecuteTime": {
     "end_time": "2024-03-26T19:58:12.830775700Z",
     "start_time": "2024-03-26T19:58:12.813209200Z"
    }
   },
   "outputs": [
    {
     "name": "stdout",
     "output_type": "stream",
     "text": [
      "tensor(97.8000)\n"
     ]
    }
   ],
   "source": [
    "print(100 * (ltest == y.max(1)[1].cpu()).float().mean())"
   ]
  },
  {
   "cell_type": "markdown",
   "metadata": {},
   "source": [
    "Точность с 10 эпохами **97.8%**. Напомню, что после трёх эпох мы имели точность **95.41%**."
   ]
  },
  {
   "cell_type": "code",
   "execution_count": 32,
   "metadata": {
    "scrolled": true,
    "ExecuteTime": {
     "end_time": "2024-03-26T19:59:23.177221600Z",
     "start_time": "2024-03-26T19:59:14.627760600Z"
    }
   },
   "outputs": [
    {
     "name": "stdout",
     "output_type": "stream",
     "text": [
      "[1,   100] loss: 0.071\n",
      "[2,   100] loss: 0.068\n",
      "[3,   100] loss: 0.062\n",
      "[4,   100] loss: 0.061\n",
      "[5,   100] loss: 0.056\n",
      "[6,   100] loss: 0.055\n",
      "[7,   100] loss: 0.053\n",
      "[8,   100] loss: 0.050\n",
      "[9,   100] loss: 0.049\n",
      "[10,   100] loss: 0.047\n",
      "8.549041 секунд.\n"
     ]
    }
   ],
   "source": [
    "start = time.time()\n",
    "backprop_deep(xtest_gpu, ltest_gpu, net_gpu, T=10)\n",
    "end = time.time()\n",
    "print(f'{end - start:.6f} секунд.')"
   ]
  },
  {
   "cell_type": "code",
   "execution_count": null,
   "outputs": [],
   "source": [],
   "metadata": {
    "collapsed": false
   }
  }
 ],
 "metadata": {
  "kernelspec": {
   "display_name": "Python 3",
   "language": "python",
   "name": "python3"
  },
  "language_info": {
   "codemirror_mode": {
    "name": "ipython",
    "version": 3
   },
   "file_extension": ".py",
   "mimetype": "text/x-python",
   "name": "python",
   "nbconvert_exporter": "python",
   "pygments_lexer": "ipython3",
   "version": "3.6.8"
  }
 },
 "nbformat": 4,
 "nbformat_minor": 2
}
