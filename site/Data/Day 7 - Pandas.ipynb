{
 "cells": [
  {
   "cell_type": "markdown",
   "source": [
    "# PANDAS\n",
    "Одна из самых необходимых библиотек для работы с данными в python (есть также модуль polars, он предназначен для того же)\n",
    "Pandas - это пакет для манипулирования данными и их анализа на Python. Название Pandas происходит от эконометрического термина Panel Data. Pandas включает в Python две дополнительные структуры данных, а именно Pandas Series и Pandas DataFrame. Эти структуры данных позволяют нам работать с маркированными и реляционными данными простым и интуитивно понятным способом.\n",
    "Серия Pandas и фреймы данных предназначены для быстрого анализа данных и манипулирования ими, а также являются гибкими и простыми в использовании. Ниже приведены лишь несколько функций, которые делают Pandas отличным пакетом для анализа данных:\n",
    "- Позволяет использовать метки для строк и столбцов\n",
    "- Может вычислять скользящую статистику по данным временных рядов\n",
    "- Простая обработка значений NaN\n",
    "- Способен загружать данные разных форматов во фреймы данных\n",
    "- ожет объединять различные наборы данных вместе\n",
    "- Интегрируется с NumPy и Matplotlib\n",
    "\n",
    "Для установки пропишем **pip install pandas**"
   ],
   "metadata": {
    "collapsed": false
   },
   "id": "d185b970504be02c"
  },
  {
   "cell_type": "markdown",
   "source": [
    "Серии\n",
    "Объект, похожий на одномерный массив, который может содержать множество типов данных. Одно из основных отличий между Pandas Series и NumPy ndarrays заключается в том, что мы можем назначить индексную метку каждому элементу в Pandas Series. Еще одно большое отличие заключается в том, что серии Pandas могут содержать данные разных типов.\n",
    "Синтаксис:\n",
    "pd.Series(данные, индекс)"
   ],
   "metadata": {
    "collapsed": false
   },
   "id": "161957c4a6d8c344"
  },
  {
   "cell_type": "code",
   "execution_count": 4,
   "outputs": [
    {
     "name": "stdout",
     "output_type": "stream",
     "text": [
      "Series([], dtype: object)\n"
     ]
    }
   ],
   "source": [
    "# Серия создается так: (создадим пустую серию)\n",
    "import pandas as pd\n",
    "\n",
    "ls = pd.Series()\n",
    "print(ls)"
   ],
   "metadata": {
    "collapsed": false,
    "ExecuteTime": {
     "end_time": "2024-01-14T11:45:03.964624600Z",
     "start_time": "2024-01-14T11:45:03.957446Z"
    }
   },
   "id": "8d347c5975fdd607"
  },
  {
   "cell_type": "code",
   "execution_count": 6,
   "outputs": [
    {
     "name": "stdout",
     "output_type": "stream",
     "text": [
      "eggs       30\n",
      "apples      6\n",
      "milk      Yes\n",
      "bread      No\n",
      "dtype: object\n"
     ]
    }
   ],
   "source": [
    "groceries = pd.Series(data=[30, 6, 'Yes', 'No'], index=['eggs', 'apples', 'milk', 'bread'])\n",
    "print(groceries)"
   ],
   "metadata": {
    "collapsed": false,
    "ExecuteTime": {
     "end_time": "2024-01-14T11:45:21.472304600Z",
     "start_time": "2024-01-14T11:45:21.458189900Z"
    }
   },
   "id": "8bb845ecbb44a20"
  },
  {
   "cell_type": "markdown",
   "source": [
    "**форма, размер, значения, индекс, ndim (измерение)**"
   ],
   "metadata": {
    "collapsed": false
   },
   "id": "68abaee5f9b7101f"
  },
  {
   "cell_type": "code",
   "execution_count": 8,
   "outputs": [
    {
     "name": "stdout",
     "output_type": "stream",
     "text": [
      "Shape: (4,)\n",
      "Dimension: 1\n",
      "4 elements\n",
      "Data: [30 6 'Yes' 'No']\n",
      "Index: Index(['eggs', 'apples', 'milk', 'bread'], dtype='object')\n"
     ]
    }
   ],
   "source": [
    "print('Shape:', groceries.shape)\n",
    "print('Dimension:', groceries.ndim)\n",
    "print(groceries.size, 'elements')\n",
    "print('Data:', groceries.values)\n",
    "print('Index:', groceries.index)"
   ],
   "metadata": {
    "collapsed": false,
    "ExecuteTime": {
     "end_time": "2024-01-14T11:47:38.466733400Z",
     "start_time": "2024-01-14T11:47:38.451107900Z"
    }
   },
   "id": "83ebca89b59d0426"
  },
  {
   "cell_type": "code",
   "execution_count": 9,
   "outputs": [
    {
     "data": {
      "text/plain": "False"
     },
     "execution_count": 9,
     "metadata": {},
     "output_type": "execute_result"
    }
   ],
   "source": [
    "# проверим, существует ли индексная метка в серии\n",
    "x = 'bananas' in groceries\n",
    "x"
   ],
   "metadata": {
    "collapsed": false,
    "ExecuteTime": {
     "end_time": "2024-01-14T11:48:22.440055800Z",
     "start_time": "2024-01-14T11:48:22.411986200Z"
    }
   },
   "id": "256e82fcc215ed6f"
  },
  {
   "cell_type": "markdown",
   "source": [
    "**Можем создавать объект series из ndarray**"
   ],
   "metadata": {
    "collapsed": false
   },
   "id": "b4926d73305dc3cd"
  },
  {
   "cell_type": "code",
   "execution_count": 10,
   "outputs": [
    {
     "name": "stdout",
     "output_type": "stream",
     "text": [
      "0    a\n",
      "1    b\n",
      "2    c\n",
      "3    d\n",
      "dtype: object\n"
     ]
    }
   ],
   "source": [
    "import pandas as pd\n",
    "import numpy as np\n",
    "\n",
    "data = np.array(['a', 'b', 'c', 'd'])\n",
    "ls = pd.Series(data)\n",
    "print(ls)"
   ],
   "metadata": {
    "collapsed": false,
    "ExecuteTime": {
     "end_time": "2024-01-14T11:52:49.074279100Z",
     "start_time": "2024-01-14T11:52:49.055054100Z"
    }
   },
   "id": "f8fb7ee07dead919"
  },
  {
   "cell_type": "markdown",
   "source": [
    "**Можем создавать series прямо из списка (list)**"
   ],
   "metadata": {
    "collapsed": false
   },
   "id": "b62bd124e049f5e8"
  },
  {
   "cell_type": "code",
   "execution_count": 11,
   "outputs": [
    {
     "name": "stdout",
     "output_type": "stream",
     "text": [
      "0    6\n",
      "1    7\n",
      "2    2\n",
      "dtype: int64\n"
     ]
    }
   ],
   "source": [
    "import pandas as pd\n",
    "\n",
    "a = [6, 7, 2]\n",
    "ls = pd.Series(a)\n",
    "print(ls)"
   ],
   "metadata": {
    "collapsed": false,
    "ExecuteTime": {
     "end_time": "2024-01-14T11:53:20.044953900Z",
     "start_time": "2024-01-14T11:53:20.032683500Z"
    }
   },
   "id": "6607a4d888ee125e"
  },
  {
   "cell_type": "markdown",
   "source": [
    "**А так же из словаря**"
   ],
   "metadata": {
    "collapsed": false
   },
   "id": "663776413e1eb901"
  },
  {
   "cell_type": "code",
   "execution_count": 12,
   "outputs": [
    {
     "name": "stdout",
     "output_type": "stream",
     "text": [
      "day1    420\n",
      "day2    380\n",
      "day3    390\n",
      "dtype: int64\n"
     ]
    }
   ],
   "source": [
    "import pandas as pd\n",
    "\n",
    "calories = {\"day1\": 420,\n",
    "            \"day2\": 380,\n",
    "            \"day3\": 390\n",
    "            }\n",
    "df = pd.Series(calories)\n",
    "print(df)"
   ],
   "metadata": {
    "collapsed": false,
    "ExecuteTime": {
     "end_time": "2024-01-14T11:53:43.858830300Z",
     "start_time": "2024-01-14T11:53:43.837284600Z"
    }
   },
   "id": "a303b17c3f0692a"
  },
  {
   "cell_type": "markdown",
   "source": [
    "**Да, можем даже создать из списка словарей)))**"
   ],
   "metadata": {
    "collapsed": false
   },
   "id": "a592ad14fbc95c8d"
  },
  {
   "cell_type": "code",
   "execution_count": 16,
   "outputs": [
    {
     "name": "stdout",
     "output_type": "stream",
     "text": [
      "a    1.0\n",
      "b    2.0\n",
      "c    NaN\n",
      "Name: 0, dtype: float64\n"
     ]
    }
   ],
   "source": [
    "import pandas as pd\n",
    "\n",
    "data = [\n",
    "    {'a': 1, 'b': 2},\n",
    "    {'a': 5, 'b': 10, 'c': 20}\n",
    "]\n",
    "df = pd.DataFrame(data)\n",
    "print(df.loc[0])  # Pandas использует атрибут loc для возврата одной или нескольких указанных строк."
   ],
   "metadata": {
    "collapsed": false,
    "ExecuteTime": {
     "end_time": "2024-01-14T11:56:06.285123100Z",
     "start_time": "2024-01-14T11:56:06.256503600Z"
    }
   },
   "id": "13b5cd7f16f8f17e"
  },
  {
   "cell_type": "markdown",
   "source": [
    "**Операции с датафреймами**"
   ],
   "metadata": {
    "collapsed": false
   },
   "id": "163f6800d8631028"
  },
  {
   "cell_type": "code",
   "execution_count": 24,
   "outputs": [
    {
     "name": "stdout",
     "output_type": "stream",
     "text": [
      "      Name  Age  Rating\n",
      "0      Tom   25    4.23\n",
      "1    James   26    3.24\n",
      "2    Ricky   25    3.98\n",
      "3      Vin   23    2.56\n",
      "4    Steve   30    3.20\n",
      "5    Smith   29    4.60\n",
      "6     Jack   23    3.80\n",
      "7      Lee   34    3.78\n",
      "8    David   40    2.98\n",
      "9   Gasper   30    4.80\n",
      "10  Betina   51    4.10\n",
      "11  Andres   46    3.65\n",
      "------------------**sum**---------------------\n",
      "Name      TomJamesRickyVinSteveSmithJackLeeDavidGasperBe...\n",
      "Age                                                     382\n",
      "Rating                                                44.92\n",
      "dtype: object\n",
      "------------------**mean**---------------------\n",
      "31.833333333333332\n",
      "3.7433333333333327\n",
      "------------------**mode**---------------------\n",
      "0    23\n",
      "1    25\n",
      "2    30\n",
      "Name: Age, dtype: int64\n",
      "0     2.56\n",
      "1     2.98\n",
      "2     3.20\n",
      "3     3.24\n",
      "4     3.65\n",
      "5     3.78\n",
      "6     3.80\n",
      "7     3.98\n",
      "8     4.10\n",
      "9     4.23\n",
      "10    4.60\n",
      "11    4.80\n",
      "Name: Rating, dtype: float64\n",
      "------------------**median**---------------------\n",
      "29.5\n",
      "3.79\n",
      "------------------**std**---------------------\n",
      "9.232682396921506\n",
      "0.6616279280316959\n",
      "------------------**describe**---------------------\n",
      "             Age     Rating\n",
      "count  12.000000  12.000000\n",
      "mean   31.833333   3.743333\n",
      "std     9.232682   0.661628\n",
      "min    23.000000   2.560000\n",
      "25%    25.000000   3.230000\n",
      "50%    29.500000   3.790000\n",
      "75%    35.500000   4.132500\n",
      "max    51.000000   4.800000\n",
      "------------------**max**---------------------\n",
      "Name      Vin\n",
      "Age        51\n",
      "Rating    4.8\n",
      "dtype: object\n",
      "------------------**min**---------------------\n",
      "Name      Andres\n",
      "Age           23\n",
      "Rating      2.56\n",
      "dtype: object\n"
     ]
    }
   ],
   "source": [
    "import pandas as pd\n",
    "\n",
    "d = {'Name': pd.Series(['Tom', 'James', 'Ricky', 'Vin', 'Steve', 'Smith', 'Jack',\n",
    "                        'Lee', 'David', 'Gasper', 'Betina', 'Andres']),\n",
    "     'Age': pd.Series([25, 26, 25, 23, 30, 29, 23, 34, 40, 30, 51, 46]),\n",
    "     'Rating': pd.Series([4.23, 3.24, 3.98, 2.56, 3.20, 4.6, 3.8, 3.78, 2.98, 4.80, 4.10, 3.65])\n",
    "     }\n",
    "\n",
    "# Создаем датафрейм\n",
    "df = pd.DataFrame(d)\n",
    "print(df)\n",
    "print(\"------------------**sum**---------------------\")\n",
    "print(df.sum())\n",
    "print(\"------------------**mean**---------------------\")\n",
    "print(df.Age.mean())\n",
    "print(df.Rating.mean())\n",
    "print(\"------------------**mode**---------------------\")\n",
    "print(df.Age.mode())\n",
    "print(df.Rating.mode())\n",
    "print(\"------------------**median**---------------------\")\n",
    "print(df.Age.median())\n",
    "print(df.Rating.median())\n",
    "print(\"------------------**std**---------------------\")\n",
    "print(df.Age.std())\n",
    "print(df.Rating.std())\n",
    "print(\"------------------**describe**---------------------\")\n",
    "print(df.describe())\n",
    "print(\"------------------**max**---------------------\")\n",
    "print(df.max())\n",
    "print(\"------------------**min**---------------------\")\n",
    "print(df.min())"
   ],
   "metadata": {
    "collapsed": false,
    "ExecuteTime": {
     "end_time": "2024-01-14T12:00:46.613337900Z",
     "start_time": "2024-01-14T12:00:46.577603300Z"
    }
   },
   "id": "695b1513022a8abd"
  },
  {
   "cell_type": "markdown",
   "source": [
    "# Манипуляции с данными\n",
    "\n",
    "- Добавление/удаление столбцов\n",
    "- Агрегирование данных\n",
    "- Группировка и сводные таблицы"
   ],
   "metadata": {
    "collapsed": false
   },
   "id": "1f2c83132b50a144"
  },
  {
   "cell_type": "code",
   "execution_count": 25,
   "outputs": [
    {
     "name": "stdout",
     "output_type": "stream",
     "text": [
      "      Name  Age\n",
      "0    Alice   20\n",
      "1      Bob   35\n",
      "2  Charlie   27\n"
     ]
    }
   ],
   "source": [
    "import pandas as pd\n",
    "\n",
    "data = {'Name': ['Alice', 'Bob', 'Charlie'],\n",
    "        'Age': [20, 35, 27]}\n",
    "df = pd.DataFrame(data)\n",
    "print(df)"
   ],
   "metadata": {
    "collapsed": false,
    "ExecuteTime": {
     "end_time": "2024-01-14T12:03:31.888587Z",
     "start_time": "2024-01-14T12:03:31.864280200Z"
    }
   },
   "id": "70087b00ff2c2df3"
  },
  {
   "cell_type": "markdown",
   "source": [
    "Добавление элементов в фрейм данных"
   ],
   "metadata": {
    "collapsed": false
   },
   "id": "66f6fd642f096010"
  },
  {
   "cell_type": "code",
   "execution_count": 31,
   "outputs": [
    {
     "name": "stdout",
     "output_type": "stream",
     "text": [
      "      Name  Age         City\n",
      "0    Alice   20     New York\n",
      "1      Bob   35  Los Angeles\n",
      "2  Charlie   27      Chicago\n"
     ]
    }
   ],
   "source": [
    "df['City'] = ['New York', 'Los Angeles', 'Chicago']\n",
    "print(df)"
   ],
   "metadata": {
    "collapsed": false,
    "ExecuteTime": {
     "end_time": "2024-01-14T12:04:28.931623Z",
     "start_time": "2024-01-14T12:04:28.921887900Z"
    }
   },
   "id": "7068bbcb165bbf7"
  },
  {
   "cell_type": "code",
   "execution_count": 32,
   "outputs": [
    {
     "name": "stdout",
     "output_type": "stream",
     "text": [
      "      Name  Age\n",
      "0    Alice   20\n",
      "1      Bob   35\n",
      "2  Charlie   27\n"
     ]
    }
   ],
   "source": [
    "df = df.drop('City', axis=1)\n",
    "print(df)"
   ],
   "metadata": {
    "collapsed": false,
    "ExecuteTime": {
     "end_time": "2024-01-14T12:04:29.890418700Z",
     "start_time": "2024-01-14T12:04:29.882728300Z"
    }
   },
   "id": "77ef0b2cf5011af8"
  },
  {
   "cell_type": "markdown",
   "source": [
    "# Сводные таблицы"
   ],
   "metadata": {
    "collapsed": false
   },
   "id": "131edc05b0fd2ab"
  },
  {
   "cell_type": "code",
   "execution_count": 45,
   "outputs": [],
   "source": [
    "import pandas as pd\n",
    "\n",
    "data = {'Category': ['A', 'B', 'A', 'B', 'A', 'B'],\n",
    "        'Value': [10, 20, 15, 25, 30, 35]}\n",
    "df = pd.DataFrame(data)"
   ],
   "metadata": {
    "collapsed": false,
    "ExecuteTime": {
     "end_time": "2024-01-14T12:09:06.491901400Z",
     "start_time": "2024-01-14T12:09:06.465587Z"
    }
   },
   "id": "ac5e640eec6de027"
  },
  {
   "cell_type": "code",
   "execution_count": 46,
   "outputs": [
    {
     "name": "stdout",
     "output_type": "stream",
     "text": [
      "          Value\n",
      "Category       \n",
      "A            55\n",
      "B            80\n"
     ]
    }
   ],
   "source": [
    "pivot_table = df.pivot_table(index='Category', values='Value', aggfunc='sum')  # Найдем сумму по каждой категории\n",
    "print(pivot_table)"
   ],
   "metadata": {
    "collapsed": false,
    "ExecuteTime": {
     "end_time": "2024-01-14T12:09:06.866636700Z",
     "start_time": "2024-01-14T12:09:06.856371200Z"
    }
   },
   "id": "6613ca3d29a16fe7"
  },
  {
   "cell_type": "code",
   "execution_count": 48,
   "outputs": [
    {
     "name": "stdout",
     "output_type": "stream",
     "text": [
      "              Value\n",
      "Category           \n",
      "A         18.333333\n",
      "B         26.666667\n"
     ]
    }
   ],
   "source": [
    "pivot_table = df.pivot_table(index='Category', values='Value', aggfunc='mean')  # Найдем среднее по каждой категории\n",
    "print(pivot_table)"
   ],
   "metadata": {
    "collapsed": false,
    "ExecuteTime": {
     "end_time": "2024-01-14T12:09:14.900322800Z",
     "start_time": "2024-01-14T12:09:14.872068Z"
    }
   },
   "id": "5f0de2c73d2810bd"
  },
  {
   "cell_type": "markdown",
   "source": [
    "# Основные операции с фреймами данных\n",
    "\n",
    "- Выбор столбцов\n",
    "- Фильтрация данных\n",
    "- Сортировка данных\n",
    "- Описательная статистика"
   ],
   "metadata": {
    "collapsed": false
   },
   "id": "75a210270b44492a"
  },
  {
   "cell_type": "code",
   "execution_count": 49,
   "outputs": [
    {
     "name": "stdout",
     "output_type": "stream",
     "text": [
      "0      Alice\n",
      "1        Bob\n",
      "2    Charlie\n",
      "Name: Name, dtype: object\n",
      "-------------------------\n",
      "      Name  Age\n",
      "0    Alice   20\n",
      "1      Bob   35\n",
      "2  Charlie   27\n"
     ]
    }
   ],
   "source": [
    "# Выбор столбца\n",
    "import pandas as pd\n",
    "\n",
    "data = {'Name': ['Alice', 'Bob', 'Charlie'],\n",
    "        'Age': [20, 35, 27],\n",
    "        'City': ['New York', 'Los Angeles', 'Chicago']}\n",
    "df = pd.DataFrame(data)\n",
    "df1 = df['Name']\n",
    "df2 = df[['Name', 'Age']]\n",
    "\n",
    "print(df1)\n",
    "print(\"-\" * 25)\n",
    "print(df2)"
   ],
   "metadata": {
    "collapsed": false,
    "ExecuteTime": {
     "end_time": "2024-01-14T12:09:16.570303600Z",
     "start_time": "2024-01-14T12:09:16.560401300Z"
    }
   },
   "id": "dfc0de66746efb37"
  },
  {
   "cell_type": "code",
   "execution_count": 50,
   "outputs": [
    {
     "name": "stdout",
     "output_type": "stream",
     "text": [
      "  Name  Age         City\n",
      "1  Bob   35  Los Angeles\n",
      "-------------------------\n",
      "Empty DataFrame\n",
      "Columns: [Name, Age, City]\n",
      "Index: []\n"
     ]
    }
   ],
   "source": [
    "# Отфильтруем строки\n",
    "x1 = df[df['Age'] > 30]\n",
    "y1 = df[(df['Age'] > 25) & (df['City'] == 'New York')]\n",
    "print(x1)\n",
    "print(\"-\" * 25)\n",
    "print(y1)"
   ],
   "metadata": {
    "collapsed": false,
    "ExecuteTime": {
     "end_time": "2024-01-14T12:09:40.258443600Z",
     "start_time": "2024-01-14T12:09:40.208762700Z"
    }
   },
   "id": "1c0a6cb4f6bbdc"
  },
  {
   "cell_type": "code",
   "execution_count": 55,
   "outputs": [
    {
     "name": "stdout",
     "output_type": "stream",
     "text": [
      "      Name  Age         City\n",
      "0    Alice   20     New York\n",
      "2  Charlie   27      Chicago\n",
      "1      Bob   35  Los Angeles\n",
      "-------------------------\n",
      "      Name  Age         City\n",
      "2  Charlie   27      Chicago\n",
      "1      Bob   35  Los Angeles\n",
      "0    Alice   20     New York\n"
     ]
    }
   ],
   "source": [
    "# Сортировка данных\n",
    "Q1 = df.sort_values(by='Age')\n",
    "Q2 = df.sort_values(by=['City', 'Age'], ascending=[True, False])\n",
    "\n",
    "print(Q1)\n",
    "print(\"-\" * 25)\n",
    "print(Q2)"
   ],
   "metadata": {
    "collapsed": false,
    "ExecuteTime": {
     "end_time": "2024-01-14T12:11:56.681641600Z",
     "start_time": "2024-01-14T12:11:56.667565400Z"
    }
   },
   "id": "1946aef54d506a4b"
  },
  {
   "cell_type": "markdown",
   "source": [
    "# Для дальнейшей работы скачиваем датасет с Kaggle\n",
    "\n",
    "https://www.kaggle.com/datasets/CooperUnion/anime-recommendations-database"
   ],
   "metadata": {
    "collapsed": false
   },
   "id": "6ae01dd154136856"
  },
  {
   "cell_type": "code",
   "execution_count": 98,
   "outputs": [],
   "source": [
    "import pandas as pd\n",
    "import numpy as np\n",
    "\n",
    "anime = pd.read_csv(\n",
    "    'anim_recom/anime.csv')  # Мы можем выгружать данные из csv, excel, sas, json, html, pickle, sql, gbq. Достаточно использовать метод read_* (вместо звёздочки используем наименование необходимого формата)\n",
    "rating = pd.read_csv('anim_recom/rating.csv')\n",
    "anime_modified = anime.set_index('name')"
   ],
   "metadata": {
    "collapsed": false,
    "ExecuteTime": {
     "end_time": "2024-01-14T12:48:18.227619300Z",
     "start_time": "2024-01-14T12:48:16.241596100Z"
    }
   },
   "id": "45631baae0b4600b"
  },
  {
   "cell_type": "code",
   "execution_count": 59,
   "outputs": [
    {
     "data": {
      "text/plain": "   anime_id                              name  \\\n0     32281                    Kimi no Na wa.   \n1      5114  Fullmetal Alchemist: Brotherhood   \n2     28977                          Gintama°   \n\n                                               genre   type episodes  rating  \\\n0               Drama, Romance, School, Supernatural  Movie        1    9.37   \n1  Action, Adventure, Drama, Fantasy, Magic, Mili...     TV       64    9.26   \n2  Action, Comedy, Historical, Parody, Samurai, S...     TV       51    9.25   \n\n   members  \n0   200630  \n1   793665  \n2   114262  ",
      "text/html": "<div>\n<style scoped>\n    .dataframe tbody tr th:only-of-type {\n        vertical-align: middle;\n    }\n\n    .dataframe tbody tr th {\n        vertical-align: top;\n    }\n\n    .dataframe thead th {\n        text-align: right;\n    }\n</style>\n<table border=\"1\" class=\"dataframe\">\n  <thead>\n    <tr style=\"text-align: right;\">\n      <th></th>\n      <th>anime_id</th>\n      <th>name</th>\n      <th>genre</th>\n      <th>type</th>\n      <th>episodes</th>\n      <th>rating</th>\n      <th>members</th>\n    </tr>\n  </thead>\n  <tbody>\n    <tr>\n      <th>0</th>\n      <td>32281</td>\n      <td>Kimi no Na wa.</td>\n      <td>Drama, Romance, School, Supernatural</td>\n      <td>Movie</td>\n      <td>1</td>\n      <td>9.37</td>\n      <td>200630</td>\n    </tr>\n    <tr>\n      <th>1</th>\n      <td>5114</td>\n      <td>Fullmetal Alchemist: Brotherhood</td>\n      <td>Action, Adventure, Drama, Fantasy, Magic, Mili...</td>\n      <td>TV</td>\n      <td>64</td>\n      <td>9.26</td>\n      <td>793665</td>\n    </tr>\n    <tr>\n      <th>2</th>\n      <td>28977</td>\n      <td>Gintama°</td>\n      <td>Action, Comedy, Historical, Parody, Samurai, S...</td>\n      <td>TV</td>\n      <td>51</td>\n      <td>9.25</td>\n      <td>114262</td>\n    </tr>\n  </tbody>\n</table>\n</div>"
     },
     "execution_count": 59,
     "metadata": {},
     "output_type": "execute_result"
    }
   ],
   "source": [
    "anime.head(3)   # head используется для просмотра необходимого количества строк в датасете (С начала датасета)"
   ],
   "metadata": {
    "collapsed": false,
    "ExecuteTime": {
     "end_time": "2024-01-14T12:23:15.310263800Z",
     "start_time": "2024-01-14T12:23:15.287930800Z"
    }
   },
   "id": "4a98312f35caf118"
  },
  {
   "cell_type": "code",
   "execution_count": 63,
   "outputs": [
    {
     "data": {
      "text/plain": "         user_id  anime_id  rating\n7813734    73515     22145      10\n7813735    73516       790       9\n7813736    73516      8074       9",
      "text/html": "<div>\n<style scoped>\n    .dataframe tbody tr th:only-of-type {\n        vertical-align: middle;\n    }\n\n    .dataframe tbody tr th {\n        vertical-align: top;\n    }\n\n    .dataframe thead th {\n        text-align: right;\n    }\n</style>\n<table border=\"1\" class=\"dataframe\">\n  <thead>\n    <tr style=\"text-align: right;\">\n      <th></th>\n      <th>user_id</th>\n      <th>anime_id</th>\n      <th>rating</th>\n    </tr>\n  </thead>\n  <tbody>\n    <tr>\n      <th>7813734</th>\n      <td>73515</td>\n      <td>22145</td>\n      <td>10</td>\n    </tr>\n    <tr>\n      <th>7813735</th>\n      <td>73516</td>\n      <td>790</td>\n      <td>9</td>\n    </tr>\n    <tr>\n      <th>7813736</th>\n      <td>73516</td>\n      <td>8074</td>\n      <td>9</td>\n    </tr>\n  </tbody>\n</table>\n</div>"
     },
     "execution_count": 63,
     "metadata": {},
     "output_type": "execute_result"
    }
   ],
   "source": [
    "rating.tail(3)  #  tail используется для просмотра необходимого количества строк в датасете (С конца датасета)"
   ],
   "metadata": {
    "collapsed": false,
    "ExecuteTime": {
     "end_time": "2024-01-14T12:25:15.368915600Z",
     "start_time": "2024-01-14T12:25:15.326924500Z"
    }
   },
   "id": "63c768fcc76c45e6"
  },
  {
   "cell_type": "code",
   "execution_count": 66,
   "outputs": [
    {
     "data": {
      "text/plain": "3"
     },
     "execution_count": 66,
     "metadata": {},
     "output_type": "execute_result"
    }
   ],
   "source": [
    "len(df)     # Подсчёт кол-ва строк в датасете"
   ],
   "metadata": {
    "collapsed": false,
    "ExecuteTime": {
     "end_time": "2024-01-14T12:26:07.050521900Z",
     "start_time": "2024-01-14T12:26:07.015107900Z"
    }
   },
   "id": "1dc9f881767ee3fc"
  },
  {
   "cell_type": "code",
   "execution_count": 67,
   "outputs": [
    {
     "data": {
      "text/plain": "      Name  Age         City\n0    Alice   20     New York\n1      Bob   35  Los Angeles\n2  Charlie   27      Chicago",
      "text/html": "<div>\n<style scoped>\n    .dataframe tbody tr th:only-of-type {\n        vertical-align: middle;\n    }\n\n    .dataframe tbody tr th {\n        vertical-align: top;\n    }\n\n    .dataframe thead th {\n        text-align: right;\n    }\n</style>\n<table border=\"1\" class=\"dataframe\">\n  <thead>\n    <tr style=\"text-align: right;\">\n      <th></th>\n      <th>Name</th>\n      <th>Age</th>\n      <th>City</th>\n    </tr>\n  </thead>\n  <tbody>\n    <tr>\n      <th>0</th>\n      <td>Alice</td>\n      <td>20</td>\n      <td>New York</td>\n    </tr>\n    <tr>\n      <th>1</th>\n      <td>Bob</td>\n      <td>35</td>\n      <td>Los Angeles</td>\n    </tr>\n    <tr>\n      <th>2</th>\n      <td>Charlie</td>\n      <td>27</td>\n      <td>Chicago</td>\n    </tr>\n  </tbody>\n</table>\n</div>"
     },
     "execution_count": 67,
     "metadata": {},
     "output_type": "execute_result"
    }
   ],
   "source": [
    "df"
   ],
   "metadata": {
    "collapsed": false,
    "ExecuteTime": {
     "end_time": "2024-01-14T12:26:07.568020200Z",
     "start_time": "2024-01-14T12:26:07.529876500Z"
    }
   },
   "id": "f2d448e4eec6f340"
  },
  {
   "cell_type": "code",
   "execution_count": 122,
   "outputs": [
    {
     "data": {
      "text/plain": "73515"
     },
     "execution_count": 122,
     "metadata": {},
     "output_type": "execute_result"
    }
   ],
   "source": [
    "rating['user_id'].nunique()    # Подсчёт кол-ва уникальных значений"
   ],
   "metadata": {
    "collapsed": false,
    "ExecuteTime": {
     "end_time": "2024-01-14T14:22:43.197787800Z",
     "start_time": "2024-01-14T14:22:43.093073100Z"
    }
   },
   "id": "8824c3094a815853"
  },
  {
   "cell_type": "code",
   "execution_count": 70,
   "outputs": [
    {
     "name": "stdout",
     "output_type": "stream",
     "text": [
      "<class 'pandas.core.frame.DataFrame'>\n",
      "RangeIndex: 12294 entries, 0 to 12293\n",
      "Data columns (total 7 columns):\n",
      " #   Column    Non-Null Count  Dtype  \n",
      "---  ------    --------------  -----  \n",
      " 0   anime_id  12294 non-null  int64  \n",
      " 1   name      12294 non-null  object \n",
      " 2   genre     12232 non-null  object \n",
      " 3   type      12269 non-null  object \n",
      " 4   episodes  12294 non-null  object \n",
      " 5   rating    12064 non-null  float64\n",
      " 6   members   12294 non-null  int64  \n",
      "dtypes: float64(1), int64(2), object(4)\n",
      "memory usage: 672.5+ KB\n"
     ]
    }
   ],
   "source": [
    "anime.info()    # Краткая сводка о датасете"
   ],
   "metadata": {
    "collapsed": false,
    "ExecuteTime": {
     "end_time": "2024-01-14T12:27:16.850808600Z",
     "start_time": "2024-01-14T12:27:16.791104100Z"
    }
   },
   "id": "c47ecb62ecf90515"
  },
  {
   "cell_type": "code",
   "execution_count": 74,
   "outputs": [
    {
     "data": {
      "text/plain": "           anime_id        rating       members\ncount  12294.000000  12064.000000  1.229400e+04\nmean   14058.221653      6.473902  1.807134e+04\nstd    11455.294701      1.026746  5.482068e+04\nmin        1.000000      1.670000  5.000000e+00\n25%     3484.250000      5.880000  2.250000e+02\n50%    10260.500000      6.570000  1.550000e+03\n75%    24794.500000      7.180000  9.437000e+03\nmax    34527.000000     10.000000  1.013917e+06",
      "text/html": "<div>\n<style scoped>\n    .dataframe tbody tr th:only-of-type {\n        vertical-align: middle;\n    }\n\n    .dataframe tbody tr th {\n        vertical-align: top;\n    }\n\n    .dataframe thead th {\n        text-align: right;\n    }\n</style>\n<table border=\"1\" class=\"dataframe\">\n  <thead>\n    <tr style=\"text-align: right;\">\n      <th></th>\n      <th>anime_id</th>\n      <th>rating</th>\n      <th>members</th>\n    </tr>\n  </thead>\n  <tbody>\n    <tr>\n      <th>count</th>\n      <td>12294.000000</td>\n      <td>12064.000000</td>\n      <td>1.229400e+04</td>\n    </tr>\n    <tr>\n      <th>mean</th>\n      <td>14058.221653</td>\n      <td>6.473902</td>\n      <td>1.807134e+04</td>\n    </tr>\n    <tr>\n      <th>std</th>\n      <td>11455.294701</td>\n      <td>1.026746</td>\n      <td>5.482068e+04</td>\n    </tr>\n    <tr>\n      <th>min</th>\n      <td>1.000000</td>\n      <td>1.670000</td>\n      <td>5.000000e+00</td>\n    </tr>\n    <tr>\n      <th>25%</th>\n      <td>3484.250000</td>\n      <td>5.880000</td>\n      <td>2.250000e+02</td>\n    </tr>\n    <tr>\n      <th>50%</th>\n      <td>10260.500000</td>\n      <td>6.570000</td>\n      <td>1.550000e+03</td>\n    </tr>\n    <tr>\n      <th>75%</th>\n      <td>24794.500000</td>\n      <td>7.180000</td>\n      <td>9.437000e+03</td>\n    </tr>\n    <tr>\n      <th>max</th>\n      <td>34527.000000</td>\n      <td>10.000000</td>\n      <td>1.013917e+06</td>\n    </tr>\n  </tbody>\n</table>\n</div>"
     },
     "execution_count": 74,
     "metadata": {},
     "output_type": "execute_result"
    }
   ],
   "source": [
    "anime.describe()    # Вывод статистических сведений о датафрейме"
   ],
   "metadata": {
    "collapsed": false,
    "ExecuteTime": {
     "end_time": "2024-01-14T12:28:57.734442800Z",
     "start_time": "2024-01-14T12:28:57.703934600Z"
    }
   },
   "id": "8be8c0d3134696c"
  },
  {
   "cell_type": "code",
   "execution_count": 75,
   "outputs": [
    {
     "data": {
      "text/plain": "type\nTV         3787\nOVA        3311\nMovie      2348\nSpecial    1676\nONA         659\nMusic       488\nName: count, dtype: int64"
     },
     "execution_count": 75,
     "metadata": {},
     "output_type": "execute_result"
    }
   ],
   "source": [
    "anime.type.value_counts()   # value_counts подсчитывает кол-во значений"
   ],
   "metadata": {
    "collapsed": false,
    "ExecuteTime": {
     "end_time": "2024-01-14T12:35:53.692213900Z",
     "start_time": "2024-01-14T12:35:53.672439500Z"
    }
   },
   "id": "fe54d3b072afccfd"
  },
  {
   "cell_type": "code",
   "execution_count": 76,
   "outputs": [
    {
     "data": {
      "text/plain": "episodes\n1      5677\n2      1076\n12      816\n13      572\n26      514\n       ... \n358       1\n366       1\n201       1\n172       1\n125       1\nName: count, Length: 187, dtype: int64"
     },
     "execution_count": 76,
     "metadata": {},
     "output_type": "execute_result"
    }
   ],
   "source": [
    "anime.episodes.value_counts()"
   ],
   "metadata": {
    "collapsed": false,
    "ExecuteTime": {
     "end_time": "2024-01-14T12:36:37.788217200Z",
     "start_time": "2024-01-14T12:36:37.727812600Z"
    }
   },
   "id": "7ab04181ecc3a925"
  },
  {
   "cell_type": "code",
   "execution_count": 80,
   "outputs": [
    {
     "data": {
      "text/plain": "['Drama, Romance, School, Supernatural',\n 'Action, Adventure, Drama, Fantasy, Magic, Military, Shounen',\n 'Action, Comedy, Historical, Parody, Samurai, Sci-Fi, Shounen',\n 'Sci-Fi, Thriller',\n 'Action, Comedy, Historical, Parody, Samurai, Sci-Fi, Shounen',\n 'Comedy, Drama, School, Shounen, Sports',\n 'Action, Adventure, Shounen, Super Power',\n 'Drama, Military, Sci-Fi, Space',\n 'Action, Comedy, Historical, Parody, Samurai, Sci-Fi, Shounen',\n 'Action, Comedy, Historical, Parody, Samurai, Sci-Fi, Shounen',\n 'Drama, Fantasy, Romance, Slice of Life, Supernatural',\n 'Drama, School, Shounen',\n 'Action, Comedy, Historical, Parody, Samurai, Sci-Fi, Shounen',\n 'Action, Drama, Mecha, Military, Sci-Fi, Super Power',\n 'Comedy, Drama, School, Shounen, Sports',\n 'Adventure, Drama, Supernatural',\n 'Drama, Music, Romance, School, Shounen',\n 'Adventure, Fantasy, Historical, Mystery, Seinen, Slice of Life, Supernatural',\n 'Fantasy, Slice of Life',\n 'Action, Mecha, Military, School, Sci-Fi, Super Power',\n 'Comedy, Drama, Shounen, Sports',\n 'Action, Drama, Historical, Martial Arts, Romance, Samurai',\n 'Action, Adventure, Comedy, Drama, Sci-Fi, Space',\n 'Action, Comedy, Parody, Sci-Fi, Seinen, Super Power, Supernatural',\n 'Action, Adventure, Fantasy',\n 'Comedy, Mystery, Romance, School, Sci-Fi, Supernatural',\n 'Comedy, Mystery, Romance, Supernatural, Vampire',\n 'Adventure, Fantasy, Historical, Mystery, Seinen, Slice of Life, Supernatural',\n 'Adventure, Fantasy, Historical, Mystery, Seinen, Slice of Life, Supernatural',\n 'Action, Adventure, Comedy, Mecha, Sci-Fi',\n 'Comedy, Drama, School, Shounen, Slice of Life',\n 'Drama, Fantasy, Shoujo, Slice of Life, Supernatural',\n 'Comedy, Drama, Shounen, Sports',\n 'Adventure, Fantasy, Historical, Mystery, Seinen, Slice of Life, Supernatural',\n 'Drama, Fantasy, Shoujo, Slice of Life, Supernatural',\n 'Adventure, Drama, Fantasy, Romance',\n 'Action, Fantasy, Supernatural, Thriller',\n 'Action, Mystery, Supernatural, Vampire',\n 'Drama, Horror, Mystery, Police, Psychological, Seinen, Thriller',\n 'Comedy, Drama, Romance, Shounen',\n 'Mystery, Police, Psychological, Supernatural, Thriller',\n 'Comedy, Parody',\n 'Action, Comedy, School, Shounen',\n 'Comedy, Drama, School, Shounen, Sports',\n 'Comedy, Drama, Shounen, Sports',\n 'Action, Drama, Mystery, Romance, Supernatural, Thriller',\n 'Drama, Fantasy, Shoujo, Slice of Life, Supernatural',\n 'Psychological, Seinen, Sports',\n 'Adventure, Fantasy, Historical, Mystery, Seinen, Slice of Life, Supernatural',\n 'Mystery, Psychological, Seinen, Supernatural',\n 'Mystery, Psychological, Romance',\n 'Fantasy, Sci-Fi, Shounen, Slice of Life',\n 'Comedy, Demons, Fantasy, Shoujo, Supernatural',\n 'Drama, Historical, Seinen, Thriller',\n 'Drama, Fantasy, Psychological, Thriller',\n 'Action, Mecha, Sci-Fi, Space, Super Power',\n 'Drama, Fantasy, Shoujo, Slice of Life, Supernatural',\n 'Drama, Slice of Life, Supernatural',\n 'Comedy, School, Shounen, Sports',\n 'Sci-Fi, Thriller',\n 'Drama, Romance, Shoujo, Supernatural',\n 'Ecchi, School, Shounen',\n 'Comedy, Sports',\n 'Action, Comedy, Historical, Parody, Samurai, Sci-Fi, Shounen',\n 'Action, Adventure, Drama, Shounen, Supernatural',\n 'Action, Comedy, Historical, Parody, Samurai, Sci-Fi, Shounen',\n 'Action, Horror, Military, Seinen, Supernatural, Vampire',\n 'Action, Drama, Horror, Psychological, Sci-Fi, Seinen',\n 'Drama, Historical, Josei',\n 'Comedy, Sci-Fi, Seinen, Slice of Life, Space',\n 'Adventure, Supernatural',\n 'Drama, Historical',\n 'Comedy, School, Shounen, Sports',\n 'Comedy, Drama, Romance, Sports',\n 'Action, Adventure, Comedy, Drama, Fantasy, Shounen, Super Power',\n 'Action, Mecha, Military, Mystery, Police, Sci-Fi, Seinen',\n 'Action, Adventure, Comedy, Drama, Shounen, Supernatural',\n 'Action, Mystery, Romance, Supernatural, Thriller',\n 'Action, Historical, Military, Seinen',\n 'Comedy, Drama, School, Shounen, Sports',\n 'Josei, Slice of Life',\n 'Military, School',\n 'Action, Comedy, Slice of Life, Supernatural',\n 'Comedy, Drama, Music, Romance, Shoujo, Slice of Life',\n 'Action, Comedy, Historical, Mystery, Seinen, Supernatural',\n 'Adventure, Fantasy, Historical, Mystery, Seinen, Slice of Life, Supernatural',\n 'Action, Drama, Fantasy, Shounen, Super Power',\n 'Comedy, Drama, Romance, Shounen',\n 'Comedy, Drama, Romance, School, Sports',\n 'Romance, School, Shounen Ai, Slice of Life',\n 'Action, Mecha, Sci-Fi',\n 'Drama, Horror, Mystery, Sci-Fi, Supernatural',\n 'Action, Drama, Military, Sci-Fi, Space',\n 'Drama, Game, Josei, Slice of Life, Sports',\n 'Action, Fantasy, Supernatural',\n 'Action, Adventure, Shounen, Supernatural, Vampire',\n 'Drama, Magic, Psychological, Thriller',\n 'Comedy, School, Slice of Life',\n 'Action, Police, Psychological, Sci-Fi',\n 'Comedy, Slice of Life',\n 'Comedy, School, Shounen, Sports',\n 'Action, Adventure, Fantasy, Magic, Shounen',\n 'Drama, Magic, Psychological, Thriller',\n 'Comedy, Drama, Sports',\n 'Action, Adventure, Comedy, Historical, Samurai, Shounen',\n 'Ecchi, School, Shounen',\n 'Action, Adventure, Historical, Martial Arts, Romance',\n 'Drama, Magic, Psychological, Thriller',\n 'Comedy, Drama, Sports',\n 'Demons, Fantasy, Historical, Horror, Mystery, Seinen, Supernatural',\n 'Comedy, Drama',\n 'Drama, Sports',\n 'Action, Adventure, Shounen, Super Power',\n 'Action, Adventure, Shounen, Supernatural',\n 'Drama, Josei, Music, Romance, School',\n 'Adventure, Comedy, Supernatural',\n 'Action, Mecha, Military, Police, Sci-Fi, Seinen',\n 'Adventure, Fantasy',\n 'Adventure, Comedy, Ecchi, Fantasy, Game, Supernatural',\n 'Adventure, Drama, Historical, Slice of Life',\n 'Action, Comedy, Demons, Fantasy, Martial Arts, School, Shounen',\n 'Action, Adventure, Slice of Life',\n 'Comedy, School, Shounen, Sports',\n 'Comedy, Drama, Josei, Music, Romance, Slice of Life',\n 'Adventure, Fantasy, Historical, Romance',\n 'Action, Fantasy, Shoujo, Supernatural',\n 'Sci-Fi, Thriller',\n 'Action, Fantasy, Magic, Shounen, Supernatural',\n 'Drama, Fantasy',\n 'Mystery, Supernatural, Vampire',\n 'Dementia, Drama, Mecha, Psychological, Sci-Fi',\n 'Comedy, Romance, School, Slice of Life',\n 'Adventure, Drama, Romance, Sci-Fi',\n 'Action, Adventure, Drama, Fantasy, Romance, Shounen',\n 'Comedy, Mystery, Supernatural',\n 'Action, Adventure, Comedy, Historical, Romance, Samurai',\n 'Action, Adventure, Historical, Samurai',\n 'Adventure, Mystery, Police, Shounen',\n 'Action, Fantasy, Magic, Shounen, Supernatural',\n 'Comedy, Drama, Shounen, Sports',\n 'Action, Mecha, Military, Sci-Fi, Shounen, Space',\n 'Action, Adventure, Ecchi, Fantasy, Shounen, Supernatural',\n 'Drama, Fantasy, Shoujo, Slice of Life, Supernatural',\n 'Action, Adventure, Comedy, Drama, Fantasy, Shounen',\n 'Mystery, Psychological, Supernatural, Thriller',\n 'Action, Adventure, Shounen, Super Power',\n 'Action, Adventure, Shounen, Super Power',\n 'Comedy, Demons, Fantasy, Historical, Mystery, Shounen, Supernatural',\n 'Comedy, Drama, Shounen, Sports',\n 'Psychological, Seinen, Sports',\n 'Comedy, Drama, Music, Shounen, Slice of Life',\n 'Action, Adventure, Demons, Drama, Fantasy, Horror, Military, Romance, Seinen, Supernatural',\n 'Action, Drama, Mystery, Sci-Fi, Space',\n 'Drama, Shounen, Sports',\n 'Action, Drama, Mecha, Military, Sci-Fi, Space',\n 'Drama, Fantasy, Shoujo, Slice of Life, Supernatural',\n 'Comedy, Drama, Psychological, Romance',\n 'Adventure, Drama, Historical, Romance, Shoujo',\n 'Comedy, Drama, Romance, School, Slice of Life',\n 'Action, Comedy, Drama, School, Supernatural',\n 'Mystery, Romance, Supernatural, Vampire',\n 'Mystery, Seinen, Supernatural',\n 'Comedy, Shounen, Sports',\n 'Action, Adventure, Comedy, Drama, Fantasy, Shounen',\n 'Comedy, Harem, Romance, School, Shoujo',\n 'Action, Mystery, Police, Shounen',\n 'Action, Mystery, Supernatural',\n 'Comedy, Josei, Music, Romance',\n 'Drama, Romance, Sci-Fi, Seinen, Space',\n 'Music, Sci-Fi',\n 'Adventure, Fantasy, Romance, Sci-Fi',\n 'Action, Comedy, Historical, Parody, Sci-Fi',\n 'Drama, Josei, Romance',\n 'Action, Adventure, Comedy, Demons, Fantasy, Magic, Romance, Shounen, Supernatural',\n 'Fantasy, Historical',\n 'Action, Comedy, Shounen, Super Power',\n 'Comedy, Demons, Fantasy, Historical, Shounen, Supernatural',\n 'Adventure, Fantasy, Historical, Romance',\n 'Action, Comedy, School, Shounen, Super Power',\n 'Comedy, School, Shounen, Slice of Life',\n 'Comedy, Drama, Romance, School, Slice of Life, Supernatural',\n 'Comedy, Drama, Sports',\n 'Action, Adventure, Martial Arts, Shounen, Super Power, Supernatural',\n 'Comedy, School, Shounen',\n 'Comedy, Romance, Shounen',\n 'Comedy, School, Shounen, Slice of Life',\n 'Drama, Psychological, Romance, Slice of Life',\n 'Fantasy, Slice of Life, Supernatural',\n 'Comedy, Drama, Shounen, Sports',\n 'Drama, Mystery, Psychological',\n 'Comedy, Romance, Slice of Life',\n 'Action, Mecha, Police, Psychological, Sci-Fi, Seinen',\n 'Comedy, Music, Slice of Life',\n 'Action, School, Shounen, Sports',\n 'Action, Comedy, Drama, Magic, Super Power',\n 'Action, Adventure, Drama, Fantasy, Historical, Romance',\n 'Sci-Fi, Thriller',\n 'Comedy, Drama, Mystery, Psychological, Supernatural',\n 'Action, Adventure, Demons, Drama, Fantasy, Horror, Military, Seinen, Supernatural',\n 'Drama, Game, Mystery, Psychological, Thriller',\n 'Action, Adventure, Comedy, Drama, Fantasy, Magic, Military, Shounen',\n 'Game, Psychological, Seinen, Thriller',\n 'Action, Adventure, Shounen, Super Power',\n 'Action, Cars, Sci-Fi, Sports',\n 'Drama, Game, Josei, Slice of Life, Sports',\n 'Action, Mystery, Police, Shounen',\n 'Action, Adventure, Comedy, Fantasy, Martial Arts, Shounen, Super Power',\n 'Action, Fantasy, Magic, Shounen, Supernatural',\n 'Drama, Romance, School',\n 'Adventure, Drama, Fantasy, Romance, Slice of Life',\n 'Drama, Fantasy, Romance',\n 'Action, Dementia, Drama, Mecha, Psychological, Sci-Fi',\n 'Action, Adventure, Comedy, Drama, Fantasy, Shounen',\n 'Comedy, Drama',\n 'Action, Comedy, Sci-Fi',\n 'Mystery, Supernatural',\n 'Action, Comedy, Historical, Parody, Samurai, Sci-Fi, Shounen',\n 'Drama, Magic, Psychological, Thriller',\n 'Comedy, Drama, Romance, Shounen Ai',\n 'Comedy, Drama, Romance, School',\n 'Comedy, Romance, School',\n 'Fantasy, Sci-Fi, Shounen, Slice of Life',\n 'Action, Seinen',\n 'Comedy, Drama, Romance, School, Slice of Life, Supernatural',\n 'Comedy, Harem, Romance, Shounen, Supernatural',\n 'Comedy, Sci-Fi',\n 'Action, Comedy, Historical, Mystery, Seinen, Supernatural',\n 'Action, Mystery, Police, Shounen',\n 'Game, Psychological, Seinen, Thriller',\n 'Cars, Seinen, Sports',\n 'Adventure, Mystery, Romance, Sci-Fi',\n 'Action, Adventure, Comedy, Drama, Fantasy, Shounen, Super Power',\n 'Comedy, School, Shounen, Supernatural',\n 'Comedy, Drama, Fantasy, Magic, Romance, Shoujo',\n 'Comedy, Shounen, Sports',\n 'Comedy, Demons, Fantasy, Romance, Shoujo, Supernatural',\n 'Comedy, Drama, Romance, Shoujo',\n 'Comedy, Drama, Shounen, Sports',\n 'Drama, Mystery, Sci-Fi, Supernatural, Thriller',\n 'Adventure, Comedy, Drama, Fantasy, Magic, Romance',\n 'Comedy, Josei, Music, Romance, Slice of Life',\n 'Action, Adventure, Comedy, Drama, Fantasy, Shounen, Super Power',\n 'Comedy, Parody',\n 'Comedy, Sci-Fi, Space',\n 'Drama',\n 'Comedy, Music',\n 'Sci-Fi, Slice of Life',\n 'Sci-Fi, Slice of Life',\n 'Comedy, Romance, School, Shoujo',\n 'Adventure, Sci-Fi, Shounen',\n 'Psychological, Thriller',\n 'Action, Mystery, Sci-Fi, Super Power',\n 'Adventure, Comedy, Mystery, Police, Shounen',\n 'Adventure, Comedy, Mystery, Police, Shounen',\n 'Comedy, School, Shounen, Sports',\n 'Action, Adventure, Comedy, Fantasy, Magic, Shounen',\n 'Drama, Music, School',\n 'Action, Adventure, Drama, Shounen, Supernatural',\n 'Comedy, Drama, Romance, Slice of Life',\n 'Comedy, School, Seinen, Slice of Life',\n 'Action, Comedy, Martial Arts, School, Shounen',\n 'Adventure, Drama, Mecha, Sci-Fi, Shounen',\n 'Comedy, Romance, School',\n 'Action, Cars, Drama, Seinen, Sports',\n 'Comedy, Drama, Romance, Shounen Ai',\n 'Drama, Historical, Romance',\n 'Action, Historical, Military, Seinen',\n 'Comedy, Josei, Slice of Life',\n 'Action, Adventure, Fantasy, Magic, Shounen',\n 'Action, Drama, Mecha, Military, Sci-Fi, Space',\n 'Romance, School, Slice of Life',\n 'Action, Adventure, Martial Arts, Shounen, Super Power, Supernatural',\n 'Action, Adventure, Fantasy, Historical',\n 'Action, Adventure, Comedy, Fantasy, Romance, Shoujo',\n 'Adventure, Comedy, Mystery, Police, Shounen',\n 'Action, Mystery, Supernatural',\n 'Comedy, School, Slice of Life',\n 'Drama, Shoujo',\n 'Drama, Historical, Mystery, Romance',\n 'Comedy, Drama, Shounen, Sports',\n 'Action, Cars, Drama, Seinen, Sports',\n 'Action, Comedy, School, Super Power',\n 'Comedy, Romance, Shoujo',\n 'Dementia, Drama, Horror, Psychological',\n 'Comedy, Fantasy, Magic, Romance',\n 'Sci-Fi, Seinen',\n 'Action, Adventure, Drama, Fantasy, Magic, Mystery, Romance, Shounen, Supernatural',\n 'Drama, Sports',\n 'Action, Adventure, Comedy, Fantasy, Magic, Shounen',\n 'Mecha, Military, Mystery, Police, Sci-Fi, Seinen',\n 'Action, Adventure, Fantasy, Magic, Shounen',\n 'Drama, Fantasy, Psychological, Shoujo',\n 'Action, Comedy, Mecha',\n 'Adventure, Comedy, Mystery, Police, Shounen',\n 'Action, Mecha, Sci-Fi',\n 'Action, Comedy, School',\n 'Action, Drama, Military, Sci-Fi, Space',\n 'Action, Drama, Mystery, Supernatural, Thriller',\n 'Action, Drama, Mecha, Military, Sci-Fi, Space',\n 'Comedy, Mystery, Supernatural',\n 'Comedy, Mystery, Supernatural',\n 'Action, Comedy, School, Shounen',\n 'Fantasy, Sci-Fi, Shounen, Slice of Life',\n 'Romance, School, Shounen, Sports',\n 'Action, Adventure, Comedy, Shounen',\n 'Action, Military, Sci-Fi, Space',\n 'Action, Comedy, Historical, Parody, Samurai, Sci-Fi, Shounen',\n 'Adventure, Comedy, Shounen',\n 'Action, Drama, Mecha, Sci-Fi, Space',\n 'Comedy, Sports',\n 'Adventure, Comedy, Drama, Fantasy, Historical, Romance',\n 'Comedy, Drama, Romance, Shounen Ai',\n 'Drama, Slice of Life, Supernatural',\n 'Adventure, Comedy, Drama, Mystery, Sci-Fi',\n 'Adventure, Drama, Mecha, Romance, Sci-Fi',\n 'Action, Mecha, Mystery, Police, Psychological, Sci-Fi, Seinen',\n 'Action, Comedy, Parody, Samurai',\n 'Comedy, School, Slice of Life',\n 'Comedy, Game, Shounen, Supernatural',\n 'Romance, School, Shoujo, Slice of Life',\n 'Comedy, Drama, Romance, School, Slice of Life, Supernatural',\n 'Drama',\n 'Adventure, Comedy, Drama, Fantasy, Magic, Romance, School, Shoujo',\n 'Drama, Mystery, Romance, Supernatural',\n 'Comedy, School, Shounen, Slice of Life',\n 'Comedy, Drama, Josei, Romance',\n 'Comedy, Drama, Romance, Shoujo',\n 'Music, School, Slice of Life',\n 'Fantasy, Magic',\n 'Comedy, Drama, Romance, Shounen Ai',\n 'Comedy, Romance, Slice of Life',\n 'Action, Seinen',\n 'Action, Mystery, Police, Shounen',\n 'Action, Fantasy, Super Power',\n 'Horror, Mystery, Psychological, Supernatural, Thriller',\n 'Mystery, School, Slice of Life',\n 'Adventure, Drama, Music, Sci-Fi',\n 'Drama, Romance, Slice of Life, Supernatural',\n 'Romance, School, Shoujo, Slice of Life',\n 'Action, Adventure, Shounen, Supernatural',\n 'Action, Fantasy, Seinen, Supernatural',\n 'Comedy, Drama, Mystery, Psychological, Supernatural',\n 'Action, Drama, Fantasy, Magic, Mystery, Psychological, Shounen',\n 'Comedy, Shounen, Slice of Life',\n 'Adventure, Comedy, Mystery, Police, Shounen',\n 'Adventure, Comedy, Mystery, Police, Shounen',\n 'Adventure, Comedy, Fantasy, Martial Arts, Shounen, Super Power',\n 'Comedy, Drama, Slice of Life, Supernatural',\n 'Comedy, Drama, Romance, Shounen Ai',\n 'Action, Adventure, Fantasy, Magic, Supernatural',\n 'Action, Shounen, Sports',\n 'Adventure, Drama, Sci-Fi',\n 'Action, Adventure, Comedy, Fantasy, Shounen, Super Power',\n 'Action, Drama, Seinen, Thriller',\n 'Comedy, Romance, Slice of Life',\n 'Action, Sci-Fi, Super Power',\n 'Drama, Romance, School, Shounen, Slice of Life, Sports',\n 'Comedy, Drama, Shounen, Sports',\n 'Action, Adventure, Horror, Military, Sci-Fi, Supernatural',\n 'Action, Seinen',\n 'Action, Mystery, Supernatural',\n 'Action, Comedy, Historical, Parody, Samurai, Shounen',\n 'School, Slice of Life, Sports',\n 'Comedy, Shounen',\n 'Action, Demons, Shounen, Supernatural',\n 'Fantasy, Horror, Mystery, Psychological, Sci-Fi, Thriller',\n 'Comedy, School, Shounen, Sports',\n 'Comedy, Romance, School, Shounen',\n 'Comedy, Drama, Romance, Shounen Ai',\n 'Drama, Fantasy, Romance, Shoujo',\n 'Drama, Romance, School, Slice of Life',\n 'Action, Adventure, Drama, Shounen',\n 'Action, Cars, Drama, Seinen, Sports',\n 'Comedy, Music, School, Slice of Life',\n 'Action, Adventure, Fantasy, Game, Magic, Shounen',\n 'Comedy, Romance, Shounen Ai',\n 'Adventure, Comedy, Demons, Fantasy, Magic',\n 'Fantasy, Sci-Fi, Shounen, Slice of Life',\n 'Adventure, Comedy, Mystery, Police, Shounen',\n 'Action, Adventure, Comedy, Drama',\n 'Action, Comedy, Historical, Mecha, Parody, Samurai, Sci-Fi, Shounen',\n 'Adventure, Comedy, Romance, Shounen',\n 'Comedy, Demons, Fantasy, Romance, Shoujo, Supernatural',\n 'Drama, Mystery, Seinen, Supernatural',\n 'Adventure, Drama, Mecha, Military, Romance, Sci-Fi',\n 'Action, Adventure, Fantasy, Kids',\n 'Comedy, Demons, Shounen, Supernatural',\n 'Adventure, Drama, Psychological, Sci-Fi, Supernatural',\n 'Action, Horror, Mystery, Seinen, Supernatural',\n 'Action, Sci-Fi, Seinen',\n 'Action, Comedy, Mystery, Shounen',\n 'Action, Mystery, Supernatural',\n 'Drama, Mystery, Romance',\n 'Action, Mecha, Police, Psychological, Sci-Fi, Seinen',\n 'Action, Mecha, Sci-Fi',\n 'Adventure, Romance, Sci-Fi, Shounen, Space',\n 'Action, Cars, Drama, Seinen, Sports',\n 'Comedy, Harem, Romance, Shounen, Supernatural',\n 'Action, Adventure, Shounen',\n 'Comedy, Kids, Sci-Fi, Shounen',\n 'Action, Comedy, Mystery, Super Power',\n 'Comedy, Drama, Romance, School',\n 'Adventure, Drama, Fantasy, Magic, Military, Shounen',\n 'Comedy, Mystery, Supernatural',\n 'Comedy, Drama, Romance, School, Shounen, Slice of Life',\n 'Comedy, Sports',\n 'Comedy, Romance, Shoujo',\n 'Comedy, Drama, Slice of Life',\n 'Action, Adventure, Psychological, Supernatural',\n 'Comedy, Romance',\n 'Comedy, Drama, Mystery, Psychological, Supernatural',\n 'Drama, Romance, Slice of Life',\n 'Action, Horror, Mystery, Psychological',\n 'Drama, Military, Sci-Fi, Space',\n 'Historical, Samurai, Seinen',\n 'Fantasy',\n 'Action, Comedy, Drama, Magic, Super Power',\n 'Drama, Historical, Romance, Samurai, Shounen',\n 'Comedy, School, Slice of Life',\n 'Action, Adventure, Demons, Drama, Fantasy, Horror, Military, Seinen, Supernatural',\n 'Action, Mystery, Sci-Fi, Super Power',\n 'Action, Fantasy',\n 'Action, Historical, Military, Sci-Fi, Space',\n 'Game, Shounen',\n 'Drama, Historical, Romance, Sci-Fi, Shounen Ai',\n 'Action, Comedy, Ecchi, Fantasy, Harem, Mecha, School',\n 'Comedy, Drama, Romance, Shounen Ai',\n 'Comedy, Drama, Fantasy',\n 'Comedy, Drama, Psychological, Seinen',\n 'Action, Mecha, Military, Music, Romance, Sci-Fi, Space',\n 'Adventure, Comedy, Fantasy, Shounen',\n 'Action, Comedy, Shounen, Sports',\n 'Action, Comedy, Sports',\n 'Action, Comedy, Shounen, Sports',\n 'Comedy, Drama, Music, Romance, Shoujo, Supernatural',\n 'Drama, Harem, Psychological, Romance',\n 'Horror, Mystery, Psychological, Supernatural',\n 'Comedy, Drama, Romance, Shounen Ai',\n 'Comedy, Drama, Mystery, Psychological',\n 'Comedy, School, Shounen',\n 'Action, Adventure, Comedy, Fantasy, Shounen, Supernatural',\n 'Action, Comedy, Sci-Fi',\n 'Drama, Fantasy, Mystery, Psychological, Slice of Life',\n 'Comedy, School, Shounen, Sports',\n 'Action, Mecha, Military, Music, Romance, Sci-Fi, Space',\n 'Action, Mystery, Psychological, Shounen, Supernatural, Thriller',\n 'Action, Adventure, Drama, Fantasy, Shoujo',\n 'Comedy, Parody, Seinen, Super Power',\n 'Action, Drama, Military, Sci-Fi, Space',\n 'Action, Drama, Horror, Mystery, Psychological, Seinen, Supernatural',\n 'Josei, Slice of Life',\n 'Kids, School, Shoujo',\n 'Comedy, School, Slice of Life',\n 'Drama, Slice of Life, Supernatural',\n 'Adventure, Comedy, Mystery, Police, Shounen',\n 'Action, Adventure, Comedy, Fantasy, Historical, Samurai, Seinen',\n 'Action, Comedy, Dementia, Mecha, Parody, Sci-Fi',\n 'Action, Mecha, Military',\n 'Action, Comedy, Demons, Fantasy, Historical, Shounen, Supernatural',\n 'Music, School, Slice of Life',\n 'Action, Mecha, Military, Music, Romance, Sci-Fi, Space',\n 'Action, Adventure, Fantasy, Magic, Shounen',\n 'Comedy, Romance, Supernatural',\n 'Adventure, Comedy, Drama, Fantasy, Historical, Romance',\n 'Comedy, Romance, School, Shounen',\n 'Action, Ecchi, Fantasy, School, Shounen, Supernatural, Vampire',\n 'Comedy, Mystery, Parody, School, Sci-Fi, Slice of Life',\n 'Drama, Historical',\n 'Adventure, Comedy, Ecchi',\n 'Drama',\n 'Comedy, Drama, Fantasy, Shoujo',\n 'Action, Mystery, Supernatural, Thriller',\n 'Action, Comedy, Mystery, Shounen',\n 'Comedy, School, Seinen, Slice of Life',\n 'Comedy, School, Shounen, Slice of Life',\n 'Comedy, Shounen',\n 'Action, Comedy, Demons, School, Shounen, Supernatural',\n 'Drama, Game, Mystery, Psychological, Thriller',\n 'Action, Comedy, Supernatural',\n 'Action, Adventure, Seinen',\n 'Action, Comedy, Drama, Magic, Super Power',\n 'Action, Adventure, Fantasy, Game, Magic, Supernatural',\n 'Action, Comedy, School, Shounen, Sports',\n 'Adventure, Drama, Historical, Mystery',\n 'Comedy, Drama, Mystery, Psychological, Supernatural',\n 'Comedy, School, Shoujo Ai, Slice of Life',\n 'Action, Comedy, Martial Arts, Shounen, Super Power',\n 'Historical, Romance, School, Shoujo',\n 'Drama, Historical, Romance, Seinen, Slice of Life',\n 'Mystery, Psychological, Sci-Fi',\n 'Comedy, Drama, Seinen, Slice of Life',\n 'Comedy, Demons, Fantasy, Romance, Shounen',\n 'Drama, Music, School',\n 'Action, Comedy, Drama, Mystery, Romance, Sci-Fi, Thriller',\n 'Adventure, Drama, Historical, Slice of Life',\n 'Adventure, Comedy, Fantasy, Supernatural',\n 'Action, Adventure, Comedy, Drama, Historical, Military, Romance',\n 'Drama, Mecha, Military, Sci-Fi, Space',\n 'Comedy, Ecchi, Romance, School, Seinen',\n 'Adventure, Fantasy, Sci-Fi, Shounen',\n 'Comedy, Parody, School',\n 'Comedy, Parody, Romance, School',\n 'Comedy, Parody, School',\n 'Comedy, Drama, Shoujo',\n 'Drama, Romance, School',\n 'Action, Drama, Historical, Josei, Samurai, Supernatural',\n 'Action, Mystery, Romance, Supernatural, Thriller',\n 'Action, Mecha, Military, Music, Romance, Sci-Fi, Space',\n 'Adventure, Comedy, Romance, Shounen',\n 'Comedy, School, Shounen',\n 'Action, Comedy, Martial Arts, School, Shounen',\n 'Game, Psychological, Seinen, Thriller',\n 'Comedy, Parody, Supernatural',\n 'Action, Demons, Shounen, Super Power',\n 'Romance, Slice of Life',\n 'Action, Adventure, Comedy, Fantasy, Martial Arts, Shounen, Super Power',\n 'Comedy, Slice of Life',\n 'Comedy, School, Slice of Life',\n 'Comedy, Drama, Romance, School, Slice of Life, Supernatural',\n 'Action, Adventure, Drama, Fantasy, Shoujo',\n 'Comedy, Josei, Slice of Life',\n 'Action, Comedy, Mystery, Super Power',\n 'Comedy, Parody, School',\n 'Action, Comedy, Mystery, Shounen',\n 'Adventure, Comedy, Mystery, Police, Shounen',\n 'Comedy, Romance, School',\n 'Action, Mecha, Sci-Fi, Shounen, Super Power',\n 'Comedy, Historical, Parody',\n 'Comedy, Drama, Shoujo',\n 'Comedy, Demons, Fantasy, Shoujo, Supernatural',\n 'Adventure, Comedy, Fantasy, Magic, School',\n 'Drama, School, Shoujo Ai, Slice of Life',\n 'Action, Drama, Mecha, Military, Sci-Fi, Space',\n 'Music',\n 'Adventure, Comedy, Drama, Fantasy, Magic, Romance, Shoujo',\n 'Action, Fantasy, Mecha, Military, Shounen',\n 'Comedy, Drama, Slice of Life',\n 'Comedy, School, Slice of Life',\n 'Action, Drama, Martial Arts, Sci-Fi, Shounen',\n 'Drama, Historical, Shoujo, Slice of Life',\n 'Dementia, Drama, Mystery, Psychological, Sci-Fi, Supernatural',\n 'Mystery, Supernatural, Thriller, Vampire',\n 'Drama, Historical',\n 'Comedy, Romance, School, Super Power',\n 'Adventure, Comedy, Mystery, Police, Shounen',\n 'Adventure, Comedy, Mystery, Police, Shounen',\n 'Action, Mecha, Sci-Fi',\n 'Comedy, Historical, Parody',\n 'Action, Cars, Drama, Seinen, Sports',\n 'Comedy, Sports',\n 'Adventure, Drama, Fantasy',\n 'Action, Adventure, Comedy, Sci-Fi, Space',\n 'Drama, Music, Romance, Slice of Life',\n 'Comedy, Slice of Life',\n 'Action, Adventure, Fantasy, Military',\n 'Action, Adventure, Fantasy, Military',\n 'Comedy, Horror, Mystery, Shoujo, Supernatural',\n 'Action, Drama, Sci-Fi, Seinen, Super Power',\n 'Comedy, School, Slice of Life',\n 'Comedy, Sports',\n 'Adventure, Comedy, Fantasy, Romance, Shoujo',\n 'Action, Adventure, Comedy, Shounen',\n 'Adventure, Drama, Fantasy, Kids',\n 'School, Shoujo, Shoujo Ai, Slice of Life',\n 'Comedy, Military, Parody, Sci-Fi, Space',\n 'Fantasy, Historical, Romance',\n 'Action, Adventure, Demons, Fantasy, Sci-Fi, Shounen, Super Power',\n 'Comedy, Seinen, Slice of Life',\n 'Action, Military, Romance, Sci-Fi, Space',\n 'Action, Comedy, Drama, Mecha, Military, Sci-Fi, Shounen, Space',\n 'Action, Comedy, Military, Romance',\n 'Comedy, Drama, Fantasy, Slice of Life',\n 'Romance, School, Shounen, Sports',\n 'Action, Mecha, Military, Shounen',\n 'Action, Mecha, Military, Super Power',\n 'Comedy, Parody, School',\n 'Action, Adventure, Seinen',\n 'Mystery, Shounen',\n 'Action, Drama, Mecha, Sci-Fi, Space',\n 'Action, Mecha, Shounen, Super Power',\n 'Comedy, Parody, Seinen, Super Power',\n 'Adventure, Mecha, Sci-Fi, Shounen',\n 'Action, Comedy, Shounen, Super Power, Supernatural',\n 'Comedy, Drama, Romance, School, Slice of Life',\n 'Action, Comedy, Mystery, Shounen',\n 'Action, Horror, Mystery, Psychological',\n 'Adventure, Mystery',\n 'Adventure, Comedy, Mystery, Police, Shounen',\n 'Action, Adventure, Comedy, Fantasy, Martial Arts, Shounen, Super Power',\n 'Comedy, Historical, Parody',\n 'Comedy, Slice of Life',\n 'Comedy, Harem, Romance, Shounen, Supernatural',\n 'Action, Fantasy, Supernatural',\n 'Adventure, Comedy, Romance, Shounen',\n 'Action, Adventure, Fantasy, Military',\n 'Drama, Romance, Sci-Fi',\n 'Action, Military, Police, Sci-Fi',\n 'Comedy, Parody, Romance, School',\n 'Action, Mecha, Sci-Fi, Seinen, Space',\n 'Adventure, Comedy, Fantasy, Kids, Slice of Life',\n 'Horror, Mystery, Romance, School, Shounen, Supernatural',\n 'Action, Drama, Fantasy, Horror, Romance, Sci-Fi, Vampire',\n 'Comedy, Shoujo Ai, Slice of Life',\n 'Action, Fantasy, Mecha, Military, Shounen',\n 'Comedy, School, Shounen, Slice of Life',\n 'Adventure, Comedy, Mystery, Police, Shounen',\n 'Adventure, Comedy, Mystery, Police, Shounen',\n 'Action, Fantasy, Super Power',\n 'Comedy, School, Slice of Life, Sports',\n 'Action, Drama, Historical, Josei, Samurai, Supernatural',\n 'Comedy, School, Slice of Life',\n 'Action, Super Power, Supernatural',\n 'Action, Adventure, Sci-Fi',\n 'Comedy, Drama, Romance, School, Slice of Life, Supernatural',\n 'Action, Drama, Mecha, Military, Sci-Fi, Space',\n 'Action, Comedy, Martial Arts, Shounen, Super Power',\n 'Action, Adventure, Comedy, Fantasy, Kids',\n 'Comedy, School, Shoujo Ai, Slice of Life',\n 'Comedy, Parody, School',\n 'Drama, Game, Seinen, Slice of Life',\n 'Action, Drama, Historical',\n 'Drama, Fantasy, Romance, Shoujo',\n 'Action, Adventure, Comedy, Fantasy, Historical, Samurai, Seinen',\n 'Adventure, Fantasy',\n 'Mecha, Military, Police, Psychological, Sci-Fi',\n 'Comedy, Drama, School, Shounen, Sports',\n 'Shounen, Sports',\n 'Comedy, Fantasy, Supernatural',\n 'Comedy, Sci-Fi, Shounen',\n 'Action, Adventure, Comedy, Shounen',\n 'Action, Mecha, Military, Music, Romance, Sci-Fi, Space',\n 'Action, Drama, Mecha, Military, Romance, Sci-Fi, Space',\n 'Comedy, Josei, Music, Romance',\n 'Comedy, Drama, Josei, Romance, Slice of Life',\n 'Adventure, Sci-Fi, Shounen',\n 'Historical, Samurai, Seinen',\n 'Horror, Mystery, Supernatural, Vampire',\n 'Adventure, Comedy, Demons, Fantasy, Magic, Shounen',\n 'Comedy, Ecchi, Harem, Romance, School, Sci-Fi, Shounen',\n 'Action, Mecha',\n 'Action, Drama, Military, Sci-Fi, Space',\n 'Action, Adventure, Drama, Fantasy, Mystery, Sci-Fi',\n 'Action, Comedy, Fantasy, Shoujo',\n 'Action, Demons, Fantasy, Shounen, Supernatural',\n 'Action, Adventure, Demons, Fantasy, Shounen, Super Power, Supernatural',\n 'Adventure, Comedy, Mystery, Police, Shounen',\n 'Mecha, Military, Mystery, Police, Sci-Fi, Seinen',\n 'Comedy, Romance, Seinen',\n 'Drama, Historical',\n 'Action, Comedy, Harem, Parody, Romance',\n 'Comedy, Fantasy, Seinen',\n 'Music',\n 'Adventure, Comedy, Fantasy, Magic, School',\n 'Comedy, Parody, School, Slice of Life',\n 'Action, Cars, Seinen, Sports',\n 'Adventure, Fantasy, Mystery, Shounen, Supernatural',\n 'Historical, Romance',\n 'Action, Adventure, Demons, Fantasy, Military, Seinen, Supernatural',\n 'Cars, Shounen, Sports',\n 'Drama, School, Super Power',\n 'Action, Comedy, Mystery, Shounen',\n 'Adventure, Drama, Fantasy',\n 'Action, Adventure, Comedy, Drama, Seinen',\n 'Adventure, Mystery',\n 'Action, Drama, Mecha, Military, Sci-Fi, Space',\n 'Comedy, Harem, Romance, School, Shounen',\n 'Action, Adventure, Comedy, Fantasy, Kids',\n 'Comedy, Ecchi, Harem, Romance, School, Sci-Fi, Shounen',\n 'Comedy, Harem, Mystery, Romance, School, Shounen, Supernatural',\n 'Drama, Historical, Psychological, Seinen, Thriller',\n 'Adventure, Comedy, Drama, Fantasy',\n 'Comedy, Romance, School, Slice of Life',\n 'Comedy, Kids, Slice of Life',\n 'Drama, Mecha, Sci-Fi, Space',\n 'Adventure, Drama, Sci-Fi, Space',\n 'Drama, Romance, School, Shoujo',\n 'Drama, Romance, Shoujo',\n 'Comedy, School, Slice of Life',\n 'Comedy, School, Slice of Life',\n 'Adventure, Drama, Historical, Kids, Slice of Life',\n 'Action, Adventure',\n 'Cars, Seinen, Sports',\n 'Action, Fantasy, Seinen, Supernatural',\n 'Comedy, Martial Arts, School, Shounen',\n 'Adventure, Fantasy, Shounen, Supernatural',\n 'Comedy, Drama, Romance, School, Shoujo, Slice of Life',\n 'Drama, Magic, Romance, Shoujo',\n 'Action, Adventure, Comedy, Fantasy, Kids',\n 'Drama, Music, Romance, Slice of Life',\n 'Action, Comedy, Fantasy, Magic, School, Shoujo, Slice of Life',\n 'Action, Adventure, Comedy, Demons, Fantasy, Magic, Romance, Shounen, Supernatural',\n 'Adventure, Comedy, Demons, Fantasy, Magic, Romance, Shounen, Supernatural',\n 'Adventure, Comedy, Demons, Drama, Fantasy, Historical, Romance, Shounen, Supernatural',\n 'Comedy, Music, School, Slice of Life',\n 'Drama, Military, Romance, Sci-Fi',\n 'Action, Adventure, Comedy, Mystery, Shounen',\n 'Action, Mecha, Military, Sci-Fi, Space',\n 'Action, Adventure, Drama, Mecha, Military, Sci-Fi, Space',\n 'Action, Adventure, Shounen',\n 'Comedy, School, Shounen, Slice of Life',\n 'Action, Adventure, Comedy, Drama, Romance, Sci-Fi',\n 'Comedy, Shoujo',\n 'Horror, Mystery, School, Supernatural, Thriller',\n 'Action, Comedy, School, Shounen',\n 'Action, Demons, Fantasy, Shounen, Supernatural',\n 'Action, Adventure, Drama, Fantasy, Historical, Shounen',\n 'Comedy, Parody, Shounen, Supernatural',\n 'Drama',\n 'Action, Adventure, Comedy, Fantasy, Romance',\n 'Action, Mystery, Supernatural',\n 'Comedy, Historical, Parody',\n 'Comedy, Music, School, Slice of Life',\n 'Adventure, Comedy, Demons, Fantasy, Shoujo',\n 'Fantasy, Slice of Life, Supernatural',\n 'Adventure, Comedy, Dementia, Psychological, Romance',\n 'Drama, School, Shoujo, Shoujo Ai',\n 'Comedy',\n 'Action, Drama, Fantasy, Shounen, Super Power',\n 'Comedy, Drama, Slice of Life',\n 'Action, Martial Arts, Romance, Shounen, Super Power',\n 'Adventure, Comedy, Drama, Shounen, Supernatural',\n 'Action, Mecha, Military',\n 'Action, Horror, Mystery, Psychological',\n 'Action, Adventure, Drama, Fantasy',\n 'Action, Comedy, Demons, Ecchi, Harem, Romance, School',\n 'Comedy, Romance',\n 'Drama, Military, Police, Psychological, Romance',\n 'Comedy, Music, School, Slice of Life',\n 'Adventure, Drama, Fantasy',\n 'Comedy, Parody, School, Slice of Life',\n 'Action, Drama, Mecha, Military, Sci-Fi, Space',\n 'Action, Drama, Mecha, Military, Sci-Fi, Space',\n 'Adventure, Comedy, Drama, Music, School, Seinen',\n 'Comedy, Fantasy, Martial Arts, Slice of Life',\n 'Comedy, Martial Arts, Romance, Shounen',\n 'Action, Mecha, Sci-Fi, Seinen, Space',\n 'Adventure, Comedy, Demons, Fantasy, Magic',\n 'Comedy, Drama, Ecchi, Harem, Romance, Sci-Fi, Shounen, Supernatural',\n 'Action, Drama, Mecha, Military, Sci-Fi, Space',\n 'Comedy, Drama, Mystery, Police, Shounen',\n 'Action, Sci-Fi, Super Power',\n 'Action, Adventure, Drama, Sci-Fi, Seinen, Space',\n 'Comedy, Historical, Romance, School, Shoujo, Slice of Life',\n 'Action, Fantasy, Mecha, Military, Shounen',\n 'Comedy, Shoujo, Slice of Life',\n 'Adventure, Comedy, Mystery, Police, Shounen, Sports',\n 'Comedy, Parody, Slice of Life',\n 'Drama, Historical',\n 'Action, Horror, Military, Seinen, Super Power, Supernatural, Vampire',\n 'Comedy, School, Shounen, Sports',\n 'Action, Mecha, Military, Music, Sci-Fi, Space',\n 'Comedy, School, Seinen, Slice of Life',\n 'Action, Demons, Shounen, Supernatural',\n 'Action, Adventure, Comedy, Fantasy, Shounen, Super Power',\n 'Action, Comedy, Parody, Sci-Fi, Seinen, Super Power, Supernatural',\n 'Action, Military, Romance, Sci-Fi, Space',\n 'Comedy, Ecchi, Harem, Romance, Sci-Fi, Shounen, Supernatural',\n 'Comedy, Sci-Fi, Space',\n 'Comedy, Romance, Seinen',\n 'Adventure, Comedy, Mystery, Police, Shounen',\n 'Action, Drama, Horror, Psychological, Romance, Seinen, Supernatural',\n 'Comedy, Drama, Josei, Romance, Slice of Life',\n 'Drama',\n 'Comedy, Harem, Romance, Shounen, Supernatural',\n 'Comedy, Drama, Romance, School, Shounen, Slice of Life',\n 'Action, Adventure, Ecchi, Magic, Shounen, Supernatural',\n 'Drama, Romance, School, Shoujo, Shoujo Ai',\n 'Adventure, Drama, Mecha, Military, Sci-Fi, Space',\n 'Comedy, Fantasy, Supernatural',\n 'Action, Adventure, Fantasy, Shounen, Supernatural',\n 'Action, Comedy, Parody, Sci-Fi, Seinen, Super Power, Supernatural',\n 'Drama, Fantasy, Historical, Romance',\n 'Comedy, Romance, School, Shounen',\n 'Comedy, Drama, Slice of Life',\n 'Action, Horror, Mystery, Seinen, Supernatural',\n 'Action, Adventure, Fantasy',\n 'Music, Sci-Fi',\n 'Action, Adventure, Horror, Mecha, Psychological, Sci-Fi, Shounen',\n 'Mystery, Police, Psychological, Supernatural, Thriller',\n 'Adventure, Comedy, Mystery, Police, Shounen',\n 'Action, Demons, Drama, Fantasy, Historical, Josei',\n 'Comedy, Fantasy, Supernatural',\n 'Comedy, School, Shounen, Sports',\n 'Drama, Horror, Psychological, Sci-Fi',\n 'Action, Adventure, Martial Arts, Shounen, Super Power',\n 'Action, Drama, Shounen, Supernatural, Vampire',\n 'Action, Military, Romance, Sci-Fi, Space',\n 'Comedy, School, Shounen, Slice of Life',\n 'Action, Adventure, Sci-Fi, Space',\n 'Action, Magic, Sci-Fi, Super Power',\n 'Comedy, Sci-Fi, Slice of Life, Sports',\n 'Comedy, Drama, Shounen, Sports',\n 'Comedy, Shoujo Ai, Slice of Life',\n 'Comedy, Romance, School, Super Power',\n 'Comedy, Slice of Life',\n 'Action, Adventure, Fantasy, Magic, Shounen',\n 'Comedy, Ecchi, Fantasy, Magic, Shounen',\n 'Comedy, School, Slice of Life',\n 'Action',\n 'Drama, Mecha, Mystery, Police, Sci-Fi',\n 'Action, Fantasy, Seinen, Supernatural',\n 'Action, Comedy, Drama, Magic, Seinen',\n 'Action, Military, Romance, Sci-Fi, Space',\n 'Action, Adventure, Comedy, Drama, Shounen, Supernatural',\n 'Action, Adventure, Fantasy, Game, Romance',\n 'Action, Comedy, Sci-Fi',\n 'Demons, Magic, Romance, Shoujo',\n 'Drama, Mecha, Psychological, Sci-Fi',\n 'Action, Military, Sci-Fi',\n 'Action, Mecha, Military, Shounen',\n 'Adventure, Comedy, Kids, Mystery, Police, Shounen',\n 'Adventure, Drama, Fantasy, Shounen',\n 'Action, Fantasy, Shoujo, Supernatural',\n 'Comedy, School, Slice of Life',\n 'Action, Super Power, Supernatural',\n 'Action, Comedy, School, Super Power',\n 'Comedy, Police, Slice of Life',\n 'Drama, Mecha, Military, Romance, Sci-Fi, Space',\n 'Action, Adventure, Mecha, Military, Romance, Sci-Fi, Space',\n 'Comedy, School, Slice of Life',\n 'Comedy, School, Shounen, Sports',\n 'Action, Fantasy, Shounen, Super Power',\n 'Comedy, Ecchi, Harem, Romance, School, Sci-Fi, Shounen',\n 'Comedy, Ecchi, Harem, Romance, School, Sci-Fi, Shounen',\n 'Comedy, Slice of Life',\n 'Shoujo, Slice of Life',\n 'Comedy, Sci-Fi, Shoujo',\n 'Adventure, Comedy, Kids, Sci-Fi',\n 'Drama, Historical, Romance, Seinen, Slice of Life',\n 'Action, Comedy, Mecha, Military, Sci-Fi',\n 'Action, Drama, Sci-Fi, Super Power',\n 'Adventure, Fantasy, Romance',\n 'Adventure, Drama, Fantasy, Military, Sci-Fi',\n 'Mystery, Psychological, Supernatural',\n 'Action, Mystery, Supernatural, Thriller',\n 'Comedy, Drama, Romance, Shounen, Slice of Life',\n 'Comedy, Fantasy',\n 'Action, Drama, Mystery, Supernatural',\n 'Action, Adventure, Comedy, Ecchi, Samurai, Seinen',\n 'Comedy, School, Slice of Life',\n 'Drama, Mecha, Military, Sci-Fi, Space',\n 'Action, Comedy, Martial Arts, Shounen, Super Power',\n 'Comedy, Slice of Life',\n 'Music, Shounen',\n 'Action, Comedy, Mecha, Sci-Fi, Space',\n 'Comedy, School, Super Power',\n 'Action, Drama, Horror, Military, Mystery, Supernatural, Vampire',\n 'Action, Demons, Historical, Romance, Supernatural',\n 'Comedy, Sports',\n 'Comedy, Drama, Fantasy, Romance, Shoujo, Slice of Life',\n 'Comedy, Magic, School, Shoujo',\n 'Comedy, Drama, School, Shounen, Sports',\n 'Drama, School, Slice of Life',\n 'Comedy, Romance, Supernatural',\n 'Drama, Historical, Shoujo, Slice of Life',\n 'Adventure, Fantasy, Romance, Shoujo',\n 'Adventure, Fantasy, Mecha, Romance, Shoujo',\n 'Adventure, Comedy, Mystery, Police, Shounen',\n 'Comedy, Ecchi, Harem, Romance, School, Sci-Fi, Shounen',\n 'Comedy, School, Shounen, Super Power, Supernatural',\n 'Music, School, Shoujo, Slice of Life',\n 'Action, Comedy, School, Supernatural',\n 'Fantasy, Sci-Fi, Shounen, Slice of Life',\n 'Action, Fantasy, Mecha, Military, Shounen',\n 'Comedy, Ecchi, Kids, School, Shounen, Slice of Life',\n 'Mystery, School, Thriller',\n 'Adventure, Comedy, Demons, Fantasy, Magic, Martial Arts, Shounen',\n 'Comedy, Mystery, Romance',\n 'Comedy, Slice of Life',\n 'Comedy, Shounen, Supernatural',\n 'Horror, Mystery, Psychological, Supernatural',\n 'Cars, Seinen, Sports',\n 'Historical, Romance, Shounen',\n 'Action, Comedy, Ecchi, Parody, Supernatural',\n 'Comedy, Seinen, Slice of Life',\n 'Music, Shoujo, Slice of Life, Sports',\n 'Adventure, Comedy, Martial Arts, Romance, Shounen, Supernatural',\n 'Comedy, Slice of Life',\n 'Action, Drama, Fantasy, Romance, School, Supernatural',\n 'Action, Adventure, Fantasy, Magic, Military',\n 'Adventure, Military, Romance',\n 'Action, Super Power, Supernatural',\n 'Action, Horror, Mystery, Seinen, Supernatural',\n 'Drama, Fantasy, Romance, Shoujo',\n 'Drama, Magic, Romance, Shoujo',\n 'Action, Mecha, Military, School, Super Power',\n 'Comedy',\n 'Action, Super Power, Supernatural, Thriller',\n 'Action, Comedy, Drama, Mystery, Romance, Thriller',\n 'Comedy, Slice of Life',\n 'Action, Comedy, Ecchi, Harem, Magic, Supernatural',\n 'Fantasy, Slice of Life, Supernatural',\n 'Action, Adventure, Comedy, Mystery, Shounen',\n 'Comedy, School, Slice of Life',\n 'Drama, Supernatural',\n 'Action, Demons, Shounen, Supernatural',\n 'Action, Adventure, Comedy, Drama, Fantasy, Shounen, Super Power',\n 'Drama, Romance, School, Sci-Fi, Shoujo',\n 'Shounen, Sports',\n 'Action, Adventure, Historical, Magic, Mystery, Sci-Fi',\n 'Action, Ecchi, Fantasy, Romance, School',\n 'Comedy, Drama, Romance, Shounen',\n 'Action, Comedy, Drama, Magic, Seinen',\n 'Comedy, Drama, School, Shounen, Slice of Life, Sports',\n 'Comedy, Romance, School, Shoujo',\n 'Action, Comedy, Harem, Sci-Fi, Shounen, Space',\n 'Action, Drama, Psychological, Sci-Fi',\n 'Action, Adventure, Comedy, Drama, Romance, Sci-Fi',\n 'Action, Drama, Fantasy, Sci-Fi',\n 'Action, Comedy, Ecchi, Shounen, Sports',\n 'Action, Drama',\n 'Action, Adventure, Comedy, Drama',\n 'Adventure, Comedy, Drama, Fantasy, Historical, Magic, Martial Arts, Romance, Shoujo',\n 'Comedy, Slice of Life',\n 'Action, Adventure, Horror, Shounen, Vampire',\n 'Comedy, Mystery, Supernatural',\n 'Action, Drama, Mecha, Military, Sci-Fi',\n 'Comedy, Fantasy, Magic, Shoujo',\n 'Adventure, Comedy, Fantasy, Shounen',\n 'Action, Historical, Martial Arts, Samurai, Super Power',\n 'Action, Adventure, Demons, Fantasy, Magic, Supernatural',\n 'Action, Comedy, Sci-Fi, Shounen, Space',\n 'Comedy, Romance, School, Shoujo, Slice of Life',\n 'Adventure, Ecchi, Fantasy, Magic, Romance',\n 'Romance, School, Shoujo, Slice of Life',\n 'Adventure, Comedy, Drama, Fantasy, Magic, Romance, Shoujo',\n 'Comedy, Romance, School, Slice of Life',\n 'Action, Comedy, Mystery, Seinen, Supernatural',\n 'Action, Mystery, Police, Shounen',\n 'Adventure, Comedy, Fantasy, Kids, Sci-Fi, Shounen',\n 'Comedy, Parody, Slice of Life',\n 'Adventure, Drama, Fantasy, Sci-Fi, Space',\n 'Military, School',\n 'Action, Drama, Historical, Josei, Samurai, Supernatural',\n 'Comedy, Historical, Parody',\n 'Comedy, Romance, Shoujo',\n 'Action, Adventure, Comedy, Shounen',\n 'Magic, Romance, School, Sci-Fi, Supernatural',\n 'Comedy, Demons, Mystery, Shounen, Supernatural',\n 'Adventure, Mystery',\n 'Action, Sci-Fi',\n 'Action, Adventure, Comedy, Fantasy, Shounen, Super Power',\n 'Action, Military, Romance',\n 'Adventure, Fantasy, Shounen, Supernatural',\n 'Action, Super Power, Supernatural',\n 'Action, Adventure, Drama, Mecha, Military, Sci-Fi, Space',\n 'Action, Comedy, Shounen, Super Power, Supernatural',\n 'Comedy, Game, School, Seinen',\n 'Adventure, Comedy, Mystery, Police, Shounen',\n 'Adventure, Comedy, Fantasy, Sci-Fi, Shounen',\n 'Action, Comedy, Fantasy, Magic, School, Shoujo, Slice of Life',\n 'Action, Comedy, Harem, Parody, Romance',\n 'Adventure, Demons, Drama, Fantasy, Historical, Romance, Shounen, Supernatural',\n 'Psychological, Romance, Slice of Life',\n 'Action, Mystery, Romance, Super Power, Thriller',\n 'Adventure, Fantasy, Psychological',\n 'Fantasy, Shounen Ai',\n 'Comedy, School, Shounen, Sports',\n 'Action, Fantasy, Supernatural',\n 'Adventure, Comedy, Fantasy, Magic, Shounen',\n 'Action, Adventure, Comedy, Drama, Fantasy, Shounen',\n 'Action, Drama, Fantasy, Shounen, Super Power',\n 'Comedy, Drama, Music',\n 'Drama, Historical, Music, Romance',\n 'Action, Comedy, Drama, Fantasy',\n 'Action, School, Sci-Fi, Shounen, Supernatural',\n 'Action, Mecha, Sci-Fi, Super Power',\n 'Demons, Magic, Romance, Shoujo',\n 'Drama',\n 'Comedy, Drama, Fantasy, Magic, Shoujo',\n 'Adventure, Comedy, Mystery, Police, Shounen',\n 'Comedy, Drama, Fantasy, Historical, Military, Shounen',\n 'Comedy, Parody, Slice of Life',\n 'Romance, Sci-Fi, Shoujo',\n 'Fantasy, Kids, Magic, Shoujo',\n 'Comedy, Drama, Mystery, Romance, Slice of Life, Thriller',\n 'Comedy, Shounen, Slice of Life, Sports',\n 'Action, Cars, Drama, Seinen, Sports',\n 'Action, Fantasy, Shounen, Super Power, Supernatural, Vampire',\n 'Comedy, Romance, Shounen Ai',\n 'Action, Comedy, Drama, Magic, Super Power',\n 'Drama, Mystery, Police, Psychological, Supernatural, Thriller',\n 'Adventure, Comedy, Fantasy, Kids',\n 'Adventure, Drama, Sci-Fi, Slice of Life',\n 'Action, Fantasy, Seinen, Supernatural',\n 'Action, Historical, Martial Arts, Samurai, Super Power',\n 'Action, Drama, Fantasy, Romance, School, Supernatural',\n 'Action, Drama, Mecha, Military, Sci-Fi',\n 'Adventure, Historical, Sci-Fi',\n 'Action, Adventure, Comedy, Fantasy, Shounen',\n 'Mystery, Supernatural',\n 'Comedy, Ecchi, Kids, School, Shounen, Slice of Life',\n 'Comedy, School, Shounen, Sports',\n 'Adventure, Comedy, Fantasy, Kids, Shounen',\n 'Comedy, Sci-Fi',\n 'Action, Comedy, Drama, Mystery, Shounen, Super Power, Supernatural',\n 'Action, Super Power, Supernatural',\n 'Comedy, Shounen',\n 'Adventure, Comedy, Fantasy, Shounen',\n 'Comedy, Fantasy, Parody, Shounen, Supernatural',\n ...]"
     },
     "execution_count": 80,
     "metadata": {},
     "output_type": "execute_result"
    }
   ],
   "source": [
    "anime['genre'].tolist()     # Мы также можем перевести столбец в список"
   ],
   "metadata": {
    "collapsed": false,
    "ExecuteTime": {
     "end_time": "2024-01-14T12:38:01.250727Z",
     "start_time": "2024-01-14T12:38:01.227356Z"
    }
   },
   "id": "ffae0fb54f35ef97"
  },
  {
   "cell_type": "code",
   "execution_count": 81,
   "outputs": [
    {
     "name": "stdout",
     "output_type": "stream",
     "text": [
      "0                     Drama, Romance, School, Supernatural\n",
      "1        Action, Adventure, Drama, Fantasy, Magic, Mili...\n",
      "2        Action, Comedy, Historical, Parody, Samurai, S...\n",
      "3                                         Sci-Fi, Thriller\n",
      "4        Action, Comedy, Historical, Parody, Samurai, S...\n",
      "                               ...                        \n",
      "12289                                               Hentai\n",
      "12290                                               Hentai\n",
      "12291                                               Hentai\n",
      "12292                                               Hentai\n",
      "12293                                               Hentai\n",
      "Name: genre, Length: 12294, dtype: object\n"
     ]
    }
   ],
   "source": [
    "print(anime['genre'])       # Просмотрим датасет, тот же столбец"
   ],
   "metadata": {
    "collapsed": false,
    "ExecuteTime": {
     "end_time": "2024-01-14T12:38:20.366463800Z",
     "start_time": "2024-01-14T12:38:20.345129500Z"
    }
   },
   "id": "e4745f7609561b47"
  },
  {
   "cell_type": "code",
   "execution_count": 82,
   "outputs": [
    {
     "data": {
      "text/plain": "['anime_id', 'name', 'genre', 'type', 'episodes', 'rating', 'members']"
     },
     "execution_count": 82,
     "metadata": {},
     "output_type": "execute_result"
    }
   ],
   "source": [
    "anime.columns.tolist()      # Можем узнать наименования столбцов"
   ],
   "metadata": {
    "collapsed": false,
    "ExecuteTime": {
     "end_time": "2024-01-14T12:39:17.711196100Z",
     "start_time": "2024-01-14T12:39:17.659620400Z"
    }
   },
   "id": "c81acab28ec84914"
  },
  {
   "cell_type": "code",
   "execution_count": 83,
   "outputs": [
    {
     "data": {
      "text/plain": "                               name   type episodes  rating\n0                    Kimi no Na wa.  Movie        1    9.37\n1  Fullmetal Alchemist: Brotherhood     TV       64    9.26\n2                          Gintama°     TV       51    9.25\n3                       Steins;Gate     TV       24    9.17\n4                     Gintama&#039;     TV       51    9.16",
      "text/html": "<div>\n<style scoped>\n    .dataframe tbody tr th:only-of-type {\n        vertical-align: middle;\n    }\n\n    .dataframe tbody tr th {\n        vertical-align: top;\n    }\n\n    .dataframe thead th {\n        text-align: right;\n    }\n</style>\n<table border=\"1\" class=\"dataframe\">\n  <thead>\n    <tr style=\"text-align: right;\">\n      <th></th>\n      <th>name</th>\n      <th>type</th>\n      <th>episodes</th>\n      <th>rating</th>\n    </tr>\n  </thead>\n  <tbody>\n    <tr>\n      <th>0</th>\n      <td>Kimi no Na wa.</td>\n      <td>Movie</td>\n      <td>1</td>\n      <td>9.37</td>\n    </tr>\n    <tr>\n      <th>1</th>\n      <td>Fullmetal Alchemist: Brotherhood</td>\n      <td>TV</td>\n      <td>64</td>\n      <td>9.26</td>\n    </tr>\n    <tr>\n      <th>2</th>\n      <td>Gintama°</td>\n      <td>TV</td>\n      <td>51</td>\n      <td>9.25</td>\n    </tr>\n    <tr>\n      <th>3</th>\n      <td>Steins;Gate</td>\n      <td>TV</td>\n      <td>24</td>\n      <td>9.17</td>\n    </tr>\n    <tr>\n      <th>4</th>\n      <td>Gintama&amp;#039;</td>\n      <td>TV</td>\n      <td>51</td>\n      <td>9.16</td>\n    </tr>\n  </tbody>\n</table>\n</div>"
     },
     "execution_count": 83,
     "metadata": {},
     "output_type": "execute_result"
    }
   ],
   "source": [
    "anime.drop(['anime_id', 'genre', 'members'], axis=1).head()     # Удаление данных из датафрейма"
   ],
   "metadata": {
    "collapsed": false,
    "ExecuteTime": {
     "end_time": "2024-01-14T12:40:02.632531300Z",
     "start_time": "2024-01-14T12:40:02.582295800Z"
    }
   },
   "id": "126b14a71fd7363e"
  },
  {
   "cell_type": "code",
   "execution_count": 87,
   "outputs": [
    {
     "data": {
      "text/plain": "   anime_id                                               name  \\\n0     32281                                     Kimi no Na wa.   \n1      5114                   Fullmetal Alchemist: Brotherhood   \n2      7785                             Yojouhan Shinwa Taikei   \n3      3297                               Aria The Origination   \n4     30709                   Kamisama Hajimemashita: Kako-hen   \n5      6114                Rainbow: Nisha Rokubou no Shichinin   \n6     31240              Re:Zero kara Hajimeru Isekai Seikatsu   \n7      4565       Tengen Toppa Gurren Lagann Movie: Lagann-hen   \n8      5300                            Zoku Natsume Yuujinchou   \n9      9989  Ano Hi Mita Hana no Namae wo Bokutachi wa Mada...   \n\n                                               genre   type episodes  rating  \\\n0               Drama, Romance, School, Supernatural  Movie        1    9.37   \n1  Action, Adventure, Drama, Fantasy, Magic, Mili...     TV       64    9.26   \n2                    Mystery, Psychological, Romance     TV       11    8.65   \n3            Fantasy, Sci-Fi, Shounen, Slice of Life     TV       13    8.64   \n4      Comedy, Demons, Fantasy, Shoujo, Supernatural    OVA        4    8.64   \n5                Drama, Historical, Seinen, Thriller     TV       26    8.64   \n6            Drama, Fantasy, Psychological, Thriller     TV       25    8.64   \n7          Action, Mecha, Sci-Fi, Space, Super Power  Movie        1    8.64   \n8  Drama, Fantasy, Shoujo, Slice of Life, Superna...     TV       13    8.64   \n9                 Drama, Slice of Life, Supernatural     TV       11    8.62   \n\n   members  \n0   200630  \n1   793665  \n2   122531  \n3    56162  \n4    33422  \n5   139474  \n6   355839  \n7    82253  \n8   114173  \n9   463835  ",
      "text/html": "<div>\n<style scoped>\n    .dataframe tbody tr th:only-of-type {\n        vertical-align: middle;\n    }\n\n    .dataframe tbody tr th {\n        vertical-align: top;\n    }\n\n    .dataframe thead th {\n        text-align: right;\n    }\n</style>\n<table border=\"1\" class=\"dataframe\">\n  <thead>\n    <tr style=\"text-align: right;\">\n      <th></th>\n      <th>anime_id</th>\n      <th>name</th>\n      <th>genre</th>\n      <th>type</th>\n      <th>episodes</th>\n      <th>rating</th>\n      <th>members</th>\n    </tr>\n  </thead>\n  <tbody>\n    <tr>\n      <th>0</th>\n      <td>32281</td>\n      <td>Kimi no Na wa.</td>\n      <td>Drama, Romance, School, Supernatural</td>\n      <td>Movie</td>\n      <td>1</td>\n      <td>9.37</td>\n      <td>200630</td>\n    </tr>\n    <tr>\n      <th>1</th>\n      <td>5114</td>\n      <td>Fullmetal Alchemist: Brotherhood</td>\n      <td>Action, Adventure, Drama, Fantasy, Magic, Mili...</td>\n      <td>TV</td>\n      <td>64</td>\n      <td>9.26</td>\n      <td>793665</td>\n    </tr>\n    <tr>\n      <th>2</th>\n      <td>7785</td>\n      <td>Yojouhan Shinwa Taikei</td>\n      <td>Mystery, Psychological, Romance</td>\n      <td>TV</td>\n      <td>11</td>\n      <td>8.65</td>\n      <td>122531</td>\n    </tr>\n    <tr>\n      <th>3</th>\n      <td>3297</td>\n      <td>Aria The Origination</td>\n      <td>Fantasy, Sci-Fi, Shounen, Slice of Life</td>\n      <td>TV</td>\n      <td>13</td>\n      <td>8.64</td>\n      <td>56162</td>\n    </tr>\n    <tr>\n      <th>4</th>\n      <td>30709</td>\n      <td>Kamisama Hajimemashita: Kako-hen</td>\n      <td>Comedy, Demons, Fantasy, Shoujo, Supernatural</td>\n      <td>OVA</td>\n      <td>4</td>\n      <td>8.64</td>\n      <td>33422</td>\n    </tr>\n    <tr>\n      <th>5</th>\n      <td>6114</td>\n      <td>Rainbow: Nisha Rokubou no Shichinin</td>\n      <td>Drama, Historical, Seinen, Thriller</td>\n      <td>TV</td>\n      <td>26</td>\n      <td>8.64</td>\n      <td>139474</td>\n    </tr>\n    <tr>\n      <th>6</th>\n      <td>31240</td>\n      <td>Re:Zero kara Hajimeru Isekai Seikatsu</td>\n      <td>Drama, Fantasy, Psychological, Thriller</td>\n      <td>TV</td>\n      <td>25</td>\n      <td>8.64</td>\n      <td>355839</td>\n    </tr>\n    <tr>\n      <th>7</th>\n      <td>4565</td>\n      <td>Tengen Toppa Gurren Lagann Movie: Lagann-hen</td>\n      <td>Action, Mecha, Sci-Fi, Space, Super Power</td>\n      <td>Movie</td>\n      <td>1</td>\n      <td>8.64</td>\n      <td>82253</td>\n    </tr>\n    <tr>\n      <th>8</th>\n      <td>5300</td>\n      <td>Zoku Natsume Yuujinchou</td>\n      <td>Drama, Fantasy, Shoujo, Slice of Life, Superna...</td>\n      <td>TV</td>\n      <td>13</td>\n      <td>8.64</td>\n      <td>114173</td>\n    </tr>\n    <tr>\n      <th>9</th>\n      <td>9989</td>\n      <td>Ano Hi Mita Hana no Namae wo Bokutachi wa Mada...</td>\n      <td>Drama, Slice of Life, Supernatural</td>\n      <td>TV</td>\n      <td>11</td>\n      <td>8.62</td>\n      <td>463835</td>\n    </tr>\n  </tbody>\n</table>\n</div>"
     },
     "execution_count": 87,
     "metadata": {},
     "output_type": "execute_result"
    }
   ],
   "source": [
    "# Мы можем и объединять датасеты\n",
    "df1 = anime[0:2]\n",
    "df2 = anime[50:58]\n",
    "pd.concat([df1, df2], ignore_index=True)    # concat объединяет датасеты. Применяется, когда столбцы у датасетов одинаковые"
   ],
   "metadata": {
    "collapsed": false,
    "ExecuteTime": {
     "end_time": "2024-01-14T12:43:47.856687Z",
     "start_time": "2024-01-14T12:43:47.826455300Z"
    }
   },
   "id": "d419354f8dde2fab"
  },
  {
   "cell_type": "code",
   "execution_count": 104,
   "outputs": [
    {
     "data": {
      "text/plain": "   anime_id                              name  \\\n0     32281                    Kimi no Na wa.   \n1      5114  Fullmetal Alchemist: Brotherhood   \n2     28977                          Gintama°   \n3      9253                       Steins;Gate   \n4      9969                     Gintama&#039;   \n\n                                               genre   type episodes  rating  \\\n0               Drama, Romance, School, Supernatural  Movie        1    9.37   \n1  Action, Adventure, Drama, Fantasy, Magic, Mili...     TV       64    9.26   \n2  Action, Comedy, Historical, Parody, Samurai, S...     TV       51    9.25   \n3                                   Sci-Fi, Thriller     TV       24    9.17   \n4  Action, Comedy, Historical, Parody, Samurai, S...     TV       51    9.16   \n\n   members  \n0   200630  \n1   793665  \n2   114262  \n3   673572  \n4   151266  ",
      "text/html": "<div>\n<style scoped>\n    .dataframe tbody tr th:only-of-type {\n        vertical-align: middle;\n    }\n\n    .dataframe tbody tr th {\n        vertical-align: top;\n    }\n\n    .dataframe thead th {\n        text-align: right;\n    }\n</style>\n<table border=\"1\" class=\"dataframe\">\n  <thead>\n    <tr style=\"text-align: right;\">\n      <th></th>\n      <th>anime_id</th>\n      <th>name</th>\n      <th>genre</th>\n      <th>type</th>\n      <th>episodes</th>\n      <th>rating</th>\n      <th>members</th>\n    </tr>\n  </thead>\n  <tbody>\n    <tr>\n      <th>0</th>\n      <td>32281</td>\n      <td>Kimi no Na wa.</td>\n      <td>Drama, Romance, School, Supernatural</td>\n      <td>Movie</td>\n      <td>1</td>\n      <td>9.37</td>\n      <td>200630</td>\n    </tr>\n    <tr>\n      <th>1</th>\n      <td>5114</td>\n      <td>Fullmetal Alchemist: Brotherhood</td>\n      <td>Action, Adventure, Drama, Fantasy, Magic, Mili...</td>\n      <td>TV</td>\n      <td>64</td>\n      <td>9.26</td>\n      <td>793665</td>\n    </tr>\n    <tr>\n      <th>2</th>\n      <td>28977</td>\n      <td>Gintama°</td>\n      <td>Action, Comedy, Historical, Parody, Samurai, S...</td>\n      <td>TV</td>\n      <td>51</td>\n      <td>9.25</td>\n      <td>114262</td>\n    </tr>\n    <tr>\n      <th>3</th>\n      <td>9253</td>\n      <td>Steins;Gate</td>\n      <td>Sci-Fi, Thriller</td>\n      <td>TV</td>\n      <td>24</td>\n      <td>9.17</td>\n      <td>673572</td>\n    </tr>\n    <tr>\n      <th>4</th>\n      <td>9969</td>\n      <td>Gintama&amp;#039;</td>\n      <td>Action, Comedy, Historical, Parody, Samurai, S...</td>\n      <td>TV</td>\n      <td>51</td>\n      <td>9.16</td>\n      <td>151266</td>\n    </tr>\n  </tbody>\n</table>\n</div>"
     },
     "execution_count": 104,
     "metadata": {},
     "output_type": "execute_result"
    }
   ],
   "source": [
    "anime[anime['type'].isin(['TV', 'Movie'])].head()   # isin проверяет, есть ли строки в определенных столбцах"
   ],
   "metadata": {
    "collapsed": false,
    "ExecuteTime": {
     "end_time": "2024-01-14T12:52:18.357703600Z",
     "start_time": "2024-01-14T12:52:18.327065900Z"
    }
   },
   "id": "456f5627edd317b8"
  },
  {
   "cell_type": "code",
   "execution_count": 106,
   "outputs": [
    {
     "data": {
      "text/plain": "   anime_id                                               name  \\\n1      5114                   Fullmetal Alchemist: Brotherhood   \n2     28977                                           Gintama°   \n3      9253                                        Steins;Gate   \n4      9969                                      Gintama&#039;   \n5     32935  Haikyuu!!: Karasuno Koukou VS Shiratorizawa Ga...   \n\n                                               genre type episodes  rating  \\\n1  Action, Adventure, Drama, Fantasy, Magic, Mili...   TV       64    9.26   \n2  Action, Comedy, Historical, Parody, Samurai, S...   TV       51    9.25   \n3                                   Sci-Fi, Thriller   TV       24    9.17   \n4  Action, Comedy, Historical, Parody, Samurai, S...   TV       51    9.16   \n5             Comedy, Drama, School, Shounen, Sports   TV       10    9.15   \n\n   members  \n1   793665  \n2   114262  \n3   673572  \n4   151266  \n5    93351  ",
      "text/html": "<div>\n<style scoped>\n    .dataframe tbody tr th:only-of-type {\n        vertical-align: middle;\n    }\n\n    .dataframe tbody tr th {\n        vertical-align: top;\n    }\n\n    .dataframe thead th {\n        text-align: right;\n    }\n</style>\n<table border=\"1\" class=\"dataframe\">\n  <thead>\n    <tr style=\"text-align: right;\">\n      <th></th>\n      <th>anime_id</th>\n      <th>name</th>\n      <th>genre</th>\n      <th>type</th>\n      <th>episodes</th>\n      <th>rating</th>\n      <th>members</th>\n    </tr>\n  </thead>\n  <tbody>\n    <tr>\n      <th>1</th>\n      <td>5114</td>\n      <td>Fullmetal Alchemist: Brotherhood</td>\n      <td>Action, Adventure, Drama, Fantasy, Magic, Mili...</td>\n      <td>TV</td>\n      <td>64</td>\n      <td>9.26</td>\n      <td>793665</td>\n    </tr>\n    <tr>\n      <th>2</th>\n      <td>28977</td>\n      <td>Gintama°</td>\n      <td>Action, Comedy, Historical, Parody, Samurai, S...</td>\n      <td>TV</td>\n      <td>51</td>\n      <td>9.25</td>\n      <td>114262</td>\n    </tr>\n    <tr>\n      <th>3</th>\n      <td>9253</td>\n      <td>Steins;Gate</td>\n      <td>Sci-Fi, Thriller</td>\n      <td>TV</td>\n      <td>24</td>\n      <td>9.17</td>\n      <td>673572</td>\n    </tr>\n    <tr>\n      <th>4</th>\n      <td>9969</td>\n      <td>Gintama&amp;#039;</td>\n      <td>Action, Comedy, Historical, Parody, Samurai, S...</td>\n      <td>TV</td>\n      <td>51</td>\n      <td>9.16</td>\n      <td>151266</td>\n    </tr>\n    <tr>\n      <th>5</th>\n      <td>32935</td>\n      <td>Haikyuu!!: Karasuno Koukou VS Shiratorizawa Ga...</td>\n      <td>Comedy, Drama, School, Shounen, Sports</td>\n      <td>TV</td>\n      <td>10</td>\n      <td>9.15</td>\n      <td>93351</td>\n    </tr>\n  </tbody>\n</table>\n</div>"
     },
     "execution_count": 106,
     "metadata": {},
     "output_type": "execute_result"
    }
   ],
   "source": [
    "anime[anime['type'] == 'TV'].head()"
   ],
   "metadata": {
    "collapsed": false,
    "ExecuteTime": {
     "end_time": "2024-01-14T12:52:42.408654800Z",
     "start_time": "2024-01-14T12:52:42.356658200Z"
    }
   },
   "id": "2ba1d4a715bc97ae"
  },
  {
   "cell_type": "code",
   "execution_count": 107,
   "outputs": [
    {
     "data": {
      "text/plain": "   anime_id                              name  \\\n1      5114  Fullmetal Alchemist: Brotherhood   \n2     28977                          Gintama°   \n\n                                               genre type episodes  rating  \\\n1  Action, Adventure, Drama, Fantasy, Magic, Mili...   TV       64    9.26   \n2  Action, Comedy, Historical, Parody, Samurai, S...   TV       51    9.25   \n\n   members  \n1   793665  \n2   114262  ",
      "text/html": "<div>\n<style scoped>\n    .dataframe tbody tr th:only-of-type {\n        vertical-align: middle;\n    }\n\n    .dataframe tbody tr th {\n        vertical-align: top;\n    }\n\n    .dataframe thead th {\n        text-align: right;\n    }\n</style>\n<table border=\"1\" class=\"dataframe\">\n  <thead>\n    <tr style=\"text-align: right;\">\n      <th></th>\n      <th>anime_id</th>\n      <th>name</th>\n      <th>genre</th>\n      <th>type</th>\n      <th>episodes</th>\n      <th>rating</th>\n      <th>members</th>\n    </tr>\n  </thead>\n  <tbody>\n    <tr>\n      <th>1</th>\n      <td>5114</td>\n      <td>Fullmetal Alchemist: Brotherhood</td>\n      <td>Action, Adventure, Drama, Fantasy, Magic, Mili...</td>\n      <td>TV</td>\n      <td>64</td>\n      <td>9.26</td>\n      <td>793665</td>\n    </tr>\n    <tr>\n      <th>2</th>\n      <td>28977</td>\n      <td>Gintama°</td>\n      <td>Action, Comedy, Historical, Parody, Samurai, S...</td>\n      <td>TV</td>\n      <td>51</td>\n      <td>9.25</td>\n      <td>114262</td>\n    </tr>\n  </tbody>\n</table>\n</div>"
     },
     "execution_count": 107,
     "metadata": {},
     "output_type": "execute_result"
    }
   ],
   "source": [
    "anime[1:3]  # Срезы датафреймов"
   ],
   "metadata": {
    "collapsed": false,
    "ExecuteTime": {
     "end_time": "2024-01-14T12:53:02.774243Z",
     "start_time": "2024-01-14T12:53:02.707522400Z"
    }
   },
   "id": "dc0059497f7f612e"
  },
  {
   "cell_type": "code",
   "execution_count": 111,
   "outputs": [
    {
     "data": {
      "text/plain": "       anime_id                                     name  \\\n0         32281                           Kimi no Na wa.   \n9078      33607                             Kahei no Umi   \n9595      23005                         Mogura no Motoro   \n10400     30120              Spoon-hime no Swing Kitchen   \n10464     33662  Taka no Tsume 8: Yoshida-kun no X-Files   \n\n                                      genre   type episodes  rating  members  \n0      Drama, Romance, School, Supernatural  Movie        1    9.37   200630  \n9078                             Historical  Movie        1    9.33       44  \n9595                          Slice of Life  Movie        1    9.50       62  \n10400                       Adventure, Kids     TV  Unknown    9.60       47  \n10464                        Comedy, Parody  Movie        1   10.00       13  ",
      "text/html": "<div>\n<style scoped>\n    .dataframe tbody tr th:only-of-type {\n        vertical-align: middle;\n    }\n\n    .dataframe tbody tr th {\n        vertical-align: top;\n    }\n\n    .dataframe thead th {\n        text-align: right;\n    }\n</style>\n<table border=\"1\" class=\"dataframe\">\n  <thead>\n    <tr style=\"text-align: right;\">\n      <th></th>\n      <th>anime_id</th>\n      <th>name</th>\n      <th>genre</th>\n      <th>type</th>\n      <th>episodes</th>\n      <th>rating</th>\n      <th>members</th>\n    </tr>\n  </thead>\n  <tbody>\n    <tr>\n      <th>0</th>\n      <td>32281</td>\n      <td>Kimi no Na wa.</td>\n      <td>Drama, Romance, School, Supernatural</td>\n      <td>Movie</td>\n      <td>1</td>\n      <td>9.37</td>\n      <td>200630</td>\n    </tr>\n    <tr>\n      <th>9078</th>\n      <td>33607</td>\n      <td>Kahei no Umi</td>\n      <td>Historical</td>\n      <td>Movie</td>\n      <td>1</td>\n      <td>9.33</td>\n      <td>44</td>\n    </tr>\n    <tr>\n      <th>9595</th>\n      <td>23005</td>\n      <td>Mogura no Motoro</td>\n      <td>Slice of Life</td>\n      <td>Movie</td>\n      <td>1</td>\n      <td>9.50</td>\n      <td>62</td>\n    </tr>\n    <tr>\n      <th>10400</th>\n      <td>30120</td>\n      <td>Spoon-hime no Swing Kitchen</td>\n      <td>Adventure, Kids</td>\n      <td>TV</td>\n      <td>Unknown</td>\n      <td>9.60</td>\n      <td>47</td>\n    </tr>\n    <tr>\n      <th>10464</th>\n      <td>33662</td>\n      <td>Taka no Tsume 8: Yoshida-kun no X-Files</td>\n      <td>Comedy, Parody</td>\n      <td>Movie</td>\n      <td>1</td>\n      <td>10.00</td>\n      <td>13</td>\n    </tr>\n  </tbody>\n</table>\n</div>"
     },
     "execution_count": 111,
     "metadata": {},
     "output_type": "execute_result"
    }
   ],
   "source": [
    "# Также можем отфильтровать по значению\n",
    "anime[anime['rating'] > 9.3].head()"
   ],
   "metadata": {
    "collapsed": false,
    "ExecuteTime": {
     "end_time": "2024-01-14T12:54:10.363646100Z",
     "start_time": "2024-01-14T12:54:10.319208800Z"
    }
   },
   "id": "230d7dc33ad7be66"
  },
  {
   "cell_type": "code",
   "execution_count": 112,
   "outputs": [
    {
     "data": {
      "text/plain": "       anime_id                                               name  \\\n10464     33662            Taka no Tsume 8: Yoshida-kun no X-Files   \n10400     30120                        Spoon-hime no Swing Kitchen   \n9595      23005                                   Mogura no Motoro   \n0         32281                                     Kimi no Na wa.   \n9078      33607                                       Kahei no Umi   \n...         ...                                                ...   \n12274     34492  Nuki Doki! Tenshi to Akuma no Sakusei Battle -...   \n12279     34491                       Sagurare Otome The Animation   \n12280     34312                                       Saimin Class   \n12282     34388                    Shikkoku no Shaga The Animation   \n12285     34399                                   Taimanin Asagi 3   \n\n                                      genre   type episodes  rating  members  \n10464                        Comedy, Parody  Movie        1   10.00       13  \n10400                       Adventure, Kids     TV  Unknown    9.60       47  \n9595                          Slice of Life  Movie        1    9.50       62  \n0      Drama, Romance, School, Supernatural  Movie        1    9.37   200630  \n9078                             Historical  Movie        1    9.33       44  \n...                                     ...    ...      ...     ...      ...  \n12274                                Hentai    OVA  Unknown     NaN      392  \n12279                                Hentai    OVA        1     NaN       79  \n12280                                Hentai    OVA  Unknown     NaN      240  \n12282                                Hentai    OVA  Unknown     NaN      195  \n12285          Demons, Hentai, Supernatural    OVA  Unknown     NaN      485  \n\n[12294 rows x 7 columns]",
      "text/html": "<div>\n<style scoped>\n    .dataframe tbody tr th:only-of-type {\n        vertical-align: middle;\n    }\n\n    .dataframe tbody tr th {\n        vertical-align: top;\n    }\n\n    .dataframe thead th {\n        text-align: right;\n    }\n</style>\n<table border=\"1\" class=\"dataframe\">\n  <thead>\n    <tr style=\"text-align: right;\">\n      <th></th>\n      <th>anime_id</th>\n      <th>name</th>\n      <th>genre</th>\n      <th>type</th>\n      <th>episodes</th>\n      <th>rating</th>\n      <th>members</th>\n    </tr>\n  </thead>\n  <tbody>\n    <tr>\n      <th>10464</th>\n      <td>33662</td>\n      <td>Taka no Tsume 8: Yoshida-kun no X-Files</td>\n      <td>Comedy, Parody</td>\n      <td>Movie</td>\n      <td>1</td>\n      <td>10.00</td>\n      <td>13</td>\n    </tr>\n    <tr>\n      <th>10400</th>\n      <td>30120</td>\n      <td>Spoon-hime no Swing Kitchen</td>\n      <td>Adventure, Kids</td>\n      <td>TV</td>\n      <td>Unknown</td>\n      <td>9.60</td>\n      <td>47</td>\n    </tr>\n    <tr>\n      <th>9595</th>\n      <td>23005</td>\n      <td>Mogura no Motoro</td>\n      <td>Slice of Life</td>\n      <td>Movie</td>\n      <td>1</td>\n      <td>9.50</td>\n      <td>62</td>\n    </tr>\n    <tr>\n      <th>0</th>\n      <td>32281</td>\n      <td>Kimi no Na wa.</td>\n      <td>Drama, Romance, School, Supernatural</td>\n      <td>Movie</td>\n      <td>1</td>\n      <td>9.37</td>\n      <td>200630</td>\n    </tr>\n    <tr>\n      <th>9078</th>\n      <td>33607</td>\n      <td>Kahei no Umi</td>\n      <td>Historical</td>\n      <td>Movie</td>\n      <td>1</td>\n      <td>9.33</td>\n      <td>44</td>\n    </tr>\n    <tr>\n      <th>...</th>\n      <td>...</td>\n      <td>...</td>\n      <td>...</td>\n      <td>...</td>\n      <td>...</td>\n      <td>...</td>\n      <td>...</td>\n    </tr>\n    <tr>\n      <th>12274</th>\n      <td>34492</td>\n      <td>Nuki Doki! Tenshi to Akuma no Sakusei Battle -...</td>\n      <td>Hentai</td>\n      <td>OVA</td>\n      <td>Unknown</td>\n      <td>NaN</td>\n      <td>392</td>\n    </tr>\n    <tr>\n      <th>12279</th>\n      <td>34491</td>\n      <td>Sagurare Otome The Animation</td>\n      <td>Hentai</td>\n      <td>OVA</td>\n      <td>1</td>\n      <td>NaN</td>\n      <td>79</td>\n    </tr>\n    <tr>\n      <th>12280</th>\n      <td>34312</td>\n      <td>Saimin Class</td>\n      <td>Hentai</td>\n      <td>OVA</td>\n      <td>Unknown</td>\n      <td>NaN</td>\n      <td>240</td>\n    </tr>\n    <tr>\n      <th>12282</th>\n      <td>34388</td>\n      <td>Shikkoku no Shaga The Animation</td>\n      <td>Hentai</td>\n      <td>OVA</td>\n      <td>Unknown</td>\n      <td>NaN</td>\n      <td>195</td>\n    </tr>\n    <tr>\n      <th>12285</th>\n      <td>34399</td>\n      <td>Taimanin Asagi 3</td>\n      <td>Demons, Hentai, Supernatural</td>\n      <td>OVA</td>\n      <td>Unknown</td>\n      <td>NaN</td>\n      <td>485</td>\n    </tr>\n  </tbody>\n</table>\n<p>12294 rows × 7 columns</p>\n</div>"
     },
     "execution_count": 112,
     "metadata": {},
     "output_type": "execute_result"
    }
   ],
   "source": [
    "anime.sort_values('rating', ascending=False)    # Сортировка по значениям столбцов. В данном случае сортируем по рейтингу"
   ],
   "metadata": {
    "collapsed": false,
    "ExecuteTime": {
     "end_time": "2024-01-14T12:54:47.870813800Z",
     "start_time": "2024-01-14T12:54:47.799172500Z"
    }
   },
   "id": "86ab4b4d97224d35"
  },
  {
   "cell_type": "code",
   "execution_count": 114,
   "outputs": [
    {
     "data": {
      "text/plain": "         anime_id  name  genre  episodes  rating  members\ntype                                                     \nMovie        2348  2348   2306      2348    2297     2348\nMusic         488   488    488       488     488      488\nONA           659   659    655       659     652      659\nOVA          3311  3311   3310      3311    3285     3311\nSpecial      1676  1676   1674      1676    1671     1676\nTV           3787  3787   3777      3787    3671     3787",
      "text/html": "<div>\n<style scoped>\n    .dataframe tbody tr th:only-of-type {\n        vertical-align: middle;\n    }\n\n    .dataframe tbody tr th {\n        vertical-align: top;\n    }\n\n    .dataframe thead th {\n        text-align: right;\n    }\n</style>\n<table border=\"1\" class=\"dataframe\">\n  <thead>\n    <tr style=\"text-align: right;\">\n      <th></th>\n      <th>anime_id</th>\n      <th>name</th>\n      <th>genre</th>\n      <th>episodes</th>\n      <th>rating</th>\n      <th>members</th>\n    </tr>\n    <tr>\n      <th>type</th>\n      <th></th>\n      <th></th>\n      <th></th>\n      <th></th>\n      <th></th>\n      <th></th>\n    </tr>\n  </thead>\n  <tbody>\n    <tr>\n      <th>Movie</th>\n      <td>2348</td>\n      <td>2348</td>\n      <td>2306</td>\n      <td>2348</td>\n      <td>2297</td>\n      <td>2348</td>\n    </tr>\n    <tr>\n      <th>Music</th>\n      <td>488</td>\n      <td>488</td>\n      <td>488</td>\n      <td>488</td>\n      <td>488</td>\n      <td>488</td>\n    </tr>\n    <tr>\n      <th>ONA</th>\n      <td>659</td>\n      <td>659</td>\n      <td>655</td>\n      <td>659</td>\n      <td>652</td>\n      <td>659</td>\n    </tr>\n    <tr>\n      <th>OVA</th>\n      <td>3311</td>\n      <td>3311</td>\n      <td>3310</td>\n      <td>3311</td>\n      <td>3285</td>\n      <td>3311</td>\n    </tr>\n    <tr>\n      <th>Special</th>\n      <td>1676</td>\n      <td>1676</td>\n      <td>1674</td>\n      <td>1676</td>\n      <td>1671</td>\n      <td>1676</td>\n    </tr>\n    <tr>\n      <th>TV</th>\n      <td>3787</td>\n      <td>3787</td>\n      <td>3777</td>\n      <td>3787</td>\n      <td>3671</td>\n      <td>3787</td>\n    </tr>\n  </tbody>\n</table>\n</div>"
     },
     "execution_count": 114,
     "metadata": {},
     "output_type": "execute_result"
    }
   ],
   "source": [
    "anime.groupby('type').count()   # Найдём количество элементов в наборе данных по определенным типам"
   ],
   "metadata": {
    "collapsed": false,
    "ExecuteTime": {
     "end_time": "2024-01-14T12:55:51.169011300Z",
     "start_time": "2024-01-14T12:55:51.125922200Z"
    }
   },
   "id": "df289bd050785fad"
  },
  {
   "cell_type": "code",
   "execution_count": 116,
   "outputs": [
    {
     "name": "stderr",
     "output_type": "stream",
     "text": [
      "C:\\Users\\Admin\\AppData\\Local\\Temp\\ipykernel_5300\\4015711106.py:7: FutureWarning: The provided callable <function sum at 0x00000170A4CB3F60> is currently using DataFrameGroupBy.sum. In a future version of pandas, the provided callable will be used directly. To keep current behavior pass the string \"sum\" instead.\n",
      "  pd.pivot_table(tmp_df, values='rating', index=['user_id'], columns=['anime_id'], aggfunc=np.sum, fill_value=0)\n"
     ]
    },
    {
     "data": {
      "text/plain": "anime_id  6   15  17  18  20  22  24\nuser_id                             \n3          0   0   0   0   8   0   0\n5          8   6   6   6   6   5   1\n7          0   0   0   0   0   7   0",
      "text/html": "<div>\n<style scoped>\n    .dataframe tbody tr th:only-of-type {\n        vertical-align: middle;\n    }\n\n    .dataframe tbody tr th {\n        vertical-align: top;\n    }\n\n    .dataframe thead th {\n        text-align: right;\n    }\n</style>\n<table border=\"1\" class=\"dataframe\">\n  <thead>\n    <tr style=\"text-align: right;\">\n      <th>anime_id</th>\n      <th>6</th>\n      <th>15</th>\n      <th>17</th>\n      <th>18</th>\n      <th>20</th>\n      <th>22</th>\n      <th>24</th>\n    </tr>\n    <tr>\n      <th>user_id</th>\n      <th></th>\n      <th></th>\n      <th></th>\n      <th></th>\n      <th></th>\n      <th></th>\n      <th></th>\n    </tr>\n  </thead>\n  <tbody>\n    <tr>\n      <th>3</th>\n      <td>0</td>\n      <td>0</td>\n      <td>0</td>\n      <td>0</td>\n      <td>8</td>\n      <td>0</td>\n      <td>0</td>\n    </tr>\n    <tr>\n      <th>5</th>\n      <td>8</td>\n      <td>6</td>\n      <td>6</td>\n      <td>6</td>\n      <td>6</td>\n      <td>5</td>\n      <td>1</td>\n    </tr>\n    <tr>\n      <th>7</th>\n      <td>0</td>\n      <td>0</td>\n      <td>0</td>\n      <td>0</td>\n      <td>0</td>\n      <td>7</td>\n      <td>0</td>\n    </tr>\n  </tbody>\n</table>\n</div>"
     },
     "execution_count": 116,
     "metadata": {},
     "output_type": "execute_result"
    }
   ],
   "source": [
    "# Создание сводной таблицы\n",
    "tmp_df = rating.copy()  # Скопируем датасет рейтингов в tmp_df\n",
    "tmp_df.sort_values('user_id', ascending=True, inplace=True)     # Отсортируем по user_id\n",
    "tmp_df = tmp_df[tmp_df.user_id < 10]    # Выберем записи с user_id меньше 10\n",
    "tmp_df = tmp_df[tmp_df.anime_id < 30]   # Выберем записи с anime_id меньше 30\n",
    "tmp_df = tmp_df[tmp_df.rating != -1]    # Удалим лишнее (если значение в столбце rating равно -1, то удалим)\n",
    "pd.pivot_table(tmp_df, values='rating', index=['user_id'], columns=['anime_id'], aggfunc=np.sum, fill_value=0)  # fill_value - задаем значение, которое встанет вместо NaN"
   ],
   "metadata": {
    "collapsed": false,
    "ExecuteTime": {
     "end_time": "2024-01-14T12:57:05.707275200Z",
     "start_time": "2024-01-14T12:57:05.109081400Z"
    }
   },
   "id": "8c7d63915d81a7c6"
  },
  {
   "cell_type": "code",
   "execution_count": 118,
   "outputs": [
    {
     "name": "stderr",
     "output_type": "stream",
     "text": [
      "C:\\Users\\Admin\\AppData\\Local\\Temp\\ipykernel_5300\\3955201590.py:1: FutureWarning: The provided callable <function sum at 0x00000170A4CB3F60> is currently using DataFrameGroupBy.sum. In a future version of pandas, the provided callable will be used directly. To keep current behavior pass the string \"sum\" instead.\n",
      "  pivot = pd.pivot_table(tmp_df, values='rating', index=['user_id'], columns=['anime_id'], aggfunc=np.sum)\n"
     ]
    },
    {
     "data": {
      "text/plain": "anime_id   6    15   17   18   20   22   24\nuser_id                                    \n3         NaN  NaN  NaN  NaN  8.0  NaN  NaN\n5         8.0  6.0  6.0  6.0  6.0  5.0  1.0\n7         NaN  NaN  NaN  NaN  NaN  7.0  NaN",
      "text/html": "<div>\n<style scoped>\n    .dataframe tbody tr th:only-of-type {\n        vertical-align: middle;\n    }\n\n    .dataframe tbody tr th {\n        vertical-align: top;\n    }\n\n    .dataframe thead th {\n        text-align: right;\n    }\n</style>\n<table border=\"1\" class=\"dataframe\">\n  <thead>\n    <tr style=\"text-align: right;\">\n      <th>anime_id</th>\n      <th>6</th>\n      <th>15</th>\n      <th>17</th>\n      <th>18</th>\n      <th>20</th>\n      <th>22</th>\n      <th>24</th>\n    </tr>\n    <tr>\n      <th>user_id</th>\n      <th></th>\n      <th></th>\n      <th></th>\n      <th></th>\n      <th></th>\n      <th></th>\n      <th></th>\n    </tr>\n  </thead>\n  <tbody>\n    <tr>\n      <th>3</th>\n      <td>NaN</td>\n      <td>NaN</td>\n      <td>NaN</td>\n      <td>NaN</td>\n      <td>8.0</td>\n      <td>NaN</td>\n      <td>NaN</td>\n    </tr>\n    <tr>\n      <th>5</th>\n      <td>8.0</td>\n      <td>6.0</td>\n      <td>6.0</td>\n      <td>6.0</td>\n      <td>6.0</td>\n      <td>5.0</td>\n      <td>1.0</td>\n    </tr>\n    <tr>\n      <th>7</th>\n      <td>NaN</td>\n      <td>NaN</td>\n      <td>NaN</td>\n      <td>NaN</td>\n      <td>NaN</td>\n      <td>7.0</td>\n      <td>NaN</td>\n    </tr>\n  </tbody>\n</table>\n</div>"
     },
     "execution_count": 118,
     "metadata": {},
     "output_type": "execute_result"
    }
   ],
   "source": [
    "pivot = pd.pivot_table(tmp_df, values='rating', index=['user_id'], columns=['anime_id'], aggfunc=np.sum) \n",
    "pivot"
   ],
   "metadata": {
    "collapsed": false,
    "ExecuteTime": {
     "end_time": "2024-01-14T13:02:49.272676900Z",
     "start_time": "2024-01-14T13:02:49.212578100Z"
    }
   },
   "id": "45e6ee6f40227578"
  },
  {
   "cell_type": "code",
   "execution_count": 119,
   "outputs": [
    {
     "data": {
      "text/plain": "anime_id   6    15   17   18   20   22   24\nuser_id                                    \n3         0.0  0.0  0.0  0.0  8.0  0.0  0.0\n5         8.0  6.0  6.0  6.0  6.0  5.0  1.0\n7         0.0  0.0  0.0  0.0  0.0  7.0  0.0",
      "text/html": "<div>\n<style scoped>\n    .dataframe tbody tr th:only-of-type {\n        vertical-align: middle;\n    }\n\n    .dataframe tbody tr th {\n        vertical-align: top;\n    }\n\n    .dataframe thead th {\n        text-align: right;\n    }\n</style>\n<table border=\"1\" class=\"dataframe\">\n  <thead>\n    <tr style=\"text-align: right;\">\n      <th>anime_id</th>\n      <th>6</th>\n      <th>15</th>\n      <th>17</th>\n      <th>18</th>\n      <th>20</th>\n      <th>22</th>\n      <th>24</th>\n    </tr>\n    <tr>\n      <th>user_id</th>\n      <th></th>\n      <th></th>\n      <th></th>\n      <th></th>\n      <th></th>\n      <th></th>\n      <th></th>\n    </tr>\n  </thead>\n  <tbody>\n    <tr>\n      <th>3</th>\n      <td>0.0</td>\n      <td>0.0</td>\n      <td>0.0</td>\n      <td>0.0</td>\n      <td>8.0</td>\n      <td>0.0</td>\n      <td>0.0</td>\n    </tr>\n    <tr>\n      <th>5</th>\n      <td>8.0</td>\n      <td>6.0</td>\n      <td>6.0</td>\n      <td>6.0</td>\n      <td>6.0</td>\n      <td>5.0</td>\n      <td>1.0</td>\n    </tr>\n    <tr>\n      <th>7</th>\n      <td>0.0</td>\n      <td>0.0</td>\n      <td>0.0</td>\n      <td>0.0</td>\n      <td>0.0</td>\n      <td>7.0</td>\n      <td>0.0</td>\n    </tr>\n  </tbody>\n</table>\n</div>"
     },
     "execution_count": 119,
     "metadata": {},
     "output_type": "execute_result"
    }
   ],
   "source": [
    "pivot.fillna(0)     # Заполним все NaN'ы"
   ],
   "metadata": {
    "collapsed": false,
    "ExecuteTime": {
     "end_time": "2024-01-14T13:02:52.005007100Z",
     "start_time": "2024-01-14T13:02:51.934025900Z"
    }
   },
   "id": "8d268e399978c06c"
  },
  {
   "cell_type": "code",
   "execution_count": 121,
   "outputs": [
    {
     "data": {
      "text/plain": "      anime_id                                               name  \\\n4192      3037                   GS Mikami: Gokuraku Daisakusen!!   \n8461      8879                                       Dolphin Ouji   \n1046     14289                                  Sukitte Ii na yo.   \n2708      8206                Hime Chen! Otogi Chikku Idol Lilpri   \n9270     33880  Kochira Katsushikaku Kameari Kouenmae Hashutsu...   \n\n                                genre     type episodes  rating  members  \n4192                  Comedy, Fantasy    Movie        1    6.78     1228  \n8461  Action, Adventure, Kids, Sci-Fi       TV        3    5.58      127  \n1046          Romance, School, Shoujo       TV       13    7.71   233410  \n2708                    Magic, Shoujo       TV       51    7.18     6118  \n9270                   Comedy, Police  Special        2    6.64      105  ",
      "text/html": "<div>\n<style scoped>\n    .dataframe tbody tr th:only-of-type {\n        vertical-align: middle;\n    }\n\n    .dataframe tbody tr th {\n        vertical-align: top;\n    }\n\n    .dataframe thead th {\n        text-align: right;\n    }\n</style>\n<table border=\"1\" class=\"dataframe\">\n  <thead>\n    <tr style=\"text-align: right;\">\n      <th></th>\n      <th>anime_id</th>\n      <th>name</th>\n      <th>genre</th>\n      <th>type</th>\n      <th>episodes</th>\n      <th>rating</th>\n      <th>members</th>\n    </tr>\n  </thead>\n  <tbody>\n    <tr>\n      <th>4192</th>\n      <td>3037</td>\n      <td>GS Mikami: Gokuraku Daisakusen!!</td>\n      <td>Comedy, Fantasy</td>\n      <td>Movie</td>\n      <td>1</td>\n      <td>6.78</td>\n      <td>1228</td>\n    </tr>\n    <tr>\n      <th>8461</th>\n      <td>8879</td>\n      <td>Dolphin Ouji</td>\n      <td>Action, Adventure, Kids, Sci-Fi</td>\n      <td>TV</td>\n      <td>3</td>\n      <td>5.58</td>\n      <td>127</td>\n    </tr>\n    <tr>\n      <th>1046</th>\n      <td>14289</td>\n      <td>Sukitte Ii na yo.</td>\n      <td>Romance, School, Shoujo</td>\n      <td>TV</td>\n      <td>13</td>\n      <td>7.71</td>\n      <td>233410</td>\n    </tr>\n    <tr>\n      <th>2708</th>\n      <td>8206</td>\n      <td>Hime Chen! Otogi Chikku Idol Lilpri</td>\n      <td>Magic, Shoujo</td>\n      <td>TV</td>\n      <td>51</td>\n      <td>7.18</td>\n      <td>6118</td>\n    </tr>\n    <tr>\n      <th>9270</th>\n      <td>33880</td>\n      <td>Kochira Katsushikaku Kameari Kouenmae Hashutsu...</td>\n      <td>Comedy, Police</td>\n      <td>Special</td>\n      <td>2</td>\n      <td>6.64</td>\n      <td>105</td>\n    </tr>\n  </tbody>\n</table>\n</div>"
     },
     "execution_count": 121,
     "metadata": {},
     "output_type": "execute_result"
    }
   ],
   "source": [
    "anime.sample(frac=0.25).head()     # Sample используется для получения случайных строк датасета"
   ],
   "metadata": {
    "collapsed": false,
    "ExecuteTime": {
     "end_time": "2024-01-14T13:03:46.762411700Z",
     "start_time": "2024-01-14T13:03:46.714696200Z"
    }
   },
   "id": "3582e23e4f8653c1"
  }
 ],
 "metadata": {
  "kernelspec": {
   "display_name": "Python 3",
   "language": "python",
   "name": "python3"
  },
  "language_info": {
   "codemirror_mode": {
    "name": "ipython",
    "version": 2
   },
   "file_extension": ".py",
   "mimetype": "text/x-python",
   "name": "python",
   "nbconvert_exporter": "python",
   "pygments_lexer": "ipython2",
   "version": "2.7.6"
  }
 },
 "nbformat": 4,
 "nbformat_minor": 5
}
